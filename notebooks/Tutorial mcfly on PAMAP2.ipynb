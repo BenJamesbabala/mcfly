{
 "cells": [
  {
   "cell_type": "markdown",
   "metadata": {},
   "source": [
    "# Tutorial PAMAP2 with mcfly"
   ]
  },
  {
   "cell_type": "markdown",
   "metadata": {},
   "source": [
    "This turorial is intended to talk you through the functionalities of mcfly. As an example dataset we use the publicly available PAMAP2 dataset. It contains time series data from movement sensors worn by nine individuals. The data is labelled with the activity types these individuals did and the aim is to train and evaluate a classifier.\n",
    "\n",
    "Before you can start, please make sure you installed all the dependencies of mcfly (listed in requirements.txt) and make sure your jupyter notebook has a python3 kernel."
   ]
  },
  {
   "cell_type": "markdown",
   "metadata": {},
   "source": [
    "## Import required Python modules"
   ]
  },
  {
   "cell_type": "code",
   "execution_count": 1,
   "metadata": {
    "collapsed": false,
    "scrolled": false
   },
   "outputs": [
    {
     "name": "stderr",
     "output_type": "stream",
     "text": [
      "Using Theano backend.\n"
     ]
    }
   ],
   "source": [
    "import sys\n",
    "import os\n",
    "sys.path.insert(0, os.path.abspath('..'))\n",
    "import numpy as np\n",
    "import pandas as pd\n",
    "# mcfly\n",
    "from mcfly import tutorial_pamap2, modelgen, find_architecture, storage\n",
    "# Keras module is use for the deep learning\n",
    "import keras\n",
    "from keras.utils.np_utils import to_categorical\n",
    "from keras.models import Sequential\n",
    "from keras.layers import Dense, Activation, Convolution1D, Flatten, MaxPooling1D\n",
    "from keras.optimizers import Adam\n",
    "# We can set some backend options to avoid NaNs\n",
    "from keras import backend as K"
   ]
  },
  {
   "cell_type": "markdown",
   "metadata": {},
   "source": [
    "## Download data and pre-proces data"
   ]
  },
  {
   "cell_type": "markdown",
   "metadata": {},
   "source": [
    "We have created a function for you to fetch and pre-proces the data. Please specify the 'directory_to_extract_to' in the code below and then execute the cell. The second time you run this cell it function will recognized that you previously fetched and processed the data and it will skipp the processing. The output of the function is outputpath which indicates where the data was previously stored."
   ]
  },
  {
   "cell_type": "code",
   "execution_count": 2,
   "metadata": {
    "collapsed": false
   },
   "outputs": [
    {
     "name": "stdout",
     "output_type": "stream",
     "text": [
      "Data previously downloaded and stored in /media/windows-share/PAMAP2\n",
      "Data previously pre-processed and np-files saved to /media/windows-share/PAMAP2/PAMAP2_Dataset/slidingwindow512cleaned/\n"
     ]
    }
   ],
   "source": [
    "# Specify in which directory you want to store the data:\n",
    "directory_to_extract_to = \"/media/windows-share\"\n",
    "# Specifcy which columns to use. You can leave this as it is\n",
    "columns_to_use = ['hand_acc_16g_x', 'hand_acc_16g_y', 'hand_acc_16g_z',\n",
    "                 'ankle_acc_16g_x', 'ankle_acc_16g_y', 'ankle_acc_16g_z',\n",
    "                 'chest_acc_16g_x', 'chest_acc_16g_y', 'chest_acc_16g_z']\n",
    "outputpath = tutorial_pamap2.fetch_and_preprocess(directory_to_extract_to,columns_to_use)"
   ]
  },
  {
   "cell_type": "markdown",
   "metadata": {},
   "source": [
    "## Load the pre-processed data"
   ]
  },
  {
   "cell_type": "markdown",
   "metadata": {},
   "source": [
    "Load the preprocessed data as stored in Numpy-files. Please note that the data has already been split up in a training (training), validation (val), and test subsets."
   ]
  },
  {
   "cell_type": "code",
   "execution_count": 3,
   "metadata": {
    "collapsed": false
   },
   "outputs": [],
   "source": [
    "X_train, y_train_binary, X_val, y_val_binary, X_test, y_test_binary = tutorial_pamap2.load_data(outputpath)"
   ]
  },
  {
   "cell_type": "markdown",
   "metadata": {},
   "source": [
    "## Generate models"
   ]
  },
  {
   "cell_type": "markdown",
   "metadata": {},
   "source": [
    "First step is to create a model architecture. As we do not know what architecture is best for our data we will create a set of models to investigate which architecture is most suitable for our data and classification task. You will need to specificy how many models you want to create with argument 'number_of_models', the type of model which can been 'CNN' or 'DeepConvLSTM', and maximum number of layers per modeltype. See for a full overview of the optional arguments the function documentation of modelgen.generate_models"
   ]
  },
  {
   "cell_type": "code",
   "execution_count": 4,
   "metadata": {
    "collapsed": false
   },
   "outputs": [],
   "source": [
    "num_classes = y_train_binary.shape[1]\n",
    "models = modelgen.generate_models(X_train.shape,\n",
    "                                  number_of_classes=num_classes,\n",
    "                                  number_of_models = 2, #10,\n",
    "                                  model_type = 'CNN',\n",
    "                                  cnn_max_layers=3,\n",
    "                                  deepconvlstm_max_conv_layers=3,\n",
    "                                  deepconvlstm_max_lstm_layers=2)"
   ]
  },
  {
   "cell_type": "code",
   "execution_count": 5,
   "metadata": {
    "collapsed": false
   },
   "outputs": [
    {
     "name": "stdout",
     "output_type": "stream",
     "text": [
      "-------------------------------------------------------------------------------------------------------\n",
      "Model 0\n",
      " \n",
      "Hyperparameters:\n",
      "{'fc_hidden_nodes': 726, 'regularization_rate': 0.008917991570641631, 'learning_rate': 0.0075971362551933205, 'filters': array([88, 83])}\n",
      " \n",
      "Model description:\n",
      "____________________________________________________________________________________________________\n",
      "Layer (type)                       Output Shape        Param #     Connected to                     \n",
      "====================================================================================================\n",
      "batchnormalization_1 (BatchNormaliz(None, 512, 9)      18          batchnormalization_input_1[0][0] \n",
      "____________________________________________________________________________________________________\n",
      "convolution1d_1 (Convolution1D)    (None, 512, 88)     2464        batchnormalization_1[0][0]       \n",
      "____________________________________________________________________________________________________\n",
      "batchnormalization_2 (BatchNormaliz(None, 512, 88)     176         convolution1d_1[0][0]            \n",
      "____________________________________________________________________________________________________\n",
      "activation_1 (Activation)          (None, 512, 88)     0           batchnormalization_2[0][0]       \n",
      "____________________________________________________________________________________________________\n",
      "convolution1d_2 (Convolution1D)    (None, 512, 83)     21995       activation_1[0][0]               \n",
      "____________________________________________________________________________________________________\n",
      "batchnormalization_3 (BatchNormaliz(None, 512, 83)     166         convolution1d_2[0][0]            \n",
      "____________________________________________________________________________________________________\n",
      "activation_2 (Activation)          (None, 512, 83)     0           batchnormalization_3[0][0]       \n",
      "____________________________________________________________________________________________________\n",
      "flatten_1 (Flatten)                (None, 42496)       0           activation_2[0][0]               \n",
      "____________________________________________________________________________________________________\n",
      "dense_1 (Dense)                    (None, 726)         30852822    flatten_1[0][0]                  \n",
      "____________________________________________________________________________________________________\n",
      "activation_3 (Activation)          (None, 726)         0           dense_1[0][0]                    \n",
      "____________________________________________________________________________________________________\n",
      "dense_2 (Dense)                    (None, 12)          8724        activation_3[0][0]               \n",
      "____________________________________________________________________________________________________\n",
      "batchnormalization_4 (BatchNormaliz(None, 12)          24          dense_2[0][0]                    \n",
      "____________________________________________________________________________________________________\n",
      "activation_4 (Activation)          (None, 12)          0           batchnormalization_4[0][0]       \n",
      "====================================================================================================\n",
      "Total params: 30886389\n",
      "____________________________________________________________________________________________________\n",
      " \n",
      "Model type:\n",
      "CNN\n",
      " \n",
      "-------------------------------------------------------------------------------------------------------\n",
      "Model 1\n",
      " \n",
      "Hyperparameters:\n",
      "{'fc_hidden_nodes': 265, 'regularization_rate': 0.022070539611661444, 'learning_rate': 0.008356390212378818, 'filters': array([22, 71, 45])}\n",
      " \n",
      "Model description:\n",
      "____________________________________________________________________________________________________\n",
      "Layer (type)                       Output Shape        Param #     Connected to                     \n",
      "====================================================================================================\n",
      "batchnormalization_5 (BatchNormaliz(None, 512, 9)      18          batchnormalization_input_2[0][0] \n",
      "____________________________________________________________________________________________________\n",
      "convolution1d_3 (Convolution1D)    (None, 512, 22)     616         batchnormalization_5[0][0]       \n",
      "____________________________________________________________________________________________________\n",
      "batchnormalization_6 (BatchNormaliz(None, 512, 22)     44          convolution1d_3[0][0]            \n",
      "____________________________________________________________________________________________________\n",
      "activation_5 (Activation)          (None, 512, 22)     0           batchnormalization_6[0][0]       \n",
      "____________________________________________________________________________________________________\n",
      "convolution1d_4 (Convolution1D)    (None, 512, 71)     4757        activation_5[0][0]               \n",
      "____________________________________________________________________________________________________\n",
      "batchnormalization_7 (BatchNormaliz(None, 512, 71)     142         convolution1d_4[0][0]            \n",
      "____________________________________________________________________________________________________\n",
      "activation_6 (Activation)          (None, 512, 71)     0           batchnormalization_7[0][0]       \n",
      "____________________________________________________________________________________________________\n",
      "convolution1d_5 (Convolution1D)    (None, 512, 45)     9630        activation_6[0][0]               \n",
      "____________________________________________________________________________________________________\n",
      "batchnormalization_8 (BatchNormaliz(None, 512, 45)     90          convolution1d_5[0][0]            \n",
      "____________________________________________________________________________________________________\n",
      "activation_7 (Activation)          (None, 512, 45)     0           batchnormalization_8[0][0]       \n",
      "____________________________________________________________________________________________________\n",
      "flatten_2 (Flatten)                (None, 23040)       0           activation_7[0][0]               \n",
      "____________________________________________________________________________________________________\n",
      "dense_3 (Dense)                    (None, 265)         6105865     flatten_2[0][0]                  \n",
      "____________________________________________________________________________________________________\n",
      "activation_8 (Activation)          (None, 265)         0           dense_3[0][0]                    \n",
      "____________________________________________________________________________________________________\n",
      "dense_4 (Dense)                    (None, 12)          3192        activation_8[0][0]               \n",
      "____________________________________________________________________________________________________\n",
      "batchnormalization_9 (BatchNormaliz(None, 12)          24          dense_4[0][0]                    \n",
      "____________________________________________________________________________________________________\n",
      "activation_9 (Activation)          (None, 12)          0           batchnormalization_9[0][0]       \n",
      "====================================================================================================\n",
      "Total params: 6124378\n",
      "____________________________________________________________________________________________________\n",
      " \n",
      "Model type:\n",
      "CNN\n",
      " \n"
     ]
    }
   ],
   "source": [
    "# Inspect models:\n",
    "models_to_print = [0,1] #range(len(models))\n",
    "for i, item in enumerate(models):\n",
    "    if i in models_to_print:\n",
    "        model, params, model_types = item\n",
    "        print(\"-------------------------------------------------------------------------------------------------------\")\n",
    "        print(\"Model \" + str(i))\n",
    "        print(\" \")\n",
    "        print(\"Hyperparameters:\")\n",
    "        print(params)\n",
    "        print(\" \")\n",
    "        print(\"Model description:\")\n",
    "        model.summary()\n",
    "        print(\" \")\n",
    "        print(\"Model type:\")\n",
    "        print(model_types)\n",
    "        print(\" \")"
   ]
  },
  {
   "cell_type": "markdown",
   "metadata": {},
   "source": [
    "## Compare models\n",
    "Now that the model architectures have been generated it is time to compare the models by training them in a subset of the training data and evaluating the models in the validation subset. This will help us to choose the best candidate model. Performance results are stored in a json file."
   ]
  },
  {
   "cell_type": "code",
   "execution_count": 6,
   "metadata": {
    "collapsed": false
   },
   "outputs": [],
   "source": [
    "# Define directory where the results, e.g. json file, will be stored\n",
    "resultpath = directory_to_extract_to + '/PAMAP2/PAMAP2_Dataset/results/' \n",
    "if not os.path.exists(resultpath):\n",
    "        os.makedirs(resultpath)"
   ]
  },
  {
   "cell_type": "code",
   "execution_count": 7,
   "metadata": {
    "collapsed": false
   },
   "outputs": [
    {
     "name": "stdout",
     "output_type": "stream",
     "text": [
      "Training model 0 CNN\n",
      "Train on 300 samples, validate on 2007 samples\n",
      "Epoch 1/5\n",
      "300/300 [==============================] - 32s - loss: 105.0868 - acc: 0.5933 - val_loss: 2.1180 - val_acc: 0.2676\n",
      "Epoch 2/5\n",
      "300/300 [==============================] - 29s - loss: 86.2222 - acc: 0.7767 - val_loss: 1.5950 - val_acc: 0.3852\n",
      "Epoch 3/5\n",
      "300/300 [==============================] - 28s - loss: 28.0798 - acc: 0.8200 - val_loss: 1.5681 - val_acc: 0.5122\n",
      "Epoch 4/5\n",
      "300/300 [==============================] - 29s - loss: 9.2424 - acc: 0.8533 - val_loss: 1.5611 - val_acc: 0.5615\n",
      "Epoch 5/5\n",
      "300/300 [==============================] - 27s - loss: 4.7599 - acc: 0.8067 - val_loss: 1.1704 - val_acc: 0.5496\n",
      "Training model 1 CNN\n",
      "Train on 300 samples, validate on 2007 samples\n",
      "Epoch 1/5\n",
      "300/300 [==============================] - 12s - loss: 48.6754 - acc: 0.6200 - val_loss: 1.6491 - val_acc: 0.3861\n",
      "Epoch 2/5\n",
      "300/300 [==============================] - 11s - loss: 24.3251 - acc: 0.7600 - val_loss: 1.8917 - val_acc: 0.3234\n",
      "Epoch 3/5\n",
      "300/300 [==============================] - 11s - loss: 6.9624 - acc: 0.7400 - val_loss: 1.5570 - val_acc: 0.4833\n",
      "Epoch 4/5\n",
      "300/300 [==============================] - 12s - loss: 3.7025 - acc: 0.7600 - val_loss: 1.1661 - val_acc: 0.6577\n",
      "Epoch 5/5\n",
      "300/300 [==============================] - 12s - loss: 2.8841 - acc: 0.7433 - val_loss: 1.8987 - val_acc: 0.4933\n"
     ]
    }
   ],
   "source": [
    "histories, val_accuracies, val_losses = find_architecture.train_models_on_samples(X_train, y_train_binary,\n",
    "                                                                           X_val, y_val_binary,\n",
    "                                                                           models,nr_epochs=5,\n",
    "                                                                           subset_size=300,\n",
    "                                                                           verbose=True,\n",
    "                                                                           outputfile=resultpath+\\\n",
    "                                                                                  'modelcomparison.json')"
   ]
  },
  {
   "cell_type": "markdown",
   "metadata": {},
   "source": [
    "The histories object produced by the previous step contains the history of classifier performans with every iteration of the training process. To ease inspecting this information we developed function plotTrainingProcess, which is demonstrated in the cell below."
   ]
  },
  {
   "cell_type": "code",
   "execution_count": 8,
   "metadata": {
    "collapsed": false
   },
   "outputs": [
    {
     "data": {
      "image/png": "[encoded data removed]",
      "text/plain": [
       "<matplotlib.figure.Figure at 0x7f394ff1ba58>"
      ]
     },
     "metadata": {},
     "output_type": "display_data"
    },
    {
     "data": {
      "image/png": "[encoded data removed]",
      "text/plain": [
       "<matplotlib.figure.Figure at 0x7f394ff05c50>"
      ]
     },
     "metadata": {},
     "output_type": "display_data"
    }
   ],
   "source": [
    "%matplotlib inline\n",
    "for i in range(len(models)):\n",
    "    name = str(models[i][1])\n",
    "    find_architecture.plotTrainingProcess(histories[i], name)    "
   ]
  },
  {
   "cell_type": "markdown",
   "metadata": {},
   "source": [
    "Another way of comparing model performance is by putting all the information in a pandas dataframe"
   ]
  },
  {
   "cell_type": "code",
   "execution_count": 9,
   "metadata": {
    "collapsed": false
   },
   "outputs": [],
   "source": [
    "modelcomparisons = pd.DataFrame({'model':[str(params) for model, params, model_types in models],\n",
    "                       'train_acc': [history.history['acc'][-1] for history in histories],\n",
    "                       'train_loss': [history.history['loss'][-1] for history in histories],\n",
    "                       'val_acc': [history.history['val_acc'][-1] for history in histories],\n",
    "                       'val_loss': [history.history['val_loss'][-1] for history in histories]\n",
    "                       })\n",
    "modelcomparisons\n",
    "modelcomparisons.to_csv(resultpath +'modelcomparisons.csv')"
   ]
  },
  {
   "cell_type": "markdown",
   "metadata": {},
   "source": [
    "We can also extract the same information from the json file..."
   ]
  },
  {
   "cell_type": "markdown",
   "metadata": {},
   "source": [
    "###  < - - Possibly insert here demo of how to use json file that was stored"
   ]
  },
  {
   "cell_type": "markdown",
   "metadata": {
    "collapsed": true
   },
   "source": [
    "Check which model is the best"
   ]
  },
  {
   "cell_type": "code",
   "execution_count": 10,
   "metadata": {
    "collapsed": false
   },
   "outputs": [
    {
     "name": "stdout",
     "output_type": "stream",
     "text": [
      "Model type and parameters of the best model:\n",
      "CNN\n",
      "{'fc_hidden_nodes': 726, 'regularization_rate': 0.008917991570641631, 'learning_rate': 0.0075971362551933205, 'filters': array([88, 83])}\n"
     ]
    }
   ],
   "source": [
    "best_model_index = np.argmax(val_accuracies)\n",
    "best_model, best_params, best_model_types = models[best_model_index]\n",
    "print('Model type and parameters of the best model:')\n",
    "print(best_model_types)\n",
    "print(best_params)"
   ]
  },
  {
   "cell_type": "markdown",
   "metadata": {},
   "source": [
    "## Train the best model for real"
   ]
  },
  {
   "cell_type": "markdown",
   "metadata": {},
   "source": [
    "Now that we have identified the best model architecture out of our random pool of models we can continue by training the model on the full training sample. For the purpose of speeding up the example we only train the full model on the first 1000 values. You will need to replace this by 'datasize = X_train.shape[0]' in a real world example."
   ]
  },
  {
   "cell_type": "code",
   "execution_count": 11,
   "metadata": {
    "collapsed": false
   },
   "outputs": [
    {
     "name": "stdout",
     "output_type": "stream",
     "text": [
      "Train on 1000 samples, validate on 2007 samples\n",
      "Epoch 1/5\n",
      "1000/1000 [==============================] - 48s - loss: 83.3084 - acc: 0.6900 - val_loss: 1.6072 - val_acc: 0.3194\n",
      "Epoch 2/5\n",
      "1000/1000 [==============================] - 44s - loss: 11.7395 - acc: 0.8150 - val_loss: 1.1961 - val_acc: 0.6617\n",
      "Epoch 3/5\n",
      "1000/1000 [==============================] - 46s - loss: 2.9277 - acc: 0.8020 - val_loss: 0.9214 - val_acc: 0.7265\n",
      "Epoch 4/5\n",
      "1000/1000 [==============================] - 44s - loss: 2.6305 - acc: 0.8110 - val_loss: 1.1231 - val_acc: 0.5730\n",
      "Epoch 5/5\n",
      "1000/1000 [==============================] - 40s - loss: 2.4611 - acc: 0.8160 - val_loss: 0.8624 - val_acc: 0.6821\n"
     ]
    }
   ],
   "source": [
    "#We make a copy of the model, to start training from fresh\n",
    "best_model_copy = modelgen.generate_CNN_model(X_train.shape, num_classes, best_params['filters'], best_params['fc_hidden_nodes'],\n",
    "                       best_params['learning_rate'], best_params['regularization_rate'])\n",
    "nr_epochs = 5\n",
    "#datasize = X_train.shape[0] #We're going to train the model on the complete data set\n",
    "datasize = 1000 # subsample for the sake of this example\n",
    "history = best_model_copy.fit(X_train[:datasize,:,:], y_train_binary[:datasize,:],\n",
    "              nb_epoch=nr_epochs, validation_data=(X_val, y_val_binary))"
   ]
  },
  {
   "cell_type": "code",
   "execution_count": 12,
   "metadata": {
    "collapsed": false
   },
   "outputs": [
    {
     "data": {
      "image/png": "[encoded data removed]",
      "text/plain": [
       "<matplotlib.figure.Figure at 0x7f39683a31d0>"
      ]
     },
     "metadata": {},
     "output_type": "display_data"
    }
   ],
   "source": [
    "# Plot the training process:\n",
    "find_architecture.plotTrainingProcess(history)"
   ]
  },
  {
   "cell_type": "code",
   "execution_count": 13,
   "metadata": {
    "collapsed": true
   },
   "outputs": [],
   "source": [
    "best_model_fullytrained = best_model_copy"
   ]
  },
  {
   "cell_type": "markdown",
   "metadata": {},
   "source": [
    "### Saving, loading and comparing reloaded model with orignal model"
   ]
  },
  {
   "cell_type": "code",
   "execution_count": 14,
   "metadata": {
    "collapsed": true
   },
   "outputs": [],
   "source": [
    "modelname = 'my_bestmodel'"
   ]
  },
  {
   "cell_type": "code",
   "execution_count": 15,
   "metadata": {
    "collapsed": false
   },
   "outputs": [],
   "source": [
    "storage.savemodel(best_model_fullytrained,resultpath,modelname)"
   ]
  },
  {
   "cell_type": "code",
   "execution_count": 16,
   "metadata": {
    "collapsed": true
   },
   "outputs": [],
   "source": [
    "model_reloaded = storage.loadmodel(resultpath,modelname)"
   ]
  },
  {
   "cell_type": "markdown",
   "metadata": {},
   "source": [
    "The model has been reloaded. Let's investigate whether it gives the same probability estimates as the original model in a small subset of the validation data."
   ]
  },
  {
   "cell_type": "code",
   "execution_count": 17,
   "metadata": {
    "collapsed": false
   },
   "outputs": [
    {
     "name": "stdout",
     "output_type": "stream",
     "text": [
      "1000/1000 [==============================] - 96s    \n",
      "1000/1000 [==============================] - 95s    \n"
     ]
    }
   ],
   "source": [
    "datasize = 1000\n",
    "probs_original = best_model_fullytrained.predict_proba(X_val[:datasize,:,:],batch_size=1)\n",
    "probs_reloaded = model_reloaded.predict_proba(X_val[:datasize,:,:],batch_size=1)"
   ]
  },
  {
   "cell_type": "code",
   "execution_count": 18,
   "metadata": {
    "collapsed": false
   },
   "outputs": [
    {
     "data": {
      "text/plain": [
       "array([[ True,  True,  True, ...,  True,  True,  True],\n",
       "       [ True,  True,  True, ...,  True,  True,  True],\n",
       "       [ True,  True,  True, ...,  True,  True,  True],\n",
       "       ..., \n",
       "       [ True,  True,  True, ...,  True,  True,  True],\n",
       "       [ True,  True,  True, ...,  True,  True,  True],\n",
       "       [ True,  True,  True, ...,  True,  True,  True]], dtype=bool)"
      ]
     },
     "execution_count": 18,
     "metadata": {},
     "output_type": "execute_result"
    }
   ],
   "source": [
    "probs_reloaded == probs_original"
   ]
  },
  {
   "cell_type": "markdown",
   "metadata": {},
   "source": [
    "## Advanced model inspection"
   ]
  },
  {
   "cell_type": "markdown",
   "metadata": {},
   "source": [
    "Although beyond the scope of mcfly it may be worth highlighting that the objects 'models', 'best_model_fullytrained' and 'best_model' are Keras objects. This means that you can use Keras functions like .predict and .evaluate on the objects to run advanced analyses. These functions are all documented in the Keras documentation"
   ]
  },
  {
   "cell_type": "code",
   "execution_count": 19,
   "metadata": {
    "collapsed": false
   },
   "outputs": [
    {
     "name": "stdout",
     "output_type": "stream",
     "text": [
      "2007/2007 [==============================] - 197s   \n"
     ]
    }
   ],
   "source": [
    "## Inspect model predictions\n",
    "datasize = X_val.shape[0]\n",
    "probs = best_model_copy.predict_proba(X_val[:datasize,:,:],batch_size=1)"
   ]
  },
  {
   "cell_type": "code",
   "execution_count": 20,
   "metadata": {
    "collapsed": false
   },
   "outputs": [
    {
     "name": "stdout",
     "output_type": "stream",
     "text": [
      "[[ 0.99  0.    0.   ...,  0.    0.    0.  ]\n",
      " [ 0.99  0.    0.   ...,  0.    0.    0.  ]\n",
      " [ 0.99  0.    0.   ...,  0.    0.    0.  ]\n",
      " ..., \n",
      " [ 0.    0.02  0.   ...,  0.    0.    0.01]\n",
      " [ 0.    0.01  0.   ...,  0.    0.    0.13]\n",
      " [ 0.    0.01  0.   ...,  0.    0.    0.06]]\n"
     ]
    }
   ],
   "source": [
    "print(np.round(probs,decimals=2))"
   ]
  },
  {
   "cell_type": "code",
   "execution_count": 21,
   "metadata": {
    "collapsed": false
   },
   "outputs": [
    {
     "name": "stdout",
     "output_type": "stream",
     "text": [
      "Score of best model: [2.2187777663884538, 0.43820224721676954]\n"
     ]
    }
   ],
   "source": [
    "## Test on Testset\n",
    "score_test = best_model.evaluate(X_test, y_test_binary, verbose=False)\n",
    "print('Score of best model: ' + str(score_test))"
   ]
  },
  {
   "cell_type": "code",
   "execution_count": null,
   "metadata": {
    "collapsed": true
   },
   "outputs": [],
   "source": []
  }
 ],
 "metadata": {
  "kernelspec": {
   "display_name": "Python 3",
   "language": "python",
   "name": "python3"
  },
  "language_info": {
   "codemirror_mode": {
    "name": "ipython",
    "version": 3
   },
   "file_extension": ".py",
   "mimetype": "text/x-python",
   "name": "python",
   "nbconvert_exporter": "python",
   "pygments_lexer": "ipython3",
   "version": "3.5.2"
  }
 },
 "nbformat": 4,
 "nbformat_minor": 1
}
