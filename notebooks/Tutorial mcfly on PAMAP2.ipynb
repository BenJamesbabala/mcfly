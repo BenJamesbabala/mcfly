{
 "cells": [
  {
   "cell_type": "markdown",
   "metadata": {},
   "source": [
    "## Tutorial PAMAP2 with mcfly"
   ]
  },
  {
   "cell_type": "markdown",
   "metadata": {},
   "source": [
    "#### Note: First check that you are running this notebook with a python3 kernel"
   ]
  },
  {
   "cell_type": "code",
   "execution_count": 1,
   "metadata": {
    "collapsed": true
   },
   "outputs": [],
   "source": [
    "#import required python modules\n",
    "import numpy as np\n",
    "import pandas as pd\n",
    "import matplotlib.pyplot as plt\n",
    "from os import listdir\n",
    "from numpy import genfromtxt\n",
    "import urllib.request\n",
    "import os.path\n",
    "import zipfile"
   ]
  },
  {
   "cell_type": "code",
   "execution_count": 2,
   "metadata": {
    "collapsed": true
   },
   "outputs": [],
   "source": [
    "%matplotlib inline"
   ]
  },
  {
   "cell_type": "markdown",
   "metadata": {},
   "source": [
    "## Fetching the data"
   ]
  },
  {
   "cell_type": "code",
   "execution_count": 65,
   "metadata": {
    "collapsed": true
   },
   "outputs": [],
   "source": [
    "# in which directory do you want to store the data?\n",
    "directory_to_extract_to = \"/media/windows-share\""
   ]
  },
  {
   "cell_type": "code",
   "execution_count": 68,
   "metadata": {
    "collapsed": false
   },
   "outputs": [
    {
     "name": "stdout",
     "output_type": "stream",
     "text": [
      "Data previously loaded and extracted to/media/windows-share/PAMAP2\n",
      "You are ready to move on to the processing\n"
     ]
    }
   ],
   "source": [
    "targetdir = directory_to_extract_to + '/PAMAP2'\n",
    "if os.path.exists(targetdir):\n",
    "    print('Data previously loaded and extracted to' + targetdir)\n",
    "    print('You are ready to move on to the processing.')\n",
    "    \n",
    "else:\n",
    "    #download the PAMAP2 data, this is 688 Mb\n",
    "    path_to_zip_file = directory_to_extract_to + '/PAMAP2_Dataset.zip'\n",
    "    test_file_exist = os.path.isfile(path_to_zip_file)\n",
    "    if test_file_exist is False:\n",
    "        url = 'https://archive.ics.uci.edu/ml/machine-learning-databases/00231/PAMAP2_Dataset.zip'\n",
    "        local_fn, headers = urllib.request.urlretrieve(url,filename=path_to_zip_file) #retrieve data from url\n",
    "        print('The was downloaded and stored in: ' + path_to_zip_file )\n",
    "    else:\n",
    "        print('The data was previously downloaded and stored in: ' + path_to_zip_file )\n",
    "    # unzip\n",
    "    os.makedirs(targetdir) # create target directory\n",
    "    with zipfile.ZipFile(path_to_zip_file ,\"r\") as zip_ref:\n",
    "        zip_ref.extractall(targetdir)    "
   ]
  },
  {
   "cell_type": "markdown",
   "metadata": {},
   "source": [
    "# Pre-processing"
   ]
  },
  {
   "cell_type": "code",
   "execution_count": 73,
   "metadata": {
    "collapsed": false
   },
   "outputs": [],
   "source": [
    "datadir = targetdir + '/PAMAP2_Dataset/Protocol'\n",
    "filenames = listdir(datadir)\n",
    "print('There are ' + str(len(filenames)) + ' files')"
   ]
  },
  {
   "cell_type": "code",
   "execution_count": 99,
   "metadata": {
    "collapsed": false
   },
   "outputs": [],
   "source": [
    "# let's load the files and put them in a list of pandas dataframes:\n",
    "datasets = [pd.read_csv(datadir+'/'+fn, header=None, sep=' ') for fn in filenames]"
   ]
  },
  {
   "cell_type": "code",
   "execution_count": 100,
   "metadata": {
    "collapsed": true
   },
   "outputs": [],
   "source": [
    "# The columns are numbers, let's add labels:\n",
    "axes = ['x', 'y', 'z']\n",
    "IMUsensor_columns = ['temperature'] + \\\n",
    "                    ['acc_16g_' + i for i in axes] + \\\n",
    "                    ['acc_6g_' + i for i in axes] + \\\n",
    "                    ['gyroscope_'+ i for i in axes] + \\\n",
    "                    ['magnometer_'+ i for i in axes] + \\\n",
    "                    ['orientation_' + str(i) for i in range(4)]\n",
    "header = [\"timestamp\", \"activityID\", \"heartrate\"] + [\"hand_\"+s for s in IMUsensor_columns]\\\n",
    "        + [\"chest_\"+s for s in IMUsensor_columns]+ [\"ankle_\"+s for s in IMUsensor_columns]\n",
    "for i in range(0,len(datasets)):\n",
    "    datasets[i].columns = header"
   ]
  },
  {
   "cell_type": "code",
   "execution_count": 119,
   "metadata": {
    "collapsed": false
   },
   "outputs": [
    {
     "data": {
      "text/plain": [
       "array(['timestamp', 'activityID', 'heartrate', 'hand_temperature',\n",
       "       'hand_acc_16g_x', 'hand_acc_16g_y', 'hand_acc_16g_z',\n",
       "       'hand_acc_6g_x', 'hand_acc_6g_y', 'hand_acc_6g_z',\n",
       "       'hand_gyroscope_x', 'hand_gyroscope_y', 'hand_gyroscope_z',\n",
       "       'hand_magnometer_x', 'hand_magnometer_y', 'hand_magnometer_z',\n",
       "       'hand_orientation_0', 'hand_orientation_1', 'hand_orientation_2',\n",
       "       'hand_orientation_3', 'chest_temperature', 'chest_acc_16g_x',\n",
       "       'chest_acc_16g_y', 'chest_acc_16g_z', 'chest_acc_6g_x',\n",
       "       'chest_acc_6g_y', 'chest_acc_6g_z', 'chest_gyroscope_x',\n",
       "       'chest_gyroscope_y', 'chest_gyroscope_z', 'chest_magnometer_x',\n",
       "       'chest_magnometer_y', 'chest_magnometer_z', 'chest_orientation_0',\n",
       "       'chest_orientation_1', 'chest_orientation_2', 'chest_orientation_3',\n",
       "       'ankle_temperature', 'ankle_acc_16g_x', 'ankle_acc_16g_y',\n",
       "       'ankle_acc_16g_z', 'ankle_acc_6g_x', 'ankle_acc_6g_y',\n",
       "       'ankle_acc_6g_z', 'ankle_gyroscope_x', 'ankle_gyroscope_y',\n",
       "       'ankle_gyroscope_z', 'ankle_magnometer_x', 'ankle_magnometer_y',\n",
       "       'ankle_magnometer_z', 'ankle_orientation_0', 'ankle_orientation_1',\n",
       "       'ankle_orientation_2', 'ankle_orientation_3'], dtype=object)"
      ]
     },
     "execution_count": 119,
     "metadata": {},
     "output_type": "execute_result"
    }
   ],
   "source": [
    "# check new column names for the first file\n",
    "datasets[0].columns.values"
   ]
  },
  {
   "cell_type": "code",
   "execution_count": 75,
   "metadata": {
    "collapsed": true
   },
   "outputs": [],
   "source": [
    "#Fill data\n",
    "datasets_filled = [d.interpolate() for d in datasets]"
   ]
  },
  {
   "cell_type": "code",
   "execution_count": 76,
   "metadata": {
    "collapsed": true
   },
   "outputs": [],
   "source": [
    "# Select columns\n",
    "columns_to_use = ['hand_acc_16g_x', 'hand_acc_16g_y', 'hand_acc_16g_z',\n",
    "                 'ankle_acc_16g_x', 'ankle_acc_16g_y', 'ankle_acc_16g_z',\n",
    "                 'chest_acc_16g_x', 'chest_acc_16g_y', 'chest_acc_16g_z']\n",
    "columns = data.columns[2:]"
   ]
  },
  {
   "cell_type": "code",
   "execution_count": 3,
   "metadata": {
    "collapsed": false
   },
   "outputs": [
    {
     "name": "stderr",
     "output_type": "stream",
     "text": [
      "Using Theano backend.\n"
     ]
    }
   ],
   "source": [
    "# Create mapping for class labels\n",
    "import numpy as np\n",
    "import keras\n",
    "from keras.utils.np_utils import to_categorical"
   ]
  },
  {
   "cell_type": "code",
   "execution_count": 120,
   "metadata": {
    "collapsed": false
   },
   "outputs": [],
   "source": [
    "y_set_all = [set(np.array(data.activityID)) - set([0]) for data in datasets_filled]\n",
    "classlabels = list(set.union(*[set(y) for y in y_set_all]))\n",
    "nr_classes = len(classlabels)\n",
    "mapclasses = {classlabels[i] : i for i in range(len(classlabels))}\n",
    "def transform_y(y):\n",
    "    y_mapped = np.array([mapclasses[c] for c in y], dtype='int')\n",
    "    y_binary = to_categorical(y_mapped, nr_classes)\n",
    "    return y_binary"
   ]
  },
  {
   "cell_type": "code",
   "execution_count": null,
   "metadata": {
    "collapsed": true
   },
   "outputs": [],
   "source": []
  },
  {
   "cell_type": "code",
   "execution_count": null,
   "metadata": {
    "collapsed": true
   },
   "outputs": [],
   "source": []
  },
  {
   "cell_type": "code",
   "execution_count": null,
   "metadata": {
    "collapsed": true
   },
   "outputs": [],
   "source": []
  },
  {
   "cell_type": "code",
   "execution_count": null,
   "metadata": {
    "collapsed": true
   },
   "outputs": [],
   "source": []
  },
  {
   "cell_type": "code",
   "execution_count": null,
   "metadata": {
    "collapsed": true
   },
   "outputs": [],
   "source": []
  },
  {
   "cell_type": "code",
   "execution_count": null,
   "metadata": {
    "collapsed": true
   },
   "outputs": [],
   "source": []
  }
 ],
 "metadata": {
  "kernelspec": {
   "display_name": "Python 3",
   "language": "python",
   "name": "python3"
  },
  "language_info": {
   "codemirror_mode": {
    "name": "ipython",
    "version": 3
   },
   "file_extension": ".py",
   "mimetype": "text/x-python",
   "name": "python",
   "nbconvert_exporter": "python",
   "pygments_lexer": "ipython3",
   "version": "3.5.2"
  }
 },
 "nbformat": 4,
 "nbformat_minor": 1
}
