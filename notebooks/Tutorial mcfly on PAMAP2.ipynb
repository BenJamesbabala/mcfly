{
 "cells": [
  {
   "cell_type": "markdown",
   "metadata": {},
   "source": [
    "# Tutorial PAMAP2 with mcfly"
   ]
  },
  {
   "cell_type": "markdown",
   "metadata": {},
   "source": [
    "This turorial is intended to talk you through the functionalities of mcfly. As an example dataset we use the publicly available PAMAP2 dataset. It contains time series data from movement sensors worn by nine individuals. The data is labelled with the activity types that these individuals did and the aim is to train and evaluate a classifier.\n",
    "\n",
    "Before you can start, please make sure you installed all the dependencies of mcfly (listed in requirements.txt) and make sure your jupyter notebook has a python3 kernel."
   ]
  },
  {
   "cell_type": "markdown",
   "metadata": {},
   "source": [
    "## Import required Python modules"
   ]
  },
  {
   "cell_type": "code",
   "execution_count": 1,
   "metadata": {
    "collapsed": false,
    "scrolled": false
   },
   "outputs": [
    {
     "name": "stderr",
     "output_type": "stream",
     "text": [
      "Using Theano backend.\n"
     ]
    }
   ],
   "source": [
    "import sys\n",
    "import os\n",
    "sys.path.insert(0, os.path.abspath('..'))\n",
    "import numpy as np\n",
    "import pandas as pd\n",
    "# mcfly\n",
    "from mcfly import tutorial_pamap2, modelgen, find_architecture, storage\n",
    "# Keras module is use for the deep learning\n",
    "import keras\n",
    "from keras.utils.np_utils import to_categorical\n",
    "from keras.models import Sequential\n",
    "from keras.layers import Dense, Activation, Convolution1D, Flatten, MaxPooling1D\n",
    "from keras.optimizers import Adam\n",
    "# We can set some backend options to avoid NaNs\n",
    "from keras import backend as K"
   ]
  },
  {
   "cell_type": "markdown",
   "metadata": {},
   "source": [
    "## Download data and pre-proces data"
   ]
  },
  {
   "cell_type": "markdown",
   "metadata": {},
   "source": [
    "We have created a function for you to fetch and pre-proces the data. Please specify the 'directory_to_extract_to' in the code below and then execute the cell. This will download the data into the directory and create a subdirectory 'PAMAP2'. The second time you run this cell the function will recognize that you previously fetched and processed the data and it will skipp the processing. The output of the function is outputpath which indicates where the data was previously stored."
   ]
  },
  {
   "cell_type": "code",
   "execution_count": 2,
   "metadata": {
    "collapsed": false
   },
   "outputs": [
    {
     "name": "stdout",
     "output_type": "stream",
     "text": [
      "The data was previously downloaded and stored in /media/sf_VBox_Shared/timeseries/PAMAP2_Dataset.zip\n",
      "Start pre-processing all 9 files...\n",
      "Processed data succesfully stored in /media/sf_VBox_Shared/timeseries/PAMAP2/PAMAP2_Dataset/slidingwindow512cleaned/\n"
     ]
    }
   ],
   "source": [
    "# Specify in which directory you want to store the data:\n",
    "directory_to_extract_to = \"/media/windows-share\"\n",
    "# Specifcy which columns to use. You can leave this as it is \n",
    "columns_to_use = ['hand_acc_16g_x', 'hand_acc_16g_y', 'hand_acc_16g_z',\n",
    "                 'ankle_acc_16g_x', 'ankle_acc_16g_y', 'ankle_acc_16g_z',\n",
    "                 'chest_acc_16g_x', 'chest_acc_16g_y', 'chest_acc_16g_z']\n",
    "outputpath = tutorial_pamap2.fetch_and_preprocess(directory_to_extract_to,columns_to_use)"
   ]
  },
  {
   "cell_type": "markdown",
   "metadata": {},
   "source": [
    "## Load the pre-processed data"
   ]
  },
  {
   "cell_type": "markdown",
   "metadata": {},
   "source": [
    "Load the preprocessed data as stored in Numpy-files. Please note that the data has already been split up in a training (training), validation (val), and test subsets."
   ]
  },
  {
   "cell_type": "code",
   "execution_count": 3,
   "metadata": {
    "collapsed": false
   },
   "outputs": [],
   "source": [
    "X_train, y_train_binary, X_val, y_val_binary, X_test, y_test_binary = tutorial_pamap2.load_data(outputpath)"
   ]
  },
  {
   "cell_type": "markdown",
   "metadata": {},
   "source": [
    "## Generate models"
   ]
  },
  {
   "cell_type": "markdown",
   "metadata": {},
   "source": [
    "First step is to create a model architecture. As we do not know what architecture is best for our data we will create a set of models to investigate which architecture is most suitable for our data and classification task. You will need to specificy how many models you want to create with argument 'number_of_models', the type of model which can been 'CNN' or 'DeepConvLSTM', and maximum number of layers per modeltype. See for a full overview of the optional arguments the function documentation of modelgen.generate_models"
   ]
  },
  {
   "cell_type": "code",
   "execution_count": 5,
   "metadata": {
    "collapsed": false
   },
   "outputs": [],
   "source": [
    "num_classes = y_train_binary.shape[1]\n",
    "models = modelgen.generate_models(X_train.shape,\n",
    "                                  number_of_classes=num_classes,\n",
    "                                  number_of_models = 2, #10,\n",
    "                                  model_type = 'CNN',\n",
    "                                  cnn_max_layers=3,\n",
    "                                  deepconvlstm_max_conv_layers=3,\n",
    "                                  deepconvlstm_max_lstm_layers=2)"
   ]
  },
  {
   "cell_type": "code",
   "execution_count": 6,
   "metadata": {
    "collapsed": false
   },
   "outputs": [
    {
     "name": "stdout",
     "output_type": "stream",
     "text": [
      "-------------------------------------------------------------------------------------------------------\n",
      "Model 0\n",
      " \n",
      "Hyperparameters:\n",
      "{'filters': array([94]), 'learning_rate': 0.05632502561684417, 'regularization_rate': 0.001244372149346801, 'fc_hidden_nodes': 1790}\n",
      " \n",
      "Model description:\n",
      "____________________________________________________________________________________________________\n",
      "Layer (type)                       Output Shape        Param #     Connected to                     \n",
      "====================================================================================================\n",
      "batchnormalization_8 (BatchNormaliz(None, 512, 9)      18          batchnormalization_input_3[0][0] \n",
      "____________________________________________________________________________________________________\n",
      "convolution1d_4 (Convolution1D)    (None, 512, 94)     2632        batchnormalization_8[0][0]       \n",
      "____________________________________________________________________________________________________\n",
      "batchnormalization_9 (BatchNormaliz(None, 512, 94)     188         convolution1d_4[0][0]            \n",
      "____________________________________________________________________________________________________\n",
      "activation_8 (Activation)          (None, 512, 94)     0           batchnormalization_9[0][0]       \n",
      "____________________________________________________________________________________________________\n",
      "flatten_3 (Flatten)                (None, 48128)       0           activation_8[0][0]               \n",
      "____________________________________________________________________________________________________\n",
      "dense_5 (Dense)                    (None, 1790)        86150910    flatten_3[0][0]                  \n",
      "____________________________________________________________________________________________________\n",
      "activation_9 (Activation)          (None, 1790)        0           dense_5[0][0]                    \n",
      "____________________________________________________________________________________________________\n",
      "dense_6 (Dense)                    (None, 12)          21492       activation_9[0][0]               \n",
      "____________________________________________________________________________________________________\n",
      "batchnormalization_10 (BatchNormali(None, 12)          24          dense_6[0][0]                    \n",
      "____________________________________________________________________________________________________\n",
      "activation_10 (Activation)         (None, 12)          0           batchnormalization_10[0][0]      \n",
      "====================================================================================================\n",
      "Total params: 86175264\n",
      "____________________________________________________________________________________________________\n",
      " \n",
      "Model type:\n",
      "CNN\n",
      " \n",
      "-------------------------------------------------------------------------------------------------------\n",
      "Model 1\n",
      " \n",
      "Hyperparameters:\n",
      "{'filters': array([79, 64, 90]), 'learning_rate': 0.00023456297206788531, 'regularization_rate': 0.015319099533002995, 'fc_hidden_nodes': 276}\n",
      " \n",
      "Model description:\n",
      "____________________________________________________________________________________________________\n",
      "Layer (type)                       Output Shape        Param #     Connected to                     \n",
      "====================================================================================================\n",
      "batchnormalization_11 (BatchNormali(None, 512, 9)      18          batchnormalization_input_4[0][0] \n",
      "____________________________________________________________________________________________________\n",
      "convolution1d_5 (Convolution1D)    (None, 512, 79)     2212        batchnormalization_11[0][0]      \n",
      "____________________________________________________________________________________________________\n",
      "batchnormalization_12 (BatchNormali(None, 512, 79)     158         convolution1d_5[0][0]            \n",
      "____________________________________________________________________________________________________\n",
      "activation_11 (Activation)         (None, 512, 79)     0           batchnormalization_12[0][0]      \n",
      "____________________________________________________________________________________________________\n",
      "convolution1d_6 (Convolution1D)    (None, 512, 64)     15232       activation_11[0][0]              \n",
      "____________________________________________________________________________________________________\n",
      "batchnormalization_13 (BatchNormali(None, 512, 64)     128         convolution1d_6[0][0]            \n",
      "____________________________________________________________________________________________________\n",
      "activation_12 (Activation)         (None, 512, 64)     0           batchnormalization_13[0][0]      \n",
      "____________________________________________________________________________________________________\n",
      "convolution1d_7 (Convolution1D)    (None, 512, 90)     17370       activation_12[0][0]              \n",
      "____________________________________________________________________________________________________\n",
      "batchnormalization_14 (BatchNormali(None, 512, 90)     180         convolution1d_7[0][0]            \n",
      "____________________________________________________________________________________________________\n",
      "activation_13 (Activation)         (None, 512, 90)     0           batchnormalization_14[0][0]      \n",
      "____________________________________________________________________________________________________\n",
      "flatten_4 (Flatten)                (None, 46080)       0           activation_13[0][0]              \n",
      "____________________________________________________________________________________________________\n",
      "dense_7 (Dense)                    (None, 276)         12718356    flatten_4[0][0]                  \n",
      "____________________________________________________________________________________________________\n",
      "activation_14 (Activation)         (None, 276)         0           dense_7[0][0]                    \n",
      "____________________________________________________________________________________________________\n",
      "dense_8 (Dense)                    (None, 12)          3324        activation_14[0][0]              \n",
      "____________________________________________________________________________________________________\n",
      "batchnormalization_15 (BatchNormali(None, 12)          24          dense_8[0][0]                    \n",
      "____________________________________________________________________________________________________\n",
      "activation_15 (Activation)         (None, 12)          0           batchnormalization_15[0][0]      \n",
      "====================================================================================================\n",
      "Total params: 12757002\n",
      "____________________________________________________________________________________________________\n",
      " \n",
      "Model type:\n",
      "CNN\n",
      " \n"
     ]
    }
   ],
   "source": [
    "# Inspect models:\n",
    "models_to_print = [0,1] #range(len(models))\n",
    "for i, item in enumerate(models):\n",
    "    if i in models_to_print:\n",
    "        model, params, model_types = item\n",
    "        print(\"-------------------------------------------------------------------------------------------------------\")\n",
    "        print(\"Model \" + str(i))\n",
    "        print(\" \")\n",
    "        print(\"Hyperparameters:\")\n",
    "        print(params)\n",
    "        print(\" \")\n",
    "        print(\"Model description:\")\n",
    "        model.summary()\n",
    "        print(\" \")\n",
    "        print(\"Model type:\")\n",
    "        print(model_types)\n",
    "        print(\" \")"
   ]
  },
  {
   "cell_type": "markdown",
   "metadata": {},
   "source": [
    "## Compare models\n",
    "Now that the model architectures have been generated it is time to compare the models by training them in a subset of the training data and evaluating the models in the validation subset. This will help us to choose the best candidate model. Performance results are stored in a json file."
   ]
  },
  {
   "cell_type": "code",
   "execution_count": 7,
   "metadata": {
    "collapsed": false
   },
   "outputs": [],
   "source": [
    "# Define directory where the results, e.g. json file, will be stored\n",
    "resultpath = directory_to_extract_to + '/PAMAP2/PAMAP2_Dataset/results/' \n",
    "if not os.path.exists(resultpath):\n",
    "        os.makedirs(resultpath)"
   ]
  },
  {
   "cell_type": "code",
   "execution_count": 8,
   "metadata": {
    "collapsed": false
   },
   "outputs": [
    {
     "name": "stdout",
     "output_type": "stream",
     "text": [
      "Training model 0 CNN\n",
      "Train on 300 samples, validate on 2007 samples\n",
      "Epoch 1/5\n",
      "300/300 [==============================] - 62s - loss: 1486.9959 - acc: 0.5467 - val_loss: 2.9114 - val_acc: 0.3807\n",
      "Epoch 2/5\n",
      "300/300 [==============================] - 59s - loss: 716.4260 - acc: 0.6867 - val_loss: 2.0890 - val_acc: 0.3518\n",
      "Epoch 3/5\n",
      "300/300 [==============================] - 57s - loss: 138.4356 - acc: 0.6933 - val_loss: 2.6050 - val_acc: 0.2626\n",
      "Epoch 4/5\n",
      "300/300 [==============================] - 88s - loss: 33.8589 - acc: 0.7800 - val_loss: 1.6492 - val_acc: 0.3946\n",
      "Epoch 5/5\n",
      "300/300 [==============================] - 68s - loss: 11.9244 - acc: 0.7067 - val_loss: 1.6556 - val_acc: 0.5122\n",
      "Training model 1 CNN\n",
      "Train on 300 samples, validate on 2007 samples\n",
      "Epoch 1/5\n",
      "300/300 [==============================] - 32s - loss: 9.2922 - acc: 0.5867 - val_loss: 1.2477 - val_acc: 0.6333\n",
      "Epoch 2/5\n",
      "300/300 [==============================] - 30s - loss: 8.4329 - acc: 0.8633 - val_loss: 1.0660 - val_acc: 0.7977\n",
      "Epoch 3/5\n",
      "300/300 [==============================] - 23s - loss: 7.8159 - acc: 0.8833 - val_loss: 1.0677 - val_acc: 0.8122\n",
      "Epoch 4/5\n",
      "300/300 [==============================] - 23s - loss: 7.2215 - acc: 0.9367 - val_loss: 1.0480 - val_acc: 0.8156\n",
      "Epoch 5/5\n",
      "300/300 [==============================] - 23s - loss: 6.7130 - acc: 0.9233 - val_loss: 1.0173 - val_acc: 0.8356\n"
     ]
    }
   ],
   "source": [
    "histories, val_accuracies, val_losses = find_architecture.train_models_on_samples(X_train, y_train_binary,\n",
    "                                                                           X_val, y_val_binary,\n",
    "                                                                           models,nr_epochs=5,\n",
    "                                                                           subset_size=300,\n",
    "                                                                           verbose=True,\n",
    "                                                                           outputfile=resultpath+\\\n",
    "                                                                                  'modelcomparison.json')"
   ]
  },
  {
   "cell_type": "markdown",
   "metadata": {},
   "source": [
    "The histories object produced by the previous step contains the history of classifier performance with every iteration of the training process. To ease inspecting this information we developed function plotTrainingProcess, which is demonstrated in the cell below."
   ]
  },
  {
   "cell_type": "code",
   "execution_count": 9,
   "metadata": {
    "collapsed": false
   },
   "outputs": [
    {
     "name": "stderr",
     "output_type": "stream",
     "text": [
      "/home/dafne/anaconda2/envs/mcfly/lib/python3.5/site-packages/matplotlib/font_manager.py:273: UserWarning: Matplotlib is building the font cache using fc-list. This may take a moment.\n",
      "  warnings.warn('Matplotlib is building the font cache using fc-list. This may take a moment.')\n",
      "/home/dafne/anaconda2/envs/mcfly/lib/python3.5/site-packages/matplotlib/font_manager.py:273: UserWarning: Matplotlib is building the font cache using fc-list. This may take a moment.\n",
      "  warnings.warn('Matplotlib is building the font cache using fc-list. This may take a moment.')\n"
     ]
    },
    {
     "data": {
      "image/png": "[encoded data removed]",
      "text/plain": [
       "<matplotlib.figure.Figure at 0x7fdd0827ab00>"
      ]
     },
     "metadata": {},
     "output_type": "display_data"
    },
    {
     "data": {
      "image/png": "[encoded data removed]",
      "text/plain": [
       "<matplotlib.figure.Figure at 0x7fdd3595a518>"
      ]
     },
     "metadata": {},
     "output_type": "display_data"
    }
   ],
   "source": [
    "%matplotlib inline\n",
    "for i in range(len(models)):\n",
    "    name = str(models[i][1])\n",
    "    find_architecture.plotTrainingProcess(histories[i], name)    "
   ]
  },
  {
   "cell_type": "markdown",
   "metadata": {},
   "source": [
    "Another way of comparing model performance is by putting all the information in a pandas dataframe, which we can store in a csv file."
   ]
  },
  {
   "cell_type": "code",
   "execution_count": 11,
   "metadata": {
    "collapsed": false
   },
   "outputs": [
    {
     "data": {
      "text/html": [
       "<div>\n",
       "<table border=\"1\" class=\"dataframe\">\n",
       "  <thead>\n",
       "    <tr style=\"text-align: right;\">\n",
       "      <th></th>\n",
       "      <th>model</th>\n",
       "      <th>train_acc</th>\n",
       "      <th>train_loss</th>\n",
       "      <th>val_acc</th>\n",
       "      <th>val_loss</th>\n",
       "    </tr>\n",
       "  </thead>\n",
       "  <tbody>\n",
       "    <tr>\n",
       "      <th>0</th>\n",
       "      <td>{'filters': array([94]), 'learning_rate': 0.05...</td>\n",
       "      <td>0.706667</td>\n",
       "      <td>11.924376</td>\n",
       "      <td>0.512207</td>\n",
       "      <td>1.655583</td>\n",
       "    </tr>\n",
       "    <tr>\n",
       "      <th>1</th>\n",
       "      <td>{'filters': array([79, 64, 90]), 'learning_rat...</td>\n",
       "      <td>0.923333</td>\n",
       "      <td>6.713034</td>\n",
       "      <td>0.835575</td>\n",
       "      <td>1.017291</td>\n",
       "    </tr>\n",
       "  </tbody>\n",
       "</table>\n",
       "</div>"
      ],
      "text/plain": [
       "                                               model  train_acc  train_loss  \\\n",
       "0  {'filters': array([94]), 'learning_rate': 0.05...   0.706667   11.924376   \n",
       "1  {'filters': array([79, 64, 90]), 'learning_rat...   0.923333    6.713034   \n",
       "\n",
       "    val_acc  val_loss  \n",
       "0  0.512207  1.655583  \n",
       "1  0.835575  1.017291  "
      ]
     },
     "execution_count": 11,
     "metadata": {},
     "output_type": "execute_result"
    }
   ],
   "source": [
    "modelcomparisons = pd.DataFrame({'model':[str(params) for model, params, model_types in models],\n",
    "                       'train_acc': [history.history['acc'][-1] for history in histories],\n",
    "                       'train_loss': [history.history['loss'][-1] for history in histories],\n",
    "                       'val_acc': [history.history['val_acc'][-1] for history in histories],\n",
    "                       'val_loss': [history.history['val_loss'][-1] for history in histories]\n",
    "                       })\n",
    "modelcomparisons.to_csv(resultpath +'modelcomparisons.csv')\n",
    "\n",
    "modelcomparisons"
   ]
  },
  {
   "cell_type": "markdown",
   "metadata": {},
   "source": [
    "We can also extract the same information from the json file..."
   ]
  },
  {
   "cell_type": "markdown",
   "metadata": {},
   "source": [
    "###  < - - Possibly insert here demo of how to use json file that was stored"
   ]
  },
  {
   "cell_type": "markdown",
   "metadata": {
    "collapsed": true
   },
   "source": [
    "Check which model is the best"
   ]
  },
  {
   "cell_type": "code",
   "execution_count": 12,
   "metadata": {
    "collapsed": false
   },
   "outputs": [
    {
     "name": "stdout",
     "output_type": "stream",
     "text": [
      "Model type and parameters of the best model:\n",
      "CNN\n",
      "{'filters': array([79, 64, 90]), 'learning_rate': 0.00023456297206788531, 'regularization_rate': 0.015319099533002995, 'fc_hidden_nodes': 276}\n"
     ]
    }
   ],
   "source": [
    "best_model_index = np.argmax(val_accuracies)\n",
    "best_model, best_params, best_model_types = models[best_model_index]\n",
    "print('Model type and parameters of the best model:')\n",
    "print(best_model_types)\n",
    "print(best_params)"
   ]
  },
  {
   "cell_type": "markdown",
   "metadata": {},
   "source": [
    "## Train the best model for real"
   ]
  },
  {
   "cell_type": "markdown",
   "metadata": {},
   "source": [
    "Now that we have identified the best model architecture out of our random pool of models we can continue by training the model on the full training sample. For the purpose of speeding up the example we only train the full model on the first 1000 values. You will need to replace this by 'datasize = X_train.shape[0]' in a real world example."
   ]
  },
  {
   "cell_type": "code",
   "execution_count": 13,
   "metadata": {
    "collapsed": false
   },
   "outputs": [
    {
     "name": "stdout",
     "output_type": "stream",
     "text": [
      "Train on 1000 samples, validate on 2007 samples\n",
      "Epoch 1/5\n",
      "1000/1000 [==============================] - 36s - loss: 8.8451 - acc: 0.6830 - val_loss: 0.9135 - val_acc: 0.7982\n",
      "Epoch 2/5\n",
      "1000/1000 [==============================] - 34s - loss: 7.2266 - acc: 0.8890 - val_loss: 0.8802 - val_acc: 0.8949\n",
      "Epoch 3/5\n",
      "1000/1000 [==============================] - 37s - loss: 5.9959 - acc: 0.9330 - val_loss: 0.8456 - val_acc: 0.9043\n",
      "Epoch 4/5\n",
      "1000/1000 [==============================] - 38s - loss: 5.1110 - acc: 0.9490 - val_loss: 0.8079 - val_acc: 0.8854\n",
      "Epoch 5/5\n",
      "1000/1000 [==============================] - 37s - loss: 4.4756 - acc: 0.9630 - val_loss: 0.8935 - val_acc: 0.8495\n"
     ]
    }
   ],
   "source": [
    "#We make a copy of the model, to start training from fresh\n",
    "best_model_copy = modelgen.generate_CNN_model(X_train.shape, num_classes, best_params['filters'], best_params['fc_hidden_nodes'],\n",
    "                       best_params['learning_rate'], best_params['regularization_rate'])\n",
    "nr_epochs = 5\n",
    "#datasize = X_train.shape[0] #We're going to train the model on the complete data set\n",
    "datasize = 1000 # subsample for the sake of this example\n",
    "history = best_model_copy.fit(X_train[:datasize,:,:], y_train_binary[:datasize,:],\n",
    "              nb_epoch=nr_epochs, validation_data=(X_val, y_val_binary))"
   ]
  },
  {
   "cell_type": "code",
   "execution_count": 14,
   "metadata": {
    "collapsed": false
   },
   "outputs": [
    {
     "data": {
      "image/png": "[encoded data removed]",
      "text/plain": [
       "<matplotlib.figure.Figure at 0x7fdd345d30f0>"
      ]
     },
     "metadata": {},
     "output_type": "display_data"
    }
   ],
   "source": [
    "# Plot the training process:\n",
    "find_architecture.plotTrainingProcess(history)"
   ]
  },
  {
   "cell_type": "code",
   "execution_count": 15,
   "metadata": {
    "collapsed": true
   },
   "outputs": [],
   "source": [
    "best_model_fullytrained = best_model_copy"
   ]
  },
  {
   "cell_type": "markdown",
   "metadata": {},
   "source": [
    "### Saving, loading and comparing reloaded model with orignal model"
   ]
  },
  {
   "cell_type": "markdown",
   "metadata": {},
   "source": [
    "The modoel can be saved for future use. The savemodel function will save two separate files: a json file for the architecture and a npy (numpy array) file for the weights."
   ]
  },
  {
   "cell_type": "code",
   "execution_count": 22,
   "metadata": {
    "collapsed": true
   },
   "outputs": [],
   "source": [
    "modelname = 'my_bestmodel'"
   ]
  },
  {
   "cell_type": "code",
   "execution_count": 23,
   "metadata": {
    "collapsed": false
   },
   "outputs": [],
   "source": [
    "storage.savemodel(best_model_fullytrained,resultpath,modelname)"
   ]
  },
  {
   "cell_type": "code",
   "execution_count": 24,
   "metadata": {
    "collapsed": true
   },
   "outputs": [],
   "source": [
    "model_reloaded = storage.loadmodel(resultpath,modelname)"
   ]
  },
  {
   "cell_type": "markdown",
   "metadata": {},
   "source": [
    "The model has been reloaded. Let's investigate whether it gives the same probability estimates as the original model in a small subset of the validation data."
   ]
  },
  {
   "cell_type": "code",
   "execution_count": 25,
   "metadata": {
    "collapsed": false
   },
   "outputs": [
    {
     "name": "stdout",
     "output_type": "stream",
     "text": [
      "1000/1000 [==============================] - 33s    \n",
      "1000/1000 [==============================] - 35s    \n"
     ]
    }
   ],
   "source": [
    "datasize = 1000\n",
    "probs_original = best_model_fullytrained.predict_proba(X_val[:datasize,:,:],batch_size=1)\n",
    "probs_reloaded = model_reloaded.predict_proba(X_val[:datasize,:,:],batch_size=1)"
   ]
  },
  {
   "cell_type": "code",
   "execution_count": 26,
   "metadata": {
    "collapsed": false
   },
   "outputs": [
    {
     "data": {
      "text/plain": [
       "array([[ True,  True,  True, ...,  True,  True,  True],\n",
       "       [ True,  True,  True, ...,  True,  True,  True],\n",
       "       [ True,  True,  True, ...,  True,  True,  True],\n",
       "       ..., \n",
       "       [ True,  True,  True, ...,  True,  True,  True],\n",
       "       [ True,  True,  True, ...,  True,  True,  True],\n",
       "       [ True,  True,  True, ...,  True,  True,  True]], dtype=bool)"
      ]
     },
     "execution_count": 26,
     "metadata": {},
     "output_type": "execute_result"
    }
   ],
   "source": [
    "probs_reloaded == probs_original"
   ]
  },
  {
   "cell_type": "markdown",
   "metadata": {},
   "source": [
    "## Advanced model inspection"
   ]
  },
  {
   "cell_type": "markdown",
   "metadata": {},
   "source": [
    "Although beyond the scope of mcfly it may be worth highlighting that the objects 'models', 'best_model_fullytrained' and 'best_model' are Keras objects. This means that you can use Keras functions like .predict and .evaluate on the objects to run advanced analyses. These functions are all documented in the Keras documentation"
   ]
  },
  {
   "cell_type": "code",
   "execution_count": 27,
   "metadata": {
    "collapsed": false
   },
   "outputs": [
    {
     "name": "stdout",
     "output_type": "stream",
     "text": [
      "2007/2007 [==============================] - 55s    \n"
     ]
    }
   ],
   "source": [
    "## Inspect model predictions\n",
    "datasize = X_val.shape[0]\n",
    "probs = best_model_copy.predict_proba(X_val[:datasize,:,:],batch_size=1)"
   ]
  },
  {
   "cell_type": "code",
   "execution_count": 28,
   "metadata": {
    "collapsed": false
   },
   "outputs": [
    {
     "name": "stdout",
     "output_type": "stream",
     "text": [
      "[[ 0.49  0.13  0.04 ...,  0.03  0.03  0.05]\n",
      " [ 0.48  0.13  0.04 ...,  0.03  0.03  0.05]\n",
      " [ 0.48  0.13  0.04 ...,  0.03  0.03  0.05]\n",
      " ..., \n",
      " [ 0.01  0.08  0.01 ...,  0.    0.    0.04]\n",
      " [ 0.01  0.04  0.01 ...,  0.    0.01  0.18]\n",
      " [ 0.01  0.18  0.   ...,  0.    0.    0.12]]\n"
     ]
    }
   ],
   "source": [
    "print(np.round(probs,decimals=2))"
   ]
  },
  {
   "cell_type": "code",
   "execution_count": 29,
   "metadata": {
    "collapsed": false
   },
   "outputs": [
    {
     "name": "stdout",
     "output_type": "stream",
     "text": [
      "Score of best model: [1.6599655160640165, 0.40665514261663838]\n"
     ]
    }
   ],
   "source": [
    "## Test on Testset\n",
    "score_test = best_model.evaluate(X_test, y_test_binary, verbose=False)\n",
    "print('Score of best model: ' + str(score_test))"
   ]
  },
  {
   "cell_type": "code",
   "execution_count": null,
   "metadata": {
    "collapsed": true
   },
   "outputs": [],
   "source": []
  }
 ],
 "metadata": {
  "kernelspec": {
   "display_name": "Python 3",
   "language": "python",
   "name": "python3"
  },
  "language_info": {
   "codemirror_mode": {
    "name": "ipython",
    "version": 3
   },
   "file_extension": ".py",
   "mimetype": "text/x-python",
   "name": "python",
   "nbconvert_exporter": "python",
   "pygments_lexer": "ipython3",
   "version": "3.5.2"
  }
 },
 "nbformat": 4,
 "nbformat_minor": 1
}
