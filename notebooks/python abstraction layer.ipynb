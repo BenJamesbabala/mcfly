{
 "cells": [
  {
   "cell_type": "code",
   "execution_count": 1,
   "metadata": {
    "collapsed": true
   },
   "outputs": [],
   "source": [
    "# Objective:\n",
    "# User-friendly function to load data and parameters and feed it into the training/application\n",
    "# In this notebook I am preparing the code snippets to make up such a function\n",
    "\n",
    "import numpy as np\n",
    "import pandas as pd\n",
    "from os import listdir\n",
    "from numpy import genfromtxt"
   ]
  },
  {
   "cell_type": "code",
   "execution_count": 36,
   "metadata": {
    "collapsed": false
   },
   "outputs": [],
   "source": [
    "# Short clarification on terminalogy\n",
    "# The term measurement refers to one entity of investigation, e.g. in a patient/animal/,\n",
    "# within which  we want to classify something, e.g. behaviour, disease, ...\n",
    "# The term dataset refers to a set of entities between one may want to study differences in classification\n",
    "#============================================================================\n",
    "# Input:\n",
    "\n",
    "studyname = 'UCR' # to simplify switching between datasets when testing\n",
    "# Minimum amount of user input need to interpret data:\n",
    "if studyname == 'Utrecht':\n",
    "    datadir = \"/home/vincent/estep/data/utrecht\"\n",
    "    multivar = True #False # Are this Multivariate time series TRUE or FALSE\n",
    "    labloc = \"/home/vincent/estep/data/utrecht_labels.csv\" # labels in column 1 (0), row 1 (1), or name of file\n",
    "    idbloc = 2 # Id in column 1 (0), row 1 (1), seperate file (2), not applicable (3)\n",
    "    labint = True # Is the label an integer?\n",
    "    timecol = False # time series per column (True) or per row (False)\n",
    "    \n",
    "elif studyname == 'UCR':\n",
    "    datadir = \"/home/vincent/estep/data/UCR_TS_Archive_2015/50words\"\n",
    "    multivar = False # Are this Multivariate time series TRUE or FALSE\n",
    "    labloc = 0 # Classifcation labels in column 1 (0), row 1 (1), seperate file (2)\n",
    "    idbloc = 3 # Id in column 1 (0), row 1 (1), seperate file (2), not applicable (3)\n",
    "    labint = True # Is the label an integer?\n",
    "    timecol = False # time series per column (True) or per row (False)\n",
    "#============================================================================"
   ]
  },
  {
   "cell_type": "code",
   "execution_count": 37,
   "metadata": {
    "collapsed": false
   },
   "outputs": [],
   "source": [
    "# Identify number of files and filetype based on datadir\n",
    "filenames = listdir(datadir)\n",
    "Nfiles = len(filenames) # number of files\n",
    "TXTFILES = [m.endswith('.txt') for m in filenames] # check which files are textfiles\n",
    "CSVFILES = [m.endswith('.csv') for m in filenames] # check which files are csvfiles"
   ]
  },
  {
   "cell_type": "code",
   "execution_count": 38,
   "metadata": {
    "collapsed": false
   },
   "outputs": [
    {
     "name": "stdout",
     "output_type": "stream",
     "text": [
      "  delimiter skiprows nrow ncol first cell\n",
      "0      None        0    0    0          0\n",
      "1      None        1    0    0          0\n",
      "2         ,        0  455  271   -0.89094\n",
      "3         ,        1  454  271   -0.78346\n"
     ]
    }
   ],
   "source": [
    "# Investigate what format the first file has by trying out a variety of reading attempts\n",
    "path = datadir + '/' + filenames[1]\n",
    "delimiter = [None,','] #possible delimiter values\n",
    "skiprows=[0,1]\n",
    "ntests = len(delimiter)*len(skiprows)\n",
    "df = pd.DataFrame(index=range(ntests),columns=['delimiter','skiprows','nrow','ncol','first cell'])\n",
    "cnt = 0\n",
    "for di in delimiter:\n",
    "    for si in skiprows:\n",
    "        try:\n",
    "            F1 = np.loadtxt(fname=path,delimiter=di,skiprows=si)\n",
    "            df['delimiter'][cnt] = di\n",
    "            df['skiprows'][cnt] = si\n",
    "            df['nrow'][cnt] = F1.shape[0]\n",
    "            df['ncol'][cnt] = F1.shape[1]\n",
    "            df['first cell'][cnt] = F1[0,1]\n",
    "        except:\n",
    "            df['delimiter'][cnt] = di\n",
    "            df['skiprows'][cnt] = si\n",
    "            df['nrow'][cnt] = 0\n",
    "            df['ncol'][cnt] = 0\n",
    "            df['first cell'][cnt] = 0\n",
    "        cnt = cnt + 1\n",
    "# df is now a dataframe with information to help identify how the data should be loaded        \n",
    "print(df)"
   ]
  },
  {
   "cell_type": "code",
   "execution_count": 39,
   "metadata": {
    "collapsed": false
   },
   "outputs": [],
   "source": [
    "# load one file based on the extracted information on fileformat\n",
    "form = df[df.nrow == max(df.nrow)] # extraction procedure that resulted in the largest number of rows is the best\n",
    "if form.shape[0] > 1:\n",
    "    form = df[df.ncol == max(df.ncol)] # extraction procedure that resulted in the largest number of columns\n",
    "\n",
    "if (form['delimiter'] == ',').bool():\n",
    "    F2 = np.loadtxt(fname=path,delimiter=',',skiprows=int(form['skiprows']))\n",
    "else:\n",
    "    F2 = np.loadtxt(fname=path,delimiter=None,skiprows=int(form['skiprows']))"
   ]
  },
  {
   "cell_type": "code",
   "execution_count": 40,
   "metadata": {
    "collapsed": false,
    "scrolled": true
   },
   "outputs": [
    {
     "data": {
      "text/plain": [
       "array([[  4.     ,  -0.89094,  -0.86099],\n",
       "       [ 12.     ,  -0.78346,  -0.68562],\n",
       "       [ 13.     ,  -1.3256 ,  -1.2843 ]])"
      ]
     },
     "execution_count": 40,
     "metadata": {},
     "output_type": "execute_result"
    }
   ],
   "source": [
    "F2[0:3,0:3]"
   ]
  },
  {
   "cell_type": "code",
   "execution_count": 41,
   "metadata": {
    "collapsed": false
   },
   "outputs": [],
   "source": [
    "# Extract labels y and data X, and standardize shape of matrix\n",
    "if type(labloc) == str:\n",
    "    y = genfromtxt(labloc, delimiter=',',skip_header=1) # do we want numpy array or pd dataframe?\n",
    "    #y=pd.read_csv(labloc, sep=',',header=None)\n",
    "    # TO DO: y needs to be converted in simple one dimensional array that alligns with X\n",
    "    # - how can we verify which time series links to which label...both should have a unique key\n",
    "    # - in case of utrecht, the key is in the id in the filename, which is also in y\n",
    "    # - is this generic for all seperate file?\n",
    "    # - no, if there is one class per id then we know that it is file level\n",
    "    # - if there are multiple classes per id (e.g. London data) then we know that it is both between and\n",
    "    # within files\n",
    "    if timecol == False:\n",
    "        X = F2.transpose()\n",
    "    else:\n",
    "        X = F2    \n",
    "elif type(labloc) == int:\n",
    "    if labloc == 0:\n",
    "        y = np.array(F2[:,0], dtype=labtype)\n",
    "        X = F2[:,1:]\n",
    "    elif labloc == 1:\n",
    "        y = np.array(F2[0,:], dtype=labtype)\n",
    "        X = F2[1:,:].transpose()   "
   ]
  },
  {
   "cell_type": "code",
   "execution_count": 42,
   "metadata": {
    "collapsed": false
   },
   "outputs": [],
   "source": [
    "# Extract data based on newly gained insight into fileformat and data structure\n",
    "if labint == True:\n",
    "    labtype = 'int'\n",
    "else:\n",
    "    labtype = 'str'"
   ]
  },
  {
   "cell_type": "code",
   "execution_count": 43,
   "metadata": {
    "collapsed": false
   },
   "outputs": [
    {
     "data": {
      "text/plain": [
       "(271, 455)"
      ]
     },
     "execution_count": 43,
     "metadata": {},
     "output_type": "execute_result"
    }
   ],
   "source": [
    "F2.transpose().shape"
   ]
  },
  {
   "cell_type": "code",
   "execution_count": 44,
   "metadata": {
    "collapsed": false
   },
   "outputs": [
    {
     "data": {
      "text/plain": [
       "(455,)"
      ]
     },
     "execution_count": 44,
     "metadata": {},
     "output_type": "execute_result"
    }
   ],
   "source": [
    "y.shape"
   ]
  }
 ],
 "metadata": {
  "kernelspec": {
   "display_name": "Python 3",
   "language": "python",
   "name": "python3"
  },
  "language_info": {
   "codemirror_mode": {
    "name": "ipython",
    "version": 3
   },
   "file_extension": ".py",
   "mimetype": "text/x-python",
   "name": "python",
   "nbconvert_exporter": "python",
   "pygments_lexer": "ipython3",
   "version": "3.4.3"
  }
 },
 "nbformat": 4,
 "nbformat_minor": 0
}
