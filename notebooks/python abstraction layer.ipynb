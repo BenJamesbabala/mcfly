{
 "cells": [
  {
   "cell_type": "code",
   "execution_count": 1,
   "metadata": {
    "collapsed": true
   },
   "outputs": [],
   "source": [
    "# Objective:\n",
    "# User-friendly function to load data and parameters and feed it into the training/application\n",
    "# In this notebook I am preparing the code snippets to make up such a function\n",
    "\n",
    "import numpy as np\n",
    "import pandas as pd\n",
    "from os import listdir"
   ]
  },
  {
   "cell_type": "code",
   "execution_count": 2,
   "metadata": {
    "collapsed": false
   },
   "outputs": [],
   "source": [
    "# The term measurement refers to one entity of investigation within which  we want to classify something\n",
    "# e.g. in a patient/animal/... we want to classify behaviour, disease, ...\n",
    "# The term dataset refers to a set of entities between we may want to study differences in classification\n",
    "#============================================================================\n",
    "# Input:\n",
    "\n",
    "studyname = 'Utrecht'\n",
    "# Minimum amount of user input need to interpret data:\n",
    "if studyname == 'Utrecht':\n",
    "    datadir = \"/home/vincent/estep/data/utrecht\"\n",
    "    multivar = True #False # Are this Multivariate time series TRUE or FALSE\n",
    "    labloc = 2 #0 # Classifcation labels in column 1 (0), row 1 (1), seperate file (2)\n",
    "    idbloc = 2 #3 # Id in column 1 (0), row 1 (1), seperate file (2), not applicable (3)\n",
    "    labint = True # Is the label an integer?\n",
    "    timecol = False # time series in columns\n",
    "    \n",
    "elif studyname == 'UCR':\n",
    "    datadir = \"/home/vincent/estep/data/UCR_TS_Archive_2015/50words\"\n",
    "    multivar = False # Are this Multivariate time series TRUE or FALSE\n",
    "    labloc = 0 # Classifcation labels in column 1 (0), row 1 (1), seperate file (2)\n",
    "    idbloc = 3 # Id in column 1 (0), row 1 (1), seperate file (2), not applicable (3)\n",
    "    labint = True # Is the label an integer?\n",
    "    timecol = False # time series in columns\n",
    "#============================================================================"
   ]
  },
  {
   "cell_type": "code",
   "execution_count": 15,
   "metadata": {
    "collapsed": false
   },
   "outputs": [],
   "source": [
    "# Identify number of files and filetype\n",
    "\n",
    "filenames = listdir(datadir)\n",
    "Nfiles = len(filenames) # number of files\n",
    "TXTFILES = [m.endswith('.txt') for m in filenames] # check which files are textfiles\n",
    "CSVFILES = [m.endswith('.csv') for m in filenames] # check which files are csvfiles"
   ]
  },
  {
   "cell_type": "code",
   "execution_count": 16,
   "metadata": {
    "collapsed": false
   },
   "outputs": [
    {
     "name": "stdout",
     "output_type": "stream",
     "text": [
      "  delimiter skiprows  nrow ncol first cell\n",
      "0      None        0  4667   21   -0.78125\n",
      "1      None        1  4666   21    -5.7617\n",
      "2         ,        0     0    0          0\n",
      "3         ,        1     0    0          0\n"
     ]
    }
   ],
   "source": [
    "# Investigate what the format of the first file is in by trying out a variety of reading attempts\n",
    "path = datadir + '/' + filenames[1]\n",
    "delimeter = [None,',']\n",
    "skiprows=[0,1]\n",
    "ntests = len(delimeter)*len(skiprows)\n",
    "df = pd.DataFrame(index=range(ntests),columns=['delimiter','skiprows','nrow','ncol','first cell'])\n",
    "cnt = 0\n",
    "for di in delimeter:\n",
    "    for si in skiprows:\n",
    "        try:\n",
    "            F1 = np.loadtxt(fname=path,delimiter=di,skiprows=si)\n",
    "            df['delimiter'][cnt] = di\n",
    "            df['skiprows'][cnt] = si\n",
    "            df['nrow'][cnt] = F1.shape[0]\n",
    "            df['ncol'][cnt] = F1.shape[1]\n",
    "            df['first cell'][cnt] = F1[0,1]\n",
    "        except:\n",
    "            df['delimiter'][cnt] = di\n",
    "            df['skiprows'][cnt] = si\n",
    "            df['nrow'][cnt] = 0\n",
    "            df['ncol'][cnt] = 0\n",
    "            df['first cell'][cnt] = 0\n",
    "        cnt = cnt + 1\n",
    "# df is now a dataframe with information to help identify how the data should be loaded        \n",
    "print(df)"
   ]
  },
  {
   "cell_type": "code",
   "execution_count": 18,
   "metadata": {
    "collapsed": false
   },
   "outputs": [],
   "source": [
    "# load one file based on the extracted information on fileformat\n",
    "form = df[df.nrow == max(df.nrow)] # extraction procedure that resulted in the largest number of rows is the best\n",
    "if form.shape[0] > 1:\n",
    "    form = df[df.ncol == max(df.ncol)] # extraction procedure that resulted in the largest number of columns\n",
    "\n",
    "\n",
    "if (form['delimiter'] == ',').bool():\n",
    "    F2 = np.loadtxt(fname=path,delimiter=',',skiprows=int(form['skiprows']))\n",
    "else:\n",
    "    F2 = np.loadtxt(fname=path,delimiter=None,skiprows=int(form['skiprows']))"
   ]
  },
  {
   "cell_type": "code",
   "execution_count": 19,
   "metadata": {
    "collapsed": false
   },
   "outputs": [
    {
     "data": {
      "text/plain": [
       "array([[  2.9297  ,  -0.78125 ,  -2.9297  ,   6.1523  ,   2.9297  ,  -3.418   ],\n",
       "       [  3.7109  ,  -5.7617  ,  -4.6875  ,   5.6641  ,   3.2227  ,\n",
       "         -4.9805  ],\n",
       "       [ -0.39062 ,  -8.3008  ,  -5.6641  ,   4.6875  ,   3.6133  ,\n",
       "         -6.0547  ],\n",
       "       [ -7.2266  ,  -7.6172  ,  -6.4453  ,   0.48828 ,   3.7109  ,\n",
       "         -8.7891  ],\n",
       "       [ -8.3984  ,  -4.9805  ,  -7.0312  ,  -3.7109  ,   3.7109  , -10.352   ],\n",
       "       [ -8.5937  ,  -0.097656,  -7.5195  ,  -4.8828  ,   4.1992  ,\n",
       "         -8.0078  ]])"
      ]
     },
     "execution_count": 19,
     "metadata": {},
     "output_type": "execute_result"
    }
   ],
   "source": [
    "F2[0:6,0:6]"
   ]
  },
  {
   "cell_type": "code",
   "execution_count": 22,
   "metadata": {
    "collapsed": false
   },
   "outputs": [],
   "source": [
    "# Extract data based on newly gained insight into fileformat and data structure\n",
    "if labint == True:\n",
    "    labtype = 'int'\n",
    "else:\n",
    "    labtype = 'str'\n",
    "    \n",
    "# extract labels y and data X, and standardize shape of matrix\n",
    "if labloc == 0:\n",
    "    y = np.array(F2[:,0], dtype=labtype)\n",
    "    X = F2\n",
    "elif labloc == 1:\n",
    "    y = np.array(F2[0,:], dtype=labtype)\n",
    "    X = F2.transpose()\n",
    "elif labloc == 2:\n",
    "    y = 0 # <<=== load the file in which the labels are stored...TO DO\n",
    "    if timecol == False:\n",
    "        X = F2.transpose()\n",
    "    else:\n",
    "        X = F2        \n"
   ]
  },
  {
   "cell_type": "code",
   "execution_count": 23,
   "metadata": {
    "collapsed": false
   },
   "outputs": [
    {
     "data": {
      "text/plain": [
       "(21, 4667)"
      ]
     },
     "execution_count": 23,
     "metadata": {},
     "output_type": "execute_result"
    }
   ],
   "source": [
    "F2.transpose().shape"
   ]
  },
  {
   "cell_type": "code",
   "execution_count": null,
   "metadata": {
    "collapsed": true
   },
   "outputs": [],
   "source": []
  },
  {
   "cell_type": "code",
   "execution_count": null,
   "metadata": {
    "collapsed": true
   },
   "outputs": [],
   "source": []
  },
  {
   "cell_type": "code",
   "execution_count": null,
   "metadata": {
    "collapsed": true
   },
   "outputs": [],
   "source": []
  }
 ],
 "metadata": {
  "kernelspec": {
   "display_name": "Python 3",
   "language": "python",
   "name": "python3"
  },
  "language_info": {
   "codemirror_mode": {
    "name": "ipython",
    "version": 3
   },
   "file_extension": ".py",
   "mimetype": "text/x-python",
   "name": "python",
   "nbconvert_exporter": "python",
   "pygments_lexer": "ipython3",
   "version": "3.4.3"
  }
 },
 "nbformat": 4,
 "nbformat_minor": 0
}
