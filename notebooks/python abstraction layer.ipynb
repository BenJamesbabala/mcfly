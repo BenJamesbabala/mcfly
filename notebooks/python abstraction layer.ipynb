{
 "cells": [
  {
   "cell_type": "code",
   "execution_count": 2,
   "metadata": {
    "collapsed": true
   },
   "outputs": [],
   "source": [
    "# Objective:\n",
    "# User-friendly function to load time series data and labels and feed it into the training/application\n",
    "# In this notebook I am preparing the code snippets to make up such a function, and also to identify the\n",
    "# possible needs for standardisation in input format\n",
    "\n",
    "import numpy as np\n",
    "import pandas as pd\n",
    "from os import listdir\n",
    "from numpy import genfromtxt"
   ]
  },
  {
   "cell_type": "code",
   "execution_count": 3,
   "metadata": {
    "collapsed": false
   },
   "outputs": [],
   "source": [
    "# Short clarification on terminalogy\n",
    "# The term measurement refers to one entity of investigation, e.g. in a patient/animal/,\n",
    "# within which  we want to classify something, e.g. behaviour, disease, ...\n",
    "# The term dataset refers to a set of entities between one may want to study differences in classification\n",
    "#============================================================================\n",
    "# Input:\n",
    "\n",
    "studyname = 'London' # to simplify switching between datasets when testing\n",
    "# Minimum amount of user input need to interpret data:\n",
    "if studyname == 'Utrecht':\n",
    "    datadir = \"/home/vincent/estep/data/utrecht\"\n",
    "    multivar = True #False # Are this Multivariate time series TRUE or FALSE\n",
    "    multiclass = False\n",
    "    Nfilesperelement = 4 #there are four files per patient\n",
    "    labloc = \"/home/vincent/estep/data/utrecht_labels.csv\" # labels in column 1 (0), row 1 (1), or name of file\n",
    "    idbloc = 2 # Id in column 1 (0), row 1 (1), seperate file (2), not applicable (3)\n",
    "    labint = True # Is the label an integer?\n",
    "    timecol = False # time series per column (True) or per row (False)\n",
    "elif studyname == 'UCR':\n",
    "    datadir = \"/home/vincent/estep/data/UCR_TS_Archive_2015/50words\"\n",
    "    multivar = False # Are this Multivariate time series TRUE or FALSE\n",
    "    multiclass = False\n",
    "    Nfilesperelement = 0 #all elements are in one merged file\n",
    "    labloc = 0 # Classifcation labels in column 1 (0), row 1 (1), seperate file (2)\n",
    "    idbloc = 3 # Id in column 1 (0), row 1 (1), seperate file (2), not applicable (3)\n",
    "    labint = True # Is the label an integer?\n",
    "    timecol = False # time series per column (True) or per row (False)\n",
    "elif studyname == 'London':\n",
    "    datadir = \"/home/vincent/estep/data/london/accelerometer_40Hz\"\n",
    "    multivar = True # Are this Multivariate time series TRUE or FALSE\n",
    "    multiclass = True\n",
    "    Nfilesperelement = 1 #one file per person\n",
    "    labloc = \"/home/vincent/estep/data/london_labels.csv\" # Classifcation labels in column 1 (0), row 1 (1), seperate file (2)\n",
    "    idbloc = 2 # Id in column 1 (0), row 1 (1), seperate file (2), not applicable (3)\n",
    "    labint = False # Is the label an integer?\n",
    "    timecol = True # time series per column (True) or per row (False)\n",
    "    \n",
    "    \n",
    "# Other types of input we may need:\n",
    "# - previously trained model: is this going to be a file?\n",
    "# - what to do with output: store in file? add to python global workspace?\n",
    "# - requests and restrictions on what architectures should be tried:\n",
    "# - - N layers\n",
    "# - - GPU or not\n",
    "# - - training time limit\n",
    "# - - LSTM (RNN) or not\n",
    "# - - How to handle multi-variate input: as various dimensions of the same \n",
    "#     time series are as seperate branches of the network\n",
    "# - - Performance report\n",
    "\n",
    "# dummy dictionary just to sketch how the input would look like:\n",
    "inputdict = {'previousmodel': None,'maxnlayers': 3,'gpu': False,'rnn': True,'verbose': False}\n",
    "\n",
    "#============================================================================"
   ]
  },
  {
   "cell_type": "code",
   "execution_count": 4,
   "metadata": {
    "collapsed": false
   },
   "outputs": [
    {
     "data": {
      "text/plain": [
       "{'gpu': False,\n",
       " 'maxnlayers': 3,\n",
       " 'previousmodel': None,\n",
       " 'rnn': True,\n",
       " 'verbose': False}"
      ]
     },
     "execution_count": 4,
     "metadata": {},
     "output_type": "execute_result"
    }
   ],
   "source": [
    "inputdict"
   ]
  },
  {
   "cell_type": "code",
   "execution_count": 5,
   "metadata": {
    "collapsed": false
   },
   "outputs": [
    {
     "data": {
      "text/plain": [
       "{'gpu': False,\n",
       " 'maxnlayers': 3,\n",
       " 'previousmodel': None,\n",
       " 'rnn': True,\n",
       " 'verbose': False}"
      ]
     },
     "execution_count": 5,
     "metadata": {},
     "output_type": "execute_result"
    }
   ],
   "source": [
    "inputdict"
   ]
  },
  {
   "cell_type": "code",
   "execution_count": 6,
   "metadata": {
    "collapsed": false
   },
   "outputs": [],
   "source": [
    "# Identify number of files and filetype based on datadir\n",
    "filenames = listdir(datadir)\n",
    "Nfiles = len(filenames) # number of files\n",
    "TXTFILES = [m.endswith('.txt') for m in filenames] # check which files are textfiles\n",
    "CSVFILES = [m.endswith('.csv') for m in filenames] # check which files are csvfiles"
   ]
  },
  {
   "cell_type": "code",
   "execution_count": 7,
   "metadata": {
    "collapsed": false
   },
   "outputs": [
    {
     "name": "stdout",
     "output_type": "stream",
     "text": [
      "  delimiter skiprows     nrow ncol first cell\n",
      "0      None        0        0    0          0\n",
      "1      None        1        0    0          0\n",
      "2         ,        0        0    0          0\n",
      "3         ,        1  3456000    3   0.651919\n"
     ]
    }
   ],
   "source": [
    "# Investigate what format the first file has by trying out a variety of reading attempts\n",
    "path = datadir + '/' + filenames[1]\n",
    "delimiter = [None,','] #possible delimiter values\n",
    "skiprows=[0,1]\n",
    "ntests = len(delimiter)*len(skiprows)\n",
    "df = pd.DataFrame(index=range(ntests),columns=['delimiter','skiprows','nrow','ncol','first cell'])\n",
    "cnt = 0\n",
    "for di in delimiter:\n",
    "    for si in skiprows:\n",
    "        try:\n",
    "            F1 = np.loadtxt(fname=path,delimiter=di,skiprows=si)\n",
    "            df['delimiter'][cnt] = di\n",
    "            df['skiprows'][cnt] = si\n",
    "            df['nrow'][cnt] = F1.shape[0]\n",
    "            df['ncol'][cnt] = F1.shape[1]\n",
    "            df['first cell'][cnt] = F1[0,1]\n",
    "        except:\n",
    "            df['delimiter'][cnt] = di\n",
    "            df['skiprows'][cnt] = si\n",
    "            df['nrow'][cnt] = 0\n",
    "            df['ncol'][cnt] = 0\n",
    "            df['first cell'][cnt] = 0\n",
    "        cnt = cnt + 1\n",
    "# df is now a dataframe with information to help identify how the data should be loaded        \n",
    "print(df)"
   ]
  },
  {
   "cell_type": "code",
   "execution_count": 8,
   "metadata": {
    "collapsed": false
   },
   "outputs": [],
   "source": [
    "# load one file based on the extracted information on fileformat\n",
    "form = df[df.nrow == max(df.nrow)] # extraction procedure that resulted in the largest number of rows is the best\n",
    "if form.shape[0] > 1:\n",
    "    form = df[df.ncol == max(df.ncol)] # extraction procedure that resulted in the largest number of columns\n",
    "\n",
    "if (form['delimiter'] == ',').bool():\n",
    "    F2 = np.loadtxt(fname=path,delimiter=',',skiprows=int(form['skiprows']))\n",
    "else:\n",
    "    F2 = np.loadtxt(fname=path,delimiter=None,skiprows=int(form['skiprows']))"
   ]
  },
  {
   "cell_type": "code",
   "execution_count": 9,
   "metadata": {
    "collapsed": false,
    "scrolled": true
   },
   "outputs": [
    {
     "data": {
      "text/plain": [
       "array([[ 0.45943237,  0.65191934, -0.61158976],\n",
       "       [ 0.47129694,  0.63217007, -0.63543481],\n",
       "       [ 0.46734208,  0.64401963, -0.64338316]])"
      ]
     },
     "execution_count": 9,
     "metadata": {},
     "output_type": "execute_result"
    }
   ],
   "source": [
    "F2[0:3,0:3]"
   ]
  },
  {
   "cell_type": "code",
   "execution_count": 10,
   "metadata": {
    "collapsed": false
   },
   "outputs": [],
   "source": [
    "# Extract labels y and data X, and standardize shape of matrix\n",
    "# Extract data based on newly gained insight into fileformat and data structure\n",
    "if labint == True:\n",
    "    labtype = 'int'\n",
    "else:\n",
    "    labtype = 'str'\n",
    "if type(labloc) == str:\n",
    "    #y = genfromtxt(labloc, delimiter=',',skip_header=1) # do we want numpy array or pd dataframe?\n",
    "    y = pd.read_csv(labloc, sep=',',header=0)\n",
    "    #y=pd.read_csv(labloc, sep=',',header=None)\n",
    "    # TO DO: y needs to be converted in simple one dimensional array that alligns with X\n",
    "    # - how can we verify which time series links to which label...both should have a unique key\n",
    "    # - in case of utrecht, the key is in the id in the filename, which is also in y\n",
    "    # - is this generic for all seperate file?\n",
    "    # - no, if there is one class per id then we know that it is file level\n",
    "    # - if there are multiple classes per id (e.g. London data) then we know that it is both between and\n",
    "    # within files\n",
    "    if timecol == False:\n",
    "        X = F2.transpose()\n",
    "    else:\n",
    "        X = F2    \n",
    "elif type(labloc) == int:\n",
    "    if labloc == 0:\n",
    "        y = np.array(F2[:,0], dtype=labtype)\n",
    "        X = F2[:,1:]\n",
    "    elif labloc == 1:\n",
    "        y = np.array(F2[0,:], dtype=labtype)\n",
    "        X = F2[1:,:].transpose()   \n",
    "        \n"
   ]
  },
  {
   "cell_type": "code",
   "execution_count": 11,
   "metadata": {
    "collapsed": false
   },
   "outputs": [
    {
     "data": {
      "text/plain": [
       "pandas.core.frame.DataFrame"
      ]
     },
     "execution_count": 11,
     "metadata": {},
     "output_type": "execute_result"
    }
   ],
   "source": [
    "type(y)"
   ]
  },
  {
   "cell_type": "code",
   "execution_count": 10,
   "metadata": {
    "collapsed": false
   },
   "outputs": [
    {
     "name": "stdout",
     "output_type": "stream",
     "text": [
      "((235, 11), (3456000, 3))\n"
     ]
    }
   ],
   "source": [
    "print((y.shape, X.shape))"
   ]
  },
  {
   "cell_type": "code",
   "execution_count": 11,
   "metadata": {
    "collapsed": false
   },
   "outputs": [
    {
     "name": "stdout",
     "output_type": "stream",
     "text": [
      "there are multiple X, one for each data file, and y may either hold one or more labels for each time series\n"
     ]
    }
   ],
   "source": [
    "# Reformat labels to be useful for Keras (in progress):\n",
    "# we need label size to be the same dimension as the first dimension of the data (which typically is the number\n",
    "# of time series)\n",
    "\n",
    "if type(labloc) == str and multiclass == True and y.shape[0] != X.shape[0]:\n",
    "    #filter y relevant for this filename, this is relevant for the london labels\n",
    "    y2 = y[y['filename'] == filenames[1].strip('.csv')] #TO DO: make code less specific to London, e.g by\n",
    "    # requiring that identifiers are compatible and that the user can specify the name of the identifier\n",
    "    #now convert this into something with the same shape as X, such that we always have a standardized output\n",
    "    \n",
    "    # convert clock times to samples since start of measurement\n",
    "    #y2['stime'] = y2['stime']\n",
    "    if (y2.shape[0] == X.shape[0]): #no more modification needed, use y2\n",
    "        y = y2\n",
    "    else:\n",
    "        y3 = np.zeros(X.shape[0]) #initialize right shape of y\n",
    "        #for i in range(y2.shape[0]):\n",
    "         # y3[y2['stime'][i]:y2['etime'][i]] = [y2['activity'][i]\n",
    "            \n",
    "# the following classification is incorrect, because:\n",
    "# in utrecht data there are not four files per person\n",
    "if y.shape[0] == X.shape[0]: # no more action needed, annotation fits shape of data\n",
    "    print('there is one x with all the time series and an y with corresponding label per time series')\n",
    "elif y.shape[0]*Nfilesperelement == Nfiles: #classification is  per file\n",
    "    print('there are multiple X, one for each data file, and y holds one label for each time series')\n",
    "else:\n",
    "    print('there are multiple X, one for each data file, and y may either hold one or more labels for each time series')"
   ]
  },
  {
   "cell_type": "code",
   "execution_count": 13,
   "metadata": {
    "collapsed": false
   },
   "outputs": [
    {
     "data": {
      "text/html": [
       "<div>\n",
       "<table border=\"1\" class=\"dataframe\">\n",
       "  <thead>\n",
       "    <tr style=\"text-align: right;\">\n",
       "      <th></th>\n",
       "      <th>ddate1</th>\n",
       "      <th>tudday</th>\n",
       "      <th>tudm</th>\n",
       "      <th>stime</th>\n",
       "      <th>etime</th>\n",
       "      <th>activity</th>\n",
       "      <th>actp</th>\n",
       "      <th>Monitor</th>\n",
       "      <th>ddate1num</th>\n",
       "      <th>distance</th>\n",
       "      <th>filename</th>\n",
       "    </tr>\n",
       "  </thead>\n",
       "  <tbody>\n",
       "    <tr>\n",
       "      <th>0</th>\n",
       "      <td>01/08/2014</td>\n",
       "      <td>1</td>\n",
       "      <td>App</td>\n",
       "      <td>04:00:00</td>\n",
       "      <td>12:00:00</td>\n",
       "      <td>Sleepingandresting(includingsickinbed)</td>\n",
       "      <td>Sleepingandresting(includingsickinbed)</td>\n",
       "      <td>16563</td>\n",
       "      <td>1406844000</td>\n",
       "      <td>18000</td>\n",
       "      <td>__016563_2014-08-08 12-02-19.bin_day1.RData</td>\n",
       "    </tr>\n",
       "    <tr>\n",
       "      <th>1</th>\n",
       "      <td>01/08/2014</td>\n",
       "      <td>1</td>\n",
       "      <td>App</td>\n",
       "      <td>12:00:00</td>\n",
       "      <td>19:00:00</td>\n",
       "      <td>WatchTV,DVDs,downloadedvideos</td>\n",
       "      <td>WatchingTV,DVDs,downloadedvideos</td>\n",
       "      <td>16563</td>\n",
       "      <td>1406844000</td>\n",
       "      <td>18000</td>\n",
       "      <td>__016563_2014-08-08 12-02-19.bin_day1.RData</td>\n",
       "    </tr>\n",
       "    <tr>\n",
       "      <th>2</th>\n",
       "      <td>01/08/2014</td>\n",
       "      <td>1</td>\n",
       "      <td>App</td>\n",
       "      <td>19:00:00</td>\n",
       "      <td>00:00:00</td>\n",
       "      <td>Speaking,socialisingface-to-face</td>\n",
       "      <td>Speaking,socialisingface-to-face</td>\n",
       "      <td>16563</td>\n",
       "      <td>1406844000</td>\n",
       "      <td>18000</td>\n",
       "      <td>__016563_2014-08-08 12-02-19.bin_day1.RData</td>\n",
       "    </tr>\n",
       "    <tr>\n",
       "      <th>3</th>\n",
       "      <td>01/08/2014</td>\n",
       "      <td>1</td>\n",
       "      <td>App</td>\n",
       "      <td>00:00:00</td>\n",
       "      <td>04:00:00</td>\n",
       "      <td>WatchTV,DVDs,downloadedvideos</td>\n",
       "      <td>WatchingTV,DVDs,downloadedvideos</td>\n",
       "      <td>16563</td>\n",
       "      <td>1406844000</td>\n",
       "      <td>18000</td>\n",
       "      <td>__016563_2014-08-08 12-02-19.bin_day1.RData</td>\n",
       "    </tr>\n",
       "  </tbody>\n",
       "</table>\n",
       "</div>"
      ],
      "text/plain": [
       "                           ddate1  tudday tudm                     stime  \\\n",
       "0  01/08/2014                           1  App  04:00:00                   \n",
       "1  01/08/2014                           1  App  12:00:00                   \n",
       "2  01/08/2014                           1  App  19:00:00                   \n",
       "3  01/08/2014                           1  App  00:00:00                   \n",
       "\n",
       "                      etime                                activity  \\\n",
       "0  12:00:00                  Sleepingandresting(includingsickinbed)   \n",
       "1  19:00:00                           WatchTV,DVDs,downloadedvideos   \n",
       "2  00:00:00                        Speaking,socialisingface-to-face   \n",
       "3  04:00:00                           WatchTV,DVDs,downloadedvideos   \n",
       "\n",
       "                                     actp  Monitor   ddate1num  distance  \\\n",
       "0  Sleepingandresting(includingsickinbed)    16563  1406844000     18000   \n",
       "1        WatchingTV,DVDs,downloadedvideos    16563  1406844000     18000   \n",
       "2        Speaking,socialisingface-to-face    16563  1406844000     18000   \n",
       "3        WatchingTV,DVDs,downloadedvideos    16563  1406844000     18000   \n",
       "\n",
       "                                      filename  \n",
       "0  __016563_2014-08-08 12-02-19.bin_day1.RData  \n",
       "1  __016563_2014-08-08 12-02-19.bin_day1.RData  \n",
       "2  __016563_2014-08-08 12-02-19.bin_day1.RData  \n",
       "3  __016563_2014-08-08 12-02-19.bin_day1.RData  "
      ]
     },
     "execution_count": 13,
     "metadata": {},
     "output_type": "execute_result"
    }
   ],
   "source": [
    "y2"
   ]
  },
  {
   "cell_type": "code",
   "execution_count": 72,
   "metadata": {
    "collapsed": false
   },
   "outputs": [
    {
     "data": {
      "text/html": [
       "<div>\n",
       "<table border=\"1\" class=\"dataframe\">\n",
       "  <thead>\n",
       "    <tr style=\"text-align: right;\">\n",
       "      <th></th>\n",
       "      <th>ddate1</th>\n",
       "      <th>tudm</th>\n",
       "      <th>stime</th>\n",
       "      <th>etime</th>\n",
       "      <th>activity</th>\n",
       "      <th>actp</th>\n",
       "      <th>ddate1num</th>\n",
       "      <th>filename</th>\n",
       "      <th>stime_numeric</th>\n",
       "      <th>etime_numeric</th>\n",
       "      <th>difftime_numeric</th>\n",
       "    </tr>\n",
       "  </thead>\n",
       "  <tbody>\n",
       "    <tr>\n",
       "      <th>0</th>\n",
       "      <td>01/08/2014</td>\n",
       "      <td>App</td>\n",
       "      <td>04:00:00</td>\n",
       "      <td>12:00:00</td>\n",
       "      <td>Sleepingandresting(includingsickinbed)</td>\n",
       "      <td>Sleepingandresting(includingsickinbed)</td>\n",
       "      <td>1406844000</td>\n",
       "      <td>__016563_2014-08-08 12-02-19.bin_day1.RData</td>\n",
       "      <td>1.406858e+09</td>\n",
       "      <td>1.406887e+09</td>\n",
       "      <td>1.406858e+09</td>\n",
       "    </tr>\n",
       "    <tr>\n",
       "      <th>1</th>\n",
       "      <td>01/08/2014</td>\n",
       "      <td>App</td>\n",
       "      <td>12:00:00</td>\n",
       "      <td>19:00:00</td>\n",
       "      <td>WatchTV,DVDs,downloadedvideos</td>\n",
       "      <td>WatchingTV,DVDs,downloadedvideos</td>\n",
       "      <td>1406844000</td>\n",
       "      <td>__016563_2014-08-08 12-02-19.bin_day1.RData</td>\n",
       "      <td>1.406887e+09</td>\n",
       "      <td>1.406912e+09</td>\n",
       "      <td>1.406887e+09</td>\n",
       "    </tr>\n",
       "    <tr>\n",
       "      <th>2</th>\n",
       "      <td>01/08/2014</td>\n",
       "      <td>App</td>\n",
       "      <td>19:00:00</td>\n",
       "      <td>00:00:00</td>\n",
       "      <td>Speaking,socialisingface-to-face</td>\n",
       "      <td>Speaking,socialisingface-to-face</td>\n",
       "      <td>1406844000</td>\n",
       "      <td>__016563_2014-08-08 12-02-19.bin_day1.RData</td>\n",
       "      <td>1.406912e+09</td>\n",
       "      <td>1.406844e+09</td>\n",
       "      <td>1.406912e+09</td>\n",
       "    </tr>\n",
       "    <tr>\n",
       "      <th>3</th>\n",
       "      <td>01/08/2014</td>\n",
       "      <td>App</td>\n",
       "      <td>00:00:00</td>\n",
       "      <td>04:00:00</td>\n",
       "      <td>WatchTV,DVDs,downloadedvideos</td>\n",
       "      <td>WatchingTV,DVDs,downloadedvideos</td>\n",
       "      <td>1406844000</td>\n",
       "      <td>__016563_2014-08-08 12-02-19.bin_day1.RData</td>\n",
       "      <td>1.406844e+09</td>\n",
       "      <td>1.406858e+09</td>\n",
       "      <td>1.406844e+09</td>\n",
       "    </tr>\n",
       "  </tbody>\n",
       "</table>\n",
       "</div>"
      ],
      "text/plain": [
       "                           ddate1 tudm                     stime  \\\n",
       "0  01/08/2014                      App  04:00:00                   \n",
       "1  01/08/2014                      App  12:00:00                   \n",
       "2  01/08/2014                      App  19:00:00                   \n",
       "3  01/08/2014                      App  00:00:00                   \n",
       "\n",
       "                      etime                                activity  \\\n",
       "0  12:00:00                  Sleepingandresting(includingsickinbed)   \n",
       "1  19:00:00                           WatchTV,DVDs,downloadedvideos   \n",
       "2  00:00:00                        Speaking,socialisingface-to-face   \n",
       "3  04:00:00                           WatchTV,DVDs,downloadedvideos   \n",
       "\n",
       "                                     actp   ddate1num  \\\n",
       "0  Sleepingandresting(includingsickinbed)  1406844000   \n",
       "1        WatchingTV,DVDs,downloadedvideos  1406844000   \n",
       "2        Speaking,socialisingface-to-face  1406844000   \n",
       "3        WatchingTV,DVDs,downloadedvideos  1406844000   \n",
       "\n",
       "                                      filename  stime_numeric  etime_numeric  \\\n",
       "0  __016563_2014-08-08 12-02-19.bin_day1.RData   1.406858e+09   1.406887e+09   \n",
       "1  __016563_2014-08-08 12-02-19.bin_day1.RData   1.406887e+09   1.406912e+09   \n",
       "2  __016563_2014-08-08 12-02-19.bin_day1.RData   1.406912e+09   1.406844e+09   \n",
       "3  __016563_2014-08-08 12-02-19.bin_day1.RData   1.406844e+09   1.406858e+09   \n",
       "\n",
       "   difftime_numeric  \n",
       "0      1.406858e+09  \n",
       "1      1.406887e+09  \n",
       "2      1.406912e+09  \n",
       "3      1.406844e+09  "
      ]
     },
     "execution_count": 72,
     "metadata": {},
     "output_type": "execute_result"
    }
   ],
   "source": [
    "#lets remove some columns\n",
    "# y2 = y2.drop('tudday',1)\n",
    "# y2 = y2.drop('Monitor',1)\n",
    "# y2 = y2.drop('distance',1)\n",
    "y2"
   ]
  },
  {
   "cell_type": "code",
   "execution_count": 74,
   "metadata": {
    "collapsed": false
   },
   "outputs": [
    {
     "name": "stdout",
     "output_type": "stream",
     "text": [
      "['01/08/2014 00:00:00', '01/08/2014 04:00:00']\n",
      "[1406858400, 1406887200]\n",
      "[[  1.40685840e+09   1.40688720e+09   8.00000000e+00]\n",
      " [  1.40688720e+09   1.40691240e+09   7.00000000e+00]\n",
      " [  1.40691240e+09   1.40684400e+09  -1.90000000e+01]\n",
      " [  1.40684400e+09   1.40685840e+09   4.00000000e+00]]\n"
     ]
    }
   ],
   "source": [
    "# Exploring how to convert the London label timestamps into something with which we can easily\n",
    "# Extract data from the time series\n",
    "\n",
    "import time\n",
    "labelsbyindex = np.zeros((y2.shape[0],3))\n",
    "pattern = '%d/%m/%Y %H:%M:%S'\n",
    "for j in range(y2.shape[0]):\n",
    "    date_time = [str(y2['ddate1'][j]).strip() + \" \" + str(y2['stime'][j]).strip(),\n",
    "        str(y2['ddate1'][j]).strip() + \" \" + str(y2['etime'][j]).strip()]\n",
    "    labelsbyindex[j,0:2] = np.array([int(time.mktime(time.strptime(date_time[i], pattern))) for i in range(2)])\n",
    "    labelsbyindex[j,2]  = (labelsbyindex[j,1] - labelsbyindex[j,0]) / 3600\n",
    "\n",
    "y2['stime_numeric'] = labelsbyindex[:,0]\n",
    "y2['etime_numeric'] = labelsbyindex[:,1]\n",
    "y2['difftime_numeric'] = labelsbyindex[:,0]\n",
    "print(date_time)\n",
    "print(epoch)\n",
    "print(labelsbyindex)"
   ]
  },
  {
   "cell_type": "code",
   "execution_count": 66,
   "metadata": {
    "collapsed": false
   },
   "outputs": [
    {
     "data": {
      "text/plain": [
       "0    1.406858e+09\n",
       "1    1.406887e+09\n",
       "2    1.406912e+09\n",
       "3    1.406844e+09\n",
       "Name: stime_numeric, dtype: float64"
      ]
     },
     "execution_count": 66,
     "metadata": {},
     "output_type": "execute_result"
    }
   ],
   "source": [
    "y2['stime_numeric']"
   ]
  },
  {
   "cell_type": "code",
   "execution_count": null,
   "metadata": {
    "collapsed": false
   },
   "outputs": [],
   "source": [
    "# next step for London labels:\n",
    "# slide the time series using the labels\n",
    "# generate y and X such that first dimension of X equals y"
   ]
  },
  {
   "cell_type": "code",
   "execution_count": 1,
   "metadata": {
    "collapsed": false
   },
   "outputs": [
    {
     "ename": "NameError",
     "evalue": "name 'y' is not defined",
     "output_type": "error",
     "traceback": [
      "\u001b[1;31m---------------------------------------------------------------------------\u001b[0m",
      "\u001b[1;31mNameError\u001b[0m                                 Traceback (most recent call last)",
      "\u001b[1;32m<ipython-input-1-6848eca1ead4>\u001b[0m in \u001b[0;36m<module>\u001b[1;34m()\u001b[0m\n\u001b[1;32m----> 1\u001b[1;33m \u001b[0mtype\u001b[0m\u001b[1;33m(\u001b[0m\u001b[0my\u001b[0m\u001b[1;33m)\u001b[0m\u001b[1;33m\u001b[0m\u001b[0m\n\u001b[0m",
      "\u001b[1;31mNameError\u001b[0m: name 'y' is not defined"
     ]
    }
   ],
   "source": [
    "type(y)"
   ]
  },
  {
   "cell_type": "code",
   "execution_count": null,
   "metadata": {
    "collapsed": false
   },
   "outputs": [],
   "source": []
  }
 ],
 "metadata": {
  "kernelspec": {
   "display_name": "Python 3",
   "language": "python",
   "name": "python3"
  },
  "language_info": {
   "codemirror_mode": {
    "name": "ipython",
    "version": 3
   },
   "file_extension": ".py",
   "mimetype": "text/x-python",
   "name": "python",
   "nbconvert_exporter": "python",
   "pygments_lexer": "ipython3",
   "version": "3.4.3"
  }
 },
 "nbformat": 4,
 "nbformat_minor": 0
}
