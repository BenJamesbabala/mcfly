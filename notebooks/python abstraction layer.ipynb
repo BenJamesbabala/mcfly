{
 "cells": [
  {
   "cell_type": "code",
   "execution_count": 137,
   "metadata": {
    "collapsed": true
   },
   "outputs": [],
   "source": [
    "# Objective:\n",
    "# User-friendly function to load data and parameters and feed it into the training/application\n",
    "# In this notebook I am preparing the code snipperts to make up such a function\n",
    "\n",
    "import numpy as np\n",
    "import pandas as pd"
   ]
  },
  {
   "cell_type": "code",
   "execution_count": 139,
   "metadata": {
    "collapsed": true
   },
   "outputs": [],
   "source": [
    "#============================================================================\n",
    "# Input:\n",
    "\n",
    "# In what data folder can we find the data?\n",
    "#datadir = \"/home/vincent/estep/data/utrecht\"\n",
    "datadir = \"/home/vincent/estep/data/UCR_TS_Archive_2015/50words\"\n",
    "\n",
    "#============================================================================"
   ]
  },
  {
   "cell_type": "code",
   "execution_count": 148,
   "metadata": {
    "collapsed": false
   },
   "outputs": [],
   "source": [
    "# Identify number of files and filetype\n",
    "filenames = listdir(datadir)\n",
    "Nfiles = len(filenames) # number of files\n",
    "TXTFILES = [m.endswith('.txt') for m in filenames] # check which files are textfiles\n",
    "CSVFILES = [m.endswith('.csv') for m in filenames] # check which files are textfiles"
   ]
  },
  {
   "cell_type": "code",
   "execution_count": 149,
   "metadata": {
    "collapsed": false
   },
   "outputs": [
    {
     "name": "stdout",
     "output_type": "stream",
     "text": [
      "  delimiter skiprows nrow ncol first cell\n",
      "0      None        0    0    0          0\n",
      "1      None        1    0    0          0\n",
      "2         ,        0  455  271   -0.89094\n",
      "3         ,        1  454  271   -0.78346\n"
     ]
    }
   ],
   "source": [
    "# Investigate what the format of the first file is in by trying out a variety of formats\n",
    "path = datadir + '/' + filenames[1]\n",
    "delimeter = [None,',']\n",
    "skiprows=[0,1]\n",
    "ntests = len(delimeter)*len(skiprows)\n",
    "df = pd.DataFrame(index=range(ntests),columns=['delimiter','skiprows','nrow','ncol','first cell'])\n",
    "cnt = 0\n",
    "for di in delimeter:\n",
    "    for si in skiprows:\n",
    "        try:\n",
    "            F1 = np.loadtxt(fname=path,delimiter=di,skiprows=si)\n",
    "            df['delimiter'][cnt] = di\n",
    "            df['skiprows'][cnt] = si\n",
    "            df['nrow'][cnt] = F1.shape[0]\n",
    "            df['ncol'][cnt] = F1.shape[1]\n",
    "            df['first cell'][cnt] = F1[0,1]\n",
    "        except:\n",
    "            df['delimiter'][cnt] = di\n",
    "            df['skiprows'][cnt] = si\n",
    "            df['nrow'][cnt] = 0\n",
    "            df['ncol'][cnt] = 0\n",
    "            df['first cell'][cnt] = 0\n",
    "        cnt = cnt + 1\n",
    "# df is now a dataframe with information to help identify how the data should be loaded        \n",
    "print(df)"
   ]
  },
  {
   "cell_type": "code",
   "execution_count": 214,
   "metadata": {
    "collapsed": false
   },
   "outputs": [],
   "source": [
    "# load one file based on the extracted information on fileformat\n",
    "form = df[df.nrow == max(df.nrow)] # extraction procedure that resulted in the largest number of rows is the best\n",
    "if form.shape[0] > 1:\n",
    "    form = df[df.ncol == max(df.ncol)] # extraction procedure that resulted in the largest number of columns\n",
    "\n",
    "\n",
    "if (form['delimiter'] == ',').bool():\n",
    "    F2 = np.loadtxt(fname=path,delimiter=',',skiprows=int(form['skiprows']))\n",
    "else:\n",
    "    F2 = np.loadtxt(fname=path,delimiter=None,skiprows=int(form['skiprows']))"
   ]
  },
  {
   "cell_type": "code",
   "execution_count": 217,
   "metadata": {
    "collapsed": false
   },
   "outputs": [
    {
     "data": {
      "text/plain": [
       "array([[  4.     ,  -0.89094,  -0.86099,  -0.82438,  -0.78214,  -0.73573],\n",
       "       [ 12.     ,  -0.78346,  -0.68562,  -0.58409,  -0.47946,  -0.37398],\n",
       "       [ 13.     ,  -1.3256 ,  -1.2843 ,  -1.2197 ,  -1.1567 ,  -1.0998 ],\n",
       "       [ 23.     ,  -1.0937 ,  -1.042  ,  -0.9984 ,  -0.95997,  -0.93997],\n",
       "       [  4.     ,  -0.90138,  -0.85228,  -0.80196,  -0.74932,  -0.69298],\n",
       "       [ 13.     ,  -1.2447 ,  -1.22   ,  -1.1694 ,  -1.0913 ,  -0.98968]])"
      ]
     },
     "execution_count": 217,
     "metadata": {},
     "output_type": "execute_result"
    }
   ],
   "source": [
    "F2[0:6,0:6]"
   ]
  },
  {
   "cell_type": "code",
   "execution_count": 221,
   "metadata": {
    "collapsed": false
   },
   "outputs": [],
   "source": [
    "# Create overview of data structure\n",
    "\n",
    "# The term measurement refers to one entity of investigation within which  we want to classify something\n",
    "# e.g. in a patient/animal/... we want to classify behaviour, disease, ...\n",
    "# The term dataset refers to a set of entities between we may want to study differences in classification\n",
    "\n",
    "# Minimum amount of user input need to interpret data:\n",
    "multivar = False # Are this Multivariate time series TRUE or FALSE\n",
    "labloc = 0 # Classifcation labels in column 1 (0), row 1 (1), seperate file (2)\n",
    "idbloc = 3 # Id in column 1 (0), row 1 (1), seperate file (2), not applicable (3)\n",
    "labint = True # Is the label an integer?\n",
    "\n",
    "# TO DO: If labint == False then convert string labels into integer codes and store conversion key somewhere\n",
    "\n",
    "if labint == True:\n",
    "    labtype = 'int'\n",
    "else:\n",
    "    labtype = 'str'\n",
    "    \n",
    "# extract labels y and data X, and standardize shape of matrix\n",
    "if labloc == 0:\n",
    "    y = np.array(F2[:,0], dtype=labtype)\n",
    "    X = F2\n",
    "else:\n",
    "    y = np.array(F2[0,:], dtype=labtype)\n",
    "    X = t(F2)\n",
    "        \n"
   ]
  },
  {
   "cell_type": "code",
   "execution_count": 222,
   "metadata": {
    "collapsed": false
   },
   "outputs": [
    {
     "data": {
      "text/plain": [
       "array([ 4, 12, 13, 23,  4, 13, 27,  1, 22,  1,  7,  9, 43, 13,  8,  3,  2,\n",
       "        6, 24,  9,  6,  1, 15,  3,  8, 11, 16, 10,  2,  2,  5,  2,  3,  4,\n",
       "        1,  1,  6,  3,  1,  2, 33,  1,  6,  9,  4, 42, 30, 14, 29, 48, 40,\n",
       "       41,  8, 14, 45, 12, 16,  1,  8,  7, 34,  1,  1,  3, 29, 26, 31,  2,\n",
       "        6,  1,  1,  5, 42,  1,  5, 22, 24,  1, 28, 17,  3, 31,  4,  1,  5,\n",
       "        4,  5,  1, 30,  3,  1, 19,  1,  2, 10, 10,  2, 17, 34,  1,  3,  5,\n",
       "        5,  5,  2, 25,  8, 41, 39,  2, 24, 18,  9,  6,  1, 10, 19,  2,  4,\n",
       "        5, 21,  3,  3,  5,  2,  1,  2,  2,  6,  2, 24, 15,  3, 49,  9, 22,\n",
       "       15, 11, 24, 17,  6,  4,  1,  1, 21,  2, 37, 12,  4, 41, 18, 35,  2,\n",
       "        1,  3,  6,  2, 10,  2, 31,  5,  5, 16, 45,  3,  2,  9, 46,  7,  1,\n",
       "        5, 16,  1, 41, 14,  7,  6, 11, 22,  3, 26,  7,  6, 38,  2,  4, 11,\n",
       "       10,  9,  7, 49, 17, 49, 28,  4,  2, 25, 23,  6,  3,  7,  1, 20,  1,\n",
       "       50,  4,  2,  3,  4, 14, 29, 42,  1, 11, 38, 40, 16, 46, 16,  3, 13,\n",
       "       20, 12, 32, 11, 17, 32,  3,  8,  1, 38,  6, 40,  6, 10, 35,  6,  2,\n",
       "       49,  2,  1,  7,  3,  2,  1,  2, 23, 20,  4,  4,  3, 18, 29, 33,  3,\n",
       "       28, 15,  8,  2,  9, 14, 10,  3, 11,  5,  6,  7,  5,  9, 39, 25,  9,\n",
       "       42, 11,  8, 27, 45, 48, 47, 39,  3, 46, 37,  7,  2,  2, 31, 14, 47,\n",
       "       33, 13,  4, 41, 25, 12,  4, 36, 12,  2,  8,  1, 19,  1,  2,  2, 27,\n",
       "        4,  4,  3, 20, 26,  1, 29, 23, 22,  1,  2, 44,  5,  4,  1, 11,  1,\n",
       "        5,  1,  1, 17,  3,  5, 27,  1,  7,  9, 39,  1,  6,  4, 31, 25, 50,\n",
       "       16, 12, 31,  2,  1,  2,  4,  9, 42, 34,  1, 10, 15,  4, 14, 25, 17,\n",
       "       13, 41, 15,  1, 12,  4,  5,  4,  6,  4, 12,  4, 10,  1,  1,  1, 11,\n",
       "        2, 11, 19,  5, 27,  8,  8,  5,  4,  3,  4, 13,  1, 22, 18,  7,  1,\n",
       "       27,  4, 24, 21, 14, 10,  1, 14, 15, 25, 20,  5, 50,  3, 21, 43,  5,\n",
       "        3,  6,  1,  8,  4,  5, 20, 37, 34, 38, 15, 18, 26,  5,  1,  2,  4,\n",
       "        1,  2,  7,  7, 36, 40,  7, 50, 47,  1, 14, 10, 30,  2,  9,  1,  2,\n",
       "       34,  4,  7, 21,  1,  8, 43,  2, 11,  4, 25, 15, 16])"
      ]
     },
     "execution_count": 222,
     "metadata": {},
     "output_type": "execute_result"
    }
   ],
   "source": [
    "y"
   ]
  },
  {
   "cell_type": "code",
   "execution_count": null,
   "metadata": {
    "collapsed": true
   },
   "outputs": [],
   "source": []
  },
  {
   "cell_type": "code",
   "execution_count": null,
   "metadata": {
    "collapsed": true
   },
   "outputs": [],
   "source": []
  },
  {
   "cell_type": "code",
   "execution_count": null,
   "metadata": {
    "collapsed": true
   },
   "outputs": [],
   "source": []
  }
 ],
 "metadata": {
  "kernelspec": {
   "display_name": "Python 3",
   "language": "python",
   "name": "python3"
  },
  "language_info": {
   "codemirror_mode": {
    "name": "ipython",
    "version": 3
   },
   "file_extension": ".py",
   "mimetype": "text/x-python",
   "name": "python",
   "nbconvert_exporter": "python",
   "pygments_lexer": "ipython3",
   "version": "3.4.3"
  }
 },
 "nbformat": 4,
 "nbformat_minor": 0
}
