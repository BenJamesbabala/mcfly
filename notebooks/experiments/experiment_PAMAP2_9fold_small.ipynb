{
 "cells": [
  {
   "cell_type": "markdown",
   "metadata": {},
   "source": [
    "# Experiment PAMAP2 with mcfly"
   ]
  },
  {
   "cell_type": "markdown",
   "metadata": {},
   "source": [
    "This experiment finds an optimal model for the PAMAP2 dataset."
   ]
  },
  {
   "cell_type": "markdown",
   "metadata": {},
   "source": [
    "## Import required Python modules"
   ]
  },
  {
   "cell_type": "code",
   "execution_count": 2,
   "metadata": {
    "collapsed": false,
    "scrolled": false
   },
   "outputs": [
    {
     "name": "stderr",
     "output_type": "stream",
     "text": [
      "Using Theano backend.\n"
     ]
    }
   ],
   "source": [
    "import sys\n",
    "import os\n",
    "sys.path.insert(0, os.path.abspath('../..'))\n",
    "import numpy as np\n",
    "import pandas as pd\n",
    "# mcfly\n",
    "from mcfly import tutorial_pamap2, modelgen, find_architecture, storage\n",
    "# Keras module is use for the deep learning\n",
    "import keras\n",
    "from keras.utils.np_utils import to_categorical\n",
    "from keras.models import Sequential\n",
    "from keras.layers import Dense, Activation, Convolution1D, Flatten, MaxPooling1D\n",
    "from keras.optimizers import Adam\n",
    "# We can set some backend options to avoid NaNs\n",
    "from keras import backend as K"
   ]
  },
  {
   "cell_type": "markdown",
   "metadata": {},
   "source": [
    "## Load the data"
   ]
  },
  {
   "cell_type": "code",
   "execution_count": 4,
   "metadata": {
    "collapsed": false
   },
   "outputs": [],
   "source": [
    "datapath = '/media/sf_VBox_Shared/timeseries/PAMAP2/PAMAP2_Dataset/cleaned_12activities_9vars/'\n",
    "Xs = []\n",
    "ys = []\n",
    "\n",
    "ext = '.npy'\n",
    "for i in range(9):\n",
    "    Xs.append(np.load(datapath+'X_'+str(i)+ext))\n",
    "    ys.append(np.load(datapath+'y_'+str(i)+ext))"
   ]
  },
  {
   "cell_type": "code",
   "execution_count": 6,
   "metadata": {
    "collapsed": false
   },
   "outputs": [],
   "source": [
    "# Define directory where the results, e.g. json file, will be stored\n",
    "resultpath = '/media/sf_VBox_Shared/timeseries/PAMAP2/PAMAP2_Dataset/results_tutorial/' "
   ]
  },
  {
   "cell_type": "code",
   "execution_count": 7,
   "metadata": {
    "collapsed": false
   },
   "outputs": [],
   "source": [
    "modelname = 'my_bestmodel'\n",
    "model_reloaded = storage.loadmodel(resultpath,modelname)"
   ]
  },
  {
   "cell_type": "code",
   "execution_count": 10,
   "metadata": {
    "collapsed": false
   },
   "outputs": [],
   "source": [
    "def split_train_test(X_list, y_list, j):\n",
    "    X_train = np.concatenate(X_list[0:j]+X_list[j+1:])\n",
    "    X_test = X_list[j]\n",
    "    y_train = np.concatenate(y_list[0:j]+y_list[j+1:])\n",
    "    y_test = y_list[j]\n",
    "    return X_train, y_train, X_test, y_test\n",
    "\n",
    "def split_train_small_val(X_list, y_list, j, trainsize=500, valsize=500):\n",
    "    X = np.concatenate(X_list[0:j]+X_list[j+1:])\n",
    "    y = np.concatenate(y_list[0:j]+y_list[j+1:])\n",
    "    rand_ind = np.random.choice(X.shape[0], trainsize+valsize, replace=False)\n",
    "    X_train = X[rand_ind[:trainsize]]\n",
    "    y_train = y[rand_ind[:trainsize]]\n",
    "    X_val = X[rand_ind[trainsize:]]\n",
    "    y_val = y[rand_ind[trainsize:]]\n",
    "    return X_train, y_train, X_val, y_val"
   ]
  },
  {
   "cell_type": "code",
   "execution_count": 11,
   "metadata": {
    "collapsed": false
   },
   "outputs": [],
   "source": [
    "from keras.models import model_from_json\n",
    "\n",
    "def get_fresh_copy(model, lr):\n",
    "    model_json = model.to_json()\n",
    "    model_copy = model_from_json(model_json)\n",
    "    model_copy.compile(loss='categorical_crossentropy',\n",
    "                  optimizer=Adam(lr=lr),\n",
    "                  metrics=['accuracy'])\n",
    "    #for layer in model_copy.layers:\n",
    "    #    layer.build(layer.input_shape)\n",
    "    return model_copy"
   ]
  },
  {
   "cell_type": "markdown",
   "metadata": {},
   "source": [
    "## Train the best model for real"
   ]
  },
  {
   "cell_type": "markdown",
   "metadata": {},
   "source": [
    "Now that we have identified the best model architecture out of our random pool of models we can continue by training the model on the full training sample. For the purpose of speeding up the example we only train the full model on the first 1000 values. You will need to replace this by 'datasize = X_train.shape[0]' in a real world example."
   ]
  },
  {
   "cell_type": "code",
   "execution_count": 8,
   "metadata": {
    "collapsed": false
   },
   "outputs": [],
   "source": [
    "best_model = model_reloaded"
   ]
  },
  {
   "cell_type": "code",
   "execution_count": 16,
   "metadata": {
    "collapsed": false
   },
   "outputs": [],
   "source": [
    "import json\n",
    "with open(resultpath+'modelcomparison.json', 'r') as outfile:\n",
    "    model_json = json.load(outfile)"
   ]
  },
  {
   "cell_type": "code",
   "execution_count": 20,
   "metadata": {
    "collapsed": false
   },
   "outputs": [],
   "source": [
    "best_params = model_json[0]"
   ]
  },
  {
   "cell_type": "code",
   "execution_count": 22,
   "metadata": {
    "collapsed": false
   },
   "outputs": [
    {
     "name": "stdout",
     "output_type": "stream",
     "text": [
      "Train on 14663 samples, validate on 2155 samples\n",
      "Epoch 1/2\n",
      "14663/14663 [==============================] - 490s - loss: 1.0568 - acc: 0.8655 - val_loss: 0.9868 - val_acc: 0.8297\n",
      "Epoch 2/2\n",
      "14663/14663 [==============================] - 523s - loss: 0.5656 - acc: 0.9360 - val_loss: 0.8527 - val_acc: 0.8278\n",
      "Train on 14528 samples, validate on 2290 samples\n",
      "Epoch 1/2\n",
      "14528/14528 [==============================] - 496s - loss: 1.0377 - acc: 0.8771 - val_loss: 0.8812 - val_acc: 0.7638\n",
      "Epoch 2/2\n",
      "14528/14528 [==============================] - 2782s - loss: 0.5823 - acc: 0.9290 - val_loss: 0.8818 - val_acc: 0.7258\n",
      "Train on 15344 samples, validate on 1474 samples\n",
      "Epoch 1/2\n",
      "15344/15344 [==============================] - 1015s - loss: 1.0461 - acc: 0.8672 - val_loss: 0.2425 - val_acc: 0.9512\n",
      "Epoch 2/2\n",
      "15344/15344 [==============================] - 518s - loss: 0.5721 - acc: 0.9327 - val_loss: 0.1883 - val_acc: 0.9478\n",
      "Train on 14799 samples, validate on 2019 samples\n",
      "Epoch 1/2\n",
      "14799/14799 [==============================] - 229s - loss: 1.0516 - acc: 0.8664 - val_loss: 0.6108 - val_acc: 0.8920\n",
      "Epoch 2/2\n",
      "14799/14799 [==============================] - 241s - loss: 0.6011 - acc: 0.9263 - val_loss: 0.4059 - val_acc: 0.9188\n",
      "Train on 14438 samples, validate on 2380 samples\n",
      "Epoch 1/2\n",
      "14438/14438 [==============================] - 240s - loss: 1.0530 - acc: 0.8686 - val_loss: 0.6165 - val_acc: 0.8597\n",
      "Epoch 2/2\n",
      "14438/14438 [==============================] - 261s - loss: 0.5826 - acc: 0.9341 - val_loss: 0.6550 - val_acc: 0.8122\n",
      "Train on 14639 samples, validate on 2179 samples\n",
      "Epoch 1/2\n",
      "14639/14639 [==============================] - 237s - loss: 1.0891 - acc: 0.8577 - val_loss: 0.4885 - val_acc: 0.9197\n",
      "Epoch 2/2\n",
      "14639/14639 [==============================] - 244s - loss: 0.6007 - acc: 0.9292 - val_loss: 0.3850 - val_acc: 0.9101\n",
      "Train on 14811 samples, validate on 2007 samples\n",
      "Epoch 1/2\n",
      "14811/14811 [==============================] - 244s - loss: 1.0595 - acc: 0.8606 - val_loss: 0.3250 - val_acc: 0.9482\n",
      "Epoch 2/2\n",
      "14811/14811 [==============================] - 278s - loss: 0.5904 - acc: 0.9294 - val_loss: 0.2464 - val_acc: 0.9307\n",
      "Train on 14543 samples, validate on 2275 samples\n",
      "Epoch 1/2\n",
      "14543/14543 [==============================] - 251s - loss: 1.0374 - acc: 0.8742 - val_loss: 1.8568 - val_acc: 0.5200\n",
      "Epoch 2/2\n",
      "14543/14543 [==============================] - 247s - loss: 0.5543 - acc: 0.9392 - val_loss: 2.5112 - val_acc: 0.4686\n",
      "Train on 16779 samples, validate on 39 samples\n",
      "Epoch 1/2\n",
      "16779/16779 [==============================] - 261s - loss: 1.0542 - acc: 0.8620 - val_loss: 0.1967 - val_acc: 0.9744\n",
      "Epoch 2/2\n",
      "16779/16779 [==============================] - 292s - loss: 0.5617 - acc: 0.9311 - val_loss: 0.1018 - val_acc: 0.9744\n"
     ]
    }
   ],
   "source": [
    "nr_epochs = 2\n",
    "\n",
    "np.random.seed(123)\n",
    "histories, test_accuracies_list, models = [], [], []\n",
    "for j in range(len(Xs)):\n",
    "    X_train, y_train, X_test, y_test = split_train_test(Xs, ys, j)\n",
    "    model_copy = get_fresh_copy(best_model, best_params['learning_rate'])\n",
    "    datasize = X_train.shape[0]\n",
    "    \n",
    "    history = model_copy.fit(X_train[:datasize,:,:], y_train[:datasize,:],\n",
    "              nb_epoch=nr_epochs, validation_data=(X_test, y_test))\n",
    "    \n",
    "    histories.append(history)\n",
    "    test_accuracies_list.append(history.history['val_acc'][-1] )\n",
    "    models.append(model_copy)"
   ]
  },
  {
   "cell_type": "code",
   "execution_count": 23,
   "metadata": {
    "collapsed": false
   },
   "outputs": [
    {
     "name": "stdout",
     "output_type": "stream",
     "text": [
      "0.835116382719\n"
     ]
    },
    {
     "data": {
      "text/plain": [
       "[0.82784222737819024,\n",
       " 0.72576419198356856,\n",
       " 0.94776119402985071,\n",
       " 0.91877166914314012,\n",
       " 0.81218487384940397,\n",
       " 0.91005048189977267,\n",
       " 0.9307424017132131,\n",
       " 0.46857142858452849,\n",
       " 0.97435897588729858]"
      ]
     },
     "execution_count": 23,
     "metadata": {},
     "output_type": "execute_result"
    }
   ],
   "source": [
    "print(np.mean(test_accuracies_list))\n",
    "test_accuracies_list"
   ]
  },
  {
   "cell_type": "code",
   "execution_count": 24,
   "metadata": {
    "collapsed": false
   },
   "outputs": [
    {
     "name": "stdout",
     "output_type": "stream",
     "text": [
      "fold  0\n",
      "fold  1\n",
      "fold  2\n",
      "fold  3\n",
      "fold  4\n",
      "fold  5\n",
      "fold  6\n",
      "fold  7\n",
      "fold  8\n"
     ]
    }
   ],
   "source": [
    "# Calculate 1-NN for each fold:\n",
    "nr_epochs = 2\n",
    "\n",
    "np.random.seed(123)\n",
    "knn_test_accuracies_list = []\n",
    "for j in range(len(Xs)):\n",
    "    print(\"fold \", j)\n",
    "    X_train, y_train, X_test, y_test = split_train_test(Xs, ys, j)\n",
    "    acc = find_architecture.kNN_accuracy(X_train, y_train, X_test, y_test, k=1)\n",
    "    knn_test_accuracies_list.append(acc )"
   ]
  },
  {
   "cell_type": "code",
   "execution_count": 25,
   "metadata": {
    "collapsed": false
   },
   "outputs": [
    {
     "name": "stdout",
     "output_type": "stream",
     "text": [
      "0.53974709837\n"
     ]
    },
    {
     "data": {
      "text/html": [
       "<div>\n",
       "<table border=\"1\" class=\"dataframe\">\n",
       "  <thead>\n",
       "    <tr style=\"text-align: right;\">\n",
       "      <th></th>\n",
       "      <th>CNN</th>\n",
       "      <th>kNN</th>\n",
       "    </tr>\n",
       "  </thead>\n",
       "  <tbody>\n",
       "    <tr>\n",
       "      <th>0</th>\n",
       "      <td>0.827842</td>\n",
       "      <td>0.611601</td>\n",
       "    </tr>\n",
       "    <tr>\n",
       "      <th>1</th>\n",
       "      <td>0.725764</td>\n",
       "      <td>0.610044</td>\n",
       "    </tr>\n",
       "    <tr>\n",
       "      <th>2</th>\n",
       "      <td>0.947761</td>\n",
       "      <td>0.613976</td>\n",
       "    </tr>\n",
       "    <tr>\n",
       "      <th>3</th>\n",
       "      <td>0.918772</td>\n",
       "      <td>0.523031</td>\n",
       "    </tr>\n",
       "    <tr>\n",
       "      <th>4</th>\n",
       "      <td>0.812185</td>\n",
       "      <td>0.615966</td>\n",
       "    </tr>\n",
       "    <tr>\n",
       "      <th>5</th>\n",
       "      <td>0.910050</td>\n",
       "      <td>0.523176</td>\n",
       "    </tr>\n",
       "    <tr>\n",
       "      <th>6</th>\n",
       "      <td>0.930742</td>\n",
       "      <td>0.603886</td>\n",
       "    </tr>\n",
       "    <tr>\n",
       "      <th>7</th>\n",
       "      <td>0.468571</td>\n",
       "      <td>0.371429</td>\n",
       "    </tr>\n",
       "    <tr>\n",
       "      <th>8</th>\n",
       "      <td>0.974359</td>\n",
       "      <td>0.384615</td>\n",
       "    </tr>\n",
       "  </tbody>\n",
       "</table>\n",
       "</div>"
      ],
      "text/plain": [
       "        CNN       kNN\n",
       "0  0.827842  0.611601\n",
       "1  0.725764  0.610044\n",
       "2  0.947761  0.613976\n",
       "3  0.918772  0.523031\n",
       "4  0.812185  0.615966\n",
       "5  0.910050  0.523176\n",
       "6  0.930742  0.603886\n",
       "7  0.468571  0.371429\n",
       "8  0.974359  0.384615"
      ]
     },
     "execution_count": 25,
     "metadata": {},
     "output_type": "execute_result"
    }
   ],
   "source": [
    "print(np.mean(knn_test_accuracies_list))\n",
    "accs_compared = pd.DataFrame({'CNN': test_accuracies_list, 'kNN':knn_test_accuracies_list})\n",
    "accs_compared"
   ]
  },
  {
   "cell_type": "markdown",
   "metadata": {},
   "source": [
    "### Saving, loading and comparing reloaded model with orignal model"
   ]
  },
  {
   "cell_type": "markdown",
   "metadata": {},
   "source": [
    "The modoel can be saved for future use. The savemodel function will save two separate files: a json file for the architecture and a npy (numpy array) file for the weights."
   ]
  },
  {
   "cell_type": "code",
   "execution_count": 26,
   "metadata": {
    "collapsed": true
   },
   "outputs": [],
   "source": [
    "modelname = 'my_bestmodel'"
   ]
  },
  {
   "cell_type": "code",
   "execution_count": 27,
   "metadata": {
    "collapsed": false
   },
   "outputs": [],
   "source": [
    "for i, model in enumerate(models):\n",
    "    storage.savemodel(model,resultpath,modelname+str(i))"
   ]
  },
  {
   "cell_type": "code",
   "execution_count": null,
   "metadata": {
    "collapsed": true
   },
   "outputs": [],
   "source": []
  }
 ],
 "metadata": {
  "anaconda-cloud": {},
  "kernelspec": {
   "display_name": "Python [conda env:mcfly]",
   "language": "python",
   "name": "conda-env-mcfly-py"
  },
  "language_info": {
   "codemirror_mode": {
    "name": "ipython",
    "version": 3
   },
   "file_extension": ".py",
   "mimetype": "text/x-python",
   "name": "python",
   "nbconvert_exporter": "python",
   "pygments_lexer": "ipython3",
   "version": "3.5.2"
  }
 },
 "nbformat": 4,
 "nbformat_minor": 1
}
