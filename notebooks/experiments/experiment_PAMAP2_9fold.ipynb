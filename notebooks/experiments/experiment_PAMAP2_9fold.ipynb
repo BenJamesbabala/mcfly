{
 "cells": [
  {
   "cell_type": "markdown",
   "metadata": {},
   "source": [
    "# Experiment PAMAP2 with mcfly"
   ]
  },
  {
   "cell_type": "markdown",
   "metadata": {},
   "source": [
    "This turorial is intended to talk you through the functionalities of mcfly. As an example dataset we use the publicly available PAMAP2 dataset. It contains time series data from movement sensors worn by nine individuals. The data is labelled with the activity types that these individuals did and the aim is to train and evaluate a classifier.\n",
    "\n",
    "Before you can start, please make sure you installed all the dependencies of mcfly (listed in requirements.txt) and make sure your jupyter notebook has a python3 kernel."
   ]
  },
  {
   "cell_type": "markdown",
   "metadata": {},
   "source": [
    "## Import required Python modules"
   ]
  },
  {
   "cell_type": "code",
   "execution_count": 1,
   "metadata": {
    "collapsed": false,
    "scrolled": false
   },
   "outputs": [
    {
     "name": "stderr",
     "output_type": "stream",
     "text": [
      "Using Theano backend.\n"
     ]
    }
   ],
   "source": [
    "import sys\n",
    "import os\n",
    "sys.path.insert(0, os.path.abspath('../..'))\n",
    "import numpy as np\n",
    "import pandas as pd\n",
    "# mcfly\n",
    "from mcfly import tutorial_pamap2, modelgen, find_architecture, storage\n",
    "# Keras module is use for the deep learning\n",
    "import keras\n",
    "from keras.utils.np_utils import to_categorical\n",
    "from keras.models import Sequential\n",
    "from keras.layers import Dense, Activation, Convolution1D, Flatten, MaxPooling1D\n",
    "from keras.optimizers import Adam\n",
    "# We can set some backend options to avoid NaNs\n",
    "from keras import backend as K"
   ]
  },
  {
   "cell_type": "markdown",
   "metadata": {},
   "source": [
    "## Load the data"
   ]
  },
  {
   "cell_type": "code",
   "execution_count": 2,
   "metadata": {
    "collapsed": false
   },
   "outputs": [],
   "source": [
    "datapath = '/media/sf_VBox_Shared/timeseries/PAMAP2_Dataset/slidingwindow512cleaned/'\n",
    "Xs = []\n",
    "ys = []\n",
    "\n",
    "ext = '.npy'\n",
    "for i in range(9):\n",
    "    Xs.append(np.load(datapath+'X_train_'+str(i)+ext))\n",
    "    ys.append(np.load(datapath+'y_train_binary'+str(i)+ext))"
   ]
  },
  {
   "cell_type": "markdown",
   "metadata": {},
   "source": [
    "## Generate models"
   ]
  },
  {
   "cell_type": "markdown",
   "metadata": {},
   "source": [
    "First step is to create a model architecture. As we do not know what architecture is best for our data we will create a set of models to investigate which architecture is most suitable for our data and classification task. You will need to specificy how many models you want to create with argument 'number_of_models', the type of model which can been 'CNN' or 'DeepConvLSTM', and maximum number of layers per modeltype. See for a full overview of the optional arguments the function documentation of modelgen.generate_models"
   ]
  },
  {
   "cell_type": "code",
   "execution_count": 3,
   "metadata": {
    "collapsed": false
   },
   "outputs": [],
   "source": [
    "num_classes = ys[0].shape[1]\n",
    "np.random.seed(123)\n",
    "models = modelgen.generate_models(Xs[0].shape,\n",
    "                                  number_of_classes=num_classes,\n",
    "                                  number_of_models = 15)"
   ]
  },
  {
   "cell_type": "code",
   "execution_count": 4,
   "metadata": {
    "collapsed": false
   },
   "outputs": [
    {
     "data": {
      "text/plain": [
       "{'filters': array([27, 93, 67, 96, 57, 83, 42]),\n",
       " 'learning_rate': 0.013854217299751215,\n",
       " 'lstm_dims': array([35]),\n",
       " 'regularization_rate': 0.02086630923723395}"
      ]
     },
     "execution_count": 4,
     "metadata": {},
     "output_type": "execute_result"
    }
   ],
   "source": [
    "models[0][1]"
   ]
  },
  {
   "cell_type": "markdown",
   "metadata": {},
   "source": [
    "## Compare models\n",
    "Now that the model architectures have been generated it is time to compare the models by training them in a subset of the training data and evaluating the models in the validation subset. This will help us to choose the best candidate model. Performance results are stored in a json file."
   ]
  },
  {
   "cell_type": "code",
   "execution_count": 5,
   "metadata": {
    "collapsed": false
   },
   "outputs": [],
   "source": [
    "# Define directory where the results, e.g. json file, will be stored\n",
    "resultpath = '/media/sf_VBox_Shared/timeseries/PAMAP2_Dataset/results/' \n",
    "if not os.path.exists(resultpath):\n",
    "        os.makedirs(resultpath)"
   ]
  },
  {
   "cell_type": "code",
   "execution_count": 6,
   "metadata": {
    "collapsed": false
   },
   "outputs": [],
   "source": [
    "def split_train_test(X_list, y_list, j):\n",
    "    X_train = np.concatenate(X_list[0:j]+X_list[j+1:])\n",
    "    X_test = X_list[j]\n",
    "    y_train = np.concatenate(y_list[0:j]+y_list[j+1:])\n",
    "    y_test = y_list[j]\n",
    "    return X_train, y_train, X_test, y_test\n",
    "\n",
    "def split_train_small_val(X_list, y_list, j, trainsize=500, valsize=500):\n",
    "    X = np.concatenate(X_list[0:j]+X_list[j+1:])\n",
    "    y = np.concatenate(y_list[0:j]+y_list[j+1:])\n",
    "    rand_ind = np.random.choice(X.shape[0], trainsize+valsize, replace=False)\n",
    "    X_train = X[rand_ind[:trainsize]]\n",
    "    y_train = y[rand_ind[:trainsize]]\n",
    "    X_val = X[rand_ind[trainsize:]]\n",
    "    y_val = y[rand_ind[trainsize:]]\n",
    "    return X_train, y_train, X_val, y_val"
   ]
  },
  {
   "cell_type": "code",
   "execution_count": 7,
   "metadata": {
    "collapsed": false
   },
   "outputs": [],
   "source": [
    "from keras.models import model_from_json\n",
    "\n",
    "def get_fresh_copy(model, lr):\n",
    "    model_json = model.to_json()\n",
    "    model_copy = model_from_json(model_json)\n",
    "    model_copy.compile(loss='categorical_crossentropy',\n",
    "                  optimizer=Adam(lr=lr),\n",
    "                  metrics=['accuracy'])\n",
    "    #for layer in model_copy.layers:\n",
    "    #    layer.build(layer.input_shape)\n",
    "    return model_copy"
   ]
  },
  {
   "cell_type": "code",
   "execution_count": null,
   "metadata": {
    "collapsed": false
   },
   "outputs": [],
   "source": [
    "models = [(get_fresh_copy(model, params['learning_rate']), params, model_type)  for model, params, model_type in models]"
   ]
  },
  {
   "cell_type": "code",
   "execution_count": null,
   "metadata": {
    "collapsed": false
   },
   "outputs": [
    {
     "name": "stdout",
     "output_type": "stream",
     "text": [
      "Training model 0 DeepConvLSTM\n"
     ]
    }
   ],
   "source": [
    "import time\n",
    "t = time.time()\n",
    "np.random.seed(123)\n",
    "histories_list, val_accuracies_list, val_losses_list = [], [], []\n",
    "for j in range(len(Xs)):\n",
    "    models = [(get_fresh_copy(model, params['learning_rate']), params, model_type)  for model, params, model_type in models]\n",
    "    X_train, y_train, X_val, y_val = split_train_small_val(Xs, ys, j, trainsize=500, valsize=500)\n",
    "    histories, val_accuracies, val_losses = find_architecture.train_models_on_samples(X_train, y_train,\n",
    "                                                                           X_val, y_val,\n",
    "                                                                           models,\n",
    "                                                                           nr_epochs=10,\n",
    "                                                                           subset_size=500,\n",
    "                                                                           verbose=True,\n",
    "                                                                           outputfile=resultpath+\\\n",
    "                                                                                  'experiment'+str(j)+'.json',\n",
    "                                                                           early_stopping=True)\n",
    "    histories_list.append(histories)\n",
    "    val_accuracies_list.append(val_accuracies)\n",
    "    val_losses.append(val_losses)\n",
    "print(time.time()-t)"
   ]
  },
  {
   "cell_type": "code",
   "execution_count": null,
   "metadata": {
    "collapsed": false
   },
   "outputs": [],
   "source": [
    "val_accuracies = np.array(val_accuracies_list)\n",
    "val_accuracies_avg = val_accuracies.mean(axis=0)\n",
    "val_accuracies_avg"
   ]
  },
  {
   "cell_type": "code",
   "execution_count": null,
   "metadata": {
    "collapsed": false
   },
   "outputs": [],
   "source": [
    "train_acc = np.array([[history.history['acc'][-1] for history in histories] for histories in histories_list])\n",
    "train_loss = np.array([[history.history['loss'][-1] for history in histories] for histories in histories_list])\n",
    "val_acc = np.array([[history.history['val_acc'][-1] for history in histories] for histories in histories_list])\n",
    "val_loss = np.array([[history.history['val_loss'][-1] for history in histories] for histories in histories_list])"
   ]
  },
  {
   "cell_type": "markdown",
   "metadata": {},
   "source": [
    "Another way of comparing model performance is by putting all the information in a pandas dataframe, which we can store in a csv file."
   ]
  },
  {
   "cell_type": "code",
   "execution_count": null,
   "metadata": {
    "collapsed": false
   },
   "outputs": [],
   "source": [
    "modelcomparisons = pd.DataFrame({'model':[str(params) for model, params, model_types in models],\n",
    "                       'train_acc': train_acc.mean(axis=0),\n",
    "                       'train_loss': train_loss.mean(axis=0),\n",
    "                       'val_acc': val_acc.mean(axis=0),\n",
    "                       'val_loss': val_loss.mean(axis=0)\n",
    "                       })\n",
    "modelcomparisons"
   ]
  },
  {
   "cell_type": "markdown",
   "metadata": {},
   "source": [
    "It is also possible to vizualize the performance of the various models using our vizualisation tool as explained in the mcfly repository README file: https://github.com/NLeSC/mcfly/blob/master/README.md"
   ]
  },
  {
   "cell_type": "markdown",
   "metadata": {
    "collapsed": true
   },
   "source": [
    "Check which model is the best"
   ]
  },
  {
   "cell_type": "code",
   "execution_count": null,
   "metadata": {
    "collapsed": false
   },
   "outputs": [],
   "source": [
    "best_model_index = np.argmax(val_accuracies)\n",
    "best_model, best_params, best_model_types = models[best_model_index]\n",
    "print('Model type and parameters of the best model:')\n",
    "print(best_model_types)\n",
    "print(best_params)"
   ]
  },
  {
   "cell_type": "code",
   "execution_count": null,
   "metadata": {
    "collapsed": false
   },
   "outputs": [],
   "source": [
    "modelname = 'bestmodel_sample'\n",
    "storage.savemodel(best_model,resultpath,modelname)"
   ]
  },
  {
   "cell_type": "markdown",
   "metadata": {},
   "source": [
    "## Train the best model for real"
   ]
  },
  {
   "cell_type": "markdown",
   "metadata": {},
   "source": [
    "Now that we have identified the best model architecture out of our random pool of models we can continue by training the model on the full training sample. For the purpose of speeding up the example we only train the full model on the first 1000 values. You will need to replace this by 'datasize = X_train.shape[0]' in a real world example."
   ]
  },
  {
   "cell_type": "code",
   "execution_count": null,
   "metadata": {
    "collapsed": false
   },
   "outputs": [],
   "source": [
    "nr_epochs = 3\n",
    "\n",
    "np.random.seed(123)\n",
    "histories, test_accuracies_list, models = [], [], []\n",
    "for j in range(len(Xs)):\n",
    "    X_train, y_train, X_test, y_test = split_train_test(Xs, ys, j)\n",
    "    model_copy = get_fresh_copy(best_model, best_params['learning_rate'])\n",
    "    datasize = X_train.shape[0]\n",
    "    \n",
    "    history = model_copy.fit(X_train[:datasize,:,:], y_train[:datasize,:],\n",
    "              nb_epoch=nr_epochs, validation_data=(X_test, y_test))\n",
    "    \n",
    "    histories.append(history)\n",
    "    test_accuracies_list.append(history.history['val_acc'][-1] )\n",
    "    models.append(model_copy)"
   ]
  },
  {
   "cell_type": "code",
   "execution_count": null,
   "metadata": {
    "collapsed": false
   },
   "outputs": [],
   "source": [
    "# Plot the training process:\n",
    "find_architecture.plotTrainingProcess(histories[0])"
   ]
  },
  {
   "cell_type": "code",
   "execution_count": null,
   "metadata": {
    "collapsed": true
   },
   "outputs": [],
   "source": [
    "best_model_fullytrained = best_model_copy"
   ]
  },
  {
   "cell_type": "code",
   "execution_count": null,
   "metadata": {
    "collapsed": true
   },
   "outputs": [],
   "source": [
    "print(np.mean(test_accuracies_list))\n",
    "test_accuracies_list"
   ]
  },
  {
   "cell_type": "markdown",
   "metadata": {},
   "source": [
    "### Saving, loading and comparing reloaded model with orignal model"
   ]
  },
  {
   "cell_type": "markdown",
   "metadata": {},
   "source": [
    "The modoel can be saved for future use. The savemodel function will save two separate files: a json file for the architecture and a npy (numpy array) file for the weights."
   ]
  },
  {
   "cell_type": "code",
   "execution_count": null,
   "metadata": {
    "collapsed": true
   },
   "outputs": [],
   "source": [
    "modelname = 'my_bestmodel'"
   ]
  },
  {
   "cell_type": "code",
   "execution_count": null,
   "metadata": {
    "collapsed": false
   },
   "outputs": [],
   "source": [
    "for model in models\n",
    "storage.savemodel(best_model_fullytrained,resultpath,modelname)"
   ]
  },
  {
   "cell_type": "code",
   "execution_count": null,
   "metadata": {
    "collapsed": true
   },
   "outputs": [],
   "source": []
  }
 ],
 "metadata": {
  "anaconda-cloud": {},
  "kernelspec": {
   "display_name": "Python [conda env:mcfly]",
   "language": "python",
   "name": "conda-env-mcfly-py"
  },
  "language_info": {
   "codemirror_mode": {
    "name": "ipython",
    "version": 3
   },
   "file_extension": ".py",
   "mimetype": "text/x-python",
   "name": "python",
   "nbconvert_exporter": "python",
   "pygments_lexer": "ipython3",
   "version": "3.5.2"
  }
 },
 "nbformat": 4,
 "nbformat_minor": 1
}
