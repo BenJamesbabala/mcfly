{
 "cells": [
  {
   "cell_type": "markdown",
   "metadata": {},
   "source": [
    "# PAMAP2 dataset"
   ]
  },
  {
   "cell_type": "code",
   "execution_count": 1,
   "metadata": {
    "collapsed": false
   },
   "outputs": [],
   "source": [
    "import numpy as np\n",
    "import pandas as pd\n",
    "from os import listdir\n",
    "from numpy import genfromtxt\n",
    "import matplotlib.pyplot as plt"
   ]
  },
  {
   "cell_type": "code",
   "execution_count": 2,
   "metadata": {
    "collapsed": false
   },
   "outputs": [],
   "source": [
    "%matplotlib inline"
   ]
  },
  {
   "cell_type": "code",
   "execution_count": 3,
   "metadata": {
    "collapsed": false
   },
   "outputs": [
    {
     "name": "stdout",
     "output_type": "stream",
     "text": [
      "(376417, 54)\n",
      "['timestamp', 'activityID', 'heartrate', 'hand_temperature', 'hand_acc_16g_x', 'hand_acc_16g_y', 'hand_acc_16g_z', 'hand_acc_6g_x', 'hand_acc_6g_y', 'hand_acc_6g_z', 'hand_gyroscope_x', 'hand_gyroscope_y', 'hand_gyroscope_z', 'hand_magnometer_x', 'hand_magnometer_y', 'hand_magnometer_z', 'hand_orientation_0', 'hand_orientation_1', 'hand_orientation_2', 'hand_orientation_3', 'chest_temperature', 'chest_acc_16g_x', 'chest_acc_16g_y', 'chest_acc_16g_z', 'chest_acc_6g_x', 'chest_acc_6g_y', 'chest_acc_6g_z', 'chest_gyroscope_x', 'chest_gyroscope_y', 'chest_gyroscope_z', 'chest_magnometer_x', 'chest_magnometer_y', 'chest_magnometer_z', 'chest_orientation_0', 'chest_orientation_1', 'chest_orientation_2', 'chest_orientation_3', 'ankle_temperature', 'ankle_acc_16g_x', 'ankle_acc_16g_y', 'ankle_acc_16g_z', 'ankle_acc_6g_x', 'ankle_acc_6g_y', 'ankle_acc_6g_z', 'ankle_gyroscope_x', 'ankle_gyroscope_y', 'ankle_gyroscope_z', 'ankle_magnometer_x', 'ankle_magnometer_y', 'ankle_magnometer_z', 'ankle_orientation_0', 'ankle_orientation_1', 'ankle_orientation_2', 'ankle_orientation_3']\n"
     ]
    }
   ],
   "source": [
    "datadir = \"/media/sf_VBox_Shared/timeseries/PAMAP2_Dataset/Protocol\"\n",
    "filenames = listdir(datadir)\n",
    "\n",
    "axes = ['x', 'y', 'z']\n",
    "IMUsensor_columns = ['temperature'] + \\\n",
    "                    ['acc_16g_' + i for i in axes] + \\\n",
    "                    ['acc_6g_' + i for i in axes] + \\\n",
    "                    ['gyroscope_'+ i for i in axes] + \\\n",
    "                    ['magnometer_'+ i for i in axes] + \\\n",
    "                    ['orientation_' + str(i) for i in range(4)]\n",
    "header = [\"timestamp\", \"activityID\", \"heartrate\"] + [\"hand_\"+s for s in IMUsensor_columns]\\\n",
    "        + [\"chest_\"+s for s in IMUsensor_columns]+ [\"ankle_\"+s for s in IMUsensor_columns]\n",
    "datasets = [pd.read_csv(datadir+'/'+fn, header=None, sep=' ') for fn in filenames]\n",
    "for data in datasets:\n",
    "    data.columns = header\n",
    "\n",
    "data = datasets[0]    \n",
    "print(data.shape)\n",
    "print(header)"
   ]
  },
  {
   "cell_type": "code",
   "execution_count": 4,
   "metadata": {
    "collapsed": false
   },
   "outputs": [
    {
     "name": "stdout",
     "output_type": "stream",
     "text": [
      "9\n"
     ]
    }
   ],
   "source": [
    "print(len(datasets))\n",
    "train_range = range(6)\n",
    "val_range = [6]\n",
    "test_range = range(7,len(datasets))"
   ]
  },
  {
   "cell_type": "markdown",
   "metadata": {},
   "source": [
    "## prepare dataset for keras"
   ]
  },
  {
   "cell_type": "code",
   "execution_count": 5,
   "metadata": {
    "collapsed": false
   },
   "outputs": [
    {
     "name": "stderr",
     "output_type": "stream",
     "text": [
      "Using Theano backend.\n"
     ]
    },
    {
     "name": "stdout",
     "output_type": "stream",
     "text": [
      "(376417, 9) (376417,) (376417, 13)\n"
     ]
    }
   ],
   "source": [
    "from keras.utils.np_utils import to_categorical\n",
    "\n",
    "columns_to_use = ['hand_acc_16g_x', 'hand_acc_16g_y', 'hand_acc_16g_z',\n",
    "                 'ankle_acc_16g_x', 'ankle_acc_16g_y', 'ankle_acc_16g_z',\n",
    "                 'chest_acc_16g_x', 'chest_acc_16g_y', 'chest_acc_16g_z']\n",
    "\n",
    "y_list = [np.array(data.activityID) for data in datasets]\n",
    "classlabels = list(set.union(*[set(y) for y in y_list]))\n",
    "nr_classes = len(classlabels)\n",
    "mapclasses = {classlabels[i] : i for i in range(len(classlabels))}\n",
    "y_list = [np.array([mapclasses[c] for c in y], dtype='int') for y in  y_list]\n",
    "\n",
    "y_binary_list = [to_categorical(y, nr_classes) for y in y_list]\n",
    "X_list = [np.array(data[columns_to_use]) for data in datasets]\n",
    "print(X_list[0].shape, y_list[0].shape, y_binary_list[0].shape)"
   ]
  },
  {
   "cell_type": "code",
   "execution_count": 6,
   "metadata": {
    "collapsed": false
   },
   "outputs": [
    {
     "name": "stdout",
     "output_type": "stream",
     "text": [
      "9870\n",
      "16683\n",
      "3696\n",
      "10584\n",
      "11499\n",
      "8208\n",
      "8400\n",
      "16230\n",
      "189\n"
     ]
    }
   ],
   "source": [
    "#Fill missing values\n",
    "#\n",
    "for X in X_list:\n",
    "    print(np.isnan(X).sum())\n",
    "    X[np.isnan(X)] = 0"
   ]
  },
  {
   "cell_type": "code",
   "execution_count": 7,
   "metadata": {
    "collapsed": false
   },
   "outputs": [
    {
     "name": "stdout",
     "output_type": "stream",
     "text": [
      "376417 9 13\n"
     ]
    }
   ],
   "source": [
    "nr_samples = len(X_list)\n",
    "sequence_length, nr_channels = X_list[0].shape\n",
    "print(sequence_length, nr_channels, nr_classes)"
   ]
  },
  {
   "cell_type": "code",
   "execution_count": 10,
   "metadata": {
    "collapsed": false
   },
   "outputs": [
    {
     "name": "stdout",
     "output_type": "stream",
     "text": [
      "(376417, 9) (376417, 13)\n",
      "(447000, 9) (447000, 13)\n",
      "(252833, 9) (252833, 13)\n",
      "(329576, 9) (329576, 13)\n",
      "(374783, 9) (374783, 13)\n",
      "(361817, 9) (361817, 13)\n"
     ]
    }
   ],
   "source": [
    "for i in train_range:\n",
    "    print(X_list[i].shape, y_binary_list[i].shape)\n",
    "    "
   ]
  },
  {
   "cell_type": "markdown",
   "metadata": {},
   "source": [
    "## Construct batches"
   ]
  },
  {
   "cell_type": "code",
   "execution_count": 64,
   "metadata": {
    "collapsed": false
   },
   "outputs": [],
   "source": [
    "nr_batches_per_series = 1000\n",
    "batch_length = 100\n",
    "nr_batches = nr_batches_per_series * len(train_range)\n",
    "\n",
    "X_batches = np.zeros((nr_batches, batch_length, nr_channels))\n",
    "y_batches_binary = np.zeros((nr_batches, batch_length, nr_classes))\n",
    "y_batches_last_binary = np.zeros((nr_batches, nr_classes))\n",
    "\n",
    "for j in train_range:\n",
    "    for i in range(nr_batches_per_series):\n",
    "        k = j*nr_batches_per_series + i\n",
    "        X = X_list[j]\n",
    "        y_binary = y_binary_list[j]\n",
    "        start = np.random.randint(X.shape[0]-batch_length)\n",
    "        X_batches[k,:,:] = X[start:start+batch_length,:]\n",
    "        y_batches_binary[k,:,:] = y_binary[start:start+batch_length, :]\n",
    "        y_batches_last_binary[k,:] = y_binary[start+batch_length-1, :]"
   ]
  },
  {
   "cell_type": "code",
   "execution_count": 13,
   "metadata": {
    "collapsed": false
   },
   "outputs": [
    {
     "name": "stdout",
     "output_type": "stream",
     "text": [
      "(21397, 500, 9) (21397, 13)\n"
     ]
    }
   ],
   "source": [
    "# Take sliding-window frames. Target is label of last time step\n",
    "# Data is 100 Hz\n",
    "frame_length = 5 * 100\n",
    "step = 1 * 100\n",
    "\n",
    "def sliding_window(X, y_binary, frame_length, step, X_samples, y_samples):\n",
    "    for i in range(0, X.shape[0]-frame_length, step):\n",
    "        X_sub = X[i:i+frame_length,:]\n",
    "        y_sub = y_binary[i+frame_length-1, :]\n",
    "        X_samples.append(X_sub)\n",
    "        y_samples.append(y_sub)\n",
    "\n",
    "X_train = []\n",
    "y_train = []\n",
    "X_val = []\n",
    "y_val = []\n",
    "X_test = []\n",
    "y_test = []\n",
    "for j in train_range:\n",
    "    X = X_list[j]\n",
    "    y_binary = y_binary_list[j]\n",
    "    sliding_window(X, y_binary, frame_length, step, X_train, y_train)\n",
    "for j in val_range:\n",
    "    X = X_list[j]\n",
    "    y_binary = y_binary_list[j]\n",
    "    sliding_window(X, y_binary, frame_length, step, X_val, y_val)\n",
    "for j in test_range:\n",
    "    X = X_list[j]\n",
    "    y_binary = y_binary_list[j]\n",
    "    sliding_window(X, y_binary, frame_length, step, X_test, y_test)\n",
    "    \n",
    "        \n",
    "X_train = np.array(X_train)\n",
    "y_train = np.array(y_train)\n",
    "X_val = np.array(X_val)\n",
    "y_val = np.array(y_val)\n",
    "X_test = np.array(X_test)\n",
    "y_test = np.array(y_test)\n",
    "\n",
    "\n",
    "#Shuffle around the train set\n",
    "np.random.seed(123)\n",
    "neworder = np.random.permutation(X_train.shape[0])\n",
    "X_train = X_train[neworder,:,:]\n",
    "y_train = y_train[neworder,:]\n",
    "\n",
    "\n",
    "print(X_samples.shape, y_samples.shape)\n",
    "#Test and validation "
   ]
  },
  {
   "cell_type": "markdown",
   "metadata": {
    "collapsed": true
   },
   "source": [
    "## Save the results"
   ]
  },
  {
   "cell_type": "code",
   "execution_count": 14,
   "metadata": {
    "collapsed": true
   },
   "outputs": [],
   "source": [
    "# Save binary file\n",
    "outdatapath = '/media/sf_VBox_Shared/timeseries/PAMAP2_Dataset/slidingwindow500last/'\n",
    "np.save(outdatapath+'X_train', X_train)\n",
    "np.save(outdatapath+'y_train_binary', y_train)\n",
    "np.save(outdatapath+'X_val', X_val)\n",
    "np.save(outdatapath+'y_val_binary', y_val)\n",
    "np.save(outdatapath+'X_test', X_test)\n",
    "np.save(outdatapath+'y_test_binary', y_test)"
   ]
  },
  {
   "cell_type": "code",
   "execution_count": null,
   "metadata": {
    "collapsed": true
   },
   "outputs": [],
   "source": []
  }
 ],
 "metadata": {
  "kernelspec": {
   "display_name": "Python 3",
   "language": "python",
   "name": "python3"
  },
  "language_info": {
   "codemirror_mode": {
    "name": "ipython",
    "version": 3
   },
   "file_extension": ".py",
   "mimetype": "text/x-python",
   "name": "python",
   "nbconvert_exporter": "python",
   "pygments_lexer": "ipython3",
   "version": "3.5.1"
  }
 },
 "nbformat": 4,
 "nbformat_minor": 0
}
