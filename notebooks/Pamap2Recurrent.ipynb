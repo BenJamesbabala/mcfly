{
 "cells": [
  {
   "cell_type": "markdown",
   "metadata": {},
   "source": [
    "# PAMAP2 dataset"
   ]
  },
  {
   "cell_type": "code",
   "execution_count": 36,
   "metadata": {
    "collapsed": false
   },
   "outputs": [],
   "source": [
    "import numpy as np\n",
    "import pandas as pd\n",
    "from os import listdir\n",
    "from numpy import genfromtxt\n",
    "import matplotlib.pyplot as plt"
   ]
  },
  {
   "cell_type": "code",
   "execution_count": 37,
   "metadata": {
    "collapsed": false
   },
   "outputs": [],
   "source": [
    "%matplotlib inline"
   ]
  },
  {
   "cell_type": "code",
   "execution_count": 38,
   "metadata": {
    "collapsed": false
   },
   "outputs": [
    {
     "name": "stdout",
     "output_type": "stream",
     "text": [
      "(376417, 54)\n",
      "['timestamp', 'activityID', 'heartrate', 'hand_temperature', 'hand_acc_16g_x', 'hand_acc_16g_y', 'hand_acc_16g_z', 'hand_acc_6g_x', 'hand_acc_6g_y', 'hand_acc_6g_z', 'hand_gyroscope_x', 'hand_gyroscope_y', 'hand_gyroscope_z', 'hand_magnometer_x', 'hand_magnometer_y', 'hand_magnometer_z', 'hand_orientation_0', 'hand_orientation_1', 'hand_orientation_2', 'hand_orientation_3', 'chest_temperature', 'chest_acc_16g_x', 'chest_acc_16g_y', 'chest_acc_16g_z', 'chest_acc_6g_x', 'chest_acc_6g_y', 'chest_acc_6g_z', 'chest_gyroscope_x', 'chest_gyroscope_y', 'chest_gyroscope_z', 'chest_magnometer_x', 'chest_magnometer_y', 'chest_magnometer_z', 'chest_orientation_0', 'chest_orientation_1', 'chest_orientation_2', 'chest_orientation_3', 'ankle_temperature', 'ankle_acc_16g_x', 'ankle_acc_16g_y', 'ankle_acc_16g_z', 'ankle_acc_6g_x', 'ankle_acc_6g_y', 'ankle_acc_6g_z', 'ankle_gyroscope_x', 'ankle_gyroscope_y', 'ankle_gyroscope_z', 'ankle_magnometer_x', 'ankle_magnometer_y', 'ankle_magnometer_z', 'ankle_orientation_0', 'ankle_orientation_1', 'ankle_orientation_2', 'ankle_orientation_3']\n"
     ]
    }
   ],
   "source": [
    "datadir = \"/media/sf_VBox_Shared/timeseries/PAMAP2_Dataset/Protocol\"\n",
    "filenames = listdir(datadir)\n",
    "\n",
    "axes = ['x', 'y', 'z']\n",
    "IMUsensor_columns = ['temperature'] + \\\n",
    "                    ['acc_16g_' + i for i in axes] + \\\n",
    "                    ['acc_6g_' + i for i in axes] + \\\n",
    "                    ['gyroscope_'+ i for i in axes] + \\\n",
    "                    ['magnometer_'+ i for i in axes] + \\\n",
    "                    ['orientation_' + str(i) for i in range(4)]\n",
    "header = [\"timestamp\", \"activityID\", \"heartrate\"] + [\"hand_\"+s for s in IMUsensor_columns]\\\n",
    "        + [\"chest_\"+s for s in IMUsensor_columns]+ [\"ankle_\"+s for s in IMUsensor_columns]\n",
    "datasets = [pd.read_csv(datadir+'/'+fn, header=None, sep=' ') for fn in filenames]\n",
    "for data in datasets:\n",
    "    data.columns = header\n",
    "\n",
    "data = datasets[0]    \n",
    "print(data.shape)\n",
    "print(header)"
   ]
  },
  {
   "cell_type": "code",
   "execution_count": 45,
   "metadata": {
    "collapsed": false
   },
   "outputs": [
    {
     "name": "stdout",
     "output_type": "stream",
     "text": [
      "9\n"
     ]
    }
   ],
   "source": [
    "print(len(datasets))\n",
    "train_range = range(6)\n",
    "val_range = [6]\n",
    "test_range = range(7,len(datasets))"
   ]
  },
  {
   "cell_type": "markdown",
   "metadata": {},
   "source": [
    "## Data exploration"
   ]
  },
  {
   "cell_type": "code",
   "execution_count": 39,
   "metadata": {
    "collapsed": true
   },
   "outputs": [],
   "source": [
    "#Copied from Jake VanderPlas, https://gist.github.com/jakevdp/91077b0cae40f8f8244a\n",
    "def discrete_cmap(N, base_cmap=None):\n",
    "    \"\"\"Create an N-bin discrete colormap from the specified input map\"\"\"\n",
    "\n",
    "    # Note that if base_cmap is a string or None, you can simply do\n",
    "    #    return plt.cm.get_cmap(base_cmap, N)\n",
    "    # The following works for string, None, or a colormap instance:\n",
    "\n",
    "    base = plt.cm.get_cmap(base_cmap)\n",
    "    color_list = base(np.linspace(0, 1, N))\n",
    "    cmap_name = base.name + str(N)\n",
    "    return base.from_list(cmap_name, color_list, N)"
   ]
  },
  {
   "cell_type": "code",
   "execution_count": 40,
   "metadata": {
    "collapsed": false
   },
   "outputs": [
    {
     "data": {
      "image/png": "[encoded data removed]",
      "text/plain": [
       "<matplotlib.figure.Figure at 0x7f1221e1d898>"
      ]
     },
     "metadata": {},
     "output_type": "display_data"
    }
   ],
   "source": [
    "fig = plt.figure(figsize=(15,5))\n",
    "labels = np.array(data.activityID)\n",
    "nr_classes = max(labels)\n",
    "labels_scaled = labels/nr_classes\n",
    "\n",
    "data_to_plot = data.hand_temperature\n",
    "plt.plot(data_to_plot)\n",
    "plt.xlim(min(data.index), max(data.index))\n",
    "#colors = [cma]\n",
    "sca = plt.scatter(data.index, max(data_to_plot)*np.ones_like(labels), \n",
    "                  c=labels, cmap=discrete_cmap(nr_classes, 'jet'), edgecolors='none')\n",
    "cax = plt.colorbar(sca, ticks=np.arange(np.min(labels),np.max(labels)+1))\n",
    "plt.clim(-0.5, nr_classes - 0.5)\n",
    "plt.show()"
   ]
  },
  {
   "cell_type": "code",
   "execution_count": 41,
   "metadata": {
    "collapsed": false
   },
   "outputs": [
    {
     "data": {
      "text/plain": [
       "activityID\n",
       "0     126460\n",
       "1      27187\n",
       "2      23480\n",
       "3      21717\n",
       "4      22253\n",
       "5      21265\n",
       "6      23575\n",
       "7      20265\n",
       "12     15890\n",
       "13     14899\n",
       "16     22941\n",
       "17     23573\n",
       "24     12912\n",
       "Name: timestamp, dtype: int64"
      ]
     },
     "execution_count": 41,
     "metadata": {},
     "output_type": "execute_result"
    }
   ],
   "source": [
    "data.groupby('activityID').count()['timestamp']"
   ]
  },
  {
   "cell_type": "markdown",
   "metadata": {},
   "source": [
    "## prepare dataset for keras"
   ]
  },
  {
   "cell_type": "code",
   "execution_count": 57,
   "metadata": {
    "collapsed": false
   },
   "outputs": [
    {
     "name": "stdout",
     "output_type": "stream",
     "text": [
      "(376417, 9) (376417,) (376417, 13)\n"
     ]
    }
   ],
   "source": [
    "from keras.utils.np_utils import to_categorical\n",
    "\n",
    "columns_to_use = ['hand_acc_16g_x', 'hand_acc_16g_y', 'hand_acc_16g_z',\n",
    "                 'ankle_acc_16g_x', 'ankle_acc_16g_y', 'ankle_acc_16g_z',\n",
    "                 'chest_acc_16g_x', 'chest_acc_16g_y', 'chest_acc_16g_z']\n",
    "\n",
    "y_list = [np.array(data.activityID) for data in datasets]\n",
    "classlabels = list(set.union(*[set(y) for y in y_list]))\n",
    "nr_classes = len(classlabels)\n",
    "mapclasses = {classlabels[i] : i for i in range(len(classlabels))}\n",
    "y_list = [np.array([mapclasses[c] for c in y], dtype='int') for y in  y_list]\n",
    "\n",
    "y_binary_list = [to_categorical(y, nr_classes) for y in y_list]\n",
    "X_list = [np.array(data[columns_to_use]) for data in datasets]\n",
    "print(X_list[0].shape, y_list[0].shape, y_binary_list[0].shape)"
   ]
  },
  {
   "cell_type": "code",
   "execution_count": 58,
   "metadata": {
    "collapsed": false
   },
   "outputs": [
    {
     "name": "stdout",
     "output_type": "stream",
     "text": [
      "9870\n",
      "16683\n",
      "3696\n",
      "10584\n",
      "11499\n",
      "8208\n",
      "8400\n",
      "16230\n",
      "189\n"
     ]
    }
   ],
   "source": [
    "#Fill missing values\n",
    "#\n",
    "for X in X_list:\n",
    "    print(np.isnan(X).sum())\n",
    "    X[np.isnan(X)] = 0"
   ]
  },
  {
   "cell_type": "code",
   "execution_count": 60,
   "metadata": {
    "collapsed": false
   },
   "outputs": [
    {
     "name": "stdout",
     "output_type": "stream",
     "text": [
      "376417 9 13\n"
     ]
    }
   ],
   "source": [
    "nr_samples = len(X_list)\n",
    "sequence_length, nr_channels = X_list[0].shape\n",
    "print(sequence_length, nr_channels, nr_classes)"
   ]
  },
  {
   "cell_type": "code",
   "execution_count": 63,
   "metadata": {
    "collapsed": false
   },
   "outputs": [
    {
     "name": "stdout",
     "output_type": "stream",
     "text": [
      "(376417, 9)\n",
      "(447000, 9)\n",
      "(252833, 9)\n",
      "(329576, 9)\n",
      "(374783, 9)\n",
      "(361817, 9)\n",
      "(313599, 9)\n",
      "(408031, 9)\n",
      "(8477, 9)\n"
     ]
    }
   ],
   "source": [
    "for X in X_list:\n",
    "    print(X.shape)"
   ]
  },
  {
   "cell_type": "markdown",
   "metadata": {},
   "source": [
    "## Construct batches"
   ]
  },
  {
   "cell_type": "code",
   "execution_count": 64,
   "metadata": {
    "collapsed": false
   },
   "outputs": [],
   "source": [
    "nr_batches_per_series = 1000\n",
    "batch_length = 100\n",
    "nr_batches = nr_batches_per_series * len(train_range)\n",
    "\n",
    "X_batches = np.zeros((nr_batches, batch_length, nr_channels))\n",
    "y_batches_binary = np.zeros((nr_batches, batch_length, nr_classes))\n",
    "y_batches_last_binary = np.zeros((nr_batches, nr_classes))\n",
    "\n",
    "for j in train_range:\n",
    "    for i in range(nr_batches_per_series):\n",
    "        k = j*nr_batches_per_series + i\n",
    "        X = X_list[j]\n",
    "        y_binary = y_binary_list[j]\n",
    "        start = np.random.randint(X.shape[0]-batch_length)\n",
    "        X_batches[k,:,:] = X[start:start+batch_length,:]\n",
    "        y_batches_binary[k,:,:] = y_binary[start:start+batch_length, :]\n",
    "        y_batches_last_binary[k,:] = y_binary[start+batch_length-1, :]"
   ]
  },
  {
   "cell_type": "code",
   "execution_count": 29,
   "metadata": {
    "collapsed": false
   },
   "outputs": [
    {
     "name": "stdout",
     "output_type": "stream",
     "text": [
      "(5000, 100, 9) (5000, 100, 13)\n"
     ]
    }
   ],
   "source": [
    "#Test and validation "
   ]
  },
  {
   "cell_type": "markdown",
   "metadata": {},
   "source": [
    "## Keras model"
   ]
  },
  {
   "cell_type": "code",
   "execution_count": 30,
   "metadata": {
    "collapsed": false
   },
   "outputs": [],
   "source": [
    "from keras.models import Sequential\n",
    "from keras.layers import Dense, Activation, Lambda, Convolution2D, Flatten, Reshape, LSTM, Dropout, TimeDistributed, Permute\n",
    "from keras.regularizers import l2"
   ]
  },
  {
   "cell_type": "code",
   "execution_count": 31,
   "metadata": {
    "collapsed": false
   },
   "outputs": [],
   "source": [
    "dim_length = batch_length\n",
    "dim_channels = nr_channels\n",
    "\n",
    "input_shape = (dim_length, dim_channels)\n",
    "num_filters = [64, 64, 64, 64]\n",
    "lstm_dims = [128, 128]\n",
    "filter_size = 5"
   ]
  },
  {
   "cell_type": "code",
   "execution_count": 32,
   "metadata": {
    "collapsed": false
   },
   "outputs": [],
   "source": [
    "model = Sequential()\n",
    "model.add(Reshape(target_shape=(1, dim_length, dim_channels), input_shape=input_shape))\n",
    "for i in range(len(num_filters)):\n",
    "    model.add(Convolution2D(num_filters[i], \n",
    "                        nb_row=filter_size, \n",
    "                        nb_col=1, \n",
    "                        border_mode='same', W_regularizer=l2(0.01)))\n",
    "    model.add(Activation('relu')) \n",
    "\n",
    "\n",
    "model.add(Reshape(target_shape=(dim_length, num_filters[-1]*dim_channels)))\n",
    "\n",
    "model.add(LSTM(output_dim=lstm_dims[0], return_sequences=True, \n",
    "              activation='tanh'))\n",
    "model.add(LSTM(output_dim=lstm_dims[1], \n",
    "               #return_sequences=False, #This takes the output of the last one in the sequence\n",
    "               return_sequences=True,\n",
    "              activation='tanh')) \n",
    "\n",
    "model.add(Dropout(0.5))\n",
    "model.add(TimeDistributed(Dense(nr_classes)))\n",
    "#model.add(Dense(nr_classes))\n",
    "model.add(Activation(\"softmax\")) # Final classification layer - per timestep\n",
    "model.add(Lambda(lambda x: x[:,-1,:], output_shape=[nr_classes]))"
   ]
  },
  {
   "cell_type": "code",
   "execution_count": 33,
   "metadata": {
    "collapsed": false
   },
   "outputs": [
    {
     "name": "stdout",
     "output_type": "stream",
     "text": [
      "____________________________________________________________________________________________________\n",
      "Layer (type)                       Output Shape        Param #     Connected to                     \n",
      "====================================================================================================\n",
      "reshape_6 (Reshape)                (None, 1, 100, 9)   0           reshape_input_3[0][0]            \n",
      "____________________________________________________________________________________________________\n",
      "convolution2d_9 (Convolution2D)    (None, 64, 100, 9)  384         reshape_6[0][0]                  \n",
      "____________________________________________________________________________________________________\n",
      "activation_10 (Activation)         (None, 64, 100, 9)  0           convolution2d_9[0][0]            \n",
      "____________________________________________________________________________________________________\n",
      "convolution2d_10 (Convolution2D)   (None, 64, 100, 9)  20544       activation_10[0][0]              \n",
      "____________________________________________________________________________________________________\n",
      "activation_11 (Activation)         (None, 64, 100, 9)  0           convolution2d_10[0][0]           \n",
      "____________________________________________________________________________________________________\n",
      "convolution2d_11 (Convolution2D)   (None, 64, 100, 9)  20544       activation_11[0][0]              \n",
      "____________________________________________________________________________________________________\n",
      "activation_12 (Activation)         (None, 64, 100, 9)  0           convolution2d_11[0][0]           \n",
      "____________________________________________________________________________________________________\n",
      "convolution2d_12 (Convolution2D)   (None, 64, 100, 9)  20544       activation_12[0][0]              \n",
      "____________________________________________________________________________________________________\n",
      "activation_13 (Activation)         (None, 64, 100, 9)  0           convolution2d_12[0][0]           \n",
      "____________________________________________________________________________________________________\n",
      "reshape_7 (Reshape)                (None, 100, 576)    0           activation_13[0][0]              \n",
      "____________________________________________________________________________________________________\n",
      "lstm_5 (LSTM)                      (None, 100, 128)    360960      reshape_7[0][0]                  \n",
      "____________________________________________________________________________________________________\n",
      "lstm_6 (LSTM)                      (None, 100, 128)    131584      lstm_5[0][0]                     \n",
      "____________________________________________________________________________________________________\n",
      "dropout_3 (Dropout)                (None, 100, 128)    0           lstm_6[0][0]                     \n",
      "____________________________________________________________________________________________________\n",
      "timedistributed_2 (TimeDistributed)(None, 100, 13)     1677        dropout_3[0][0]                  \n",
      "____________________________________________________________________________________________________\n",
      "activation_14 (Activation)         (None, 100, 13)     0           timedistributed_2[0][0]          \n",
      "____________________________________________________________________________________________________\n",
      "lambda_2 (Lambda)                  (None, 13)          0           activation_14[0][0]              \n",
      "====================================================================================================\n",
      "Total params: 556237\n",
      "____________________________________________________________________________________________________\n"
     ]
    }
   ],
   "source": [
    "model.summary()"
   ]
  },
  {
   "cell_type": "code",
   "execution_count": 34,
   "metadata": {
    "collapsed": false
   },
   "outputs": [],
   "source": [
    "from keras.optimizers import RMSprop\n",
    "model.compile(loss='categorical_crossentropy', optimizer=RMSprop(lr=0.001, rho=0.9), metrics=['accuracy'])"
   ]
  },
  {
   "cell_type": "code",
   "execution_count": 35,
   "metadata": {
    "collapsed": false
   },
   "outputs": [
    {
     "name": "stdout",
     "output_type": "stream",
     "text": [
      "Train on 1500 samples, validate on 3500 samples\n",
      "Epoch 1/10\n",
      "1500/1500 [==============================] - 91s - loss: 3.9862 - acc: 0.4687 - val_loss: 1.5113 - val_acc: 0.5437\n",
      "Epoch 2/10\n",
      "1500/1500 [==============================] - 89s - loss: 2.3255 - acc: 0.5993 - val_loss: 1.0779 - val_acc: 0.6606\n",
      "Epoch 3/10\n",
      "1500/1500 [==============================] - 96s - loss: 1.6198 - acc: 0.6613 - val_loss: 0.9831 - val_acc: 0.7031\n",
      "Epoch 4/10\n",
      "1500/1500 [==============================] - 90s - loss: 1.3595 - acc: 0.6920 - val_loss: 1.0031 - val_acc: 0.6757\n",
      "Epoch 5/10\n",
      "1500/1500 [==============================] - 91s - loss: 1.1943 - acc: 0.7027 - val_loss: 0.9081 - val_acc: 0.7177\n",
      "Epoch 6/10\n",
      "1500/1500 [==============================] - 91s - loss: 1.0594 - acc: 0.7327 - val_loss: 0.7370 - val_acc: 0.7660\n",
      "Epoch 7/10\n",
      "1500/1500 [==============================] - 90s - loss: 0.9401 - acc: 0.7573 - val_loss: 0.7657 - val_acc: 0.7586\n",
      "Epoch 8/10\n",
      "1500/1500 [==============================] - 106s - loss: 0.8573 - acc: 0.7680 - val_loss: 0.7259 - val_acc: 0.7786\n",
      "Epoch 9/10\n",
      "1500/1500 [==============================] - 106s - loss: 0.8780 - acc: 0.7787 - val_loss: 0.7318 - val_acc: 0.7683\n",
      "Epoch 10/10\n",
      "1500/1500 [==============================] - 108s - loss: 0.7812 - acc: 0.7933 - val_loss: 0.7082 - val_acc: 0.7714\n"
     ]
    },
    {
     "data": {
      "text/plain": [
       "<keras.callbacks.History at 0x7f1221e10630>"
      ]
     },
     "execution_count": 35,
     "metadata": {},
     "output_type": "execute_result"
    }
   ],
   "source": [
    "model.fit(X_batches, y_batches_last_binary, nb_epoch=10, validation_split=0.7)"
   ]
  },
  {
   "cell_type": "code",
   "execution_count": null,
   "metadata": {
    "collapsed": true
   },
   "outputs": [],
   "source": []
  }
 ],
 "metadata": {
  "kernelspec": {
   "display_name": "Python 3",
   "language": "python",
   "name": "python3"
  },
  "language_info": {
   "codemirror_mode": {
    "name": "ipython",
    "version": 3
   },
   "file_extension": ".py",
   "mimetype": "text/x-python",
   "name": "python",
   "nbconvert_exporter": "python",
   "pygments_lexer": "ipython3",
   "version": "3.5.1"
  }
 },
 "nbformat": 4,
 "nbformat_minor": 0
}
