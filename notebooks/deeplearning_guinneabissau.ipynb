{
 "cells": [
  {
   "cell_type": "markdown",
   "metadata": {},
   "source": [
    "# EEG data classification Guinnea Bissau"
   ]
  },
  {
   "cell_type": "markdown",
   "metadata": {},
   "source": [
    "This notebook contains experiments with an EEG dataset. The classes are Epilepsy: 0 or Control 1."
   ]
  },
  {
   "cell_type": "markdown",
   "metadata": {
    "collapsed": false
   },
   "source": [
    "Load dependences and setting output configuration"
   ]
  },
  {
   "cell_type": "code",
   "execution_count": 2,
   "metadata": {
    "collapsed": false
   },
   "outputs": [
    {
     "name": "stderr",
     "output_type": "stream",
     "text": [
      "Using Theano backend.\n"
     ]
    },
    {
     "name": "stdout",
     "output_type": "stream",
     "text": [
      "Populating the interactive namespace from numpy and matplotlib\n"
     ]
    }
   ],
   "source": [
    "import numpy as np\n",
    "from keras.utils.np_utils import to_categorical\n",
    "import keras\n",
    "%pylab inline\n",
    "%load_ext autoreload\n",
    "%autoreload 2"
   ]
  },
  {
   "cell_type": "markdown",
   "metadata": {},
   "source": [
    "## Load data from npy files"
   ]
  },
  {
   "cell_type": "markdown",
   "metadata": {},
   "source": [
    "Specify location of npy files:"
   ]
  },
  {
   "cell_type": "code",
   "execution_count": 4,
   "metadata": {
    "collapsed": true
   },
   "outputs": [],
   "source": [
    "datapath = '/media/windows-share/EEGs_Guinea-Bissau_np/'\n",
    "#datapath = '/media/sf_VBox_Shared/timeseries/EEGs_Guinea-Bissau_np/'#"
   ]
  },
  {
   "cell_type": "markdown",
   "metadata": {},
   "source": [
    "Load data stored in 10 seconds at 128 Hertz corresponding to the experiment where the participant had the eyes closed:"
   ]
  },
  {
   "cell_type": "code",
   "execution_count": 5,
   "metadata": {
    "collapsed": false
   },
   "outputs": [],
   "source": [
    "condition = '_10seconds_closed.npy'\n",
    "X_train = np.load(datapath+'X_train'+condition)\n",
    "y_train = np.load(datapath+'y_train'+condition)\n",
    "X_val = np.load(datapath+'X_valid'+condition)\n",
    "y_val = np.load(datapath+'y_valid'+condition)\n",
    "X_test = np.load(datapath+'X_test'+condition)\n",
    "y_test = np.load(datapath+'y_test'+condition)"
   ]
  },
  {
   "cell_type": "code",
   "execution_count": 6,
   "metadata": {
    "collapsed": false
   },
   "outputs": [
    {
     "name": "stdout",
     "output_type": "stream",
     "text": [
      "{'Epilepsy': 0, 'Control': 1}\n"
     ]
    }
   ],
   "source": [
    "classlabels = list(set(y_train))\n",
    "mapclasses = {classlabels[i] : i for i in range(len(classlabels))}\n",
    "print(mapclasses)"
   ]
  },
  {
   "cell_type": "code",
   "execution_count": 7,
   "metadata": {
    "collapsed": false
   },
   "outputs": [],
   "source": [
    "y_train = np.array([mapclasses[c] for c in y_train], dtype='int')\n",
    "y_val = np.array([mapclasses[c] for c in y_test], dtype='int')\n",
    "y_test = np.array([mapclasses[c] for c in y_test], dtype='int')\n",
    "y_train_binary = to_categorical(y_train)\n",
    "y_val_binary = to_categorical(y_val)\n",
    "y_test_binary = to_categorical(y_test)"
   ]
  },
  {
   "cell_type": "code",
   "execution_count": 8,
   "metadata": {
    "collapsed": false
   },
   "outputs": [
    {
     "data": {
      "text/plain": [
       "array([[ 1.,  0.],\n",
       "       [ 1.,  0.],\n",
       "       [ 1.,  0.],\n",
       "       [ 0.,  1.],\n",
       "       [ 1.,  0.],\n",
       "       [ 1.,  0.],\n",
       "       [ 1.,  0.],\n",
       "       [ 0.,  1.],\n",
       "       [ 0.,  1.],\n",
       "       [ 1.,  0.],\n",
       "       [ 1.,  0.],\n",
       "       [ 1.,  0.],\n",
       "       [ 1.,  0.],\n",
       "       [ 1.,  0.],\n",
       "       [ 0.,  1.],\n",
       "       [ 0.,  1.],\n",
       "       [ 0.,  1.],\n",
       "       [ 0.,  1.],\n",
       "       [ 0.,  1.],\n",
       "       [ 0.,  1.]])"
      ]
     },
     "execution_count": 8,
     "metadata": {},
     "output_type": "execute_result"
    }
   ],
   "source": [
    "y_val_binary"
   ]
  },
  {
   "cell_type": "markdown",
   "metadata": {},
   "source": [
    "## Generate models"
   ]
  },
  {
   "cell_type": "code",
   "execution_count": 9,
   "metadata": {
    "collapsed": true
   },
   "outputs": [],
   "source": [
    "from keras.models import Sequential\n",
    "from keras.layers import Dense, Activation, Convolution1D, Flatten, MaxPooling1D\n",
    "from keras.optimizers import Adam\n",
    "import sys\n",
    "import os\n",
    "import numpy as np\n",
    "sys.path.insert(0, os.path.abspath('..'))\n",
    "from mcfly import modelgen, find_architecture"
   ]
  },
  {
   "cell_type": "code",
   "execution_count": 10,
   "metadata": {
    "collapsed": true
   },
   "outputs": [],
   "source": [
    "np.random.seed = 321\n",
    "num_classes = y_train_binary.shape[1]"
   ]
  },
  {
   "cell_type": "code",
   "execution_count": 11,
   "metadata": {
    "collapsed": false
   },
   "outputs": [
    {
     "name": "stdout",
     "output_type": "stream",
     "text": [
      "CPU times: user 2.12 s, sys: 500 ms, total: 2.62 s\n",
      "Wall time: 3.49 s\n"
     ]
    }
   ],
   "source": [
    "%%time\n",
    "models = modelgen.generate_models(X_train.shape,\n",
    "                                  num_classes,\n",
    "                                  number_of_models = 2,\n",
    "                                  model_type = 'CNN',\n",
    "                                  cnn_min_layers=2,\n",
    "                                  cnn_max_layers=5,\n",
    "                                 low_lr=2, high_lr=8)"
   ]
  },
  {
   "cell_type": "code",
   "execution_count": 12,
   "metadata": {
    "collapsed": false
   },
   "outputs": [
    {
     "name": "stdout",
     "output_type": "stream",
     "text": [
      "{'fc_hidden_nodes': 494, 'regularization_rate': 0.00011521852358350661, 'filters': array([54, 33]), 'learning_rate': 1.1388462194153422e-08}\n",
      "____________________________________________________________________________________________________\n",
      "Layer (type)                       Output Shape        Param #     Connected to                     \n",
      "====================================================================================================\n",
      "batchnormalization_1 (BatchNormaliz(None, 1280, 14)    28          batchnormalization_input_1[0][0] \n",
      "____________________________________________________________________________________________________\n",
      "convolution1d_1 (Convolution1D)    (None, 1280, 54)    2322        batchnormalization_1[0][0]       \n",
      "____________________________________________________________________________________________________\n",
      "batchnormalization_2 (BatchNormaliz(None, 1280, 54)    108         convolution1d_1[0][0]            \n",
      "____________________________________________________________________________________________________\n",
      "activation_1 (Activation)          (None, 1280, 54)    0           batchnormalization_2[0][0]       \n",
      "____________________________________________________________________________________________________\n",
      "convolution1d_2 (Convolution1D)    (None, 1280, 33)    5379        activation_1[0][0]               \n",
      "____________________________________________________________________________________________________\n",
      "batchnormalization_3 (BatchNormaliz(None, 1280, 33)    66          convolution1d_2[0][0]            \n",
      "____________________________________________________________________________________________________\n",
      "activation_2 (Activation)          (None, 1280, 33)    0           batchnormalization_3[0][0]       \n",
      "____________________________________________________________________________________________________\n",
      "flatten_1 (Flatten)                (None, 42240)       0           activation_2[0][0]               \n",
      "____________________________________________________________________________________________________\n",
      "dense_1 (Dense)                    (None, 494)         20867054    flatten_1[0][0]                  \n",
      "____________________________________________________________________________________________________\n",
      "activation_3 (Activation)          (None, 494)         0           dense_1[0][0]                    \n",
      "____________________________________________________________________________________________________\n",
      "dense_2 (Dense)                    (None, 2)           990         activation_3[0][0]               \n",
      "____________________________________________________________________________________________________\n",
      "batchnormalization_4 (BatchNormaliz(None, 2)           4           dense_2[0][0]                    \n",
      "____________________________________________________________________________________________________\n",
      "activation_4 (Activation)          (None, 2)           0           batchnormalization_4[0][0]       \n",
      "====================================================================================================\n",
      "Total params: 20875951\n",
      "____________________________________________________________________________________________________\n",
      "{'fc_hidden_nodes': 418, 'regularization_rate': 0.004736256297535478, 'filters': array([71, 29, 96, 29]), 'learning_rate': 9.760855557104069e-08}\n",
      "____________________________________________________________________________________________________\n",
      "Layer (type)                       Output Shape        Param #     Connected to                     \n",
      "====================================================================================================\n",
      "batchnormalization_5 (BatchNormaliz(None, 1280, 14)    28          batchnormalization_input_2[0][0] \n",
      "____________________________________________________________________________________________________\n",
      "convolution1d_3 (Convolution1D)    (None, 1280, 71)    3053        batchnormalization_5[0][0]       \n",
      "____________________________________________________________________________________________________\n",
      "batchnormalization_6 (BatchNormaliz(None, 1280, 71)    142         convolution1d_3[0][0]            \n",
      "____________________________________________________________________________________________________\n",
      "activation_5 (Activation)          (None, 1280, 71)    0           batchnormalization_6[0][0]       \n",
      "____________________________________________________________________________________________________\n",
      "convolution1d_4 (Convolution1D)    (None, 1280, 29)    6206        activation_5[0][0]               \n",
      "____________________________________________________________________________________________________\n",
      "batchnormalization_7 (BatchNormaliz(None, 1280, 29)    58          convolution1d_4[0][0]            \n",
      "____________________________________________________________________________________________________\n",
      "activation_6 (Activation)          (None, 1280, 29)    0           batchnormalization_7[0][0]       \n",
      "____________________________________________________________________________________________________\n",
      "convolution1d_5 (Convolution1D)    (None, 1280, 96)    8448        activation_6[0][0]               \n",
      "____________________________________________________________________________________________________\n",
      "batchnormalization_8 (BatchNormaliz(None, 1280, 96)    192         convolution1d_5[0][0]            \n",
      "____________________________________________________________________________________________________\n",
      "activation_7 (Activation)          (None, 1280, 96)    0           batchnormalization_8[0][0]       \n",
      "____________________________________________________________________________________________________\n",
      "convolution1d_6 (Convolution1D)    (None, 1280, 29)    8381        activation_7[0][0]               \n",
      "____________________________________________________________________________________________________\n",
      "batchnormalization_9 (BatchNormaliz(None, 1280, 29)    58          convolution1d_6[0][0]            \n",
      "____________________________________________________________________________________________________\n",
      "activation_8 (Activation)          (None, 1280, 29)    0           batchnormalization_9[0][0]       \n",
      "____________________________________________________________________________________________________\n",
      "flatten_2 (Flatten)                (None, 37120)       0           activation_8[0][0]               \n",
      "____________________________________________________________________________________________________\n",
      "dense_3 (Dense)                    (None, 418)         15516578    flatten_2[0][0]                  \n",
      "____________________________________________________________________________________________________\n",
      "activation_9 (Activation)          (None, 418)         0           dense_3[0][0]                    \n",
      "____________________________________________________________________________________________________\n",
      "dense_4 (Dense)                    (None, 2)           838         activation_9[0][0]               \n",
      "____________________________________________________________________________________________________\n",
      "batchnormalization_10 (BatchNormali(None, 2)           4           dense_4[0][0]                    \n",
      "____________________________________________________________________________________________________\n",
      "activation_10 (Activation)         (None, 2)           0           batchnormalization_10[0][0]      \n",
      "====================================================================================================\n",
      "Total params: 15543986\n",
      "____________________________________________________________________________________________________\n",
      "CPU times: user 1.11 s, sys: 4 ms, total: 1.11 s\n",
      "Wall time: 1.18 s\n"
     ]
    }
   ],
   "source": [
    "%%time\n",
    "for model, params, model_types in models:\n",
    "    print(params)\n",
    "    model.summary()"
   ]
  },
  {
   "cell_type": "markdown",
   "metadata": {},
   "source": [
    "## Compare models"
   ]
  },
  {
   "cell_type": "markdown",
   "metadata": {},
   "source": [
    "Currently run with a very low number of epochs"
   ]
  },
  {
   "cell_type": "code",
   "execution_count": 13,
   "metadata": {
    "collapsed": false,
    "scrolled": true
   },
   "outputs": [
    {
     "name": "stdout",
     "output_type": "stream",
     "text": [
      "Training model 0 CNN\n",
      "Train on 108 samples, validate on 20 samples\n",
      "Epoch 1/3\n",
      "108/108 [==============================] - 4s - loss: 0.8933 - acc: 0.5185 - val_loss: 4.1010 - val_acc: 0.5500\n",
      "Epoch 2/3\n",
      "108/108 [==============================] - 3s - loss: 0.9034 - acc: 0.4630 - val_loss: 1.7030 - val_acc: 0.5500\n",
      "Epoch 3/3\n",
      "108/108 [==============================] - 3s - loss: 0.9149 - acc: 0.4907 - val_loss: 1.1376 - val_acc: 0.5500\n",
      "Training model 1 CNN\n",
      "Train on 108 samples, validate on 20 samples\n",
      "Epoch 1/3\n",
      "108/108 [==============================] - 6s - loss: 3.9281 - acc: 0.4815 - val_loss: 5.0274 - val_acc: 0.4500\n",
      "Epoch 2/3\n",
      "108/108 [==============================] - 6s - loss: 4.0054 - acc: 0.4630 - val_loss: 2.2598 - val_acc: 0.4500\n",
      "Epoch 3/3\n",
      "108/108 [==============================] - 7s - loss: 3.9462 - acc: 0.4167 - val_loss: 0.9289 - val_acc: 0.4000\n",
      "CPU times: user 55.6 s, sys: 21.1 s, total: 1min 16s\n",
      "Wall time: 1min 18s\n"
     ]
    }
   ],
   "source": [
    "%%time\n",
    "histories, val_accuracies, val_losses = find_architecture.train_models_on_samples(X_train, y_train_binary,\n",
    "                                                                                 X_val, y_val_binary,\n",
    "                                                                                 models,nr_epochs=3,\n",
    "                                                                                  subset_size=200,\n",
    "                                                                                  verbose=True)"
   ]
  },
  {
   "cell_type": "code",
   "execution_count": 14,
   "metadata": {
    "collapsed": false
   },
   "outputs": [
    {
     "name": "stdout",
     "output_type": "stream",
     "text": [
      "CPU times: user 260 ms, sys: 16 ms, total: 276 ms\n",
      "Wall time: 313 ms\n"
     ]
    },
    {
     "data": {
      "image/png": "[encoded data removed]",
      "text/plain": [
       "<matplotlib.figure.Figure at 0x7f4f56270390>"
      ]
     },
     "metadata": {},
     "output_type": "display_data"
    },
    {
     "data": {
      "image/png": "[encoded data removed]",
      "text/plain": [
       "<matplotlib.figure.Figure at 0x7f4f55fe49e8>"
      ]
     },
     "metadata": {},
     "output_type": "display_data"
    }
   ],
   "source": [
    "%%time\n",
    "for i in range(len(models)):\n",
    "    name = str(models[i][1])\n",
    "    find_architecture.plotTrainingProcess(histories[i], name)"
   ]
  },
  {
   "cell_type": "code",
   "execution_count": 15,
   "metadata": {
    "collapsed": false
   },
   "outputs": [
    {
     "data": {
      "text/html": [
       "<div>\n",
       "<table border=\"1\" class=\"dataframe\">\n",
       "  <thead>\n",
       "    <tr style=\"text-align: right;\">\n",
       "      <th></th>\n",
       "      <th>model</th>\n",
       "      <th>train_acc</th>\n",
       "      <th>train_loss</th>\n",
       "      <th>val_acc</th>\n",
       "      <th>val_loss</th>\n",
       "    </tr>\n",
       "  </thead>\n",
       "  <tbody>\n",
       "    <tr>\n",
       "      <th>0</th>\n",
       "      <td>{'fc_hidden_nodes': 494, 'regularization_rate'...</td>\n",
       "      <td>0.490741</td>\n",
       "      <td>0.914856</td>\n",
       "      <td>0.55</td>\n",
       "      <td>1.137594</td>\n",
       "    </tr>\n",
       "    <tr>\n",
       "      <th>1</th>\n",
       "      <td>{'fc_hidden_nodes': 418, 'regularization_rate'...</td>\n",
       "      <td>0.416667</td>\n",
       "      <td>3.946226</td>\n",
       "      <td>0.40</td>\n",
       "      <td>0.928925</td>\n",
       "    </tr>\n",
       "  </tbody>\n",
       "</table>\n",
       "</div>"
      ],
      "text/plain": [
       "                                               model  train_acc  train_loss  \\\n",
       "0  {'fc_hidden_nodes': 494, 'regularization_rate'...   0.490741    0.914856   \n",
       "1  {'fc_hidden_nodes': 418, 'regularization_rate'...   0.416667    3.946226   \n",
       "\n",
       "   val_acc  val_loss  \n",
       "0     0.55  1.137594  \n",
       "1     0.40  0.928925  "
      ]
     },
     "execution_count": 15,
     "metadata": {},
     "output_type": "execute_result"
    }
   ],
   "source": [
    "#%%time\n",
    "import pandas as pd\n",
    "results = pd.DataFrame({'model':[str(params) for model, params, model_types in models],\n",
    "                       'train_acc': [history.history['acc'][-1] for history in histories],\n",
    "                       'train_loss': [history.history['loss'][-1] for history in histories],\n",
    "                       'val_acc': [history.history['val_acc'][-1] for history in histories],\n",
    "                       'val_loss': [history.history['val_loss'][-1] for history in histories]\n",
    "                       })\n",
    "results"
   ]
  },
  {
   "cell_type": "markdown",
   "metadata": {},
   "source": [
    "## Train the best model for real"
   ]
  },
  {
   "cell_type": "code",
   "execution_count": 16,
   "metadata": {
    "collapsed": true
   },
   "outputs": [],
   "source": [
    "best_model_index = np.argmax(val_accuracies)\n",
    "#best_model_index = np.argmax(val_losses)\n",
    "#best_model_index = 1"
   ]
  },
  {
   "cell_type": "code",
   "execution_count": 17,
   "metadata": {
    "collapsed": false
   },
   "outputs": [
    {
     "data": {
      "text/plain": [
       "'Mode'"
      ]
     },
     "execution_count": 17,
     "metadata": {},
     "output_type": "execute_result"
    }
   ],
   "source": [
    "import theano\n",
    "theano.config.mode"
   ]
  },
  {
   "cell_type": "code",
   "execution_count": 18,
   "metadata": {
    "collapsed": false
   },
   "outputs": [
    {
     "name": "stdout",
     "output_type": "stream",
     "text": [
      "0 CNN {'fc_hidden_nodes': 494, 'regularization_rate': 0.00011521852358350661, 'filters': array([54, 33]), 'learning_rate': 1.1388462194153422e-08}\n"
     ]
    }
   ],
   "source": [
    "best_model, best_params, best_model_types = models[best_model_index]\n",
    "print(best_model_index, best_model_types, best_params)"
   ]
  },
  {
   "cell_type": "code",
   "execution_count": 19,
   "metadata": {
    "collapsed": false
   },
   "outputs": [
    {
     "name": "stdout",
     "output_type": "stream",
     "text": [
      "0 CNN {'fc_hidden_nodes': 494, 'regularization_rate': 0.00011521852358350661, 'filters': array([54, 33]), 'learning_rate': 1.1388462194153422e-08}\n"
     ]
    }
   ],
   "source": [
    "best_model_copy = modelgen.generate_CNN_model(X_train.shape, num_classes, best_params['filters'], best_params['fc_hidden_nodes'],\n",
    "                       best_params['learning_rate'], best_params['regularization_rate'])\n",
    "best_model_copy = best_model\n",
    "print(best_model_index, best_model_types, best_params)"
   ]
  },
  {
   "cell_type": "code",
   "execution_count": 20,
   "metadata": {
    "collapsed": false
   },
   "outputs": [
    {
     "name": "stdout",
     "output_type": "stream",
     "text": [
      "Train on 108 samples, validate on 20 samples\n",
      "Epoch 1/10\n",
      "108/108 [==============================] - 4s - loss: 0.9228 - acc: 0.4722 - val_loss: 0.9146 - val_acc: 0.5000\n",
      "Epoch 2/10\n",
      "108/108 [==============================] - 3s - loss: 0.8665 - acc: 0.4630 - val_loss: 0.9016 - val_acc: 0.4500\n",
      "Epoch 3/10\n",
      "108/108 [==============================] - 4s - loss: 0.9231 - acc: 0.4074 - val_loss: 0.8758 - val_acc: 0.4500\n",
      "Epoch 4/10\n",
      "108/108 [==============================] - 4s - loss: 0.8892 - acc: 0.5000 - val_loss: 0.8773 - val_acc: 0.4000\n",
      "Epoch 5/10\n",
      "108/108 [==============================] - 5s - loss: 0.9199 - acc: 0.4907 - val_loss: 0.8669 - val_acc: 0.4000\n",
      "Epoch 6/10\n",
      "108/108 [==============================] - 4s - loss: 0.8658 - acc: 0.5648 - val_loss: 0.8668 - val_acc: 0.4500\n",
      "Epoch 7/10\n",
      "108/108 [==============================] - 4s - loss: 0.8660 - acc: 0.5370 - val_loss: 0.8562 - val_acc: 0.5000\n",
      "Epoch 8/10\n",
      "108/108 [==============================] - 4s - loss: 0.9108 - acc: 0.4537 - val_loss: 0.8680 - val_acc: 0.4500\n",
      "Epoch 9/10\n",
      "108/108 [==============================] - 4s - loss: 0.9000 - acc: 0.4722 - val_loss: 0.8766 - val_acc: 0.4000\n",
      "Epoch 10/10\n",
      "108/108 [==============================] - 4s - loss: 0.8740 - acc: 0.5185 - val_loss: 0.8739 - val_acc: 0.4500\n"
     ]
    }
   ],
   "source": [
    "nr_epochs = 10\n",
    "datasize = X_train.shape[0]#1000\n",
    "history = best_model_copy.fit(X_train[:datasize,:,:], y_train_binary[:datasize,:],\n",
    "              nb_epoch=nr_epochs, validation_data=(X_val, y_val_binary), batch_size=20)"
   ]
  },
  {
   "cell_type": "code",
   "execution_count": 21,
   "metadata": {
    "collapsed": false
   },
   "outputs": [
    {
     "data": {
      "image/png": "[encoded data removed]",
      "text/plain": [
       "<matplotlib.figure.Figure at 0x7f4f55f1c6d8>"
      ]
     },
     "metadata": {},
     "output_type": "display_data"
    }
   ],
   "source": [
    "find_architecture.plotTrainingProcess(history)"
   ]
  },
  {
   "cell_type": "markdown",
   "metadata": {},
   "source": [
    "## Inspect model predictions"
   ]
  },
  {
   "cell_type": "code",
   "execution_count": 22,
   "metadata": {
    "collapsed": false
   },
   "outputs": [
    {
     "name": "stdout",
     "output_type": "stream",
     "text": [
      "20/20 [==============================] - 1s     \n"
     ]
    },
    {
     "data": {
      "text/plain": [
       "array([[ 0.96081418,  0.03918583],\n",
       "       [ 0.35405383,  0.64594615],\n",
       "       [ 0.74747181,  0.25252816],\n",
       "       [ 0.74191487,  0.2580851 ],\n",
       "       [ 0.38060015,  0.61939985],\n",
       "       [ 0.30543715,  0.69456285],\n",
       "       [ 0.57504642,  0.42495358],\n",
       "       [ 0.97367489,  0.02632511],\n",
       "       [ 0.3674922 ,  0.6325078 ],\n",
       "       [ 0.29981661,  0.70018339],\n",
       "       [ 0.3696461 ,  0.63035393],\n",
       "       [ 0.51115769,  0.48884231],\n",
       "       [ 0.4917815 ,  0.50821847],\n",
       "       [ 0.41921923,  0.5807808 ],\n",
       "       [ 0.35314971,  0.64685029],\n",
       "       [ 0.46234444,  0.53765559],\n",
       "       [ 0.5215221 ,  0.4784779 ],\n",
       "       [ 0.38273174,  0.61726826],\n",
       "       [ 0.54752696,  0.45247301],\n",
       "       [ 0.35230914,  0.64769083]])"
      ]
     },
     "execution_count": 22,
     "metadata": {},
     "output_type": "execute_result"
    }
   ],
   "source": [
    "datasize = X_val.shape[0]\n",
    "best_model_copy.predict_proba(X_val[:datasize,:,:],batch_size=1)"
   ]
  },
  {
   "cell_type": "code",
   "execution_count": 23,
   "metadata": {
    "collapsed": false
   },
   "outputs": [
    {
     "name": "stdout",
     "output_type": "stream",
     "text": [
      "____________________________________________________________________________________________________\n",
      "Layer (type)                       Output Shape        Param #     Connected to                     \n",
      "====================================================================================================\n",
      "batchnormalization_1 (BatchNormaliz(None, 1280, 14)    28          batchnormalization_input_1[0][0] \n",
      "____________________________________________________________________________________________________\n",
      "convolution1d_1 (Convolution1D)    (None, 1280, 54)    2322        batchnormalization_1[0][0]       \n",
      "____________________________________________________________________________________________________\n",
      "batchnormalization_2 (BatchNormaliz(None, 1280, 54)    108         convolution1d_1[0][0]            \n",
      "____________________________________________________________________________________________________\n",
      "activation_1 (Activation)          (None, 1280, 54)    0           batchnormalization_2[0][0]       \n",
      "____________________________________________________________________________________________________\n",
      "convolution1d_2 (Convolution1D)    (None, 1280, 33)    5379        activation_1[0][0]               \n",
      "____________________________________________________________________________________________________\n",
      "batchnormalization_3 (BatchNormaliz(None, 1280, 33)    66          convolution1d_2[0][0]            \n",
      "____________________________________________________________________________________________________\n",
      "activation_2 (Activation)          (None, 1280, 33)    0           batchnormalization_3[0][0]       \n",
      "____________________________________________________________________________________________________\n",
      "flatten_1 (Flatten)                (None, 42240)       0           activation_2[0][0]               \n",
      "____________________________________________________________________________________________________\n",
      "dense_1 (Dense)                    (None, 494)         20867054    flatten_1[0][0]                  \n",
      "____________________________________________________________________________________________________\n",
      "activation_3 (Activation)          (None, 494)         0           dense_1[0][0]                    \n",
      "____________________________________________________________________________________________________\n",
      "dense_2 (Dense)                    (None, 2)           990         activation_3[0][0]               \n",
      "____________________________________________________________________________________________________\n",
      "batchnormalization_4 (BatchNormaliz(None, 2)           4           dense_2[0][0]                    \n",
      "____________________________________________________________________________________________________\n",
      "activation_4 (Activation)          (None, 2)           0           batchnormalization_4[0][0]       \n",
      "====================================================================================================\n",
      "Total params: 20875951\n",
      "____________________________________________________________________________________________________\n"
     ]
    }
   ],
   "source": [
    "best_model_copy.summary()"
   ]
  },
  {
   "cell_type": "code",
   "execution_count": 24,
   "metadata": {
    "collapsed": false
   },
   "outputs": [],
   "source": [
    "from keras import backend as K\n",
    "\n",
    "# with a Sequential model\n",
    "get_dens_layer_output = K.function([best_model_copy.layers[0].input, K.learning_phase()],\n",
    "                                  [best_model_copy.layers[0].output])\n",
    "layer_output = get_dens_layer_output([X_val, 0])[0]"
   ]
  },
  {
   "cell_type": "code",
   "execution_count": 25,
   "metadata": {
    "collapsed": false
   },
   "outputs": [
    {
     "data": {
      "text/plain": [
       "(20, 1280, 14)"
      ]
     },
     "execution_count": 25,
     "metadata": {},
     "output_type": "execute_result"
    }
   ],
   "source": [
    "layer_output.shape"
   ]
  },
  {
   "cell_type": "code",
   "execution_count": 26,
   "metadata": {
    "collapsed": false
   },
   "outputs": [
    {
     "data": {
      "text/plain": [
       "array([ 0.04374453,  0.03834507, -0.00891328, -0.04491771,  0.0457358 ,\n",
       "       -0.04177089,  0.02530164,  0.06146864,  0.06281064, -0.01103885,\n",
       "       -0.03286022,  0.10070235,  0.07257555, -0.03934217], dtype=float32)"
      ]
     },
     "execution_count": 26,
     "metadata": {},
     "output_type": "execute_result"
    }
   ],
   "source": [
    "layer_output.mean(axis=(0,1))"
   ]
  },
  {
   "cell_type": "code",
   "execution_count": 27,
   "metadata": {
    "collapsed": false
   },
   "outputs": [
    {
     "name": "stdout",
     "output_type": "stream",
     "text": [
      "(14,)\n",
      "(14,)\n",
      "(14,)\n",
      "(14,)\n"
     ]
    }
   ],
   "source": [
    "layer = best_model.layers[0]\n",
    "for w in layer.get_weights():\n",
    "    print(w.shape)"
   ]
  },
  {
   "cell_type": "markdown",
   "metadata": {},
   "source": [
    "## See if we can overfit on a small train set"
   ]
  },
  {
   "cell_type": "code",
   "execution_count": 28,
   "metadata": {
    "collapsed": false
   },
   "outputs": [
    {
     "name": "stdout",
     "output_type": "stream",
     "text": [
      "{'fc_hidden_nodes': 494, 'regularization_rate': 0.00011521852358350661, 'filters': array([54, 33]), 'learning_rate': 1.1388462194153422e-08}\n",
      "____________________________________________________________________________________________________\n",
      "Layer (type)                       Output Shape        Param #     Connected to                     \n",
      "====================================================================================================\n",
      "batchnormalization_15 (BatchNormali(None, 1280, 14)    28          batchnormalization_input_4[0][0] \n",
      "____________________________________________________________________________________________________\n",
      "convolution1d_9 (Convolution1D)    (None, 1280, 54)    2322        batchnormalization_15[0][0]      \n",
      "____________________________________________________________________________________________________\n",
      "batchnormalization_16 (BatchNormali(None, 1280, 54)    108         convolution1d_9[0][0]            \n",
      "____________________________________________________________________________________________________\n",
      "activation_15 (Activation)         (None, 1280, 54)    0           batchnormalization_16[0][0]      \n",
      "____________________________________________________________________________________________________\n",
      "convolution1d_10 (Convolution1D)   (None, 1280, 33)    5379        activation_15[0][0]              \n",
      "____________________________________________________________________________________________________\n",
      "batchnormalization_17 (BatchNormali(None, 1280, 33)    66          convolution1d_10[0][0]           \n",
      "____________________________________________________________________________________________________\n",
      "activation_16 (Activation)         (None, 1280, 33)    0           batchnormalization_17[0][0]      \n",
      "____________________________________________________________________________________________________\n",
      "flatten_4 (Flatten)                (None, 42240)       0           activation_16[0][0]              \n",
      "____________________________________________________________________________________________________\n",
      "dense_7 (Dense)                    (None, 494)         20867054    flatten_4[0][0]                  \n",
      "____________________________________________________________________________________________________\n",
      "activation_17 (Activation)         (None, 494)         0           dense_7[0][0]                    \n",
      "____________________________________________________________________________________________________\n",
      "dense_8 (Dense)                    (None, 2)           990         activation_17[0][0]              \n",
      "____________________________________________________________________________________________________\n",
      "batchnormalization_18 (BatchNormali(None, 2)           4           dense_8[0][0]                    \n",
      "____________________________________________________________________________________________________\n",
      "activation_18 (Activation)         (None, 2)           0           batchnormalization_18[0][0]      \n",
      "====================================================================================================\n",
      "Total params: 20875951\n",
      "____________________________________________________________________________________________________\n"
     ]
    }
   ],
   "source": [
    "params = models[0][1]\n",
    "print(params)\n",
    "small_model = modelgen.generate_CNN_model(X_train.shape, num_classes, params['filters'], params['fc_hidden_nodes'],\n",
    "                                  0.01, #params['learning_rate'], \n",
    "                                        regularization_rate=0)\n",
    "small_model.summary()"
   ]
  },
  {
   "cell_type": "code",
   "execution_count": 29,
   "metadata": {
    "collapsed": false
   },
   "outputs": [
    {
     "name": "stdout",
     "output_type": "stream",
     "text": [
      "20/20 [==============================] - 0s\n"
     ]
    },
    {
     "data": {
      "text/plain": [
       "[8.8649530410766602, 0.44999998807907104]"
      ]
     },
     "execution_count": 29,
     "metadata": {},
     "output_type": "execute_result"
    }
   ],
   "source": [
    "small_model.evaluate(X_val, y_val_binary)"
   ]
  },
  {
   "cell_type": "code",
   "execution_count": 30,
   "metadata": {
    "collapsed": false
   },
   "outputs": [
    {
     "name": "stdout",
     "output_type": "stream",
     "text": [
      "Train on 20 samples, validate on 20 samples\n",
      "Epoch 1/100\n",
      "20/20 [==============================] - 1s - loss: 0.7206 - acc: 0.6500 - val_loss: 8.8650 - val_acc: 0.4500\n",
      "Epoch 2/100\n",
      "20/20 [==============================] - 1s - loss: 0.4345 - acc: 0.9000 - val_loss: 7.2531 - val_acc: 0.5500\n",
      "Epoch 3/100\n",
      "20/20 [==============================] - 1s - loss: 0.3407 - acc: 0.9000 - val_loss: 7.2531 - val_acc: 0.5500\n",
      "Epoch 4/100\n",
      "20/20 [==============================] - 1s - loss: 0.3104 - acc: 0.9500 - val_loss: 7.2531 - val_acc: 0.5500\n",
      "Epoch 5/100\n",
      "20/20 [==============================] - 1s - loss: 0.4919 - acc: 0.8000 - val_loss: 7.2531 - val_acc: 0.5500\n",
      "Epoch 6/100\n",
      "20/20 [==============================] - 1s - loss: 0.2815 - acc: 1.0000 - val_loss: 7.2531 - val_acc: 0.5500\n",
      "Epoch 7/100\n",
      "20/20 [==============================] - 1s - loss: 0.2746 - acc: 1.0000 - val_loss: 7.2531 - val_acc: 0.5500\n",
      "Epoch 8/100\n",
      "20/20 [==============================] - 1s - loss: 0.4079 - acc: 0.8000 - val_loss: 7.2531 - val_acc: 0.5500\n",
      "Epoch 9/100\n",
      "20/20 [==============================] - 1s - loss: 0.5051 - acc: 0.7500 - val_loss: 7.2531 - val_acc: 0.5500\n",
      "Epoch 10/100\n",
      "20/20 [==============================] - 1s - loss: 0.2472 - acc: 1.0000 - val_loss: 7.2531 - val_acc: 0.5500\n",
      "Epoch 11/100\n",
      "20/20 [==============================] - 1s - loss: 0.3409 - acc: 0.9000 - val_loss: 7.0763 - val_acc: 0.5500\n",
      "Epoch 12/100\n",
      "20/20 [==============================] - 1s - loss: 0.2292 - acc: 1.0000 - val_loss: 5.8068 - val_acc: 0.5500\n",
      "Epoch 13/100\n",
      "20/20 [==============================] - 1s - loss: 0.2266 - acc: 1.0000 - val_loss: 4.2946 - val_acc: 0.5500\n",
      "Epoch 14/100\n",
      "20/20 [==============================] - 1s - loss: 0.3315 - acc: 0.8500 - val_loss: 3.3530 - val_acc: 0.5500\n",
      "Epoch 15/100\n",
      "20/20 [==============================] - 1s - loss: 0.2058 - acc: 1.0000 - val_loss: 2.5871 - val_acc: 0.5000\n",
      "Epoch 16/100\n",
      "20/20 [==============================] - 1s - loss: 0.1984 - acc: 1.0000 - val_loss: 2.1514 - val_acc: 0.4500\n",
      "Epoch 17/100\n",
      "20/20 [==============================] - 1s - loss: 0.1929 - acc: 1.0000 - val_loss: 1.9520 - val_acc: 0.3500\n",
      "Epoch 18/100\n",
      "20/20 [==============================] - 1s - loss: 0.2881 - acc: 0.9500 - val_loss: 1.8736 - val_acc: 0.3500\n",
      "Epoch 19/100\n",
      "20/20 [==============================] - 1s - loss: 0.1753 - acc: 1.0000 - val_loss: 1.7322 - val_acc: 0.3500\n",
      "Epoch 20/100\n",
      "20/20 [==============================] - 2s - loss: 0.1676 - acc: 1.0000 - val_loss: 1.6585 - val_acc: 0.3500\n",
      "Epoch 21/100\n",
      "20/20 [==============================] - 2s - loss: 0.1625 - acc: 1.0000 - val_loss: 1.6172 - val_acc: 0.4000\n",
      "Epoch 22/100\n",
      "20/20 [==============================] - 1s - loss: 0.1570 - acc: 1.0000 - val_loss: 1.5992 - val_acc: 0.4500\n",
      "Epoch 23/100\n",
      "20/20 [==============================] - 1s - loss: 0.1522 - acc: 1.0000 - val_loss: 1.5936 - val_acc: 0.4500\n",
      "Epoch 24/100\n",
      "20/20 [==============================] - 1s - loss: 0.1446 - acc: 1.0000 - val_loss: 1.5906 - val_acc: 0.4500\n",
      "Epoch 25/100\n",
      "20/20 [==============================] - 1s - loss: 0.2376 - acc: 0.9500 - val_loss: 1.6998 - val_acc: 0.4500\n",
      "Epoch 26/100\n",
      "20/20 [==============================] - 1s - loss: 0.2388 - acc: 0.9500 - val_loss: 1.8229 - val_acc: 0.5000\n",
      "Epoch 27/100\n",
      "20/20 [==============================] - 1s - loss: 0.1301 - acc: 1.0000 - val_loss: 1.7958 - val_acc: 0.5000\n",
      "Epoch 28/100\n",
      "20/20 [==============================] - 1s - loss: 0.1276 - acc: 1.0000 - val_loss: 1.7840 - val_acc: 0.5000\n",
      "Epoch 29/100\n",
      "20/20 [==============================] - 1s - loss: 0.2320 - acc: 0.9500 - val_loss: 1.6706 - val_acc: 0.5000\n",
      "Epoch 30/100\n",
      "20/20 [==============================] - 1s - loss: 0.1223 - acc: 1.0000 - val_loss: 1.4973 - val_acc: 0.4500\n",
      "Epoch 31/100\n",
      "20/20 [==============================] - 1s - loss: 0.1216 - acc: 1.0000 - val_loss: 1.3938 - val_acc: 0.5000\n",
      "Epoch 32/100\n",
      "20/20 [==============================] - 1s - loss: 0.1187 - acc: 1.0000 - val_loss: 1.3554 - val_acc: 0.5000\n",
      "Epoch 33/100\n",
      "20/20 [==============================] - 1s - loss: 0.1147 - acc: 1.0000 - val_loss: 1.3516 - val_acc: 0.5000\n",
      "Epoch 34/100\n",
      "20/20 [==============================] - 1s - loss: 0.2027 - acc: 1.0000 - val_loss: 1.4784 - val_acc: 0.5000\n",
      "Epoch 35/100\n",
      "20/20 [==============================] - 1s - loss: 0.1065 - acc: 1.0000 - val_loss: 1.5536 - val_acc: 0.5000\n",
      "Epoch 36/100\n",
      "20/20 [==============================] - 1s - loss: 0.2036 - acc: 0.9500 - val_loss: 1.5938 - val_acc: 0.5000\n",
      "Epoch 37/100\n",
      "20/20 [==============================] - 1s - loss: 0.0976 - acc: 1.0000 - val_loss: 1.5876 - val_acc: 0.5500\n",
      "Epoch 38/100\n",
      "20/20 [==============================] - 1s - loss: 0.0954 - acc: 1.0000 - val_loss: 1.6051 - val_acc: 0.5000\n",
      "Epoch 39/100\n",
      "20/20 [==============================] - 1s - loss: 0.0932 - acc: 1.0000 - val_loss: 1.6308 - val_acc: 0.5000\n",
      "Epoch 40/100\n",
      "20/20 [==============================] - 1s - loss: 0.0914 - acc: 1.0000 - val_loss: 1.6651 - val_acc: 0.5000\n",
      "Epoch 41/100\n",
      "20/20 [==============================] - 1s - loss: 0.0903 - acc: 1.0000 - val_loss: 1.7045 - val_acc: 0.5000\n",
      "Epoch 42/100\n",
      "20/20 [==============================] - 1s - loss: 0.1830 - acc: 0.9500 - val_loss: 1.7756 - val_acc: 0.5000\n",
      "Epoch 43/100\n",
      "20/20 [==============================] - 1s - loss: 0.0861 - acc: 1.0000 - val_loss: 1.6942 - val_acc: 0.5000\n",
      "Epoch 44/100\n",
      "20/20 [==============================] - 1s - loss: 0.1536 - acc: 1.0000 - val_loss: 1.6691 - val_acc: 0.5000\n",
      "Epoch 45/100\n",
      "20/20 [==============================] - 1s - loss: 0.0815 - acc: 1.0000 - val_loss: 1.6022 - val_acc: 0.5000\n",
      "Epoch 46/100\n",
      "20/20 [==============================] - 1s - loss: 0.0793 - acc: 1.0000 - val_loss: 1.5630 - val_acc: 0.5000\n",
      "Epoch 47/100\n",
      "20/20 [==============================] - 1s - loss: 0.0776 - acc: 1.0000 - val_loss: 1.5416 - val_acc: 0.5000\n",
      "Epoch 48/100\n",
      "20/20 [==============================] - 1s - loss: 0.0760 - acc: 1.0000 - val_loss: 1.5541 - val_acc: 0.5000\n",
      "Epoch 49/100\n",
      "20/20 [==============================] - 1s - loss: 0.0738 - acc: 1.0000 - val_loss: 1.5739 - val_acc: 0.5000\n",
      "Epoch 50/100\n",
      "20/20 [==============================] - 1s - loss: 0.0717 - acc: 1.0000 - val_loss: 1.6045 - val_acc: 0.5000\n",
      "Epoch 51/100\n",
      "20/20 [==============================] - 1s - loss: 0.0696 - acc: 1.0000 - val_loss: 1.6404 - val_acc: 0.5500\n",
      "Epoch 52/100\n",
      "20/20 [==============================] - 1s - loss: 0.0679 - acc: 1.0000 - val_loss: 1.6757 - val_acc: 0.5500\n",
      "Epoch 53/100\n",
      "20/20 [==============================] - 1s - loss: 0.0662 - acc: 1.0000 - val_loss: 1.7132 - val_acc: 0.5500\n",
      "Epoch 54/100\n",
      "20/20 [==============================] - 1s - loss: 0.1368 - acc: 1.0000 - val_loss: 1.8615 - val_acc: 0.5500\n",
      "Epoch 55/100\n",
      "20/20 [==============================] - 1s - loss: 0.0632 - acc: 1.0000 - val_loss: 1.9208 - val_acc: 0.5500\n",
      "Epoch 56/100\n",
      "20/20 [==============================] - 1s - loss: 0.0618 - acc: 1.0000 - val_loss: 1.9442 - val_acc: 0.5500\n",
      "Epoch 57/100\n",
      "20/20 [==============================] - 1s - loss: 0.0601 - acc: 1.0000 - val_loss: 1.9476 - val_acc: 0.5500\n",
      "Epoch 58/100\n",
      "20/20 [==============================] - 1s - loss: 0.1241 - acc: 1.0000 - val_loss: 1.9924 - val_acc: 0.5500\n",
      "Epoch 59/100\n",
      "20/20 [==============================] - 1s - loss: 0.0581 - acc: 1.0000 - val_loss: 2.0067 - val_acc: 0.5000\n",
      "Epoch 60/100\n",
      "20/20 [==============================] - 1s - loss: 0.0565 - acc: 1.0000 - val_loss: 1.9954 - val_acc: 0.5000\n",
      "Epoch 61/100\n",
      "20/20 [==============================] - 1s - loss: 0.0551 - acc: 1.0000 - val_loss: 1.9586 - val_acc: 0.5000\n",
      "Epoch 62/100\n",
      "20/20 [==============================] - 1s - loss: 0.0543 - acc: 1.0000 - val_loss: 1.9406 - val_acc: 0.5000\n",
      "Epoch 63/100\n",
      "20/20 [==============================] - 1s - loss: 0.1133 - acc: 1.0000 - val_loss: 2.0112 - val_acc: 0.5000\n",
      "Epoch 64/100\n",
      "20/20 [==============================] - 1s - loss: 0.0525 - acc: 1.0000 - val_loss: 1.9963 - val_acc: 0.5000\n",
      "Epoch 65/100\n",
      "20/20 [==============================] - 1s - loss: 0.0511 - acc: 1.0000 - val_loss: 1.9914 - val_acc: 0.5000\n",
      "Epoch 66/100\n",
      "20/20 [==============================] - 1s - loss: 0.1156 - acc: 1.0000 - val_loss: 2.0689 - val_acc: 0.5000\n",
      "Epoch 67/100\n",
      "20/20 [==============================] - 1s - loss: 0.0489 - acc: 1.0000 - val_loss: 1.9350 - val_acc: 0.5000\n",
      "Epoch 68/100\n",
      "20/20 [==============================] - 1s - loss: 0.1080 - acc: 1.0000 - val_loss: 1.9509 - val_acc: 0.5000\n",
      "Epoch 69/100\n",
      "20/20 [==============================] - 1s - loss: 0.0479 - acc: 1.0000 - val_loss: 1.8769 - val_acc: 0.5000\n",
      "Epoch 70/100\n",
      "20/20 [==============================] - 1s - loss: 0.0472 - acc: 1.0000 - val_loss: 1.8317 - val_acc: 0.5000\n",
      "Epoch 71/100\n",
      "20/20 [==============================] - 1s - loss: 0.1034 - acc: 1.0000 - val_loss: 1.8955 - val_acc: 0.5000\n",
      "Epoch 72/100\n",
      "20/20 [==============================] - 1s - loss: 0.0456 - acc: 1.0000 - val_loss: 1.8874 - val_acc: 0.5000\n",
      "Epoch 73/100\n",
      "20/20 [==============================] - 1s - loss: 0.0447 - acc: 1.0000 - val_loss: 1.8860 - val_acc: 0.5000\n",
      "Epoch 74/100\n",
      "20/20 [==============================] - 1s - loss: 0.0435 - acc: 1.0000 - val_loss: 1.8896 - val_acc: 0.5000\n",
      "Epoch 75/100\n",
      "20/20 [==============================] - 1s - loss: 0.0428 - acc: 1.0000 - val_loss: 1.8978 - val_acc: 0.5000\n",
      "Epoch 76/100\n",
      "20/20 [==============================] - 1s - loss: 0.0418 - acc: 1.0000 - val_loss: 1.9103 - val_acc: 0.5000\n",
      "Epoch 77/100\n",
      "20/20 [==============================] - 1s - loss: 0.0411 - acc: 1.0000 - val_loss: 1.9145 - val_acc: 0.5000\n",
      "Epoch 78/100\n",
      "20/20 [==============================] - 1s - loss: 0.0932 - acc: 1.0000 - val_loss: 2.0227 - val_acc: 0.5000\n",
      "Epoch 79/100\n",
      "20/20 [==============================] - 1s - loss: 0.0395 - acc: 1.0000 - val_loss: 2.0117 - val_acc: 0.5000\n",
      "Epoch 80/100\n",
      "20/20 [==============================] - 1s - loss: 0.0387 - acc: 1.0000 - val_loss: 2.0164 - val_acc: 0.5000\n",
      "Epoch 81/100\n",
      "20/20 [==============================] - 1s - loss: 0.0386 - acc: 1.0000 - val_loss: 2.0173 - val_acc: 0.5000\n",
      "Epoch 82/100\n",
      "20/20 [==============================] - 1s - loss: 0.0375 - acc: 1.0000 - val_loss: 2.0190 - val_acc: 0.5000\n",
      "Epoch 83/100\n",
      "20/20 [==============================] - 1s - loss: 0.0876 - acc: 1.0000 - val_loss: 2.1065 - val_acc: 0.5000\n",
      "Epoch 84/100\n",
      "20/20 [==============================] - 1s - loss: 0.0364 - acc: 1.0000 - val_loss: 2.0712 - val_acc: 0.5000\n",
      "Epoch 85/100\n",
      "20/20 [==============================] - 1s - loss: 0.0871 - acc: 1.0000 - val_loss: 2.1356 - val_acc: 0.5000\n",
      "Epoch 86/100\n",
      "20/20 [==============================] - 1s - loss: 0.0352 - acc: 1.0000 - val_loss: 2.0918 - val_acc: 0.5000\n",
      "Epoch 87/100\n",
      "20/20 [==============================] - 1s - loss: 0.0845 - acc: 1.0000 - val_loss: 2.1697 - val_acc: 0.5000\n",
      "Epoch 88/100\n",
      "20/20 [==============================] - 1s - loss: 0.0340 - acc: 1.0000 - val_loss: 2.1281 - val_acc: 0.5000\n",
      "Epoch 89/100\n",
      "20/20 [==============================] - 1s - loss: 0.0337 - acc: 1.0000 - val_loss: 2.1122 - val_acc: 0.5000\n",
      "Epoch 90/100\n",
      "20/20 [==============================] - 1s - loss: 0.0329 - acc: 1.0000 - val_loss: 2.1050 - val_acc: 0.5000\n",
      "Epoch 91/100\n",
      "20/20 [==============================] - 1s - loss: 0.0323 - acc: 1.0000 - val_loss: 2.0963 - val_acc: 0.5000\n",
      "Epoch 92/100\n",
      "20/20 [==============================] - 1s - loss: 0.0319 - acc: 1.0000 - val_loss: 2.0960 - val_acc: 0.5000\n",
      "Epoch 93/100\n",
      "20/20 [==============================] - 1s - loss: 0.0315 - acc: 1.0000 - val_loss: 2.0958 - val_acc: 0.5000\n",
      "Epoch 94/100\n",
      "20/20 [==============================] - 1s - loss: 0.0774 - acc: 1.0000 - val_loss: 2.1569 - val_acc: 0.5000\n",
      "Epoch 95/100\n",
      "20/20 [==============================] - 1s - loss: 0.0304 - acc: 1.0000 - val_loss: 2.1271 - val_acc: 0.5000\n",
      "Epoch 96/100\n",
      "20/20 [==============================] - 1s - loss: 0.0299 - acc: 1.0000 - val_loss: 2.1029 - val_acc: 0.5000\n",
      "Epoch 97/100\n",
      "20/20 [==============================] - 1s - loss: 0.0297 - acc: 1.0000 - val_loss: 2.0841 - val_acc: 0.5000\n",
      "Epoch 98/100\n",
      "20/20 [==============================] - 1s - loss: 0.0295 - acc: 1.0000 - val_loss: 2.0760 - val_acc: 0.5000\n",
      "Epoch 99/100\n",
      "20/20 [==============================] - 1s - loss: 0.0288 - acc: 1.0000 - val_loss: 2.0633 - val_acc: 0.5000\n",
      "Epoch 100/100\n",
      "20/20 [==============================] - 1s - loss: 0.0283 - acc: 1.0000 - val_loss: 2.0554 - val_acc: 0.5000\n"
     ]
    }
   ],
   "source": [
    "nr_epochs = 100\n",
    "datasize = 20\n",
    "history = small_model.fit(X_train[:datasize,:,:], y_train_binary[:datasize,:],\n",
    "              nb_epoch=nr_epochs, validation_data=(X_val, y_val_binary), batch_size=10)"
   ]
  },
  {
   "cell_type": "markdown",
   "metadata": {},
   "source": [
    "## Test on Testset"
   ]
  },
  {
   "cell_type": "code",
   "execution_count": 33,
   "metadata": {
    "collapsed": false
   },
   "outputs": [
    {
     "name": "stdout",
     "output_type": "stream",
     "text": [
      "Score of best model: [0.96918404102325439, 0.5]\n"
     ]
    }
   ],
   "source": [
    "score_test = best_model.evaluate(X_test, y_test_binary, verbose=False)\n",
    "print('Score of best model: ' + str(score_test))"
   ]
  },
  {
   "cell_type": "code",
   "execution_count": 34,
   "metadata": {
    "collapsed": false
   },
   "outputs": [
    {
     "data": {
      "text/plain": [
       "{'class_name': 'BatchNormalization',\n",
       " 'config': {'axis': 2,\n",
       "  'batch_input_shape': (None, 1280, 14),\n",
       "  'epsilon': 1e-06,\n",
       "  'input_dtype': 'float32',\n",
       "  'mode': 0,\n",
       "  'momentum': 0.9,\n",
       "  'name': 'batchnormalization_1',\n",
       "  'trainable': True}}"
      ]
     },
     "execution_count": 34,
     "metadata": {},
     "output_type": "execute_result"
    }
   ],
   "source": [
    "best_model.get_config()[0]"
   ]
  },
  {
   "cell_type": "code",
   "execution_count": null,
   "metadata": {
    "collapsed": true
   },
   "outputs": [],
   "source": []
  },
  {
   "cell_type": "code",
   "execution_count": null,
   "metadata": {
    "collapsed": true
   },
   "outputs": [],
   "source": []
  },
  {
   "cell_type": "code",
   "execution_count": null,
   "metadata": {
    "collapsed": true
   },
   "outputs": [],
   "source": []
  }
 ],
 "metadata": {
  "kernelspec": {
   "display_name": "Python 3",
   "language": "python",
   "name": "python3"
  },
  "language_info": {
   "codemirror_mode": {
    "name": "ipython",
    "version": 3
   },
   "file_extension": ".py",
   "mimetype": "text/x-python",
   "name": "python",
   "nbconvert_exporter": "python",
   "pygments_lexer": "ipython3",
   "version": "3.5.2"
  }
 },
 "nbformat": 4,
 "nbformat_minor": 0
}
