{
 "cells": [
  {
   "cell_type": "code",
   "execution_count": 1,
   "metadata": {
    "collapsed": true
   },
   "outputs": [],
   "source": [
    "import numpy as np\n",
    "import pandas as pd\n",
    "from os import listdir\n",
    "from numpy import genfromtxt"
   ]
  },
  {
   "cell_type": "markdown",
   "metadata": {},
   "source": [
    "## Get data"
   ]
  },
  {
   "cell_type": "code",
   "execution_count": 2,
   "metadata": {
    "collapsed": true
   },
   "outputs": [],
   "source": [
    "studyname = 'UCR' "
   ]
  },
  {
   "cell_type": "code",
   "execution_count": 3,
   "metadata": {
    "collapsed": false
   },
   "outputs": [],
   "source": [
    "def getdata(studyname,printfilenames):\n",
    "    if studyname == 'Utrecht':\n",
    "        #datadir = \"/home/vincent/estep/data/utrecht\"\n",
    "        datadir = \"/media/windows-share/utrecht_eeg\"\n",
    "        multivar = True #False # Are this Multivariate time series TRUE or FALSE\n",
    "        labloc = \"/home/vincent/estep/data/utrecht_labels.csv\" # labels in column 1 (0), row 1 (1), or name of file\n",
    "        timecol = True # time series per column (True) or per row (False)\n",
    "    elif studyname == 'UCR':\n",
    "        datadir = \"/home/vincent/estep/data/UCR_TS_Archive_2015/50words\"\n",
    "        multivar = False # Are this Multivariate time series TRUE or FALSE\n",
    "        labloc = 0 # Classifcation labels in column 1 (0), row 1 (1), seperate file (2)\n",
    "        timecol = False # time series per column (True) or per row (False)\n",
    "    else:\n",
    "        raise ValueError(str(studyname) + ' is not a valid studyname')\n",
    "    #============================================================================\n",
    "    # Identify number of files and filetype based on datadir\n",
    "    filenames = listdir(datadir)\n",
    "    Nfiles = len(filenames) # number of files\n",
    "    # Investigate what format the first file has by trying out a variety of reading attempts\n",
    "    path = datadir + '/' + filenames[0]\n",
    "    delimiter = [None,','] #possible delimiter values\n",
    "    skiprows=[0,1]\n",
    "    ntests = len(delimiter)*len(skiprows)\n",
    "    df = pd.DataFrame(index=range(ntests),columns=['delimiter','skiprows','nrow','ncol','first cell'])\n",
    "    cnt = 0\n",
    "    for di in delimiter:\n",
    "        for si in skiprows:\n",
    "            try:\n",
    "                F1 = np.loadtxt(fname=path,delimiter=di,skiprows=si)\n",
    "                df['delimiter'][cnt] = di\n",
    "                df['skiprows'][cnt] = si\n",
    "                df['nrow'][cnt] = F1.shape[0]\n",
    "                df['ncol'][cnt] = F1.shape[1]\n",
    "                df['first cell'][cnt] = F1[0,1]\n",
    "            except:\n",
    "                df['delimiter'][cnt] = di\n",
    "                df['skiprows'][cnt] = si\n",
    "                df['nrow'][cnt] = 0\n",
    "                df['ncol'][cnt] = 0\n",
    "                df['first cell'][cnt] = 0\n",
    "            cnt = cnt + 1\n",
    "    # df is now a dataframe with information to help identify how the data should be loaded\n",
    "    # load one file based on the extracted information on fileformat\n",
    "    form = df[df.nrow == max(df.nrow)] # extraction procedure that resulted in the largest number of rows is the best\n",
    "    if form.shape[0] > 1:\n",
    "        form = df[df.ncol == max(df.ncol)] # extraction procedure that resulted in the largest number of columns\n",
    "    if studyname == 'Utrecht':\n",
    "        X = np.zeros((Nfiles,4000,form.ncol)) # hardcoded expected datadimensions\n",
    "    else:\n",
    "        if type(labloc) == int:\n",
    "            #form.nrow\n",
    "            X = np.zeros((0,form.ncol,1)) # hardcoded expected datadimensions\n",
    "            if labloc == 0:\n",
    "                #y = np.zeros((form.nrow,1))\n",
    "                y = np.zeros((0,1))\n",
    "            else: \n",
    "                y = np.zeros((form.ncol,1))\n",
    "        else:\n",
    "            X = np.zeros((0,form.ncol,1))\n",
    "            y = np.zeros((form.ncol,1))\n",
    "    filenamelist = list()\n",
    "    print('processing files:')\n",
    "    jj = 0\n",
    "    j_rowused = 0\n",
    "    j_fileused = 0\n",
    "    while jj < Nfiles: #for jj in range(Nfiles)\n",
    "        if printfilenames:\n",
    "            print(filenames[jj],end=' ')\n",
    "        path = datadir + '/' + filenames[jj]\n",
    "        if (form['delimiter'] == ',').bool():\n",
    "            F2 = np.loadtxt(fname=path,delimiter=',',skiprows=int(form['skiprows']))\n",
    "        else:\n",
    "            F2 = np.loadtxt(fname=path,delimiter=None,skiprows=int(form['skiprows']))\n",
    "                \n",
    "        # Modify F2 to meet expected dimantions:\n",
    "        if studyname == 'Utrecht' and F2.shape[0] >= 4000:\n",
    "            F2 = F2[0:4000,]\n",
    "        elif studyname == 'Utrecht' and F2.shape[0] < 4000:\n",
    "            jj += 1\n",
    "            print(\" NOT ENOUGH DATA\")\n",
    "            continue # we are not interested in files with less than 4000 values\n",
    "        \n",
    "        ## Extract label (y)\n",
    "        labtype = 'int'\n",
    "        if jj == 0 and studyname == 'Utrecht': #for Utrecht we only want to get the y once\n",
    "            if type(labloc) == str:\n",
    "                y = pd.read_csv(labloc, sep=',',header=0)\n",
    "            elif type(labloc) == int:\n",
    "                if labloc == 0:\n",
    "                    y = np.array(F2[:,0], dtype=labtype)\n",
    "                elif labloc == 1:\n",
    "                    y = np.array(F2[0,:], dtype=labtype)\n",
    "        else: # For UCR we want to get all y\n",
    "            if type(labloc) == str:\n",
    "                y = pd.read_csv(labloc, sep=',',header=0)\n",
    "            elif type(labloc) == int:\n",
    "                if labloc == 0:\n",
    "                    tmpa = np.array(F2[:,0],dtype=labtype,ndmin=2).transpose()\n",
    "                    y = np.vstack((y,tmpa))\n",
    "                elif labloc == 1:\n",
    "                    y = np.vstack((y,np.array(F2[0,:], dtype=labtype).transpose()))\n",
    "        ## Extract data (X)\n",
    "        if type(labloc) == str:\n",
    "            if timecol == False:\n",
    "                X[j_fileused,:,:] = F2.transpose()\n",
    "            else:\n",
    "                X[j_fileused,:,:] = F2    \n",
    "        elif type(labloc) == int:\n",
    "            if studyname == 'UCR':\n",
    "                tmpp = np.reshape(F2,(F2.shape[0],F2.shape[1],1))\n",
    "                X = np.vstack((X,tmpp))\n",
    "                j_rowused += F2.shape[0]-1\n",
    "            else:\n",
    "                if labloc == 0:\n",
    "                    X[j_fileused,:,:] = F2[:,1:]\n",
    "                elif labloc == 1:\n",
    "                    X[j_fileused,:,:] = F2[1:,:].transpose()\n",
    "        ## Remember filenames\n",
    "        if studyname == 'Utrecht':\n",
    "            filenamelist.append(filenames[jj])\n",
    "        else:\n",
    "            filenamelist.append(filenames[jj])\n",
    "        jj += 1\n",
    "        j_rowused += 1\n",
    "        j_fileused += 1\n",
    "    return(X, y, filenamelist, Nfiles)"
   ]
  },
  {
   "cell_type": "code",
   "execution_count": 4,
   "metadata": {
    "collapsed": false
   },
   "outputs": [
    {
     "name": "stderr",
     "output_type": "stream",
     "text": [
      "/home/vincent/estep/.venv/lib/python3.4/site-packages/ipykernel/__main__.py:52: VisibleDeprecationWarning: using a non-integer number instead of an integer will result in an error in the future\n"
     ]
    },
    {
     "name": "stdout",
     "output_type": "stream",
     "text": [
      "processing files:\n"
     ]
    }
   ],
   "source": [
    "# get data\n",
    "X, y, filenamelist, Nfiles = getdata(studyname,printfilenames=False)\n"
   ]
  },
  {
   "cell_type": "code",
   "execution_count": 5,
   "metadata": {
    "collapsed": false
   },
   "outputs": [
    {
     "name": "stdout",
     "output_type": "stream",
     "text": [
      "(905, 271, 1) (905, 1) 2 2\n"
     ]
    }
   ],
   "source": [
    "print(X.shape, y.shape, len(filenamelist), Nfiles)"
   ]
  },
  {
   "cell_type": "code",
   "execution_count": 6,
   "metadata": {
    "collapsed": false
   },
   "outputs": [],
   "source": [
    "if studyname == 'Utrecht':\n",
    "    y = y.as_matrix()\n",
    "Xtrain = X[0:300,:,:]\n",
    "ytrain = y[0:300,]\n",
    "Xtest = X[301:,:,:]\n",
    "ytest = y[301:,]"
   ]
  },
  {
   "cell_type": "code",
   "execution_count": 7,
   "metadata": {
    "collapsed": false
   },
   "outputs": [
    {
     "name": "stdout",
     "output_type": "stream",
     "text": [
      "(300, 271, 1) (300, 1) 2\n",
      "(604, 271, 1) (604, 1) 2\n"
     ]
    }
   ],
   "source": [
    "print(Xtrain.shape, ytrain.shape, Nfiles)\n",
    "print(Xtest.shape, ytest.shape, Nfiles)"
   ]
  },
  {
   "cell_type": "code",
   "execution_count": 8,
   "metadata": {
    "collapsed": false
   },
   "outputs": [
    {
     "data": {
      "text/plain": [
       "(300, 1)"
      ]
     },
     "execution_count": 8,
     "metadata": {},
     "output_type": "execute_result"
    }
   ],
   "source": [
    "ytrain.shape"
   ]
  },
  {
   "cell_type": "code",
   "execution_count": 9,
   "metadata": {
    "collapsed": true
   },
   "outputs": [],
   "source": [
    "# For Utrecht data we now need a conversion from y to a y that matches the X"
   ]
  },
  {
   "cell_type": "markdown",
   "metadata": {},
   "source": [
    "# Design and compile some architectures"
   ]
  },
  {
   "cell_type": "code",
   "execution_count": 10,
   "metadata": {
    "collapsed": false
   },
   "outputs": [
    {
     "name": "stderr",
     "output_type": "stream",
     "text": [
      "Using Theano backend.\n"
     ]
    }
   ],
   "source": [
    "# Now, lets try to train some models\n",
    "from keras.models import Sequential\n",
    "from keras.layers import Merge, Dense, Dropout, Activation, LSTM\n",
    "from keras.optimizers import SGD\n",
    "import numpy as np\n",
    "from keras.utils.np_utils import to_categorical"
   ]
  },
  {
   "cell_type": "code",
   "execution_count": 14,
   "metadata": {
    "collapsed": false
   },
   "outputs": [],
   "source": [
    "timesteps = Xtrain.shape[1]\n",
    "if studyname == 'UCR':\n",
    "    data_dim = 1\n",
    "    nb_classes = 51\n",
    "else:\n",
    "    data_dim = 21\n",
    "    nb_classes = 2\n",
    "X_train = Xtrain #np.random.random((100, timesteps))\n",
    "y_train = ytrain #np.random.randint(nb_classes,size=(100,1))\n",
    "X_test = Xtest #np.random.random((100, timesteps))\n",
    "y_test = ytest #np.random.randint(nb_classes,size=(100,1))\n",
    "y_train_original = y_train\n",
    "y_test_original = y_test\n"
   ]
  },
  {
   "cell_type": "code",
   "execution_count": 15,
   "metadata": {
    "collapsed": false
   },
   "outputs": [
    {
     "name": "stderr",
     "output_type": "stream",
     "text": [
      "/home/vincent/estep/.venv/lib/python3.4/site-packages/keras/utils/np_utils.py:14: VisibleDeprecationWarning: using a non-integer number instead of an integer will result in an error in the future\n",
      "  Y = np.zeros((len(y), nb_classes))\n",
      "/home/vincent/estep/.venv/lib/python3.4/site-packages/keras/utils/np_utils.py:16: VisibleDeprecationWarning: using a non-integer number instead of an integer will result in an error in the future\n",
      "  Y[i, y[i]] = 1.\n"
     ]
    }
   ],
   "source": [
    "y_train = to_categorical(np.squeeze(y_train))\n",
    "y_test = to_categorical(np.squeeze(y_test))"
   ]
  },
  {
   "cell_type": "code",
   "execution_count": 16,
   "metadata": {
    "collapsed": false
   },
   "outputs": [
    {
     "data": {
      "text/plain": [
       "(300, 51)"
      ]
     },
     "execution_count": 16,
     "metadata": {},
     "output_type": "execute_result"
    }
   ],
   "source": [
    "y_train.shape"
   ]
  },
  {
   "cell_type": "code",
   "execution_count": 17,
   "metadata": {
    "collapsed": true
   },
   "outputs": [],
   "source": [
    "model = Sequential()\n",
    "# Dense(64) is a fully-connected layer with 64 hidden units.\n",
    "idim = timesteps\n",
    "model.add(Dense(64, input_dim=idim, init='uniform'))\n",
    "model.add(Activation('relu'))\n",
    "model.add(Dropout(0.5))\n",
    "model.add(Dense(64, init='uniform'))\n",
    "model.add(Activation('relu'))\n",
    "model.add(Dropout(0.5))\n",
    "model.add(Dense(nb_classes, init='uniform'))\n",
    "model.add(Activation('softmax'))\n",
    "sgd = SGD(lr=0.1, decay=1e-6, momentum=0.9, nesterov=True)\n",
    "model.compile(loss='categorical_crossentropy',\n",
    "              optimizer=sgd,\n",
    "              metrics=['accuracy'])"
   ]
  },
  {
   "cell_type": "code",
   "execution_count": 18,
   "metadata": {
    "collapsed": false
   },
   "outputs": [
    {
     "data": {
      "text/plain": [
       "(300, 271, 1)"
      ]
     },
     "execution_count": 18,
     "metadata": {},
     "output_type": "execute_result"
    }
   ],
   "source": [
    "X_train.shape"
   ]
  },
  {
   "cell_type": "code",
   "execution_count": 19,
   "metadata": {
    "collapsed": false
   },
   "outputs": [],
   "source": [
    "# reshape data, because LSTM requires different input format?\n",
    "#X_train2 = np.reshape(X_train,(X_train.shape[0],X_train.shape[1],1))\n",
    "#X_test2 = np.reshape(X_test,(X_test.shape[0],X_test.shape[1],1))"
   ]
  },
  {
   "cell_type": "code",
   "execution_count": 20,
   "metadata": {
    "collapsed": false
   },
   "outputs": [],
   "source": [
    "# let's try out another model\n",
    "model2 = Sequential()\n",
    "model2.add(LSTM(32, return_sequences=True,\n",
    "               input_shape=(X_train.shape[1], X_train.shape[2])))  # returns a sequence of vectors of dimension 32\n",
    "model2.add(LSTM(32, return_sequences=True))  # returns a sequence of vectors of dimension 32\n",
    "model2.add(LSTM(32))  # return a single vector of dimension 32\n",
    "model2.add(Dense(nb_classes, activation='softmax'))\n",
    "model2.compile(loss='categorical_crossentropy',\n",
    "              optimizer='rmsprop',\n",
    "              metrics=['accuracy'])"
   ]
  },
  {
   "cell_type": "markdown",
   "metadata": {},
   "source": [
    "# Fit the architectures / models"
   ]
  },
  {
   "cell_type": "code",
   "execution_count": 21,
   "metadata": {
    "collapsed": false
   },
   "outputs": [
    {
     "name": "stdout",
     "output_type": "stream",
     "text": [
      "Train on 240 samples, validate on 60 samples\n",
      "Epoch 1/5\n",
      "240/240 [==============================] - 0s - loss: 3.8605 - acc: 0.1167 - val_loss: 3.7225 - val_acc: 0.2333\n",
      "Epoch 2/5\n",
      "240/240 [==============================] - 0s - loss: 3.3107 - acc: 0.1833 - val_loss: 3.0582 - val_acc: 0.2667\n",
      "Epoch 3/5\n",
      "240/240 [==============================] - 0s - loss: 3.3311 - acc: 0.2042 - val_loss: 3.7447 - val_acc: 0.1833\n",
      "Epoch 4/5\n",
      "240/240 [==============================] - 0s - loss: 4.2249 - acc: 0.1958 - val_loss: 3.8650 - val_acc: 0.1833\n",
      "Epoch 5/5\n",
      "240/240 [==============================] - 0s - loss: 4.9344 - acc: 0.1375 - val_loss: 4.3264 - val_acc: 0.2000\n"
     ]
    }
   ],
   "source": [
    "#Fit model and store history of the fitting process\n",
    "if studyname == 'UCR':\n",
    "    X_train_tmp  = X_train\n",
    "    X_train_tmp = np.reshape(X_train,(X_train.shape[0],X_train.shape[1]))\n",
    "    History = model.fit(X_train_tmp, y_train,\n",
    "              nb_epoch=5,batch_size=20,validation_split=0.2)\n",
    "else:\n",
    "    History = model.fit(X_train, y_train,\n",
    "              nb_epoch=5,batch_size=20,validation_split=0.2)\n"
   ]
  },
  {
   "cell_type": "code",
   "execution_count": 22,
   "metadata": {
    "collapsed": false
   },
   "outputs": [
    {
     "name": "stdout",
     "output_type": "stream",
     "text": [
      "Train on 240 samples, validate on 60 samples\n",
      "Epoch 1/5\n",
      "240/240 [==============================] - 6s - loss: 3.8581 - acc: 0.0458 - val_loss: 3.8588 - val_acc: 0.1000\n",
      "Epoch 2/5\n",
      "240/240 [==============================] - 5s - loss: 3.6802 - acc: 0.1250 - val_loss: 3.8027 - val_acc: 0.1500\n",
      "Epoch 3/5\n",
      "240/240 [==============================] - 4s - loss: 3.5556 - acc: 0.1792 - val_loss: 3.7692 - val_acc: 0.1333\n",
      "Epoch 4/5\n",
      "240/240 [==============================] - 4s - loss: 3.4780 - acc: 0.1875 - val_loss: 3.7708 - val_acc: 0.1000\n",
      "Epoch 5/5\n",
      "240/240 [==============================] - 4s - loss: 3.3937 - acc: 0.2000 - val_loss: 3.7339 - val_acc: 0.1167\n"
     ]
    }
   ],
   "source": [
    "#Fit model and store history of the fitting process\n",
    "History2 = model2.fit(X_train, y_train,batch_size=20,\n",
    "                      nb_epoch=5,verbose=True,validation_split=0.2)"
   ]
  },
  {
   "cell_type": "markdown",
   "metadata": {},
   "source": [
    "# Evaluate models on test set"
   ]
  },
  {
   "cell_type": "code",
   "execution_count": 23,
   "metadata": {
    "collapsed": false
   },
   "outputs": [
    {
     "name": "stdout",
     "output_type": "stream",
     "text": [
      "Model 1: [5.2090520021931228, 0.21854304961416104]\n",
      "Model 2: [3.4804083353636281, 0.1870860971066336]\n"
     ]
    }
   ],
   "source": [
    "X_test_tmp  = X_test\n",
    "X_test_tmp = np.reshape(X_test,(X_test.shape[0],X_test.shape[1]))\n",
    "\n",
    "score = model.evaluate(X_test_tmp, y_test, batch_size=20,verbose=False)\n",
    "print('Model 1: ' + str(score))\n",
    "score2 = model2.evaluate(X_test, y_test, batch_size=20,verbose=False)\n",
    "print('Model 2: ' + str(score2))"
   ]
  },
  {
   "cell_type": "code",
   "execution_count": 24,
   "metadata": {
    "collapsed": false
   },
   "outputs": [
    {
     "name": "stdout",
     "output_type": "stream",
     "text": [
      "604/604 [==============================] - 2s     \n",
      "604/604 [==============================] - 4s     \n"
     ]
    }
   ],
   "source": [
    "classes = model.predict_classes(X_test_tmp, batch_size=20)\n",
    "proba = model.predict_proba(X_test_tmp, batch_size=20)\n",
    "\n",
    "classes2 = model2.predict_classes(X_test, batch_size=20)\n",
    "proba2 = model2.predict_proba(X_test, batch_size=20)"
   ]
  },
  {
   "cell_type": "code",
   "execution_count": 25,
   "metadata": {
    "collapsed": false
   },
   "outputs": [
    {
     "data": {
      "text/plain": [
       "array([[73, 34,  6, ...,  1,  0,  1],\n",
       "       [ 4, 23,  2, ...,  0,  0,  0],\n",
       "       [ 1,  0, 25, ...,  0,  1,  0],\n",
       "       ..., \n",
       "       [ 0,  0,  0, ...,  0,  0,  0],\n",
       "       [ 0,  0,  0, ...,  0,  0,  0],\n",
       "       [ 0,  0,  0, ...,  0,  0,  0]])"
      ]
     },
     "execution_count": 25,
     "metadata": {},
     "output_type": "execute_result"
    }
   ],
   "source": [
    "from sklearn import metrics\n",
    "metrics.confusion_matrix(classes, y_test_original)"
   ]
  },
  {
   "cell_type": "code",
   "execution_count": 26,
   "metadata": {
    "collapsed": false
   },
   "outputs": [
    {
     "data": {
      "text/plain": [
       "array([[56, 13,  2, ...,  0,  0,  4],\n",
       "       [14, 22,  1, ...,  0,  0,  0],\n",
       "       [ 8, 22, 35, ...,  3,  5,  0],\n",
       "       ..., \n",
       "       [ 0,  0,  0, ...,  0,  0,  0],\n",
       "       [ 0,  0,  0, ...,  0,  0,  0],\n",
       "       [ 0,  0,  0, ...,  0,  0,  0]])"
      ]
     },
     "execution_count": 26,
     "metadata": {},
     "output_type": "execute_result"
    }
   ],
   "source": [
    "metrics.confusion_matrix(classes2, y_test_original)"
   ]
  },
  {
   "cell_type": "code",
   "execution_count": 27,
   "metadata": {
    "collapsed": false,
    "scrolled": true
   },
   "outputs": [
    {
     "ename": "ValueError",
     "evalue": "all the input array dimensions except for the concatenation axis must match exactly",
     "output_type": "error",
     "traceback": [
      "\u001b[1;31m---------------------------------------------------------------------------\u001b[0m",
      "\u001b[1;31mValueError\u001b[0m                                Traceback (most recent call last)",
      "\u001b[1;32m<ipython-input-27-e885fb194b9b>\u001b[0m in \u001b[0;36m<module>\u001b[1;34m()\u001b[0m\n\u001b[1;32m----> 1\u001b[1;33m \u001b[0mprint\u001b[0m\u001b[1;33m(\u001b[0m\u001b[0mnp\u001b[0m\u001b[1;33m.\u001b[0m\u001b[0mhstack\u001b[0m\u001b[1;33m(\u001b[0m\u001b[1;33m(\u001b[0m\u001b[0mproba2\u001b[0m\u001b[1;33m,\u001b[0m \u001b[0mnp\u001b[0m\u001b[1;33m.\u001b[0m\u001b[0mvstack\u001b[0m\u001b[1;33m(\u001b[0m\u001b[1;33m(\u001b[0m\u001b[0mclasses\u001b[0m\u001b[1;33m,\u001b[0m \u001b[0my_test_original\u001b[0m\u001b[1;33m)\u001b[0m\u001b[1;33m)\u001b[0m\u001b[1;33m.\u001b[0m\u001b[0mtranspose\u001b[0m\u001b[1;33m(\u001b[0m\u001b[1;33m)\u001b[0m\u001b[1;33m)\u001b[0m\u001b[1;33m)\u001b[0m\u001b[1;33m)\u001b[0m\u001b[1;33m\u001b[0m\u001b[0m\n\u001b[0m",
      "\u001b[1;32m/home/vincent/estep/.venv/lib/python3.4/site-packages/numpy/core/shape_base.py\u001b[0m in \u001b[0;36mvstack\u001b[1;34m(tup)\u001b[0m\n\u001b[0;32m    228\u001b[0m \u001b[1;33m\u001b[0m\u001b[0m\n\u001b[0;32m    229\u001b[0m     \"\"\"\n\u001b[1;32m--> 230\u001b[1;33m     \u001b[1;32mreturn\u001b[0m \u001b[0m_nx\u001b[0m\u001b[1;33m.\u001b[0m\u001b[0mconcatenate\u001b[0m\u001b[1;33m(\u001b[0m\u001b[1;33m[\u001b[0m\u001b[0matleast_2d\u001b[0m\u001b[1;33m(\u001b[0m\u001b[0m_m\u001b[0m\u001b[1;33m)\u001b[0m \u001b[1;32mfor\u001b[0m \u001b[0m_m\u001b[0m \u001b[1;32min\u001b[0m \u001b[0mtup\u001b[0m\u001b[1;33m]\u001b[0m\u001b[1;33m,\u001b[0m \u001b[1;36m0\u001b[0m\u001b[1;33m)\u001b[0m\u001b[1;33m\u001b[0m\u001b[0m\n\u001b[0m\u001b[0;32m    231\u001b[0m \u001b[1;33m\u001b[0m\u001b[0m\n\u001b[0;32m    232\u001b[0m \u001b[1;32mdef\u001b[0m \u001b[0mhstack\u001b[0m\u001b[1;33m(\u001b[0m\u001b[0mtup\u001b[0m\u001b[1;33m)\u001b[0m\u001b[1;33m:\u001b[0m\u001b[1;33m\u001b[0m\u001b[0m\n",
      "\u001b[1;31mValueError\u001b[0m: all the input array dimensions except for the concatenation axis must match exactly"
     ]
    }
   ],
   "source": [
    "print(np.hstack((proba2, np.vstack((classes, y_test_original)).transpose())))"
   ]
  },
  {
   "cell_type": "code",
   "execution_count": null,
   "metadata": {
    "collapsed": false
   },
   "outputs": [],
   "source": [
    "print(np.hstack((proba2, np.vstack((classes2, y_test_original)).transpose())))"
   ]
  },
  {
   "cell_type": "markdown",
   "metadata": {},
   "source": [
    "# Plot training process"
   ]
  },
  {
   "cell_type": "code",
   "execution_count": 28,
   "metadata": {
    "collapsed": true
   },
   "outputs": [],
   "source": [
    "#set up conditions for plotting\n",
    "import matplotlib.pyplot as plt\n",
    "%matplotlib inline"
   ]
  },
  {
   "cell_type": "code",
   "execution_count": 29,
   "metadata": {
    "collapsed": false
   },
   "outputs": [
    {
     "data": {
      "text/plain": [
       "<matplotlib.text.Text at 0x7f9588e485f8>"
      ]
     },
     "execution_count": 29,
     "metadata": {},
     "output_type": "execute_result"
    },
    {
     "data": {
      "image/png": "[encoded data removed]",
      "text/plain": [
       "<matplotlib.figure.Figure at 0x7f9588ee2dd8>"
      ]
     },
     "metadata": {},
     "output_type": "display_data"
    }
   ],
   "source": [
    "# plot loss and accuracy for model 2\n",
    "fig, ax1 = plt.subplots()\n",
    "ax2 = ax1.twinx()\n",
    "LN = len(History.history['val_loss'])\n",
    "ax1.plot(range(LN),History.history['val_loss'],'g-')\n",
    "ax2.plot(range(LN),History.history['val_acc'],'b-')\n",
    "ax1.set_xlabel('epoch')\n",
    "ax1.set_ylabel('loss',color='g')\n",
    "ax2.set_ylabel('accuracy',color='b')\n",
    "plt.title('Model 1')"
   ]
  },
  {
   "cell_type": "code",
   "execution_count": 30,
   "metadata": {
    "collapsed": false
   },
   "outputs": [
    {
     "data": {
      "text/plain": [
       "<matplotlib.text.Text at 0x7f9588d47b38>"
      ]
     },
     "execution_count": 30,
     "metadata": {},
     "output_type": "execute_result"
    },
    {
     "data": {
      "image/png": "[encoded data removed]",
      "text/plain": [
       "<matplotlib.figure.Figure at 0x7f9588efea58>"
      ]
     },
     "metadata": {},
     "output_type": "display_data"
    }
   ],
   "source": [
    "# plot loss and accuracy for model 2\n",
    "fig, ax1 = plt.subplots()\n",
    "ax2 = ax1.twinx()\n",
    "LN = len(History2.history['val_loss'])\n",
    "ax1.plot(range(LN),History2.history['val_loss'],'g-')\n",
    "ax2.plot(range(LN),History2.history['val_acc'],'b-')\n",
    "ax1.set_xlabel('epoch')\n",
    "ax1.set_ylabel('loss',color='g')\n",
    "ax2.set_ylabel('accuracy',color='b')\n",
    "plt.title('Model 2')"
   ]
  },
  {
   "cell_type": "code",
   "execution_count": null,
   "metadata": {
    "collapsed": true
   },
   "outputs": [],
   "source": []
  },
  {
   "cell_type": "code",
   "execution_count": null,
   "metadata": {
    "collapsed": true
   },
   "outputs": [],
   "source": []
  },
  {
   "cell_type": "code",
   "execution_count": null,
   "metadata": {
    "collapsed": true
   },
   "outputs": [],
   "source": []
  },
  {
   "cell_type": "code",
   "execution_count": null,
   "metadata": {
    "collapsed": true
   },
   "outputs": [],
   "source": []
  },
  {
   "cell_type": "code",
   "execution_count": null,
   "metadata": {
    "collapsed": true
   },
   "outputs": [],
   "source": []
  }
 ],
 "metadata": {
  "kernelspec": {
   "display_name": "Python 3",
   "language": "python",
   "name": "python3"
  },
  "language_info": {
   "codemirror_mode": {
    "name": "ipython",
    "version": 3
   },
   "file_extension": ".py",
   "mimetype": "text/x-python",
   "name": "python",
   "nbconvert_exporter": "python",
   "pygments_lexer": "ipython3",
   "version": "3.4.3"
  }
 },
 "nbformat": 4,
 "nbformat_minor": 0
}
