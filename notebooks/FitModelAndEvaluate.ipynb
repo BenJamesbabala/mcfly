{
 "cells": [
  {
   "cell_type": "code",
   "execution_count": 1,
   "metadata": {
    "collapsed": true
   },
   "outputs": [],
   "source": [
    "import numpy as np\n",
    "import pandas as pd\n",
    "from os import listdir\n",
    "from numpy import genfromtxt"
   ]
  },
  {
   "cell_type": "markdown",
   "metadata": {},
   "source": [
    "## Get data"
   ]
  },
  {
   "cell_type": "code",
   "execution_count": 35,
   "metadata": {
    "collapsed": true
   },
   "outputs": [],
   "source": [
    "studyname = 'Utrecht' \n",
    "fileindex = 0"
   ]
  },
  {
   "cell_type": "code",
   "execution_count": 38,
   "metadata": {
    "collapsed": false
   },
   "outputs": [],
   "source": [
    "def getdata(studyname,fileindex):\n",
    "    if studyname == 'Utrecht':\n",
    "        #datadir = \"/home/vincent/estep/data/utrecht\"\n",
    "        datadir = \"/media/windows-share/utrecht_eeg\"\n",
    "        multivar = True #False # Are this Multivariate time series TRUE or FALSE\n",
    "        multiclass = False\n",
    "        Nfilesperelement = 4 #there are four files per patient\n",
    "        labloc = \"/home/vincent/estep/data/utrecht_labels.csv\" # labels in column 1 (0), row 1 (1), or name of file\n",
    "        idbloc = 2 # Id in column 1 (0), row 1 (1), seperate file (2), not applicable (3)\n",
    "        timecol = False # time series per column (True) or per row (False)\n",
    "    elif studyname == 'UCR':\n",
    "        datadir = \"/home/vincent/estep/data/UCR_TS_Archive_2015/50words\"\n",
    "        multivar = False # Are this Multivariate time series TRUE or FALSE\n",
    "        multiclass = False\n",
    "        Nfilesperelement = 0 #all elements are in one merged file\n",
    "        labloc = 0 # Classifcation labels in column 1 (0), row 1 (1), seperate file (2)\n",
    "        idbloc = 3 # Id in column 1 (0), row 1 (1), seperate file (2), not applicable (3)\n",
    "        timecol = False # time series per column (True) or per row (False)\n",
    "    else:\n",
    "        raise ValueError(str(studyname) + ' is not a valid studyname')\n",
    "    #============================================================================\n",
    "    # Identify number of files and filetype based on datadir\n",
    "    filenames = listdir(datadir)\n",
    "    Nfiles = len(filenames) # number of files\n",
    "    # Investigate what format the first file has by trying out a variety of reading attempts\n",
    "\n",
    "    path = datadir + '/' + filenames[fileindex]\n",
    "    delimiter = [None,','] #possible delimiter values\n",
    "    skiprows=[0,1]\n",
    "    ntests = len(delimiter)*len(skiprows)\n",
    "    df = pd.DataFrame(index=range(ntests),columns=['delimiter','skiprows','nrow','ncol','first cell'])\n",
    "    cnt = 0\n",
    "    for di in delimiter:\n",
    "        for si in skiprows:\n",
    "            try:\n",
    "                F1 = np.loadtxt(fname=path,delimiter=di,skiprows=si)\n",
    "                df['delimiter'][cnt] = di\n",
    "                df['skiprows'][cnt] = si\n",
    "                df['nrow'][cnt] = F1.shape[0]\n",
    "                df['ncol'][cnt] = F1.shape[1]\n",
    "                df['first cell'][cnt] = F1[0,1]\n",
    "            except:\n",
    "                df['delimiter'][cnt] = di\n",
    "                df['skiprows'][cnt] = si\n",
    "                df['nrow'][cnt] = 0\n",
    "                df['ncol'][cnt] = 0\n",
    "                df['first cell'][cnt] = 0\n",
    "            cnt = cnt + 1\n",
    "    # df is now a dataframe with information to help identify how the data should be loaded\n",
    "    # load one file based on the extracted information on fileformat\n",
    "    form = df[df.nrow == max(df.nrow)] # extraction procedure that resulted in the largest number of rows is the best\n",
    "   \n",
    "    if form.shape[0] > 1:\n",
    "        form = df[df.ncol == max(df.ncol)] # extraction procedure that resulted in the largest number of columns\n",
    "    if (form['delimiter'] == ',').bool():\n",
    "        F2 = np.loadtxt(fname=path,delimiter=',',skiprows=int(form['skiprows']))\n",
    "    else:\n",
    "        F2 = np.loadtxt(fname=path,delimiter=None,skiprows=int(form['skiprows']))\n",
    "    # Extract labels y and data X, and standardize shape of matrix\n",
    "    # Extract data based on newly gained insight into fileformat and data structure\n",
    "    labtype = 'int'\n",
    "    if type(labloc) == str:\n",
    "        #y = genfromtxt(labloc, delimiter=',',skip_header=1) # do we want numpy array or pd dataframe?\n",
    "        y = pd.read_csv(labloc, sep=',',header=0)\n",
    "        #y=pd.read_csv(labloc, sep=',',header=None)\n",
    "        # TO DO: y needs to be converted in simple one dimensional array that alligns with X\n",
    "        # - how can we verify which time series links to which label...both should have a unique key\n",
    "        # - in case of utrecht, the key is in the id in the filename, which is also in y\n",
    "        # - is this generic for all seperate file?\n",
    "        # - no, if there is one class per id then we know that it is file level\n",
    "        # - if there are multiple classes per id (e.g. London data) then we know that it is both between and\n",
    "        # within files\n",
    "        if timecol == False:\n",
    "            X = F2.transpose()\n",
    "        else:\n",
    "            X = F2    \n",
    "    elif type(labloc) == int:\n",
    "        if labloc == 0:\n",
    "            y = np.array(F2[:,0], dtype=labtype)\n",
    "            X = F2[:,1:]\n",
    "        elif labloc == 1:\n",
    "            y = np.array(F2[0,:], dtype=labtype)\n",
    "            X = F2[1:,:].transpose()\n",
    "    filename = filenames[fileindex]\n",
    "    return(X, y, filename, Nfiles)"
   ]
  },
  {
   "cell_type": "code",
   "execution_count": null,
   "metadata": {
    "collapsed": false
   },
   "outputs": [],
   "source": []
  },
  {
   "cell_type": "code",
   "execution_count": 39,
   "metadata": {
    "collapsed": false
   },
   "outputs": [],
   "source": [
    "# get data\n",
    "Xtrain, ytrain, filenametrain, Nfiles = getdata(studyname,fileindex=0)\n",
    "Xtest, ytest, filenametest, Nfiles = getdata(studyname,fileindex=1)"
   ]
  },
  {
   "cell_type": "code",
   "execution_count": 40,
   "metadata": {
    "collapsed": false
   },
   "outputs": [
    {
     "name": "stdout",
     "output_type": "stream",
     "text": [
      "(21, 4606) (451, 4) 451_ep1.TRC.txt 1152\n",
      "(21, 4472) (451, 4) 451_ep2.TRC.txt 1152\n"
     ]
    }
   ],
   "source": [
    "print(Xtrain.shape, ytrain.shape, filenametrain, Nfiles)\n",
    "print(Xtest.shape, ytest.shape, filenametest, Nfiles)"
   ]
  },
  {
   "cell_type": "code",
   "execution_count": 43,
   "metadata": {
    "collapsed": false
   },
   "outputs": [
    {
     "data": {
      "text/plain": [
       "(21, 4606)"
      ]
     },
     "execution_count": 43,
     "metadata": {},
     "output_type": "execute_result"
    }
   ],
   "source": [
    "Xtrain.shape"
   ]
  },
  {
   "cell_type": "markdown",
   "metadata": {},
   "source": [
    "# Design and compile some architectures"
   ]
  },
  {
   "cell_type": "code",
   "execution_count": 6,
   "metadata": {
    "collapsed": false
   },
   "outputs": [
    {
     "name": "stderr",
     "output_type": "stream",
     "text": [
      "Using Theano backend.\n"
     ]
    }
   ],
   "source": [
    "# Now, lets try to train some models\n",
    "from keras.models import Sequential\n",
    "from keras.layers import Merge, Dense, Dropout, Activation, LSTM\n",
    "from keras.optimizers import SGD\n",
    "import numpy as np\n",
    "from keras.utils.np_utils import to_categorical"
   ]
  },
  {
   "cell_type": "code",
   "execution_count": 7,
   "metadata": {
    "collapsed": false
   },
   "outputs": [],
   "source": [
    "#ytrain[ytrain.columns[3]]"
   ]
  },
  {
   "cell_type": "code",
   "execution_count": 13,
   "metadata": {
    "collapsed": false
   },
   "outputs": [],
   "source": [
    "timesteps = Xtrain.shape[1]\n",
    "data_dim = 1\n",
    "nb_classes = 51\n",
    "X_train = Xtrain #np.random.random((100, timesteps))\n",
    "y_train = ytrain #np.random.randint(nb_classes,size=(100,1))\n",
    "X_test = Xtest #np.random.random((100, timesteps))\n",
    "y_test = ytest #np.random.randint(nb_classes,size=(100,1))\n",
    "y_train_original = y_train\n",
    "y_test_original = y_test\n",
    "y_train = to_categorical(y_train)\n",
    "y_test = to_categorical(y_test)"
   ]
  },
  {
   "cell_type": "code",
   "execution_count": 14,
   "metadata": {
    "collapsed": true
   },
   "outputs": [],
   "source": [
    "model = Sequential()\n",
    "# Dense(64) is a fully-connected layer with 64 hidden units.\n",
    "idim = timesteps\n",
    "model.add(Dense(64, input_dim=idim, init='uniform'))\n",
    "model.add(Activation('relu'))\n",
    "model.add(Dropout(0.5))\n",
    "model.add(Dense(64, init='uniform'))\n",
    "model.add(Activation('relu'))\n",
    "model.add(Dropout(0.5))\n",
    "model.add(Dense(nb_classes, init='uniform'))\n",
    "model.add(Activation('softmax'))\n",
    "sgd = SGD(lr=0.1, decay=1e-6, momentum=0.9, nesterov=True)\n",
    "model.compile(loss='categorical_crossentropy',\n",
    "              optimizer=sgd,\n",
    "              metrics=['accuracy'])"
   ]
  },
  {
   "cell_type": "code",
   "execution_count": 15,
   "metadata": {
    "collapsed": false
   },
   "outputs": [],
   "source": [
    "# reshape data, because LSTM requires different input format?\n",
    "X_train2 = np.reshape(X_train,(X_train.shape[0],X_train.shape[1],1))\n",
    "X_test2 = np.reshape(X_test,(X_test.shape[0],X_test.shape[1],1))"
   ]
  },
  {
   "cell_type": "code",
   "execution_count": 16,
   "metadata": {
    "collapsed": false
   },
   "outputs": [],
   "source": [
    "# let's try out another model\n",
    "model2 = Sequential()\n",
    "model2.add(LSTM(32, return_sequences=True,\n",
    "               input_shape=(X_train2.shape[1], X_train2.shape[2])))  # returns a sequence of vectors of dimension 32\n",
    "model2.add(LSTM(32, return_sequences=True))  # returns a sequence of vectors of dimension 32\n",
    "model2.add(LSTM(32))  # return a single vector of dimension 32\n",
    "model2.add(Dense(nb_classes, activation='softmax'))\n",
    "model2.compile(loss='categorical_crossentropy',\n",
    "              optimizer='rmsprop',\n",
    "              metrics=['accuracy'])"
   ]
  },
  {
   "cell_type": "markdown",
   "metadata": {},
   "source": [
    "# Fit the architectures / models"
   ]
  },
  {
   "cell_type": "code",
   "execution_count": 32,
   "metadata": {
    "collapsed": false
   },
   "outputs": [
    {
     "name": "stdout",
     "output_type": "stream",
     "text": [
      "Train on 360 samples, validate on 90 samples\n",
      "Epoch 1/5\n",
      "360/360 [==============================] - 0s - loss: 5.0812 - acc: 0.1194 - val_loss: 6.9773 - val_acc: 0.2000\n",
      "Epoch 2/5\n",
      "360/360 [==============================] - 0s - loss: 5.4725 - acc: 0.1250 - val_loss: 6.8237 - val_acc: 0.2000\n",
      "Epoch 3/5\n",
      "360/360 [==============================] - 0s - loss: 5.3635 - acc: 0.1139 - val_loss: 6.8700 - val_acc: 0.2000\n",
      "Epoch 4/5\n",
      "360/360 [==============================] - 0s - loss: 5.1136 - acc: 0.1000 - val_loss: 6.0435 - val_acc: 0.1444\n",
      "Epoch 5/5\n",
      "360/360 [==============================] - 0s - loss: 4.6833 - acc: 0.1167 - val_loss: 5.4793 - val_acc: 0.1111\n"
     ]
    }
   ],
   "source": [
    "#Fit model and store history of the fitting process\n",
    "History = model.fit(X_train, y_train,\n",
    "          nb_epoch=5,batch_size=20,validation_split=0.2)"
   ]
  },
  {
   "cell_type": "code",
   "execution_count": 18,
   "metadata": {
    "collapsed": false
   },
   "outputs": [
    {
     "name": "stdout",
     "output_type": "stream",
     "text": [
      "Train on 360 samples, validate on 90 samples\n",
      "Epoch 1/5\n",
      "360/360 [==============================] - 6s - loss: 3.7842 - acc: 0.1056 - val_loss: 3.6224 - val_acc: 0.1667\n",
      "Epoch 2/5\n",
      "360/360 [==============================] - 6s - loss: 3.6084 - acc: 0.1611 - val_loss: 3.4572 - val_acc: 0.2222\n",
      "Epoch 3/5\n",
      "360/360 [==============================] - 6s - loss: 3.4718 - acc: 0.1611 - val_loss: 3.3275 - val_acc: 0.2000\n",
      "Epoch 4/5\n",
      "360/360 [==============================] - 6s - loss: 3.3573 - acc: 0.1750 - val_loss: 3.2422 - val_acc: 0.2444\n",
      "Epoch 5/5\n",
      "360/360 [==============================] - 6s - loss: 3.2822 - acc: 0.1861 - val_loss: 3.1633 - val_acc: 0.2444\n"
     ]
    }
   ],
   "source": [
    "#Fit model and store history of the fitting process\n",
    "History2 = model2.fit(X_train2, y_train,batch_size=20,\n",
    "                      nb_epoch=5,verbose=True,validation_split=0.2)"
   ]
  },
  {
   "cell_type": "markdown",
   "metadata": {},
   "source": [
    "# Evaluate models on test set"
   ]
  },
  {
   "cell_type": "code",
   "execution_count": 19,
   "metadata": {
    "collapsed": false
   },
   "outputs": [
    {
     "name": "stdout",
     "output_type": "stream",
     "text": [
      "Model 1: [3.5739601182413625, 0.092307694665678258]\n",
      "Model 2: [3.2692487239837646, 0.20000000429022444]\n"
     ]
    }
   ],
   "source": [
    "score = model.evaluate(X_test, y_test, batch_size=20,verbose=False)\n",
    "print('Model 1: ' + str(score))\n",
    "score2 = model2.evaluate(X_test2, y_test, batch_size=20,verbose=False)\n",
    "print('Model 2: ' + str(score2))"
   ]
  },
  {
   "cell_type": "code",
   "execution_count": 20,
   "metadata": {
    "collapsed": false
   },
   "outputs": [
    {
     "name": "stdout",
     "output_type": "stream",
     "text": [
      "455/455 [==============================] - 3s     \n",
      "455/455 [==============================] - 3s     \n"
     ]
    }
   ],
   "source": [
    "classes = model.predict_classes(X_test, batch_size=20)\n",
    "proba = model.predict_proba(X_test, batch_size=20)\n",
    "\n",
    "classes2 = model2.predict_classes(X_test2, batch_size=20)\n",
    "proba2 = model2.predict_proba(X_test2, batch_size=20)"
   ]
  },
  {
   "cell_type": "code",
   "execution_count": 21,
   "metadata": {
    "collapsed": false
   },
   "outputs": [
    {
     "data": {
      "text/plain": [
       "(455, 51)"
      ]
     },
     "execution_count": 21,
     "metadata": {},
     "output_type": "execute_result"
    }
   ],
   "source": [
    "proba2.shape"
   ]
  },
  {
   "cell_type": "code",
   "execution_count": 22,
   "metadata": {
    "collapsed": false
   },
   "outputs": [
    {
     "data": {
      "text/plain": [
       "(455,)"
      ]
     },
     "execution_count": 22,
     "metadata": {},
     "output_type": "execute_result"
    }
   ],
   "source": [
    "classes2.shape"
   ]
  },
  {
   "cell_type": "code",
   "execution_count": 23,
   "metadata": {
    "collapsed": false
   },
   "outputs": [
    {
     "data": {
      "text/plain": [
       "array([1, 3, 1, 3, 2, 1, 1, 1, 1, 1])"
      ]
     },
     "execution_count": 23,
     "metadata": {},
     "output_type": "execute_result"
    }
   ],
   "source": [
    "classes2[0:10]"
   ]
  },
  {
   "cell_type": "code",
   "execution_count": 24,
   "metadata": {
    "collapsed": false
   },
   "outputs": [
    {
     "data": {
      "text/plain": [
       "array([[ 0,  0,  0, ...,  0,  0,  0],\n",
       "       [57, 42, 28, ...,  2,  4,  4],\n",
       "       [ 0,  0,  0, ...,  0,  0,  0],\n",
       "       ..., \n",
       "       [ 0,  0,  0, ...,  0,  0,  0],\n",
       "       [ 0,  0,  0, ...,  0,  0,  0],\n",
       "       [ 0,  0,  0, ...,  0,  0,  0]])"
      ]
     },
     "execution_count": 24,
     "metadata": {},
     "output_type": "execute_result"
    }
   ],
   "source": [
    "from sklearn import metrics\n",
    "metrics.confusion_matrix(classes, y_test_original)"
   ]
  },
  {
   "cell_type": "code",
   "execution_count": 25,
   "metadata": {
    "collapsed": false
   },
   "outputs": [
    {
     "data": {
      "text/plain": [
       "array([[54, 27,  2, ...,  0,  0,  4],\n",
       "       [ 2, 12,  1, ...,  0,  1,  0],\n",
       "       [ 1,  3, 25, ...,  2,  3,  0],\n",
       "       ..., \n",
       "       [ 0,  0,  0, ...,  0,  0,  0],\n",
       "       [ 0,  0,  0, ...,  0,  0,  0],\n",
       "       [ 0,  0,  0, ...,  0,  0,  0]])"
      ]
     },
     "execution_count": 25,
     "metadata": {},
     "output_type": "execute_result"
    }
   ],
   "source": [
    "metrics.confusion_matrix(classes2, y_test_original)"
   ]
  },
  {
   "cell_type": "code",
   "execution_count": 26,
   "metadata": {
    "collapsed": false
   },
   "outputs": [
    {
     "name": "stdout",
     "output_type": "stream",
     "text": [
      "[[  4.00844123e-03   1.65699914e-01   1.07137859e-01 ...,   8.02592002e-03\n",
      "    2.00000000e+00   4.00000000e+00]\n",
      " [  9.53753665e-03   6.83365762e-02   1.03553236e-01 ...,   7.88138621e-03\n",
      "    2.00000000e+00   1.20000000e+01]\n",
      " [  6.64823968e-03   7.90619329e-02   2.63791494e-02 ...,   1.06646847e-02\n",
      "    2.00000000e+00   1.30000000e+01]\n",
      " ..., \n",
      " [  1.06893005e-02   5.36341965e-02   7.62730688e-02 ...,   9.32132825e-03\n",
      "    2.00000000e+00   2.50000000e+01]\n",
      " [  4.45907097e-03   1.51034281e-01   1.40689313e-01 ...,   7.74981081e-03\n",
      "    2.00000000e+00   1.50000000e+01]\n",
      " [  1.48553355e-02   3.16564329e-02   5.03952280e-02 ...,   1.04823252e-02\n",
      "    2.00000000e+00   1.60000000e+01]]\n"
     ]
    }
   ],
   "source": [
    "print(np.hstack((proba2, np.vstack((classes, y_test_original)).transpose())))"
   ]
  },
  {
   "cell_type": "code",
   "execution_count": 27,
   "metadata": {
    "collapsed": false
   },
   "outputs": [
    {
     "name": "stdout",
     "output_type": "stream",
     "text": [
      "[[  4.00844123e-03   1.65699914e-01   1.07137859e-01 ...,   8.02592002e-03\n",
      "    1.00000000e+00   4.00000000e+00]\n",
      " [  9.53753665e-03   6.83365762e-02   1.03553236e-01 ...,   7.88138621e-03\n",
      "    3.00000000e+00   1.20000000e+01]\n",
      " [  6.64823968e-03   7.90619329e-02   2.63791494e-02 ...,   1.06646847e-02\n",
      "    1.00000000e+00   1.30000000e+01]\n",
      " ..., \n",
      " [  1.06893005e-02   5.36341965e-02   7.62730688e-02 ...,   9.32132825e-03\n",
      "    2.00000000e+00   2.50000000e+01]\n",
      " [  4.45907097e-03   1.51034281e-01   1.40689313e-01 ...,   7.74981081e-03\n",
      "    1.00000000e+00   1.50000000e+01]\n",
      " [  1.48553355e-02   3.16564329e-02   5.03952280e-02 ...,   1.04823252e-02\n",
      "    3.00000000e+00   1.60000000e+01]]\n"
     ]
    }
   ],
   "source": [
    "print(np.hstack((proba2, np.vstack((classes2, y_test_original)).transpose())))"
   ]
  },
  {
   "cell_type": "markdown",
   "metadata": {},
   "source": [
    "# Plot training process"
   ]
  },
  {
   "cell_type": "code",
   "execution_count": 28,
   "metadata": {
    "collapsed": true
   },
   "outputs": [],
   "source": [
    "#set up conditions for plotting\n",
    "import matplotlib.pyplot as plt\n",
    "%matplotlib inline"
   ]
  },
  {
   "cell_type": "code",
   "execution_count": 34,
   "metadata": {
    "collapsed": false
   },
   "outputs": [
    {
     "data": {
      "text/plain": [
       "<matplotlib.text.Text at 0x7f265af0b9b0>"
      ]
     },
     "execution_count": 34,
     "metadata": {},
     "output_type": "execute_result"
    },
    {
     "data": {
      "image/png": "[encoded data removed]",
      "text/plain": [
       "<matplotlib.figure.Figure at 0x7f265af2b0b8>"
      ]
     },
     "metadata": {},
     "output_type": "display_data"
    }
   ],
   "source": [
    "# plot loss and accuracy for model 2\n",
    "fig, ax1 = plt.subplots()\n",
    "ax2 = ax1.twinx()\n",
    "LN = len(History.history['val_loss'])\n",
    "ax1.plot(range(LN),History.history['val_loss'],'g-')\n",
    "ax2.plot(range(LN),History.history['val_acc'],'b-')\n",
    "ax1.set_xlabel('epoch')\n",
    "ax1.set_ylabel('loss',color='g')\n",
    "ax2.set_ylabel('accuracy',color='b')\n",
    "plt.title('Model 1')"
   ]
  },
  {
   "cell_type": "code",
   "execution_count": 30,
   "metadata": {
    "collapsed": false
   },
   "outputs": [
    {
     "data": {
      "text/plain": [
       "<matplotlib.text.Text at 0x7f265b089eb8>"
      ]
     },
     "execution_count": 30,
     "metadata": {},
     "output_type": "execute_result"
    },
    {
     "data": {
      "image/png": "[encoded data removed]",
      "text/plain": [
       "<matplotlib.figure.Figure at 0x7f265b0eb710>"
      ]
     },
     "metadata": {},
     "output_type": "display_data"
    }
   ],
   "source": [
    "# plot loss and accuracy for model 2\n",
    "fig, ax1 = plt.subplots()\n",
    "ax2 = ax1.twinx()\n",
    "LN = len(History2.history['val_loss'])\n",
    "ax1.plot(range(LN),History2.history['val_loss'],'g-')\n",
    "ax2.plot(range(LN),History2.history['val_acc'],'b-')\n",
    "ax1.set_xlabel('epoch')\n",
    "ax1.set_ylabel('loss',color='g')\n",
    "ax2.set_ylabel('accuracy',color='b')\n",
    "plt.title('Model 2')"
   ]
  },
  {
   "cell_type": "code",
   "execution_count": null,
   "metadata": {
    "collapsed": true
   },
   "outputs": [],
   "source": []
  }
 ],
 "metadata": {
  "kernelspec": {
   "display_name": "Python 3",
   "language": "python",
   "name": "python3"
  },
  "language_info": {
   "codemirror_mode": {
    "name": "ipython",
    "version": 3
   },
   "file_extension": ".py",
   "mimetype": "text/x-python",
   "name": "python",
   "nbconvert_exporter": "python",
   "pygments_lexer": "ipython3",
   "version": "3.4.3"
  }
 },
 "nbformat": 4,
 "nbformat_minor": 0
}
