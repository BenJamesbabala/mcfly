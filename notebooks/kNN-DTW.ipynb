{
 "cells": [
  {
   "cell_type": "code",
   "execution_count": 1,
   "metadata": {
    "collapsed": false
   },
   "outputs": [],
   "source": [
    "import numpy as np\n",
    "from sklearn import neighbors\n",
    "from sklearn import metrics"
   ]
  },
  {
   "cell_type": "code",
   "execution_count": 2,
   "metadata": {
    "collapsed": false
   },
   "outputs": [
    {
     "name": "stdout",
     "output_type": "stream",
     "text": [
      "Populating the interactive namespace from numpy and matplotlib\n"
     ]
    }
   ],
   "source": [
    "%pylab inline"
   ]
  },
  {
   "cell_type": "code",
   "execution_count": 3,
   "metadata": {
    "collapsed": false
   },
   "outputs": [],
   "source": [
    "datapath = '/media/sf_VBox_Shared/timeseries/PAMAP2_Dataset/slidingwindow512cleaned/'"
   ]
  },
  {
   "cell_type": "code",
   "execution_count": 4,
   "metadata": {
    "collapsed": false
   },
   "outputs": [],
   "source": [
    "X_train = np.load(datapath+'X_train.npy')\n",
    "y_train_binary = np.load(datapath+'y_train_binary.npy')\n",
    "X_val = np.load(datapath+'X_val.npy')\n",
    "y_val_binary = np.load(datapath+'y_val_binary.npy')\n",
    "X_test = np.load(datapath+'X_test.npy')\n",
    "y_test_binary = np.load(datapath+'y_test_binary.npy')"
   ]
  },
  {
   "cell_type": "code",
   "execution_count": 5,
   "metadata": {
    "collapsed": false
   },
   "outputs": [
    {
     "name": "stdout",
     "output_type": "stream",
     "text": [
      "(12497, 512, 9)\n",
      "(12497, 512, 9)\n"
     ]
    }
   ],
   "source": [
    "print(X_train.shape)\n",
    "print(X_val.shape)"
   ]
  },
  {
   "cell_type": "code",
   "execution_count": 6,
   "metadata": {
    "collapsed": true
   },
   "outputs": [],
   "source": [
    "def transform_dataset(X):\n",
    "    num_samples, num_timesteps, num_channels = X.shape\n",
    "    return X.reshape(num_samples, num_timesteps*num_channels)"
   ]
  },
  {
   "cell_type": "code",
   "execution_count": 7,
   "metadata": {
    "collapsed": true
   },
   "outputs": [],
   "source": [
    "n_neighbors = 1"
   ]
  },
  {
   "cell_type": "code",
   "execution_count": 8,
   "metadata": {
    "collapsed": true
   },
   "outputs": [],
   "source": [
    "clf = neighbors.KNeighborsClassifier(n_neighbors)"
   ]
  },
  {
   "cell_type": "code",
   "execution_count": 9,
   "metadata": {
    "collapsed": false
   },
   "outputs": [
    {
     "data": {
      "text/plain": [
       "KNeighborsClassifier(algorithm='auto', leaf_size=30, metric='minkowski',\n",
       "           metric_params=None, n_jobs=1, n_neighbors=1, p=2,\n",
       "           weights='uniform')"
      ]
     },
     "execution_count": 9,
     "metadata": {},
     "output_type": "execute_result"
    }
   ],
   "source": [
    "n_samples = 1000\n",
    "clf.fit(transform_dataset(X_train[:n_samples,:]), y_train_binary[:n_samples])"
   ]
  },
  {
   "cell_type": "code",
   "execution_count": 10,
   "metadata": {
    "collapsed": true
   },
   "outputs": [],
   "source": [
    "val_predict = clf.predict(transform_dataset(X_val))"
   ]
  },
  {
   "cell_type": "code",
   "execution_count": 16,
   "metadata": {
    "collapsed": false
   },
   "outputs": [
    {
     "name": "stdout",
     "output_type": "stream",
     "text": [
      "[[1278    0    0    0    0    0    0    0    0    0    0    0]\n",
      " [   1 1287   63   13   64   23  120  164  162   28  288   85]\n",
      " [   1   30 1172  486   33    1  275  335  196  400   83   39]\n",
      " [   0    0    0 1062    2    0  250    1    0    0    0    0]\n",
      " [   0    0    0    0  513    0    0    0    0    0    0    0]\n",
      " [   0    0    0    0    0  771    0    0    0   30    0    0]\n",
      " [   0    0    0   28    1    0  365    0    0    0    0    0]\n",
      " [   0    0    0    0    0    0    0   76    0    0    0    0]\n",
      " [   0    0    0    0    0    0    0    0   46    0    0    0]\n",
      " [   0    0    0    0    6    0    0    5    0  434    0    7]\n",
      " [   0   35    8    0   63  245  172    4  113  256 1243   89]\n",
      " [   0    0    0    0    0    0    0    0    0    0    0   45]]\n"
     ]
    }
   ],
   "source": [
    "print(metrics.confusion_matrix(np.where(val_predict)[1], np.where(y_val_binary)[1]))"
   ]
  },
  {
   "cell_type": "code",
   "execution_count": 14,
   "metadata": {
    "collapsed": false
   },
   "outputs": [
    {
     "data": {
      "text/plain": [
       "0.66351924461870848"
      ]
     },
     "execution_count": 14,
     "metadata": {},
     "output_type": "execute_result"
    }
   ],
   "source": [
    "metrics.accuracy_score(val_predict, y_val_binary)"
   ]
  },
  {
   "cell_type": "code",
   "execution_count": 62,
   "metadata": {
    "collapsed": false
   },
   "outputs": [
    {
     "name": "stdout",
     "output_type": "stream",
     "text": [
      "(24994, 512, 9)\n"
     ]
    }
   ],
   "source": [
    "X_trainval = np.append(X_train, X_val, axis=0)\n",
    "y_trainval = np.append(y_train_binary, y_val_binary, axis=0)\n",
    "print(X_trainval.shape)"
   ]
  },
  {
   "cell_type": "code",
   "execution_count": null,
   "metadata": {
    "collapsed": false
   },
   "outputs": [],
   "source": [
    "#On test set\n",
    "clf2 = neighbors.KNeighborsClassifier(n_neighbors)\n",
    "clf.fit(transform_dataset(X_trainval), y_trainval)\n",
    "test_predict = clf.predict(transform_dataset(X_test))\n",
    "metrics.accuracy_score(test_predict, y_test_binary)"
   ]
  },
  {
   "cell_type": "markdown",
   "metadata": {},
   "source": [
    "## DTW"
   ]
  },
  {
   "cell_type": "code",
   "execution_count": 59,
   "metadata": {
    "collapsed": true
   },
   "outputs": [],
   "source": [
    "from dtw import dtw\n",
    "from fastdtw import fastdtw\n"
   ]
  },
  {
   "cell_type": "code",
   "execution_count": 50,
   "metadata": {
    "collapsed": false
   },
   "outputs": [
    {
     "name": "stdout",
     "output_type": "stream",
     "text": [
      "1.41421356237\n",
      "0.5\n"
     ]
    }
   ],
   "source": [
    "dist = lambda a, b: norm(a - b, ord=2)\n",
    "#print(dist(2,4))\n",
    "a1 = np.ones((2,1))\n",
    "a0 = np.zeros((2,1))\n",
    "print(dist(a0,a1))\n",
    "dtw_func = lambda x,y: dtw(x, y, dist=dist)[0]\n",
    "print(dtw_func(a0,a1)"
   ]
  },
  {
   "cell_type": "code",
   "execution_count": 61,
   "metadata": {
    "collapsed": true
   },
   "outputs": [],
   "source": [
    "fastdtw_func = lambda x,y: fastdtw(x, y, dist=dist)[0]"
   ]
  },
  {
   "cell_type": "code",
   "execution_count": null,
   "metadata": {
    "collapsed": false
   },
   "outputs": [],
   "source": [
    "# This predicts for all validation samples - but it's very slow!\n",
    "pred = np.zeros_like(y_val_binary)\n",
    "num_train = 10 #X_train.shape[0]\n",
    "for i in range(10): #range(X_val.shape[0]):\n",
    "    x = X_val[i,:,:]\n",
    "    distances = [dtw_func(x, X_train[j,:,:]) for j in range(num_train)]\n",
    "    print(i)\n",
    "    print(distances)\n",
    "    minind = np.argmin(distances)\n",
    "    pred[i,:] = y_train_binary[minind,:]"
   ]
  },
  {
   "cell_type": "markdown",
   "metadata": {},
   "source": [
    "Let's see how slow this is"
   ]
  },
  {
   "cell_type": "code",
   "execution_count": 58,
   "metadata": {
    "collapsed": false
   },
   "outputs": [
    {
     "name": "stdout",
     "output_type": "stream",
     "text": [
      "1 loop, best of 3: 555 ms per loop\n"
     ]
    }
   ],
   "source": [
    "%%timeit\n",
    "dtw_func(X_val[0,:,:], X_train[0,:,:])"
   ]
  },
  {
   "cell_type": "code",
   "execution_count": 62,
   "metadata": {
    "collapsed": false
   },
   "outputs": [
    {
     "name": "stdout",
     "output_type": "stream",
     "text": [
      "10 loops, best of 3: 55.5 ms per loop\n"
     ]
    }
   ],
   "source": [
    "%%timeit\n",
    "fastdtw_func(X_val[0,:,:], X_train[0,:,:])"
   ]
  },
  {
   "cell_type": "markdown",
   "metadata": {},
   "source": [
    "## Random forest"
   ]
  },
  {
   "cell_type": "code",
   "execution_count": 17,
   "metadata": {
    "collapsed": true
   },
   "outputs": [],
   "source": [
    "from sklearn import ensemble"
   ]
  },
  {
   "cell_type": "code",
   "execution_count": 18,
   "metadata": {
    "collapsed": false
   },
   "outputs": [],
   "source": [
    "random_forest = ensemble.RandomForestClassifier(n_estimators=500, verbose=1)"
   ]
  },
  {
   "cell_type": "code",
   "execution_count": 19,
   "metadata": {
    "collapsed": false
   },
   "outputs": [
    {
     "name": "stderr",
     "output_type": "stream",
     "text": [
      "[Parallel(n_jobs=1)]: Done  49 tasks       | elapsed:    2.9s\n",
      "[Parallel(n_jobs=1)]: Done 199 tasks       | elapsed:   13.3s\n",
      "[Parallel(n_jobs=1)]: Done 449 tasks       | elapsed:   29.9s\n",
      "[Parallel(n_jobs=1)]: Done 500 out of 500 | elapsed:   32.8s finished\n"
     ]
    },
    {
     "data": {
      "text/plain": [
       "RandomForestClassifier(bootstrap=True, class_weight=None, criterion='gini',\n",
       "            max_depth=None, max_features='auto', max_leaf_nodes=None,\n",
       "            min_samples_leaf=1, min_samples_split=2,\n",
       "            min_weight_fraction_leaf=0.0, n_estimators=500, n_jobs=1,\n",
       "            oob_score=False, random_state=None, verbose=1,\n",
       "            warm_start=False)"
      ]
     },
     "execution_count": 19,
     "metadata": {},
     "output_type": "execute_result"
    }
   ],
   "source": [
    "n_samples = 1000\n",
    "random_forest.fit(transform_dataset(X_train[:n_samples, :]), y_train_binary[:n_samples])"
   ]
  },
  {
   "cell_type": "code",
   "execution_count": 50,
   "metadata": {
    "collapsed": false
   },
   "outputs": [
    {
     "name": "stderr",
     "output_type": "stream",
     "text": [
      "[Parallel(n_jobs=1)]: Done  49 tasks       | elapsed:    0.4s\n",
      "[Parallel(n_jobs=1)]: Done 199 tasks       | elapsed:    1.7s\n",
      "[Parallel(n_jobs=1)]: Done 449 tasks       | elapsed:    4.2s\n",
      "[Parallel(n_jobs=1)]: Done 500 out of 500 | elapsed:    4.9s finished\n"
     ]
    }
   ],
   "source": [
    "val_predict_rf = random_forest.predict(transform_dataset(X_val))"
   ]
  },
  {
   "cell_type": "code",
   "execution_count": 51,
   "metadata": {
    "collapsed": false
   },
   "outputs": [
    {
     "data": {
      "text/plain": [
       "0.6251100264063375"
      ]
     },
     "execution_count": 51,
     "metadata": {},
     "output_type": "execute_result"
    }
   ],
   "source": [
    "metrics.accuracy_score(val_predict_rf, y_val_binary)"
   ]
  },
  {
   "cell_type": "code",
   "execution_count": 22,
   "metadata": {
    "collapsed": false
   },
   "outputs": [
    {
     "name": "stdout",
     "output_type": "stream",
     "text": [
      "majority class: 10 0.129150996239\n"
     ]
    }
   ],
   "source": [
    "maj_class = y_val_binary.sum(axis=0).argmax()\n",
    "print('majority class:', maj_class,  y_val_binary.mean(axis=0)[maj_class])"
   ]
  },
  {
   "cell_type": "code",
   "execution_count": null,
   "metadata": {
    "collapsed": true
   },
   "outputs": [],
   "source": []
  }
 ],
 "metadata": {
  "kernelspec": {
   "display_name": "Python 3",
   "language": "python",
   "name": "python3"
  },
  "language_info": {
   "codemirror_mode": {
    "name": "ipython",
    "version": 3
   },
   "file_extension": ".py",
   "mimetype": "text/x-python",
   "name": "python",
   "nbconvert_exporter": "python",
   "pygments_lexer": "ipython3",
   "version": "3.5.2"
  }
 },
 "nbformat": 4,
 "nbformat_minor": 0
}
