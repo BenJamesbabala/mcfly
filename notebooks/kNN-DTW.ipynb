{
 "cells": [
  {
   "cell_type": "code",
   "execution_count": 56,
   "metadata": {
    "collapsed": false
   },
   "outputs": [],
   "source": [
    "import numpy as np\n",
    "from sklearn import neighbors\n",
    "from sklearn import metrics"
   ]
  },
  {
   "cell_type": "code",
   "execution_count": 57,
   "metadata": {
    "collapsed": false
   },
   "outputs": [
    {
     "name": "stdout",
     "output_type": "stream",
     "text": [
      "Populating the interactive namespace from numpy and matplotlib\n"
     ]
    },
    {
     "name": "stderr",
     "output_type": "stream",
     "text": [
      "WARNING: pylab import has clobbered these variables: ['clf']\n",
      "`%matplotlib` prevents importing * from pylab and numpy\n"
     ]
    }
   ],
   "source": [
    "%pylab inline"
   ]
  },
  {
   "cell_type": "code",
   "execution_count": 58,
   "metadata": {
    "collapsed": false
   },
   "outputs": [],
   "source": [
    "datapath = '/media/sf_VBox_Shared/timeseries/PAMAP2_Dataset/slidingwindow512cleaned/'"
   ]
  },
  {
   "cell_type": "code",
   "execution_count": 59,
   "metadata": {
    "collapsed": false
   },
   "outputs": [],
   "source": [
    "X_train = np.load(datapath+'X_train.npy')\n",
    "y_train_binary = np.load(datapath+'y_train_binary.npy')\n",
    "X_val = np.load(datapath+'X_val.npy')\n",
    "y_val_binary = np.load(datapath+'y_val_binary.npy')\n",
    "X_test = np.load(datapath+'X_test.npy')\n",
    "y_test_binary = np.load(datapath+'y_test_binary.npy')"
   ]
  },
  {
   "cell_type": "code",
   "execution_count": 60,
   "metadata": {
    "collapsed": false
   },
   "outputs": [
    {
     "name": "stdout",
     "output_type": "stream",
     "text": [
      "(12497, 512, 9)\n",
      "(2007, 512, 9)\n"
     ]
    }
   ],
   "source": [
    "print(X_train.shape)\n",
    "print(X_val.shape)"
   ]
  },
  {
   "cell_type": "code",
   "execution_count": 61,
   "metadata": {
    "collapsed": true
   },
   "outputs": [],
   "source": [
    "def transform_dataset(X):\n",
    "    num_samples, num_timesteps, num_channels = X.shape\n",
    "    return X.reshape(num_samples, num_timesteps*num_channels)"
   ]
  },
  {
   "cell_type": "code",
   "execution_count": 62,
   "metadata": {
    "collapsed": true
   },
   "outputs": [],
   "source": [
    "n_neighbors = 1"
   ]
  },
  {
   "cell_type": "code",
   "execution_count": 63,
   "metadata": {
    "collapsed": true
   },
   "outputs": [],
   "source": [
    "clf = neighbors.KNeighborsClassifier(n_neighbors)"
   ]
  },
  {
   "cell_type": "code",
   "execution_count": 64,
   "metadata": {
    "collapsed": false
   },
   "outputs": [
    {
     "data": {
      "text/plain": [
       "KNeighborsClassifier(algorithm='auto', leaf_size=30, metric='minkowski',\n",
       "           metric_params=None, n_jobs=1, n_neighbors=1, p=2,\n",
       "           weights='uniform')"
      ]
     },
     "execution_count": 64,
     "metadata": {},
     "output_type": "execute_result"
    }
   ],
   "source": [
    "n_samples = 1000\n",
    "clf.fit(transform_dataset(X_train[:n_samples,:]), y_train_binary[:n_samples])"
   ]
  },
  {
   "cell_type": "code",
   "execution_count": 65,
   "metadata": {
    "collapsed": true
   },
   "outputs": [],
   "source": [
    "val_predict = clf.predict(transform_dataset(X_val))"
   ]
  },
  {
   "cell_type": "code",
   "execution_count": 66,
   "metadata": {
    "collapsed": false
   },
   "outputs": [
    {
     "name": "stdout",
     "output_type": "stream",
     "text": [
      "[[231   0   0   0   0   0   0   0   0   0   0]\n",
      " [  0  98   0   3   0   0 211  84   0   0  67]\n",
      " [  0   0 233 160   0   0  37  39  67 115   2]\n",
      " [  0   0   0 145   0   0   2   1   0   0   0]\n",
      " [  0   0   0   0   1   0   0   0   0   0   0]\n",
      " [  0   0   0   0   0   3   0   0   0   4   0]\n",
      " [  0   0   0   5   0   0  13   0   0   0   0]\n",
      " [  0   0   0   0   0   0   0   3   0   0   0]\n",
      " [  0   0   0   0   0   0   0   0   0   0   0]\n",
      " [  0   0   0   0   0   0   0   0   0  17   0]\n",
      " [  0   0   0   0  11 199   0   0   0  55 201]]\n"
     ]
    }
   ],
   "source": [
    "print(metrics.confusion_matrix(np.where(val_predict)[1], np.where(y_val_binary)[1]))"
   ]
  },
  {
   "cell_type": "code",
   "execution_count": 67,
   "metadata": {
    "collapsed": false
   },
   "outputs": [
    {
     "data": {
      "text/plain": [
       "0.47085201793721976"
      ]
     },
     "execution_count": 67,
     "metadata": {},
     "output_type": "execute_result"
    }
   ],
   "source": [
    "metrics.accuracy_score(val_predict, y_val_binary)"
   ]
  },
  {
   "cell_type": "code",
   "execution_count": 62,
   "metadata": {
    "collapsed": false
   },
   "outputs": [
    {
     "name": "stdout",
     "output_type": "stream",
     "text": [
      "(24994, 512, 9)\n"
     ]
    }
   ],
   "source": [
    "X_trainval = np.append(X_train, X_val, axis=0)\n",
    "y_trainval = np.append(y_train_binary, y_val_binary, axis=0)\n",
    "print(X_trainval.shape)"
   ]
  },
  {
   "cell_type": "code",
   "execution_count": null,
   "metadata": {
    "collapsed": false
   },
   "outputs": [],
   "source": [
    "#On test set\n",
    "clf2 = neighbors.KNeighborsClassifier(n_neighbors)\n",
    "clf.fit(transform_dataset(X_trainval), y_trainval)\n",
    "test_predict = clf.predict(transform_dataset(X_test))\n",
    "metrics.accuracy_score(test_predict, y_test_binary)"
   ]
  },
  {
   "cell_type": "markdown",
   "metadata": {},
   "source": [
    "## DTW"
   ]
  },
  {
   "cell_type": "code",
   "execution_count": 59,
   "metadata": {
    "collapsed": true
   },
   "outputs": [],
   "source": [
    "from dtw import dtw\n",
    "from fastdtw import fastdtw\n"
   ]
  },
  {
   "cell_type": "code",
   "execution_count": 50,
   "metadata": {
    "collapsed": false
   },
   "outputs": [
    {
     "name": "stdout",
     "output_type": "stream",
     "text": [
      "1.41421356237\n",
      "0.5\n"
     ]
    }
   ],
   "source": [
    "dist = lambda a, b: norm(a - b, ord=2)\n",
    "#print(dist(2,4))\n",
    "a1 = np.ones((2,1))\n",
    "a0 = np.zeros((2,1))\n",
    "print(dist(a0,a1))\n",
    "dtw_func = lambda x,y: dtw(x, y, dist=dist)[0]\n",
    "print(dtw_func(a0,a1)"
   ]
  },
  {
   "cell_type": "code",
   "execution_count": 61,
   "metadata": {
    "collapsed": true
   },
   "outputs": [],
   "source": [
    "fastdtw_func = lambda x,y: fastdtw(x, y, dist=dist)[0]"
   ]
  },
  {
   "cell_type": "code",
   "execution_count": null,
   "metadata": {
    "collapsed": false
   },
   "outputs": [],
   "source": [
    "# This predicts for all validation samples - but it's very slow!\n",
    "pred = np.zeros_like(y_val_binary)\n",
    "num_train = 10 #X_train.shape[0]\n",
    "for i in range(10): #range(X_val.shape[0]):\n",
    "    x = X_val[i,:,:]\n",
    "    distances = [dtw_func(x, X_train[j,:,:]) for j in range(num_train)]\n",
    "    print(i)\n",
    "    print(distances)\n",
    "    minind = np.argmin(distances)\n",
    "    pred[i,:] = y_train_binary[minind,:]"
   ]
  },
  {
   "cell_type": "markdown",
   "metadata": {},
   "source": [
    "Let's see how slow this is"
   ]
  },
  {
   "cell_type": "code",
   "execution_count": 58,
   "metadata": {
    "collapsed": false
   },
   "outputs": [
    {
     "name": "stdout",
     "output_type": "stream",
     "text": [
      "1 loop, best of 3: 555 ms per loop\n"
     ]
    }
   ],
   "source": [
    "%%timeit\n",
    "dtw_func(X_val[0,:,:], X_train[0,:,:])"
   ]
  },
  {
   "cell_type": "code",
   "execution_count": 62,
   "metadata": {
    "collapsed": false
   },
   "outputs": [
    {
     "name": "stdout",
     "output_type": "stream",
     "text": [
      "10 loops, best of 3: 55.5 ms per loop\n"
     ]
    }
   ],
   "source": [
    "%%timeit\n",
    "fastdtw_func(X_val[0,:,:], X_train[0,:,:])"
   ]
  },
  {
   "cell_type": "markdown",
   "metadata": {},
   "source": [
    "## Random forest"
   ]
  },
  {
   "cell_type": "code",
   "execution_count": 72,
   "metadata": {
    "collapsed": true
   },
   "outputs": [],
   "source": [
    "from sklearn import ensemble"
   ]
  },
  {
   "cell_type": "code",
   "execution_count": 73,
   "metadata": {
    "collapsed": false
   },
   "outputs": [],
   "source": [
    "random_forest = ensemble.RandomForestClassifier(n_estimators=500, verbose=1)"
   ]
  },
  {
   "cell_type": "code",
   "execution_count": 74,
   "metadata": {
    "collapsed": false
   },
   "outputs": [
    {
     "name": "stderr",
     "output_type": "stream",
     "text": [
      "[Parallel(n_jobs=1)]: Done  49 tasks       | elapsed:    2.9s\n",
      "[Parallel(n_jobs=1)]: Done 199 tasks       | elapsed:   11.7s\n",
      "[Parallel(n_jobs=1)]: Done 449 tasks       | elapsed:   26.3s\n",
      "[Parallel(n_jobs=1)]: Done 500 out of 500 | elapsed:   29.3s finished\n"
     ]
    },
    {
     "data": {
      "text/plain": [
       "RandomForestClassifier(bootstrap=True, class_weight=None, criterion='gini',\n",
       "            max_depth=None, max_features='auto', max_leaf_nodes=None,\n",
       "            min_samples_leaf=1, min_samples_split=2,\n",
       "            min_weight_fraction_leaf=0.0, n_estimators=500, n_jobs=1,\n",
       "            oob_score=False, random_state=None, verbose=1,\n",
       "            warm_start=False)"
      ]
     },
     "execution_count": 74,
     "metadata": {},
     "output_type": "execute_result"
    }
   ],
   "source": [
    "n_samples = 1000\n",
    "random_forest.fit(transform_dataset(X_train[:n_samples, :]), y_train_binary[:n_samples])"
   ]
  },
  {
   "cell_type": "code",
   "execution_count": 75,
   "metadata": {
    "collapsed": false
   },
   "outputs": [
    {
     "name": "stderr",
     "output_type": "stream",
     "text": [
      "[Parallel(n_jobs=1)]: Done  49 tasks       | elapsed:    0.1s\n",
      "[Parallel(n_jobs=1)]: Done 199 tasks       | elapsed:    0.3s\n",
      "[Parallel(n_jobs=1)]: Done 449 tasks       | elapsed:    0.8s\n",
      "[Parallel(n_jobs=1)]: Done 500 out of 500 | elapsed:    0.9s finished\n"
     ]
    }
   ],
   "source": [
    "val_predict_rf = random_forest.predict(transform_dataset(X_val))"
   ]
  },
  {
   "cell_type": "code",
   "execution_count": 76,
   "metadata": {
    "collapsed": false
   },
   "outputs": [
    {
     "data": {
      "text/plain": [
       "0.60986547085201792"
      ]
     },
     "execution_count": 76,
     "metadata": {},
     "output_type": "execute_result"
    }
   ],
   "source": [
    "metrics.accuracy_score(val_predict_rf, y_val_binary)"
   ]
  },
  {
   "cell_type": "code",
   "execution_count": 77,
   "metadata": {
    "collapsed": false
   },
   "outputs": [
    {
     "name": "stdout",
     "output_type": "stream",
     "text": [
      "majority class: 3 0.155954160438\n"
     ]
    }
   ],
   "source": [
    "maj_class = y_val_binary.sum(axis=0).argmax()\n",
    "print('majority class:', maj_class,  y_val_binary.mean(axis=0)[maj_class])"
   ]
  },
  {
   "cell_type": "code",
   "execution_count": 78,
   "metadata": {
    "collapsed": false
   },
   "outputs": [
    {
     "data": {
      "image/png": "[encoded data removed]",
      "text/plain": [
       "<matplotlib.figure.Figure at 0x7f795f1f3f60>"
      ]
     },
     "metadata": {},
     "output_type": "display_data"
    }
   ],
   "source": [
    "for i in range(479, 500):\n",
    "    plt.plot(X_train[i,:,:])"
   ]
  },
  {
   "cell_type": "code",
   "execution_count": null,
   "metadata": {
    "collapsed": true
   },
   "outputs": [],
   "source": []
  }
 ],
 "metadata": {
  "kernelspec": {
   "display_name": "Python 3",
   "language": "python",
   "name": "python3"
  },
  "language_info": {
   "codemirror_mode": {
    "name": "ipython",
    "version": 3
   },
   "file_extension": ".py",
   "mimetype": "text/x-python",
   "name": "python",
   "nbconvert_exporter": "python",
   "pygments_lexer": "ipython3",
   "version": "3.5.2"
  }
 },
 "nbformat": 4,
 "nbformat_minor": 0
}
