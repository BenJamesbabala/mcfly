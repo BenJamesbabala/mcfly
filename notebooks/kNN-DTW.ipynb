{
 "cells": [
  {
   "cell_type": "code",
   "execution_count": 16,
   "metadata": {
    "collapsed": false
   },
   "outputs": [],
   "source": [
    "import numpy as np\n",
    "from sklearn import neighbors"
   ]
  },
  {
   "cell_type": "code",
   "execution_count": 17,
   "metadata": {
    "collapsed": false
   },
   "outputs": [
    {
     "name": "stdout",
     "output_type": "stream",
     "text": [
      "Populating the interactive namespace from numpy and matplotlib\n"
     ]
    },
    {
     "name": "stderr",
     "output_type": "stream",
     "text": [
      "WARNING: pylab import has clobbered these variables: ['clf']\n",
      "`%matplotlib` prevents importing * from pylab and numpy\n"
     ]
    }
   ],
   "source": [
    "%pylab inline"
   ]
  },
  {
   "cell_type": "code",
   "execution_count": 18,
   "metadata": {
    "collapsed": false
   },
   "outputs": [],
   "source": [
    "datapath = '/media/sf_VBox_Shared/timeseries/UCR_WaveGesture/'"
   ]
  },
  {
   "cell_type": "code",
   "execution_count": 19,
   "metadata": {
    "collapsed": true
   },
   "outputs": [],
   "source": [
    "X_train = np.load(datapath+'X_train.npy')\n",
    "y_train_binary = np.load(datapath+'y_train_binary.npy')\n",
    "X_val = np.load(datapath+'X_val.npy')\n",
    "y_val_binary = np.load(datapath+'y_val_binary.npy')\n",
    "X_test = np.load(datapath+'X_test.npy')\n",
    "y_test_binary = np.load(datapath+'y_test_binary.npy')"
   ]
  },
  {
   "cell_type": "code",
   "execution_count": 68,
   "metadata": {
    "collapsed": false
   },
   "outputs": [
    {
     "name": "stdout",
     "output_type": "stream",
     "text": [
      "(627, 315, 3)\n",
      "(269, 315, 3)\n"
     ]
    }
   ],
   "source": [
    "print(X_train.shape)\n",
    "print(X_val.shape)"
   ]
  },
  {
   "cell_type": "code",
   "execution_count": 20,
   "metadata": {
    "collapsed": true
   },
   "outputs": [],
   "source": [
    "def transform_dataset(X):\n",
    "    num_samples, num_timesteps, num_channels = X.shape\n",
    "    return X.reshape(num_samples, num_timesteps*num_channels)"
   ]
  },
  {
   "cell_type": "code",
   "execution_count": 21,
   "metadata": {
    "collapsed": true
   },
   "outputs": [],
   "source": [
    "n_neighbors = 1"
   ]
  },
  {
   "cell_type": "code",
   "execution_count": 22,
   "metadata": {
    "collapsed": true
   },
   "outputs": [],
   "source": [
    "clf = neighbors.KNeighborsClassifier(n_neighbors)"
   ]
  },
  {
   "cell_type": "code",
   "execution_count": 23,
   "metadata": {
    "collapsed": false
   },
   "outputs": [
    {
     "data": {
      "text/plain": [
       "KNeighborsClassifier(algorithm='auto', leaf_size=30, metric='minkowski',\n",
       "           metric_params=None, n_jobs=1, n_neighbors=1, p=2,\n",
       "           weights='uniform')"
      ]
     },
     "execution_count": 23,
     "metadata": {},
     "output_type": "execute_result"
    }
   ],
   "source": [
    "clf.fit(transform_dataset(X_train), y_train_binary)"
   ]
  },
  {
   "cell_type": "code",
   "execution_count": 24,
   "metadata": {
    "collapsed": true
   },
   "outputs": [],
   "source": [
    "val_predict = clf.predict(transform_dataset(X_val))"
   ]
  },
  {
   "cell_type": "code",
   "execution_count": 25,
   "metadata": {
    "collapsed": false
   },
   "outputs": [
    {
     "data": {
      "text/plain": [
       "array([0, 2, 2, 2, 2, 7, 2, 6, 1, 1, 6, 1, 2, 4, 5, 4, 6, 1, 4, 1, 5, 5, 0,\n",
       "       1, 7, 4, 7, 1, 7, 3, 1, 2, 2, 6, 3, 5, 7, 1, 4, 2, 5, 0, 0, 7, 2, 1,\n",
       "       3, 2, 6, 4, 0, 4, 1, 5, 0, 3, 3, 6, 1, 0, 4, 5, 3, 1, 6, 3, 0, 6, 7,\n",
       "       0, 0, 1, 7, 0, 5, 4, 4, 1, 5, 6, 4, 5, 1, 6, 6, 5, 4, 7, 2, 4, 3, 3,\n",
       "       5, 6, 6, 3, 4, 2, 7, 0, 7, 4, 1, 1, 0, 3, 4, 7, 0, 0, 6, 6, 0, 2, 5,\n",
       "       3, 5, 2, 0, 2, 7, 0, 1, 4, 4, 5, 2, 5, 2, 5, 4, 7, 3, 5, 2, 7, 0, 0,\n",
       "       0, 2, 2, 3, 5, 4, 6, 0, 4, 6, 2, 0, 4, 4, 0, 4, 5, 4, 1, 3, 6, 5, 1,\n",
       "       0, 5, 5, 5, 3, 6, 6, 7, 4, 5, 2, 2, 7, 6, 6, 3, 7, 0, 2, 3, 4, 3, 0,\n",
       "       7, 5, 6, 4, 4, 2, 5, 4, 2, 0, 5, 1, 6, 2, 0, 3, 0, 6, 7, 7, 6, 4, 3,\n",
       "       0, 6, 1, 0, 6, 6, 1, 1, 0, 4, 2, 3, 6, 3, 7, 5, 5, 2, 0, 0, 4, 3, 3,\n",
       "       5, 1, 3, 0, 7, 2, 4, 4, 3, 3, 4, 4, 6, 2, 5, 6, 1, 0, 2, 7, 1, 1, 7,\n",
       "       4, 3, 2, 4, 6, 6, 4, 4, 5, 2, 0, 4, 1, 5, 5, 1])"
      ]
     },
     "execution_count": 25,
     "metadata": {},
     "output_type": "execute_result"
    }
   ],
   "source": [
    "val_predict"
   ]
  },
  {
   "cell_type": "code",
   "execution_count": 26,
   "metadata": {
    "collapsed": false
   },
   "outputs": [
    {
     "data": {
      "text/plain": [
       "0.93308550185873607"
      ]
     },
     "execution_count": 26,
     "metadata": {},
     "output_type": "execute_result"
    }
   ],
   "source": [
    "from sklearn import metrics\n",
    "metrics.accuracy_score(val_predict, y_val_binary)"
   ]
  },
  {
   "cell_type": "code",
   "execution_count": 76,
   "metadata": {
    "collapsed": false
   },
   "outputs": [
    {
     "name": "stdout",
     "output_type": "stream",
     "text": [
      "(896, 315, 3)\n"
     ]
    }
   ],
   "source": [
    "X_trainval = np.append(X_train, X_val, axis=0)\n",
    "y_trainval = np.append(y_train_binary, y_val_binary, axis=0)\n",
    "print(X_trainval.shape)"
   ]
  },
  {
   "cell_type": "code",
   "execution_count": 77,
   "metadata": {
    "collapsed": false
   },
   "outputs": [
    {
     "data": {
      "text/plain": [
       "0.94807370184254602"
      ]
     },
     "execution_count": 77,
     "metadata": {},
     "output_type": "execute_result"
    }
   ],
   "source": [
    "#On test set\n",
    "clf2 = neighbors.KNeighborsClassifier(n_neighbors)\n",
    "clf.fit(transform_dataset(X_trainval), y_trainval)\n",
    "test_predict = clf.predict(transform_dataset(X_test))\n",
    "metrics.accuracy_score(test_predict, y_test_binary)"
   ]
  },
  {
   "cell_type": "markdown",
   "metadata": {},
   "source": [
    "## DTW"
   ]
  },
  {
   "cell_type": "code",
   "execution_count": 59,
   "metadata": {
    "collapsed": true
   },
   "outputs": [],
   "source": [
    "from dtw import dtw\n",
    "from fastdtw import fastdtw\n"
   ]
  },
  {
   "cell_type": "code",
   "execution_count": 50,
   "metadata": {
    "collapsed": false
   },
   "outputs": [
    {
     "name": "stdout",
     "output_type": "stream",
     "text": [
      "1.41421356237\n",
      "0.5\n"
     ]
    }
   ],
   "source": [
    "dist = lambda a, b: norm(a - b, ord=2)\n",
    "#print(dist(2,4))\n",
    "a1 = np.ones((2,1))\n",
    "a0 = np.zeros((2,1))\n",
    "print(dist(a0,a1))\n",
    "dtw_func = lambda x,y: dtw(x, y, dist=dist)[0]\n",
    "print(dtw_func(a0,a1)"
   ]
  },
  {
   "cell_type": "code",
   "execution_count": 61,
   "metadata": {
    "collapsed": true
   },
   "outputs": [],
   "source": [
    "fastdtw_func = lambda x,y: fastdtw(x, y, dist=dist)[0]"
   ]
  },
  {
   "cell_type": "code",
   "execution_count": null,
   "metadata": {
    "collapsed": false
   },
   "outputs": [],
   "source": [
    "# This predicts for all validation samples - but it's very slow!\n",
    "pred = np.zeros_like(y_val_binary)\n",
    "num_train = 10 #X_train.shape[0]\n",
    "for i in range(10): #range(X_val.shape[0]):\n",
    "    x = X_val[i,:,:]\n",
    "    distances = [dtw_func(x, X_train[j,:,:]) for j in range(num_train)]\n",
    "    print(i)\n",
    "    print(distances)\n",
    "    minind = np.argmin(distances)\n",
    "    pred[i,:] = y_train_binary[minind,:]"
   ]
  },
  {
   "cell_type": "markdown",
   "metadata": {},
   "source": [
    "Let's see how slow this is"
   ]
  },
  {
   "cell_type": "code",
   "execution_count": 58,
   "metadata": {
    "collapsed": false
   },
   "outputs": [
    {
     "name": "stdout",
     "output_type": "stream",
     "text": [
      "1 loop, best of 3: 555 ms per loop\n"
     ]
    }
   ],
   "source": [
    "%%timeit\n",
    "dtw_func(X_val[0,:,:], X_train[0,:,:])"
   ]
  },
  {
   "cell_type": "code",
   "execution_count": 62,
   "metadata": {
    "collapsed": false
   },
   "outputs": [
    {
     "name": "stdout",
     "output_type": "stream",
     "text": [
      "10 loops, best of 3: 55.5 ms per loop\n"
     ]
    }
   ],
   "source": [
    "%%timeit\n",
    "fastdtw_func(X_val[0,:,:], X_train[0,:,:])"
   ]
  },
  {
   "cell_type": "markdown",
   "metadata": {},
   "source": [
    "## Random forest"
   ]
  },
  {
   "cell_type": "code",
   "execution_count": 63,
   "metadata": {
    "collapsed": true
   },
   "outputs": [],
   "source": [
    "from sklearn import ensemble"
   ]
  },
  {
   "cell_type": "code",
   "execution_count": 64,
   "metadata": {
    "collapsed": true
   },
   "outputs": [],
   "source": [
    "random_forest = ensemble.RandomForestClassifier(n_estimators=500)"
   ]
  },
  {
   "cell_type": "code",
   "execution_count": 65,
   "metadata": {
    "collapsed": false
   },
   "outputs": [
    {
     "data": {
      "text/plain": [
       "RandomForestClassifier(bootstrap=True, class_weight=None, criterion='gini',\n",
       "            max_depth=None, max_features='auto', max_leaf_nodes=None,\n",
       "            min_samples_leaf=1, min_samples_split=2,\n",
       "            min_weight_fraction_leaf=0.0, n_estimators=500, n_jobs=1,\n",
       "            oob_score=False, random_state=None, verbose=0,\n",
       "            warm_start=False)"
      ]
     },
     "execution_count": 65,
     "metadata": {},
     "output_type": "execute_result"
    }
   ],
   "source": [
    "random_forest.fit(transform_dataset(X_train), y_train_binary)"
   ]
  },
  {
   "cell_type": "code",
   "execution_count": 70,
   "metadata": {
    "collapsed": true
   },
   "outputs": [],
   "source": [
    "val_predict_rf = clf.predict(transform_dataset(X_val))"
   ]
  },
  {
   "cell_type": "code",
   "execution_count": 67,
   "metadata": {
    "collapsed": false
   },
   "outputs": [
    {
     "data": {
      "text/plain": [
       "0.93308550185873607"
      ]
     },
     "execution_count": 67,
     "metadata": {},
     "output_type": "execute_result"
    }
   ],
   "source": [
    "metrics.accuracy_score(val_predict, y_val_binary)"
   ]
  },
  {
   "cell_type": "code",
   "execution_count": 78,
   "metadata": {
    "collapsed": false
   },
   "outputs": [
    {
     "data": {
      "text/plain": [
       "0.94807370184254602"
      ]
     },
     "execution_count": 78,
     "metadata": {},
     "output_type": "execute_result"
    }
   ],
   "source": [
    "#On test set\n",
    "random_forest = ensemble.RandomForestClassifier(n_estimators=500)\n",
    "random_forest.fit(transform_dataset(X_trainval), y_trainval)\n",
    "test_predict_rf = clf.predict(transform_dataset(X_test))\n",
    "metrics.accuracy_score(test_predict_rf, y_test_binary)"
   ]
  },
  {
   "cell_type": "code",
   "execution_count": null,
   "metadata": {
    "collapsed": true
   },
   "outputs": [],
   "source": []
  }
 ],
 "metadata": {
  "kernelspec": {
   "display_name": "Python 3",
   "language": "python",
   "name": "python3"
  },
  "language_info": {
   "codemirror_mode": {
    "name": "ipython",
    "version": 3
   },
   "file_extension": ".py",
   "mimetype": "text/x-python",
   "name": "python",
   "nbconvert_exporter": "python",
   "pygments_lexer": "ipython3",
   "version": "3.5.2"
  }
 },
 "nbformat": 4,
 "nbformat_minor": 0
}
