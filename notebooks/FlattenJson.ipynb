{
 "cells": [
  {
   "cell_type": "code",
   "execution_count": 1,
   "metadata": {
    "collapsed": true
   },
   "outputs": [],
   "source": [
    "import json"
   ]
  },
  {
   "cell_type": "code",
   "execution_count": 5,
   "metadata": {
    "collapsed": true
   },
   "outputs": [],
   "source": [
    "filepath = '/home/dafne/timeseries/visualization/data.json'\n",
    "outputfile = '/home/dafne/timeseries/visualization/flatdata.json'"
   ]
  },
  {
   "cell_type": "code",
   "execution_count": 3,
   "metadata": {
    "collapsed": true
   },
   "outputs": [],
   "source": [
    " with open(filepath, 'r') as infile:\n",
    "    injson = json.load(infile)"
   ]
  },
  {
   "cell_type": "code",
   "execution_count": 7,
   "metadata": {
    "collapsed": false
   },
   "outputs": [
    {
     "data": {
      "text/plain": [
       "dict_keys(['modeltype', 'train_loss', 'val_loss', 'train_acc', 'filters', 'learning_rate', 'val_acc', 'regularization_rate', 'lstm_dims'])"
      ]
     },
     "execution_count": 7,
     "metadata": {},
     "output_type": "execute_result"
    }
   ],
   "source": [
    "injson[0].keys()"
   ]
  },
  {
   "cell_type": "code",
   "execution_count": 13,
   "metadata": {
    "collapsed": true
   },
   "outputs": [],
   "source": [
    "output = []\n",
    "for n, model in enumerate(injson):\n",
    "    for i, v in enumerate(model['val_acc']):\n",
    "        modeldict = {}\n",
    "        # Model identifier\n",
    "        modeldict['model'] = n\n",
    "        \n",
    "        # Model specific arguments\n",
    "        modeldict['modeltype'] = model['modeltype']\n",
    "        modeldict['learning_rate'] = model['learning_rate']\n",
    "        modeldict['regularization_rate'] = model['regularization_rate']\n",
    "        modeldict['nr_convlayers'] = len(model['filters'])\n",
    "        modeldict['nr_lstmlayers'] = len(model.get('lstm_dims', []))\n",
    "        \n",
    "        if i==len(model['val_acc'])-1:\n",
    "            modeldict['final_val_acc'] = model['val_acc'][-1]\n",
    "        else:\n",
    "            modeldict['final_val_acc'] = 0\n",
    "        \n",
    "        # Iteration specific arguments\n",
    "        modeldict['iteration'] = i\n",
    "        modeldict['val_acc'] = v\n",
    "        modeldict['train_acc'] = model['train_acc'][i]\n",
    "        modeldict['val_loss'] = model['val_loss'][i]\n",
    "        modeldict['train_loss'] = model['train_loss'][i]\n",
    "        output.append(modeldict)"
   ]
  },
  {
   "cell_type": "code",
   "execution_count": 14,
   "metadata": {
    "collapsed": false
   },
   "outputs": [
    {
     "name": "stdout",
     "output_type": "stream",
     "text": [
      "150\n"
     ]
    },
    {
     "data": {
      "text/plain": [
       "{'final_val_acc': 0,\n",
       " 'iteration': 0,\n",
       " 'learning_rate': 0.004442423175188501,\n",
       " 'model': 0,\n",
       " 'modeltype': 'DeepConvLSTM',\n",
       " 'nr_convlayers': 5,\n",
       " 'nr_lstmlayers': 2,\n",
       " 'regularization_rate': 0.012238061776237413,\n",
       " 'train_acc': 0.7820000004768372,\n",
       " 'train_loss': 0.948539714217186,\n",
       " 'val_acc': 0.8418079021960329,\n",
       " 'val_loss': 0.577927742300734}"
      ]
     },
     "execution_count": 14,
     "metadata": {},
     "output_type": "execute_result"
    }
   ],
   "source": [
    "print(len(output))\n",
    "output[0]"
   ]
  },
  {
   "cell_type": "code",
   "execution_count": 15,
   "metadata": {
    "collapsed": true
   },
   "outputs": [],
   "source": [
    "with open(outputfile, 'w') as outfile:\n",
    "    json.dump(output, outfile, sort_keys = True, indent = 4, ensure_ascii=False)"
   ]
  },
  {
   "cell_type": "code",
   "execution_count": null,
   "metadata": {
    "collapsed": true
   },
   "outputs": [],
   "source": []
  }
 ],
 "metadata": {
  "kernelspec": {
   "display_name": "Python 3",
   "language": "python",
   "name": "python3"
  },
  "language_info": {
   "codemirror_mode": {
    "name": "ipython",
    "version": 3
   },
   "file_extension": ".py",
   "mimetype": "text/x-python",
   "name": "python",
   "nbconvert_exporter": "python",
   "pygments_lexer": "ipython3",
   "version": "3.5.2"
  }
 },
 "nbformat": 4,
 "nbformat_minor": 0
}
