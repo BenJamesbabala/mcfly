{
 "cells": [
  {
   "cell_type": "code",
   "execution_count": 1,
   "metadata": {
    "collapsed": false
   },
   "outputs": [
    {
     "name": "stdout",
     "output_type": "stream",
     "text": [
      "Populating the interactive namespace from numpy and matplotlib\n"
     ]
    }
   ],
   "source": [
    "import numpy as np\n",
    "%pylab inline"
   ]
  },
  {
   "cell_type": "markdown",
   "metadata": {},
   "source": [
    "## Load simple dataset"
   ]
  },
  {
   "cell_type": "markdown",
   "metadata": {},
   "source": [
    "We load the data from the UCR TS archive, you can get the data at http://www.cs.ucr.edu/~eamonn/time_series_data/"
   ]
  },
  {
   "cell_type": "code",
   "execution_count": 2,
   "metadata": {
    "collapsed": true
   },
   "outputs": [],
   "source": [
    "datapath = '/media/sf_VBox_Shared/timeseries/UCR_TS_Archive_2015'"
   ]
  },
  {
   "cell_type": "code",
   "execution_count": 3,
   "metadata": {
    "collapsed": false
   },
   "outputs": [
    {
     "name": "stdout",
     "output_type": "stream",
     "text": [
      "(896, 316) (3582, 316)\n",
      "(896, 316) (3582, 316)\n",
      "(896, 316) (3582, 316)\n"
     ]
    }
   ],
   "source": [
    "datasets_train = {}\n",
    "datasets_test = {}\n",
    "for i in [\"X\", \"Y\", \"Z\"]:\n",
    "    path_to_data_train = datapath + '/uWaveGestureLibrary_'+i+'/uWaveGestureLibrary_'+i+'_TRAIN'\n",
    "    path_to_data_test = datapath + '/uWaveGestureLibrary_'+i+'/uWaveGestureLibrary_'+i+'_TEST'\n",
    "    datasets_train[i] = np.genfromtxt(path_to_data_train, delimiter=',')\n",
    "    datasets_test[i] = np.genfromtxt(path_to_data_test, delimiter=',')\n",
    "    print(datasets_train[i].shape, datasets_test[i].shape)"
   ]
  },
  {
   "cell_type": "code",
   "execution_count": 4,
   "metadata": {
    "collapsed": false
   },
   "outputs": [
    {
     "name": "stdout",
     "output_type": "stream",
     "text": [
      "0.0\n",
      "(896,)\n",
      "(3582,)\n"
     ]
    }
   ],
   "source": [
    "y_train = np.vstack((datasets_train['X'][:,0], datasets_train['Y'][:,0], datasets_train['Z'][:,0])).transpose()\n",
    "#Check labels are the same across channels\n",
    "print(y_train.std(axis=1).sum())\n",
    "y_train = np.array(y_train[:,0], dtype='int')\n",
    "print(y_train.shape)\n",
    "\n",
    "y_test = np.array(datasets_test['X'][:,0], dtype='int')\n",
    "print(y_test.shape)"
   ]
  },
  {
   "cell_type": "code",
   "execution_count": 5,
   "metadata": {
    "collapsed": false
   },
   "outputs": [
    {
     "name": "stdout",
     "output_type": "stream",
     "text": [
      "(896, 315, 3)\n",
      "(3582, 315, 3)\n"
     ]
    }
   ],
   "source": [
    "X_train  = np.stack((datasets_train['X'][:,1:], datasets_train['Y'][:,1:], datasets_train['Z'][:,1:]), axis=-1)\n",
    "print(X_train.shape)\n",
    "X_test  = np.stack((datasets_test['X'][:,1:], datasets_test['Y'][:,1:], datasets_test['Z'][:,1:]), axis=-1)\n",
    "print(X_test.shape)"
   ]
  },
  {
   "cell_type": "code",
   "execution_count": 6,
   "metadata": {
    "collapsed": false
   },
   "outputs": [
    {
     "data": {
      "text/plain": [
       "array([[[-0.30424, -2.1194 , -1.529  ],\n",
       "        [-0.30424, -2.1194 , -1.529  ],\n",
       "        [-0.30424, -2.1194 , -1.529  ],\n",
       "        [-0.30424, -2.1194 , -1.529  ]],\n",
       "\n",
       "       [[ 1.6273 ,  0.66662,  1.7869 ],\n",
       "        [ 1.6273 ,  0.66662,  1.7869 ],\n",
       "        [ 1.6273 ,  0.66662,  1.7869 ],\n",
       "        [ 1.6273 ,  0.66662,  1.7869 ]],\n",
       "\n",
       "       [[ 0.66128, -0.18973,  0.52125],\n",
       "        [ 0.66128, -0.18973,  0.52125],\n",
       "        [ 0.66128, -0.18973,  0.52125],\n",
       "        [ 0.66128, -0.18973,  0.52125]]])"
      ]
     },
     "execution_count": 6,
     "metadata": {},
     "output_type": "execute_result"
    }
   ],
   "source": [
    "X_train[:3,:4,:]"
   ]
  },
  {
   "cell_type": "code",
   "execution_count": 7,
   "metadata": {
    "collapsed": false
   },
   "outputs": [],
   "source": [
    "#Change class labels ranging from 0 to n-1\n",
    "classlabels = list(set(y_train))\n",
    "mapclasses = {classlabels[i] : i for i in range(len(classlabels))}\n",
    "y_train = np.array([mapclasses[c] for c in y_train], dtype='int')\n",
    "y_test = np.array([mapclasses[c] for c in y_test], dtype='int')"
   ]
  },
  {
   "cell_type": "code",
   "execution_count": 8,
   "metadata": {
    "collapsed": false
   },
   "outputs": [
    {
     "name": "stdout",
     "output_type": "stream",
     "text": [
      "(269, 315, 3)\n"
     ]
    }
   ],
   "source": [
    "ntrain = X_train.shape[0]\n",
    "num_training = int(ntrain * 0.7)\n",
    "num_validation = ntrain - num_training\n",
    "num_test = X_test.shape[0]\n",
    "\n",
    "#First sort the data in random order\n",
    "np.random.seed(123)\n",
    "neworder = np.random.permutation(ntrain)\n",
    "X_train_random = X_train[neworder,:]\n",
    "y_train_random = y_train[neworder]\n",
    "\n",
    "# Our validation set will be num_validation points from the original\n",
    "# training set.\n",
    "mask = range(num_training, num_training + num_validation)\n",
    "X_val = X_train_random[mask]\n",
    "y_val = y_train_random[mask]\n",
    "mask = range(num_training)\n",
    "X_train = X_train_random[mask]\n",
    "y_train = y_train_random[mask]\n",
    "\n",
    "\n",
    "print(X_val.shape)"
   ]
  },
  {
   "cell_type": "code",
   "execution_count": 9,
   "metadata": {
    "collapsed": true
   },
   "outputs": [],
   "source": [
    "dim_length = X_train.shape[1]\n",
    "dim_channels = X_train.shape[2]\n",
    "outputdim = len(set(y_train))"
   ]
  },
  {
   "cell_type": "code",
   "execution_count": 10,
   "metadata": {
    "collapsed": false
   },
   "outputs": [
    {
     "name": "stderr",
     "output_type": "stream",
     "text": [
      "Using Theano backend.\n"
     ]
    },
    {
     "name": "stdout",
     "output_type": "stream",
     "text": [
      "[[ 0.  0.  0.  0.  0.  1.  0.  0.]\n",
      " [ 0.  0.  1.  0.  0.  0.  0.  0.]\n",
      " [ 1.  0.  0.  0.  0.  0.  0.  0.]\n",
      " [ 0.  1.  0.  0.  0.  0.  0.  0.]\n",
      " [ 0.  0.  0.  1.  0.  0.  0.  0.]\n",
      " [ 0.  1.  0.  0.  0.  0.  0.  0.]\n",
      " [ 0.  1.  0.  0.  0.  0.  0.  0.]\n",
      " [ 0.  0.  0.  0.  0.  1.  0.  0.]\n",
      " [ 1.  0.  0.  0.  0.  0.  0.  0.]\n",
      " [ 0.  1.  0.  0.  0.  0.  0.  0.]]\n"
     ]
    }
   ],
   "source": [
    "# We need to convert the output\n",
    "from keras.utils.np_utils import to_categorical\n",
    "y_train_binary = to_categorical(y_train)\n",
    "y_val_binary = to_categorical(y_val)\n",
    "y_test_binary = to_categorical(y_test)\n",
    "print(y_train_binary[:10,:])"
   ]
  },
  {
   "cell_type": "code",
   "execution_count": 11,
   "metadata": {
    "collapsed": false
   },
   "outputs": [
    {
     "data": {
      "image/png": "[encoded data removed]",
      "text/plain": [
       "<matplotlib.figure.Figure at 0x7f07c6da1390>"
      ]
     },
     "metadata": {},
     "output_type": "display_data"
    }
   ],
   "source": [
    "#plot example series\n",
    "plt.plot(X_train[0,:]);"
   ]
  },
  {
   "cell_type": "markdown",
   "metadata": {},
   "source": [
    "## Build model architecture"
   ]
  },
  {
   "cell_type": "code",
   "execution_count": 15,
   "metadata": {
    "collapsed": true
   },
   "outputs": [],
   "source": [
    "from keras.models import Sequential\n",
    "from keras.layers import Dense, Activation, Convolution1D, Flatten, MaxPooling1D, BatchNormalization\n",
    "from keras.regularizers import l2"
   ]
  },
  {
   "cell_type": "code",
   "execution_count": 20,
   "metadata": {
    "collapsed": true
   },
   "outputs": [],
   "source": [
    "filters = [64, 64, 64]\n",
    "fc_hidden_nodes = 32\n",
    "regularization_rate = 0.001\n",
    "weightinit = 'lecun_uniform'\n",
    "learning_rate = 0.0001"
   ]
  },
  {
   "cell_type": "code",
   "execution_count": 30,
   "metadata": {
    "collapsed": false
   },
   "outputs": [],
   "source": [
    "model = Sequential()\n",
    "model.add(BatchNormalization(input_shape=(dim_length, dim_channels), mode=0, axis=2))\n",
    "for filter_number in filters:\n",
    "    model.add(Convolution1D(filter_number, 3, border_mode='same',\n",
    "                            W_regularizer=l2(regularization_rate), init=weightinit))\n",
    "    model.add(BatchNormalization())\n",
    "    model.add(Activation('relu'))\n",
    "model.add(Flatten())\n",
    "model.add(Dense(output_dim=fc_hidden_nodes,\n",
    "                W_regularizer=l2(regularization_rate), init=weightinit))  # Fully connected layer\n",
    "model.add(BatchNormalization())\n",
    "model.add(Activation('relu'))  # Relu activation\n",
    "model.add(Dense(output_dim=outputdim, init=weightinit))\n",
    "model.add(Activation(\"softmax\"))  # Final classification layer"
   ]
  },
  {
   "cell_type": "code",
   "execution_count": 31,
   "metadata": {
    "collapsed": false
   },
   "outputs": [
    {
     "name": "stdout",
     "output_type": "stream",
     "text": [
      "____________________________________________________________________________________________________\n",
      "Layer (type)                     Output Shape          Param #     Connected to                     \n",
      "====================================================================================================\n",
      "batchnormalization_8 (BatchNormal(None, 315, 3)        6           batchnormalization_input_5[0][0] \n",
      "____________________________________________________________________________________________________\n",
      "convolution1d_10 (Convolution1D) (None, 315, 64)       640         batchnormalization_8[0][0]       \n",
      "____________________________________________________________________________________________________\n",
      "batchnormalization_9 (BatchNormal(None, 315, 64)       128         convolution1d_10[0][0]           \n",
      "____________________________________________________________________________________________________\n",
      "activation_16 (Activation)       (None, 315, 64)       0           batchnormalization_9[0][0]       \n",
      "____________________________________________________________________________________________________\n",
      "convolution1d_11 (Convolution1D) (None, 315, 64)       12352       activation_16[0][0]              \n",
      "____________________________________________________________________________________________________\n",
      "batchnormalization_10 (BatchNorma(None, 315, 64)       128         convolution1d_11[0][0]           \n",
      "____________________________________________________________________________________________________\n",
      "activation_17 (Activation)       (None, 315, 64)       0           batchnormalization_10[0][0]      \n",
      "____________________________________________________________________________________________________\n",
      "convolution1d_12 (Convolution1D) (None, 315, 64)       12352       activation_17[0][0]              \n",
      "____________________________________________________________________________________________________\n",
      "batchnormalization_11 (BatchNorma(None, 315, 64)       128         convolution1d_12[0][0]           \n",
      "____________________________________________________________________________________________________\n",
      "activation_18 (Activation)       (None, 315, 64)       0           batchnormalization_11[0][0]      \n",
      "____________________________________________________________________________________________________\n",
      "flatten_4 (Flatten)              (None, 20160)         0           activation_18[0][0]              \n",
      "____________________________________________________________________________________________________\n",
      "dense_7 (Dense)                  (None, 32)            645152      flatten_4[0][0]                  \n",
      "____________________________________________________________________________________________________\n",
      "batchnormalization_12 (BatchNorma(None, 32)            64          dense_7[0][0]                    \n",
      "____________________________________________________________________________________________________\n",
      "activation_19 (Activation)       (None, 32)            0           batchnormalization_12[0][0]      \n",
      "____________________________________________________________________________________________________\n",
      "dense_8 (Dense)                  (None, 8)             264         activation_19[0][0]              \n",
      "____________________________________________________________________________________________________\n",
      "activation_20 (Activation)       (None, 8)             0           dense_8[0][0]                    \n",
      "====================================================================================================\n",
      "Total params: 671214\n",
      "____________________________________________________________________________________________________\n"
     ]
    }
   ],
   "source": [
    "model.summary()"
   ]
  },
  {
   "cell_type": "markdown",
   "metadata": {},
   "source": [
    "Now we configure the learning process:"
   ]
  },
  {
   "cell_type": "code",
   "execution_count": 32,
   "metadata": {
    "collapsed": false
   },
   "outputs": [],
   "source": [
    "from keras.optimizers import Adam\n",
    "model.compile(loss='categorical_crossentropy',\n",
    "                  optimizer=Adam(lr=learning_rate),\n",
    "                  metrics=['accuracy'])"
   ]
  },
  {
   "cell_type": "code",
   "execution_count": 45,
   "metadata": {
    "collapsed": false
   },
   "outputs": [
    {
     "name": "stdout",
     "output_type": "stream",
     "text": [
      "[ -2.24024966e-07   1.98264100e-07  -1.15843963e-07]\n",
      "[ 0.9984117   0.99841144  0.99841141]\n"
     ]
    }
   ],
   "source": [
    "print(X_train.mean(axis=(0,1)))\n",
    "print(X_train.std(axis=(0,1)))"
   ]
  },
  {
   "cell_type": "code",
   "execution_count": 41,
   "metadata": {
    "collapsed": false
   },
   "outputs": [
    {
     "name": "stdout",
     "output_type": "stream",
     "text": [
      "[array([ 0.99743915,  1.00168717,  1.0014627 ], dtype=float32), array([ 0.00158057,  0.00459987,  0.00098919], dtype=float32), array([ -2.47292661e-07,   1.41121973e-07,  -1.65971215e-07], dtype=float32), array([ 0.99841183,  0.99841172,  0.9984116 ], dtype=float32)]\n",
      "\n",
      "[array([ 0.99996477,  1.00145125,  1.00089025,  0.99848485,  1.00060809,\n",
      "        0.99864501,  1.00203156,  0.99856997,  0.99888021,  1.00242209,\n",
      "        0.99878162,  1.00191188,  1.0011884 ,  1.00081849,  1.00210953,\n",
      "        0.99843937,  1.00212812,  0.99687958,  1.0019294 ,  0.99712074,\n",
      "        0.99873298,  0.99897206,  0.99783391,  1.00009191,  1.00108421,\n",
      "        1.00039351,  1.00178754,  0.99776238,  1.00145888,  0.99806589,\n",
      "        1.00121963,  0.99881822,  1.00004029,  1.00159848,  0.99924982,\n",
      "        1.00158238,  1.00106978,  0.99996209,  1.00095022,  1.00035191,\n",
      "        0.99909776,  0.99927467,  1.00103414,  1.00153375,  0.99967998,\n",
      "        1.00079346,  0.99926901,  1.00208175,  0.99754316,  0.99759603,\n",
      "        1.00026107,  0.99959683,  0.99897599,  1.00044549,  0.99902999,\n",
      "        0.99946243,  1.00046003,  1.00167668,  0.99862385,  0.99993926,\n",
      "        0.99984503,  1.00009155,  1.00027764,  1.00009775], dtype=float32), array([  2.00966769e-03,   2.07999069e-03,  -2.22199160e-04,\n",
      "         1.52277772e-03,   1.28173467e-03,  -1.19644892e-03,\n",
      "        -1.04645186e-03,  -3.09977535e-04,  -5.05880127e-03,\n",
      "         1.81168644e-03,  -8.02243536e-04,   2.53108051e-03,\n",
      "         7.38716117e-05,  -1.25398510e-04,   2.64591561e-03,\n",
      "         8.35569226e-04,   1.92342151e-03,  -2.09614867e-03,\n",
      "         1.65652612e-03,  -2.50913203e-03,  -8.89630639e-04,\n",
      "        -2.67271698e-03,   8.33490107e-04,   7.44398101e-04,\n",
      "         1.85662264e-03,  -5.52362530e-04,  -2.20482340e-04,\n",
      "         1.41576002e-03,   1.79017114e-03,   1.11645286e-03,\n",
      "         2.19292333e-03,  -1.51199964e-03,  -7.18147203e-04,\n",
      "         8.29972210e-04,   3.18665500e-03,   4.19318327e-04,\n",
      "         2.06055213e-03,  -1.52047526e-03,  -2.22444348e-03,\n",
      "         2.68055970e-04,  -2.58102734e-03,  -1.58951781e-03,\n",
      "         2.43842741e-03,   1.50849321e-03,  -1.27708586e-03,\n",
      "         1.83889410e-03,   9.19055834e-04,   1.12830219e-03,\n",
      "        -2.07080459e-03,  -3.81617792e-05,   1.45996781e-03,\n",
      "        -2.47695111e-03,  -2.43824581e-03,   1.74077856e-03,\n",
      "        -3.73416557e-03,   7.78977337e-05,  -2.34133389e-04,\n",
      "         5.71265351e-04,  -9.04613291e-04,  -2.46664789e-03,\n",
      "        -1.34846161e-03,  -5.54786180e-04,   3.72934534e-04,\n",
      "         2.00793939e-03], dtype=float32), array([  3.69122950e-03,  -5.80692606e-04,  -7.97254266e-04,\n",
      "         1.48030254e-03,   3.12166987e-03,   2.98004597e-05,\n",
      "         1.06350996e-03,   3.74872703e-03,  -3.54553992e-03,\n",
      "        -2.16281437e-03,   6.97198033e-04,   9.12923075e-04,\n",
      "        -2.11067754e-03,   1.00425642e-03,   2.06600851e-03,\n",
      "         3.98721267e-03,  -1.88256579e-03,   2.46159453e-03,\n",
      "         5.30320499e-03,   3.46976542e-03,  -2.10087071e-03,\n",
      "        -3.64899111e-04,   8.36404070e-05,  -3.87546537e-03,\n",
      "        -2.45088688e-03,  -5.01058809e-03,  -3.75664630e-03,\n",
      "         3.49728944e-04,   4.47852258e-03,  -2.54049897e-03,\n",
      "        -2.93831481e-03,  -3.92608531e-03,   1.93156360e-03,\n",
      "         1.97229325e-03,   5.02727088e-03,  -4.31503775e-03,\n",
      "         1.60906208e-03,  -2.53856811e-03,   7.94852618e-04,\n",
      "         8.22293805e-04,  -3.72414663e-03,   1.34888897e-03,\n",
      "        -4.60977387e-03,  -1.74108963e-03,   9.10973031e-05,\n",
      "        -6.77844509e-03,  -1.07945246e-03,   9.01845458e-04,\n",
      "        -1.57025689e-03,   2.80671101e-03,  -9.88351996e-04,\n",
      "        -2.17192410e-03,  -1.19426323e-03,   1.50848413e-03,\n",
      "         6.84952829e-04,  -6.22235192e-03,   3.94668616e-03,\n",
      "        -1.94648863e-03,  -1.58651837e-03,  -6.75747450e-03,\n",
      "         1.12394337e-04,  -4.34095319e-03,   7.54531124e-04,\n",
      "         3.61590390e-03], dtype=float32), array([ 1.05811954,  0.5909251 ,  0.60833025,  1.42814612,  0.83176506,\n",
      "        0.91045934,  0.62930268,  1.07924867,  1.34359896,  0.75637913,\n",
      "        0.61525023,  0.40456462,  0.68216932,  0.52117127,  0.57953751,\n",
      "        1.64883494,  0.39933878,  0.99832463,  1.08396339,  0.98256934,\n",
      "        0.6391632 ,  0.32442519,  1.27348065,  1.08129108,  0.73212761,\n",
      "        1.32478988,  0.67639536,  0.45902309,  1.83528423,  0.86153895,\n",
      "        1.38012755,  1.27034223,  0.84125328,  0.90834063,  1.29634142,\n",
      "        1.45993185,  0.62383819,  1.26759017,  0.98907876,  0.54278308,\n",
      "        0.87150121,  0.7829386 ,  1.07715869,  0.49124208,  0.89830148,\n",
      "        1.48962367,  0.91732633,  0.63130838,  0.45069391,  0.6870361 ,\n",
      "        0.32146236,  0.50546575,  0.48349315,  0.972633  ,  0.88000846,\n",
      "        1.45059013,  1.03525996,  0.77980518,  1.01582503,  1.93074811,\n",
      "        0.60984182,  0.96155715,  0.31212324,  1.10675669], dtype=float32)]\n"
     ]
    }
   ],
   "source": [
    "batchnormlay0 = model.layers[0]\n",
    "batchnormlay1 = model.layers[2]\n",
    "print(batchnormlay0.get_weights())\n",
    "print('')\n",
    "print(batchnormlay1.get_weights())"
   ]
  },
  {
   "cell_type": "markdown",
   "metadata": {},
   "source": [
    "## Fit the model on the data"
   ]
  },
  {
   "cell_type": "code",
   "execution_count": 33,
   "metadata": {
    "collapsed": false
   },
   "outputs": [
    {
     "name": "stdout",
     "output_type": "stream",
     "text": [
      "Train on 627 samples, validate on 269 samples\n",
      "Epoch 1/10\n",
      "627/627 [==============================] - 7s - loss: 1.3940 - acc: 0.6778 - val_loss: 0.8103 - val_acc: 0.8773\n",
      "Epoch 2/10\n",
      "627/627 [==============================] - 7s - loss: 0.9411 - acc: 0.9059 - val_loss: 0.6795 - val_acc: 0.9071\n",
      "Epoch 3/10\n",
      "627/627 [==============================] - 7s - loss: 0.8408 - acc: 0.9410 - val_loss: 0.6555 - val_acc: 0.9182\n",
      "Epoch 4/10\n",
      "627/627 [==============================] - 7s - loss: 0.7873 - acc: 0.9585 - val_loss: 0.6339 - val_acc: 0.9257\n",
      "Epoch 5/10\n",
      "627/627 [==============================] - 9s - loss: 0.7517 - acc: 0.9697 - val_loss: 0.6021 - val_acc: 0.9257\n",
      "Epoch 6/10\n",
      "627/627 [==============================] - 9s - loss: 0.7083 - acc: 0.9793 - val_loss: 0.5843 - val_acc: 0.9368\n",
      "Epoch 7/10\n",
      "627/627 [==============================] - 9s - loss: 0.6835 - acc: 0.9856 - val_loss: 0.5734 - val_acc: 0.9331\n",
      "Epoch 8/10\n",
      "627/627 [==============================] - 9s - loss: 0.6554 - acc: 0.9856 - val_loss: 0.5540 - val_acc: 0.9294\n",
      "Epoch 9/10\n",
      "627/627 [==============================] - 8s - loss: 0.6314 - acc: 0.9888 - val_loss: 0.5435 - val_acc: 0.9405\n",
      "Epoch 10/10\n",
      "627/627 [==============================] - 8s - loss: 0.6185 - acc: 0.9904 - val_loss: 0.5342 - val_acc: 0.9442\n"
     ]
    },
    {
     "data": {
      "text/plain": [
       "<keras.callbacks.History at 0x7f07994845c0>"
      ]
     },
     "execution_count": 33,
     "metadata": {},
     "output_type": "execute_result"
    }
   ],
   "source": [
    "model.fit(X_train, y_train_binary, nb_epoch=10, validation_data=(X_val, y_val_binary))"
   ]
  },
  {
   "cell_type": "markdown",
   "metadata": {},
   "source": [
    "## Validate the model on validation set"
   ]
  },
  {
   "cell_type": "code",
   "execution_count": 42,
   "metadata": {
    "collapsed": false
   },
   "outputs": [
    {
     "name": "stdout",
     "output_type": "stream",
     "text": [
      "269/269 [==============================] - 0s     \n"
     ]
    },
    {
     "data": {
      "text/plain": [
       "[0.29719074574544968, 0.91821561382605688]"
      ]
     },
     "execution_count": 42,
     "metadata": {},
     "output_type": "execute_result"
    }
   ],
   "source": [
    "loss_and_metrics = model.evaluate(X_val, y_val_binary, batch_size=32)\n",
    "loss_and_metrics"
   ]
  },
  {
   "cell_type": "code",
   "execution_count": 43,
   "metadata": {
    "collapsed": false
   },
   "outputs": [
    {
     "name": "stderr",
     "output_type": "stream",
     "text": [
      "/home/dafne/anaconda2/envs/mcfly/lib/python3.5/site-packages/keras/backend/theano_backend.py:514: UserWarning: theano.function was asked to create a function computing outputs given certain inputs, but the provided input variable at index 1 is not part of the computational graph needed to compute the outputs: keras_learning_phase.\n",
      "To make this warning into an error, you can pass the parameter on_unused_input='raise' to theano.function. To disable it completely, use on_unused_input='ignore'.\n",
      "  **kwargs)\n"
     ]
    },
    {
     "name": "stdout",
     "output_type": "stream",
     "text": [
      "269/269 [==============================] - 0s     \n",
      "269/269 [==============================] - 0s     \n"
     ]
    }
   ],
   "source": [
    "classes = model.predict_classes(X_val, batch_size=32)\n",
    "proba = model.predict_proba(X_val, batch_size=32)"
   ]
  },
  {
   "cell_type": "code",
   "execution_count": 44,
   "metadata": {
    "collapsed": false
   },
   "outputs": [
    {
     "name": "stdout",
     "output_type": "stream",
     "text": [
      "[[  9.94976819e-01   2.68205463e-06   1.38416353e-05 ...,   3.67989946e-06\n",
      "    0.00000000e+00   0.00000000e+00]\n",
      " [  4.54686209e-08   5.07737896e-05   9.99749124e-01 ...,   1.04616440e-04\n",
      "    2.00000000e+00   2.00000000e+00]\n",
      " [  1.37538869e-08   5.00898692e-04   9.98802483e-01 ...,   2.34044550e-04\n",
      "    2.00000000e+00   2.00000000e+00]\n",
      " ..., \n",
      " [  2.02587387e-03   9.11104376e-04   7.49258504e-07 ...,   3.05002788e-04\n",
      "    5.00000000e+00   5.00000000e+00]\n",
      " [  2.96635553e-03   1.41996818e-04   4.06931895e-06 ...,   6.41167353e-05\n",
      "    5.00000000e+00   5.00000000e+00]\n",
      " [  8.40993479e-08   9.99662817e-01   2.44735588e-06 ...,   9.40117206e-06\n",
      "    1.00000000e+00   1.00000000e+00]]\n"
     ]
    }
   ],
   "source": [
    "print(np.hstack((proba, np.vstack((classes, y_val)).transpose())))"
   ]
  },
  {
   "cell_type": "markdown",
   "metadata": {},
   "source": [
    "Let's compute some more metrics, such as the confusion matrix and the ROC curve"
   ]
  },
  {
   "cell_type": "code",
   "execution_count": 45,
   "metadata": {
    "collapsed": false
   },
   "outputs": [
    {
     "data": {
      "text/plain": [
       "array([[34,  0,  0,  1,  0,  5,  0,  0],\n",
       "       [ 1, 30,  0,  0,  0,  0,  0,  0],\n",
       "       [ 0,  0, 34,  0,  0,  2,  1,  0],\n",
       "       [ 0,  0,  0, 25,  0,  1,  0,  0],\n",
       "       [ 0,  0,  2,  2, 40,  1,  0,  0],\n",
       "       [ 3,  0,  0,  1,  0, 28,  0,  0],\n",
       "       [ 0,  1,  0,  0,  0,  1, 31,  0],\n",
       "       [ 0,  0,  0,  0,  0,  0,  0, 25]])"
      ]
     },
     "execution_count": 45,
     "metadata": {},
     "output_type": "execute_result"
    }
   ],
   "source": [
    "from sklearn import metrics\n",
    "metrics.confusion_matrix(classes, y_val)"
   ]
  },
  {
   "cell_type": "markdown",
   "metadata": {
    "collapsed": true
   },
   "source": [
    "## Test on testset"
   ]
  },
  {
   "cell_type": "code",
   "execution_count": 46,
   "metadata": {
    "collapsed": false
   },
   "outputs": [
    {
     "name": "stdout",
     "output_type": "stream",
     "text": [
      "3582/3582 [==============================] - 1s     \n"
     ]
    },
    {
     "data": {
      "text/plain": [
       "[0.28670237241245261, 0.92238972621014637]"
      ]
     },
     "execution_count": 46,
     "metadata": {},
     "output_type": "execute_result"
    }
   ],
   "source": [
    "loss_and_metrics = model.evaluate(X_test, y_test_binary, batch_size=32)\n",
    "loss_and_metrics"
   ]
  },
  {
   "cell_type": "code",
   "execution_count": 47,
   "metadata": {
    "collapsed": false
   },
   "outputs": [
    {
     "data": {
      "text/plain": [
       "0.966"
      ]
     },
     "execution_count": 47,
     "metadata": {},
     "output_type": "execute_result"
    }
   ],
   "source": [
    "#Best score by Dynamic time warping:\n",
    "1 - 0.034 "
   ]
  },
  {
   "cell_type": "code",
   "execution_count": null,
   "metadata": {
    "collapsed": true
   },
   "outputs": [],
   "source": []
  }
 ],
 "metadata": {
  "kernelspec": {
   "display_name": "Python 3",
   "language": "python",
   "name": "python3"
  },
  "language_info": {
   "codemirror_mode": {
    "name": "ipython",
    "version": 3
   },
   "file_extension": ".py",
   "mimetype": "text/x-python",
   "name": "python",
   "nbconvert_exporter": "python",
   "pygments_lexer": "ipython3",
   "version": "3.5.2"
  }
 },
 "nbformat": 4,
 "nbformat_minor": 0
}
