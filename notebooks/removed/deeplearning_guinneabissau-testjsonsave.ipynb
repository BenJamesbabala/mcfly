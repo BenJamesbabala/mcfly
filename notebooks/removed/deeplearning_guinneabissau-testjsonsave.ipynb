{
 "cells": [
  {
   "cell_type": "markdown",
   "metadata": {},
   "source": [
    "## Load data"
   ]
  },
  {
   "cell_type": "code",
   "execution_count": 1,
   "metadata": {
    "collapsed": false
   },
   "outputs": [
    {
     "ename": "ImportError",
     "evalue": "No module named 'keras'",
     "output_type": "error",
     "traceback": [
      "\u001b[0;31m---------------------------------------------------------------------------\u001b[0m",
      "\u001b[0;31mImportError\u001b[0m                               Traceback (most recent call last)",
      "\u001b[0;32m<ipython-input-1-78854184de13>\u001b[0m in \u001b[0;36m<module>\u001b[0;34m()\u001b[0m\n\u001b[1;32m      1\u001b[0m \u001b[0;32mimport\u001b[0m \u001b[0mnumpy\u001b[0m \u001b[0;32mas\u001b[0m \u001b[0mnp\u001b[0m\u001b[0;34m\u001b[0m\u001b[0m\n\u001b[0;32m----> 2\u001b[0;31m \u001b[0;32mfrom\u001b[0m \u001b[0mkeras\u001b[0m\u001b[0;34m.\u001b[0m\u001b[0mutils\u001b[0m\u001b[0;34m.\u001b[0m\u001b[0mnp_utils\u001b[0m \u001b[0;32mimport\u001b[0m \u001b[0mto_categorical\u001b[0m\u001b[0;34m\u001b[0m\u001b[0m\n\u001b[0m\u001b[1;32m      3\u001b[0m \u001b[0;32mimport\u001b[0m \u001b[0mkeras\u001b[0m\u001b[0;34m\u001b[0m\u001b[0m\n",
      "\u001b[0;31mImportError\u001b[0m: No module named 'keras'"
     ]
    }
   ],
   "source": [
    "import numpy as np\n",
    "from keras.utils.np_utils import to_categorical\n",
    "import keras"
   ]
  },
  {
   "cell_type": "code",
   "execution_count": 6,
   "metadata": {
    "collapsed": false
   },
   "outputs": [
    {
     "name": "stdout",
     "output_type": "stream",
     "text": [
      "Populating the interactive namespace from numpy and matplotlib\n",
      "The autoreload extension is already loaded. To reload it, use:\n",
      "  %reload_ext autoreload\n"
     ]
    }
   ],
   "source": [
    "%pylab inline\n",
    "%load_ext autoreload\n",
    "%autoreload 2"
   ]
  },
  {
   "cell_type": "code",
   "execution_count": 7,
   "metadata": {
    "collapsed": true
   },
   "outputs": [],
   "source": [
    "datapath = '/media/windows-share/EEGs_Guinea-Bissau_np/' #'/media/sf_VBox_Shared/timeseries/EEGs_Guinea-Bissau_np/'"
   ]
  },
  {
   "cell_type": "code",
   "execution_count": 8,
   "metadata": {
    "collapsed": false
   },
   "outputs": [],
   "source": [
    "condition = '_10seconds_closed.npy'\n",
    "X_train = np.load(datapath+'X_train'+condition)\n",
    "y_train = np.load(datapath+'y_train'+condition)\n",
    "X_val = np.load(datapath+'X_valid'+condition)\n",
    "y_val = np.load(datapath+'y_valid'+condition)\n",
    "X_test = np.load(datapath+'X_test'+condition)\n",
    "y_test = np.load(datapath+'y_test'+condition)"
   ]
  },
  {
   "cell_type": "code",
   "execution_count": 9,
   "metadata": {
    "collapsed": false
   },
   "outputs": [
    {
     "name": "stdout",
     "output_type": "stream",
     "text": [
      "{u'Control': 0, u'Epilepsy': 1}\n"
     ]
    }
   ],
   "source": [
    "classlabels = list(set(y_train))\n",
    "mapclasses = {classlabels[i] : i for i in range(len(classlabels))}\n",
    "print(mapclasses)"
   ]
  },
  {
   "cell_type": "code",
   "execution_count": 10,
   "metadata": {
    "collapsed": false
   },
   "outputs": [],
   "source": [
    "y_train = np.array([mapclasses[c] for c in y_train], dtype='int')\n",
    "y_val = np.array([mapclasses[c] for c in y_test], dtype='int')\n",
    "y_test = np.array([mapclasses[c] for c in y_test], dtype='int')\n",
    "y_train_binary = to_categorical(y_train)\n",
    "y_val_binary = to_categorical(y_val)\n",
    "y_test_binary = to_categorical(y_test)"
   ]
  },
  {
   "cell_type": "code",
   "execution_count": 11,
   "metadata": {
    "collapsed": false
   },
   "outputs": [
    {
     "data": {
      "text/plain": [
       "array([[ 0.,  1.],\n",
       "       [ 0.,  1.],\n",
       "       [ 0.,  1.],\n",
       "       [ 1.,  0.],\n",
       "       [ 0.,  1.],\n",
       "       [ 0.,  1.],\n",
       "       [ 0.,  1.],\n",
       "       [ 1.,  0.],\n",
       "       [ 1.,  0.],\n",
       "       [ 0.,  1.],\n",
       "       [ 0.,  1.],\n",
       "       [ 0.,  1.],\n",
       "       [ 0.,  1.],\n",
       "       [ 0.,  1.],\n",
       "       [ 1.,  0.],\n",
       "       [ 1.,  0.],\n",
       "       [ 1.,  0.],\n",
       "       [ 1.,  0.],\n",
       "       [ 1.,  0.],\n",
       "       [ 1.,  0.]])"
      ]
     },
     "execution_count": 11,
     "metadata": {},
     "output_type": "execute_result"
    }
   ],
   "source": [
    "y_val_binary"
   ]
  },
  {
   "cell_type": "code",
   "execution_count": 12,
   "metadata": {
    "collapsed": false
   },
   "outputs": [
    {
     "name": "stdout",
     "output_type": "stream",
     "text": [
      "(108, 1280, 14)\n"
     ]
    }
   ],
   "source": [
    "print(X_train.shape)"
   ]
  },
  {
   "cell_type": "code",
   "execution_count": 13,
   "metadata": {
    "collapsed": false
   },
   "outputs": [
    {
     "name": "stdout",
     "output_type": "stream",
     "text": [
      "2\n"
     ]
    }
   ],
   "source": [
    "num_classes = y_train_binary.shape[1]\n",
    "print(num_classes)"
   ]
  },
  {
   "cell_type": "markdown",
   "metadata": {},
   "source": [
    "## Generate models"
   ]
  },
  {
   "cell_type": "code",
   "execution_count": 14,
   "metadata": {
    "collapsed": true
   },
   "outputs": [],
   "source": [
    "from keras.models import Sequential\n",
    "from keras.layers import Dense, Activation, Convolution1D, Flatten, MaxPooling1D\n",
    "from keras.optimizers import Adam"
   ]
  },
  {
   "cell_type": "code",
   "execution_count": 15,
   "metadata": {
    "collapsed": false
   },
   "outputs": [],
   "source": [
    "import sys\n",
    "import os\n",
    "import numpy as np\n",
    "sys.path.insert(0, os.path.abspath('..'))\n",
    "\n",
    "from mcfly import modelgen, find_architecture"
   ]
  },
  {
   "cell_type": "code",
   "execution_count": 16,
   "metadata": {
    "collapsed": true
   },
   "outputs": [],
   "source": [
    "np.random.seed = 321"
   ]
  },
  {
   "cell_type": "code",
   "execution_count": 17,
   "metadata": {
    "collapsed": false
   },
   "outputs": [
    {
     "name": "stdout",
     "output_type": "stream",
     "text": [
      "CPU times: user 1.41 s, sys: 360 ms, total: 1.77 s\n",
      "Wall time: 2.79 s\n"
     ]
    }
   ],
   "source": [
    "%%time\n",
    "models = modelgen.generate_models(X_train.shape,\n",
    "                                  num_classes,\n",
    "                                  number_of_models = 3,\n",
    "                                  model_type = 'CNN',\n",
    "                                  cnn_min_layers=2,\n",
    "                                  cnn_max_layers=3,\n",
    "                                 low_lr=2, high_lr=8)"
   ]
  },
  {
   "cell_type": "code",
   "execution_count": 18,
   "metadata": {
    "collapsed": true
   },
   "outputs": [
    {
     "name": "stdout",
     "output_type": "stream",
     "text": [
      "{'fc_hidden_nodes': 85, 'learning_rate': 4.9731513645518736e-06, 'regularization_rate': 0.02138795781656715, 'filters': array([12, 63])}\n",
      "____________________________________________________________________________________________________\n",
      "Layer (type)                       Output Shape        Param #     Connected to                     \n",
      "====================================================================================================\n",
      "batchnormalization_1 (BatchNormaliz(None, 1280, 14)    28          batchnormalization_input_1[0][0] \n",
      "____________________________________________________________________________________________________\n",
      "convolution1d_1 (Convolution1D)    (None, 1280, 12)    516         batchnormalization_1[0][0]       \n",
      "____________________________________________________________________________________________________\n",
      "batchnormalization_2 (BatchNormaliz(None, 1280, 12)    24          convolution1d_1[0][0]            \n",
      "____________________________________________________________________________________________________\n",
      "activation_1 (Activation)          (None, 1280, 12)    0           batchnormalization_2[0][0]       \n",
      "____________________________________________________________________________________________________\n",
      "convolution1d_2 (Convolution1D)    (None, 1280, 63)    2331        activation_1[0][0]               \n",
      "____________________________________________________________________________________________________\n",
      "batchnormalization_3 (BatchNormaliz(None, 1280, 63)    126         convolution1d_2[0][0]            \n",
      "____________________________________________________________________________________________________\n",
      "activation_2 (Activation)          (None, 1280, 63)    0           batchnormalization_3[0][0]       \n",
      "____________________________________________________________________________________________________\n",
      "flatten_1 (Flatten)                (None, 80640)       0           activation_2[0][0]               \n",
      "____________________________________________________________________________________________________\n",
      "dense_1 (Dense)                    (None, 85)          6854485     flatten_1[0][0]                  \n",
      "____________________________________________________________________________________________________\n",
      "activation_3 (Activation)          (None, 85)          0           dense_1[0][0]                    \n",
      "____________________________________________________________________________________________________\n",
      "dense_2 (Dense)                    (None, 2)           172         activation_3[0][0]               \n",
      "____________________________________________________________________________________________________\n",
      "batchnormalization_4 (BatchNormaliz(None, 2)           4           dense_2[0][0]                    \n",
      "____________________________________________________________________________________________________\n",
      "activation_4 (Activation)          (None, 2)           0           batchnormalization_4[0][0]       \n",
      "====================================================================================================\n",
      "Total params: 6857686\n",
      "____________________________________________________________________________________________________\n",
      "{'fc_hidden_nodes': 82, 'learning_rate': 8.678614166664797e-06, 'regularization_rate': 0.0038257893545248093, 'filters': array([12, 43])}\n",
      "____________________________________________________________________________________________________\n",
      "Layer (type)                       Output Shape        Param #     Connected to                     \n",
      "====================================================================================================\n",
      "batchnormalization_5 (BatchNormaliz(None, 1280, 14)    28          batchnormalization_input_2[0][0] \n",
      "____________________________________________________________________________________________________\n",
      "convolution1d_3 (Convolution1D)    (None, 1280, 12)    516         batchnormalization_5[0][0]       \n",
      "____________________________________________________________________________________________________\n",
      "batchnormalization_6 (BatchNormaliz(None, 1280, 12)    24          convolution1d_3[0][0]            \n",
      "____________________________________________________________________________________________________\n",
      "activation_5 (Activation)          (None, 1280, 12)    0           batchnormalization_6[0][0]       \n",
      "____________________________________________________________________________________________________\n",
      "convolution1d_4 (Convolution1D)    (None, 1280, 43)    1591        activation_5[0][0]               \n",
      "____________________________________________________________________________________________________\n",
      "batchnormalization_7 (BatchNormaliz(None, 1280, 43)    86          convolution1d_4[0][0]            \n",
      "____________________________________________________________________________________________________\n",
      "activation_6 (Activation)          (None, 1280, 43)    0           batchnormalization_7[0][0]       \n",
      "____________________________________________________________________________________________________\n",
      "flatten_2 (Flatten)                (None, 55040)       0           activation_6[0][0]               \n",
      "____________________________________________________________________________________________________\n",
      "dense_3 (Dense)                    (None, 82)          4513362     flatten_2[0][0]                  \n",
      "____________________________________________________________________________________________________\n",
      "activation_7 (Activation)          (None, 82)          0           dense_3[0][0]                    \n",
      "____________________________________________________________________________________________________\n",
      "dense_4 (Dense)                    (None, 2)           166         activation_7[0][0]               \n",
      "____________________________________________________________________________________________________\n",
      "batchnormalization_8 (BatchNormaliz(None, 2)           4           dense_4[0][0]                    \n",
      "____________________________________________________________________________________________________\n",
      "activation_8 (Activation)          (None, 2)           0           batchnormalization_8[0][0]       \n",
      "====================================================================================================\n",
      "Total params: 4515777\n",
      "____________________________________________________________________________________________________\n",
      "{'fc_hidden_nodes': 41, 'learning_rate': 7.936967803420702e-06, 'regularization_rate': 0.014143563657866448, 'filters': array([96, 10])}\n",
      "____________________________________________________________________________________________________\n",
      "Layer (type)                       Output Shape        Param #     Connected to                     \n",
      "====================================================================================================\n",
      "batchnormalization_9 (BatchNormaliz(None, 1280, 14)    28          batchnormalization_input_3[0][0] \n",
      "____________________________________________________________________________________________________\n",
      "convolution1d_5 (Convolution1D)    (None, 1280, 96)    4128        batchnormalization_9[0][0]       \n",
      "____________________________________________________________________________________________________\n",
      "batchnormalization_10 (BatchNormali(None, 1280, 96)    192         convolution1d_5[0][0]            \n",
      "____________________________________________________________________________________________________\n",
      "activation_9 (Activation)          (None, 1280, 96)    0           batchnormalization_10[0][0]      \n",
      "____________________________________________________________________________________________________\n",
      "convolution1d_6 (Convolution1D)    (None, 1280, 10)    2890        activation_9[0][0]               \n",
      "____________________________________________________________________________________________________\n",
      "batchnormalization_11 (BatchNormali(None, 1280, 10)    20          convolution1d_6[0][0]            \n",
      "____________________________________________________________________________________________________\n",
      "activation_10 (Activation)         (None, 1280, 10)    0           batchnormalization_11[0][0]      \n",
      "____________________________________________________________________________________________________\n",
      "flatten_3 (Flatten)                (None, 12800)       0           activation_10[0][0]              \n",
      "____________________________________________________________________________________________________\n",
      "dense_5 (Dense)                    (None, 41)          524841      flatten_3[0][0]                  \n",
      "____________________________________________________________________________________________________\n",
      "activation_11 (Activation)         (None, 41)          0           dense_5[0][0]                    \n",
      "____________________________________________________________________________________________________\n",
      "dense_6 (Dense)                    (None, 2)           84          activation_11[0][0]              \n",
      "____________________________________________________________________________________________________\n",
      "batchnormalization_12 (BatchNormali(None, 2)           4           dense_6[0][0]                    \n",
      "____________________________________________________________________________________________________\n",
      "activation_12 (Activation)         (None, 2)           0           batchnormalization_12[0][0]      \n",
      "====================================================================================================\n",
      "Total params: 532187\n",
      "____________________________________________________________________________________________________\n",
      "CPU times: user 1.4 s, sys: 192 ms, total: 1.59 s\n",
      "Wall time: 1.78 s\n"
     ]
    }
   ],
   "source": [
    "%%time\n",
    "for model, params, model_types in models:\n",
    "    print(params)\n",
    "    model.summary()"
   ]
  },
  {
   "cell_type": "markdown",
   "metadata": {},
   "source": [
    "## Compare models"
   ]
  },
  {
   "cell_type": "code",
   "execution_count": 20,
   "metadata": {
    "collapsed": false,
    "scrolled": true
   },
   "outputs": [
    {
     "name": "stdout",
     "output_type": "stream",
     "text": [
      "Train on 10 samples, validate on 20 samples\n",
      "Epoch 1/2\n",
      "10/10 [==============================] - 0s - loss: 3.7879 - acc: 1.0000 - val_loss: 8.8650 - val_acc: 0.4500\n",
      "Epoch 2/2\n",
      "10/10 [==============================] - 0s - loss: 3.7153 - acc: 1.0000 - val_loss: 8.8650 - val_acc: 0.4500\n",
      "{'fc_hidden_nodes': 85, 'train_loss': [3.7878670692443848, 3.7153491973876953], 'train_acc': [1.0, 1.0], 'learning_rate': 4.9731513645518736e-06, 'modeltype': 'CNN', 'regularization_rate': 0.02138795781656715, 'val_acc': [0.44999998807907104, 0.44999998807907104], 'filters': [12, 63], 'val_loss': [8.8649530410766602, 8.8649530410766602]}\n",
      "Train on 10 samples, validate on 20 samples\n",
      "Epoch 1/2\n",
      "10/10 [==============================] - 0s - loss: 0.7569 - acc: 1.0000 - val_loss: 4.5119 - val_acc: 0.5500\n",
      "Epoch 2/2\n",
      "10/10 [==============================] - 0s - loss: 0.7345 - acc: 1.0000 - val_loss: 7.2531 - val_acc: 0.5500\n",
      "{'fc_hidden_nodes': 82, 'train_loss': [0.75686061382293701, 0.73449933528900146], 'train_acc': [1.0, 1.0], 'learning_rate': 8.678614166664797e-06, 'modeltype': 'CNN', 'regularization_rate': 0.0038257893545248093, 'val_acc': [0.55000001192092896, 0.55000001192092896], 'filters': [12, 43], 'val_loss': [4.5119414329528809, 7.253143310546875]}\n",
      "Train on 10 samples, validate on 20 samples\n",
      "Epoch 1/2\n",
      "10/10 [==============================] - 0s - loss: 3.5588 - acc: 0.3000 - val_loss: 7.2531 - val_acc: 0.5500\n",
      "Epoch 2/2\n",
      "10/10 [==============================] - 0s - loss: 3.4361 - acc: 0.3000 - val_loss: 7.2531 - val_acc: 0.5500\n",
      "{'fc_hidden_nodes': 41, 'train_loss': [3.5587973594665527, 3.4361410140991211], 'train_acc': [0.30000001192092896, 0.30000001192092896], 'learning_rate': 7.936967803420702e-06, 'modeltype': 'CNN', 'regularization_rate': 0.014143563657866448, 'val_acc': [0.55000001192092896, 0.55000001192092896], 'filters': [96, 10], 'val_loss': [7.253143310546875, 7.253143310546875]}\n",
      "CPU times: user 1.62 s, sys: 1.68 s, total: 3.3 s\n",
      "Wall time: 2.39 s\n"
     ]
    }
   ],
   "source": [
    "%%time\n",
    "histories, val_accuracies, val_losses = find_architecture.train_models_on_samples(X_train, y_train_binary,\n",
    "                                                                                 X_val, y_val_binary,\n",
    "                                                                                 models,nr_epochs=2,\n",
    "                                                                                  subset_size=10,\n",
    "                                                                                  verbose=True,\n",
    "                                                                                 outputpath='/home/vincent/estep/')"
   ]
  },
  {
   "cell_type": "code",
   "execution_count": null,
   "metadata": {
    "collapsed": true
   },
   "outputs": [],
   "source": []
  },
  {
   "cell_type": "code",
   "execution_count": null,
   "metadata": {
    "collapsed": true
   },
   "outputs": [],
   "source": []
  },
  {
   "cell_type": "code",
   "execution_count": null,
   "metadata": {
    "collapsed": true
   },
   "outputs": [],
   "source": []
  },
  {
   "cell_type": "code",
   "execution_count": null,
   "metadata": {
    "collapsed": true
   },
   "outputs": [],
   "source": []
  },
  {
   "cell_type": "code",
   "execution_count": null,
   "metadata": {
    "collapsed": false
   },
   "outputs": [],
   "source": [
    "models"
   ]
  },
  {
   "cell_type": "code",
   "execution_count": null,
   "metadata": {
    "collapsed": false
   },
   "outputs": [],
   "source": [
    "def storetrainhist2json(models,histories,outputpath):\n",
    "    import json\n",
    "    para = {'params':[str(params) for model, params, model_types in models]}\n",
    "    modelty = {'modeltype':[str(model_types) for model, params, model_types in models]}\n",
    "    histo = {'train_acc': [history.history['acc'] for history in histories],\n",
    "    'train_loss': [history.history['loss'] for history in histories],\n",
    "    'val_acc': [history.history['val_acc'] for history in histories],\n",
    "    'val_loss': [history.history['val_loss'] for history in histories]}\n",
    "    Nmodels = len(para['params'])\n",
    "    for i in range(Nmodels):\n",
    "        dict = eval(para['params'][i])\n",
    "        dict['modeltype'] = modelty['modeltype'][i]\n",
    "        dict['train_acc'] = histo['train_acc'][i]\n",
    "        dict['train_loss'] = histo['train_loss'][i]\n",
    "        dict['val_acc'] = histo['val_acc'][i]\n",
    "        dict['val_loss'] = histo['val_loss'][i]\n",
    "        dict['filters'] = dict['filters'].tolist()\n",
    "        with open(outputpath + '/model' + str(i) + '.json', 'w') as outfile:\n",
    "            json.dump(dict, outfile, sort_keys = True, indent = 4,ensure_ascii=False)\n"
   ]
  },
  {
   "cell_type": "code",
   "execution_count": null,
   "metadata": {
    "collapsed": true
   },
   "outputs": [],
   "source": []
  },
  {
   "cell_type": "code",
   "execution_count": null,
   "metadata": {
    "collapsed": true
   },
   "outputs": [],
   "source": []
  },
  {
   "cell_type": "code",
   "execution_count": null,
   "metadata": {
    "collapsed": false
   },
   "outputs": [],
   "source": [
    "from keras import backend as K\n",
    "\n",
    "# with a Sequential model\n",
    "get_dens_layer_output = K.function([best_model_copy.layers[0].input, K.learning_phase()],\n",
    "                                  [best_model_copy.layers[0].output])\n",
    "layer_output = get_dens_layer_output([X_val, 0])[0]"
   ]
  },
  {
   "cell_type": "code",
   "execution_count": null,
   "metadata": {
    "collapsed": false
   },
   "outputs": [],
   "source": [
    "layer_output.shape"
   ]
  },
  {
   "cell_type": "code",
   "execution_count": null,
   "metadata": {
    "collapsed": false
   },
   "outputs": [],
   "source": [
    "layer_output.mean(axis=(0,1))"
   ]
  },
  {
   "cell_type": "code",
   "execution_count": null,
   "metadata": {
    "collapsed": false
   },
   "outputs": [],
   "source": [
    "layer = best_model.layers[0]\n",
    "for w in layer.get_weights():\n",
    "    print(w.shape)"
   ]
  },
  {
   "cell_type": "markdown",
   "metadata": {},
   "source": [
    "## See if we can overfit on a small train set"
   ]
  },
  {
   "cell_type": "code",
   "execution_count": null,
   "metadata": {
    "collapsed": false
   },
   "outputs": [],
   "source": [
    "params = models[0][1]\n",
    "print(params)\n",
    "small_model = modelgen.generate_CNN_model(X_train.shape, num_classes, params['filters'], params['fc_hidden_nodes'],\n",
    "                                  0.01, #params['learning_rate'], \n",
    "                                        regularization_rate=0)\n",
    "small_model.summary()"
   ]
  },
  {
   "cell_type": "code",
   "execution_count": null,
   "metadata": {
    "collapsed": false
   },
   "outputs": [],
   "source": [
    "small_model.evaluate(X_val, y_val_binary)"
   ]
  },
  {
   "cell_type": "code",
   "execution_count": null,
   "metadata": {
    "collapsed": false
   },
   "outputs": [],
   "source": [
    "nr_epochs = 100\n",
    "datasize = 20\n",
    "history = small_model.fit(X_train[:datasize,:,:], y_train_binary[:datasize,:],\n",
    "              nb_epoch=nr_epochs, validation_data=(X_val, y_val_binary), batch_size=10)"
   ]
  },
  {
   "cell_type": "markdown",
   "metadata": {},
   "source": [
    "## Test on Testset"
   ]
  },
  {
   "cell_type": "code",
   "execution_count": null,
   "metadata": {
    "collapsed": true
   },
   "outputs": [],
   "source": [
    "score_test = best_model.evaluate(X_test, y_test_binary, verbose=False)\n",
    "print('Score of best model: ' + str(score_test))"
   ]
  },
  {
   "cell_type": "code",
   "execution_count": null,
   "metadata": {
    "collapsed": true
   },
   "outputs": [],
   "source": [
    "best_model.get_config()[0]"
   ]
  },
  {
   "cell_type": "code",
   "execution_count": null,
   "metadata": {
    "collapsed": true
   },
   "outputs": [],
   "source": []
  },
  {
   "cell_type": "code",
   "execution_count": null,
   "metadata": {
    "collapsed": true
   },
   "outputs": [],
   "source": []
  },
  {
   "cell_type": "code",
   "execution_count": null,
   "metadata": {
    "collapsed": true
   },
   "outputs": [],
   "source": []
  }
 ],
 "metadata": {
  "kernelspec": {
   "display_name": "Python 2",
   "language": "python",
   "name": "python2"
  },
  "language_info": {
   "codemirror_mode": {
    "name": "ipython",
    "version": 2
   },
   "file_extension": ".py",
   "mimetype": "text/x-python",
   "name": "python",
   "nbconvert_exporter": "python",
   "pygments_lexer": "ipython2",
   "version": "2.7.12"
  }
 },
 "nbformat": 4,
 "nbformat_minor": 0
}
