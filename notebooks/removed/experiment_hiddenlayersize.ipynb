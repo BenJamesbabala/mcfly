{
 "cells": [
  {
   "cell_type": "markdown",
   "metadata": {},
   "source": [
    "## Load data"
   ]
  },
  {
   "cell_type": "code",
   "execution_count": null,
   "metadata": {
    "collapsed": false
   },
   "outputs": [],
   "source": [
    "import numpy as np\n",
    "from keras.utils.np_utils import to_categorical\n",
    "import keras"
   ]
  },
  {
   "cell_type": "code",
   "execution_count": null,
   "metadata": {
    "collapsed": false
   },
   "outputs": [],
   "source": [
    "%pylab inline\n",
    "%load_ext autoreload\n",
    "%autoreload 2"
   ]
  },
  {
   "cell_type": "code",
   "execution_count": null,
   "metadata": {
    "collapsed": false
   },
   "outputs": [],
   "source": [
    "datapath = '/media/sf_VBox_Shared/timeseries/PAMAP2_Dataset/slidingwindow512cleaned/'\n",
    "outputpath = '/media/sf_VBox_Shared/timeseries/results/modelshistory.json'"
   ]
  },
  {
   "cell_type": "code",
   "execution_count": null,
   "metadata": {
    "collapsed": false
   },
   "outputs": [],
   "source": [
    "ext = '.npy'\n",
    "X_train = np.load(datapath+'X_train'+ext)\n",
    "y_train_binary = np.load(datapath+'y_train_binary'+ext)\n",
    "X_val = np.load(datapath+'X_val'+ext)\n",
    "y_val_binary = np.load(datapath+'y_val_binary'+ext)\n",
    "X_test = np.load(datapath+'X_test'+ext)\n",
    "y_test_binary = np.load(datapath+'y_test_binary'+ext)"
   ]
  },
  {
   "cell_type": "code",
   "execution_count": null,
   "metadata": {
    "collapsed": false
   },
   "outputs": [],
   "source": [
    "num_classes = y_train_binary.shape[1]\n",
    "print(num_classes)"
   ]
  },
  {
   "cell_type": "markdown",
   "metadata": {},
   "source": [
    "## Generate models"
   ]
  },
  {
   "cell_type": "code",
   "execution_count": null,
   "metadata": {
    "collapsed": true
   },
   "outputs": [],
   "source": [
    "from keras.models import Sequential\n",
    "from keras.layers import Dense, Activation, Convolution1D, Flatten, MaxPooling1D\n",
    "from keras.optimizers import Adam"
   ]
  },
  {
   "cell_type": "code",
   "execution_count": null,
   "metadata": {
    "collapsed": false
   },
   "outputs": [],
   "source": [
    "import sys\n",
    "import os\n",
    "import numpy as np\n",
    "sys.path.insert(0, os.path.abspath('..'))\n",
    "\n",
    "from mcfly import modelgen, find_architecture"
   ]
  },
  {
   "cell_type": "code",
   "execution_count": null,
   "metadata": {
    "collapsed": false
   },
   "outputs": [],
   "source": [
    "models_smalllayer = modelgen.generate_models(X_train.shape,\n",
    "                                  num_classes,\n",
    "                                  number_of_models = 10,\n",
    "                                  model_type = 'CNN',\n",
    "                                  cnn_min_fc_nodes=10, cnn_max_fc_nodes=50\n",
    "                                 )\n",
    "models_biglayer = modelgen.generate_models(X_train.shape,\n",
    "                                  num_classes,\n",
    "                                  number_of_models = 10,\n",
    "                                  model_type = 'CNN',\n",
    "                                  cnn_min_fc_nodes=500, cnn_max_fc_nodes=2000\n",
    "                                 )\n",
    "models = models_smalllayer + models_biglayer"
   ]
  },
  {
   "cell_type": "markdown",
   "metadata": {},
   "source": [
    "## Compare models"
   ]
  },
  {
   "cell_type": "code",
   "execution_count": null,
   "metadata": {
    "collapsed": false,
    "scrolled": true
   },
   "outputs": [],
   "source": [
    "histories, val_accuracies, val_losses = find_architecture.train_models_on_samples(X_train, y_train_binary,\n",
    "                                                                                 X_val, y_val_binary,\n",
    "                                                                                 models,nr_epochs=10,\n",
    "                                                                                  subset_size=500,\n",
    "                                                                                  verbose=True,\n",
    "                                                                                 outputfile=outputpath)"
   ]
  },
  {
   "cell_type": "code",
   "execution_count": null,
   "metadata": {
    "collapsed": false
   },
   "outputs": [],
   "source": [
    "%%time\n",
    "for i in range(len(models)):\n",
    "    name = str(models[i][1])\n",
    "    find_architecture.plotTrainingProcess(histories[i], name)"
   ]
  },
  {
   "cell_type": "code",
   "execution_count": 23,
   "metadata": {
    "collapsed": false
   },
   "outputs": [],
   "source": [
    "import json\n",
    "with open(outputpath, 'r') as outfile:\n",
    "    modelresults = json.load(outfile)\n",
    "#modelresults = modelresults[20:]"
   ]
  },
  {
   "cell_type": "code",
   "execution_count": 24,
   "metadata": {
    "collapsed": false
   },
   "outputs": [
    {
     "data": {
      "text/html": [
       "<div>\n",
       "<table border=\"1\" class=\"dataframe\">\n",
       "  <thead>\n",
       "    <tr style=\"text-align: right;\">\n",
       "      <th></th>\n",
       "      <th>fc_nodes</th>\n",
       "      <th>nr_epochs</th>\n",
       "      <th>val_acc</th>\n",
       "    </tr>\n",
       "  </thead>\n",
       "  <tbody>\n",
       "    <tr>\n",
       "      <th>0</th>\n",
       "      <td>11</td>\n",
       "      <td>5</td>\n",
       "      <td>0.706527</td>\n",
       "    </tr>\n",
       "    <tr>\n",
       "      <th>1</th>\n",
       "      <td>32</td>\n",
       "      <td>5</td>\n",
       "      <td>0.795715</td>\n",
       "    </tr>\n",
       "    <tr>\n",
       "      <th>2</th>\n",
       "      <td>49</td>\n",
       "      <td>5</td>\n",
       "      <td>0.828102</td>\n",
       "    </tr>\n",
       "    <tr>\n",
       "      <th>3</th>\n",
       "      <td>50</td>\n",
       "      <td>5</td>\n",
       "      <td>0.752367</td>\n",
       "    </tr>\n",
       "    <tr>\n",
       "      <th>4</th>\n",
       "      <td>17</td>\n",
       "      <td>5</td>\n",
       "      <td>0.872945</td>\n",
       "    </tr>\n",
       "    <tr>\n",
       "      <th>5</th>\n",
       "      <td>37</td>\n",
       "      <td>5</td>\n",
       "      <td>0.695067</td>\n",
       "    </tr>\n",
       "    <tr>\n",
       "      <th>6</th>\n",
       "      <td>20</td>\n",
       "      <td>5</td>\n",
       "      <td>0.856502</td>\n",
       "    </tr>\n",
       "    <tr>\n",
       "      <th>7</th>\n",
       "      <td>18</td>\n",
       "      <td>5</td>\n",
       "      <td>0.815147</td>\n",
       "    </tr>\n",
       "    <tr>\n",
       "      <th>8</th>\n",
       "      <td>36</td>\n",
       "      <td>5</td>\n",
       "      <td>0.134529</td>\n",
       "    </tr>\n",
       "    <tr>\n",
       "      <th>9</th>\n",
       "      <td>34</td>\n",
       "      <td>5</td>\n",
       "      <td>0.005979</td>\n",
       "    </tr>\n",
       "    <tr>\n",
       "      <th>10</th>\n",
       "      <td>763</td>\n",
       "      <td>5</td>\n",
       "      <td>0.332337</td>\n",
       "    </tr>\n",
       "    <tr>\n",
       "      <th>11</th>\n",
       "      <td>1224</td>\n",
       "      <td>5</td>\n",
       "      <td>0.134529</td>\n",
       "    </tr>\n",
       "    <tr>\n",
       "      <th>12</th>\n",
       "      <td>905</td>\n",
       "      <td>5</td>\n",
       "      <td>0.874938</td>\n",
       "    </tr>\n",
       "    <tr>\n",
       "      <th>13</th>\n",
       "      <td>1091</td>\n",
       "      <td>5</td>\n",
       "      <td>0.808171</td>\n",
       "    </tr>\n",
       "    <tr>\n",
       "      <th>14</th>\n",
       "      <td>1075</td>\n",
       "      <td>5</td>\n",
       "      <td>0.875436</td>\n",
       "    </tr>\n",
       "    <tr>\n",
       "      <th>15</th>\n",
       "      <td>689</td>\n",
       "      <td>5</td>\n",
       "      <td>0.115097</td>\n",
       "    </tr>\n",
       "    <tr>\n",
       "      <th>16</th>\n",
       "      <td>718</td>\n",
       "      <td>5</td>\n",
       "      <td>0.828102</td>\n",
       "    </tr>\n",
       "    <tr>\n",
       "      <th>17</th>\n",
       "      <td>1951</td>\n",
       "      <td>5</td>\n",
       "      <td>0.786746</td>\n",
       "    </tr>\n",
       "    <tr>\n",
       "      <th>18</th>\n",
       "      <td>1042</td>\n",
       "      <td>5</td>\n",
       "      <td>0.401594</td>\n",
       "    </tr>\n",
       "    <tr>\n",
       "      <th>19</th>\n",
       "      <td>870</td>\n",
       "      <td>5</td>\n",
       "      <td>0.568510</td>\n",
       "    </tr>\n",
       "    <tr>\n",
       "      <th>20</th>\n",
       "      <td>18</td>\n",
       "      <td>10</td>\n",
       "      <td>0.605381</td>\n",
       "    </tr>\n",
       "    <tr>\n",
       "      <th>21</th>\n",
       "      <td>47</td>\n",
       "      <td>10</td>\n",
       "      <td>0.712008</td>\n",
       "    </tr>\n",
       "    <tr>\n",
       "      <th>22</th>\n",
       "      <td>34</td>\n",
       "      <td>10</td>\n",
       "      <td>0.737917</td>\n",
       "    </tr>\n",
       "    <tr>\n",
       "      <th>23</th>\n",
       "      <td>10</td>\n",
       "      <td>10</td>\n",
       "      <td>0.498256</td>\n",
       "    </tr>\n",
       "    <tr>\n",
       "      <th>24</th>\n",
       "      <td>19</td>\n",
       "      <td>10</td>\n",
       "      <td>0.486796</td>\n",
       "    </tr>\n",
       "    <tr>\n",
       "      <th>25</th>\n",
       "      <td>41</td>\n",
       "      <td>10</td>\n",
       "      <td>0.728949</td>\n",
       "    </tr>\n",
       "    <tr>\n",
       "      <th>26</th>\n",
       "      <td>45</td>\n",
       "      <td>10</td>\n",
       "      <td>0.331839</td>\n",
       "    </tr>\n",
       "    <tr>\n",
       "      <th>27</th>\n",
       "      <td>21</td>\n",
       "      <td>10</td>\n",
       "      <td>0.713004</td>\n",
       "    </tr>\n",
       "    <tr>\n",
       "      <th>28</th>\n",
       "      <td>35</td>\n",
       "      <td>10</td>\n",
       "      <td>0.708022</td>\n",
       "    </tr>\n",
       "    <tr>\n",
       "      <th>29</th>\n",
       "      <td>32</td>\n",
       "      <td>10</td>\n",
       "      <td>0.772795</td>\n",
       "    </tr>\n",
       "    <tr>\n",
       "      <th>30</th>\n",
       "      <td>1998</td>\n",
       "      <td>10</td>\n",
       "      <td>0.851520</td>\n",
       "    </tr>\n",
       "    <tr>\n",
       "      <th>31</th>\n",
       "      <td>1462</td>\n",
       "      <td>10</td>\n",
       "      <td>0.413553</td>\n",
       "    </tr>\n",
       "    <tr>\n",
       "      <th>32</th>\n",
       "      <td>1525</td>\n",
       "      <td>10</td>\n",
       "      <td>0.242651</td>\n",
       "    </tr>\n",
       "    <tr>\n",
       "      <th>33</th>\n",
       "      <td>641</td>\n",
       "      <td>10</td>\n",
       "      <td>0.925760</td>\n",
       "    </tr>\n",
       "    <tr>\n",
       "      <th>34</th>\n",
       "      <td>693</td>\n",
       "      <td>10</td>\n",
       "      <td>0.786248</td>\n",
       "    </tr>\n",
       "    <tr>\n",
       "      <th>35</th>\n",
       "      <td>1028</td>\n",
       "      <td>10</td>\n",
       "      <td>0.812656</td>\n",
       "    </tr>\n",
       "    <tr>\n",
       "      <th>36</th>\n",
       "      <td>1910</td>\n",
       "      <td>10</td>\n",
       "      <td>0.789238</td>\n",
       "    </tr>\n",
       "    <tr>\n",
       "      <th>37</th>\n",
       "      <td>1746</td>\n",
       "      <td>10</td>\n",
       "      <td>0.736423</td>\n",
       "    </tr>\n",
       "    <tr>\n",
       "      <th>38</th>\n",
       "      <td>1101</td>\n",
       "      <td>10</td>\n",
       "      <td>0.749377</td>\n",
       "    </tr>\n",
       "  </tbody>\n",
       "</table>\n",
       "</div>"
      ],
      "text/plain": [
       "    fc_nodes  nr_epochs   val_acc\n",
       "0         11          5  0.706527\n",
       "1         32          5  0.795715\n",
       "2         49          5  0.828102\n",
       "3         50          5  0.752367\n",
       "4         17          5  0.872945\n",
       "5         37          5  0.695067\n",
       "6         20          5  0.856502\n",
       "7         18          5  0.815147\n",
       "8         36          5  0.134529\n",
       "9         34          5  0.005979\n",
       "10       763          5  0.332337\n",
       "11      1224          5  0.134529\n",
       "12       905          5  0.874938\n",
       "13      1091          5  0.808171\n",
       "14      1075          5  0.875436\n",
       "15       689          5  0.115097\n",
       "16       718          5  0.828102\n",
       "17      1951          5  0.786746\n",
       "18      1042          5  0.401594\n",
       "19       870          5  0.568510\n",
       "20        18         10  0.605381\n",
       "21        47         10  0.712008\n",
       "22        34         10  0.737917\n",
       "23        10         10  0.498256\n",
       "24        19         10  0.486796\n",
       "25        41         10  0.728949\n",
       "26        45         10  0.331839\n",
       "27        21         10  0.713004\n",
       "28        35         10  0.708022\n",
       "29        32         10  0.772795\n",
       "30      1998         10  0.851520\n",
       "31      1462         10  0.413553\n",
       "32      1525         10  0.242651\n",
       "33       641         10  0.925760\n",
       "34       693         10  0.786248\n",
       "35      1028         10  0.812656\n",
       "36      1910         10  0.789238\n",
       "37      1746         10  0.736423\n",
       "38      1101         10  0.749377"
      ]
     },
     "execution_count": 24,
     "metadata": {},
     "output_type": "execute_result"
    }
   ],
   "source": [
    "import pandas as pd\n",
    "val_acc = [m['val_acc'][-1] for m in modelresults]\n",
    "fc_hidden_nodes = [m['fc_hidden_nodes'] for m in modelresults]\n",
    "nr_epochs = [len(m['val_acc']) for m in modelresults]\n",
    "results = pd.DataFrame({'val_acc':val_acc, 'fc_nodes':fc_hidden_nodes, 'nr_epochs':nr_epochs})\n",
    "results"
   ]
  },
  {
   "cell_type": "code",
   "execution_count": null,
   "metadata": {
    "collapsed": false
   },
   "outputs": [],
   "source": [
    "import pandas as pd\n",
    "results = pd.DataFrame({'model':[str(params) for model, params, model_types in models],\n",
    "                        'fc_nodes':[str(params['fc_hidden_nodes']) for model, params, model_types in models],\n",
    "                       'train_acc': [history.history['acc'][-1] for history in histories],\n",
    "                       'train_loss': [history.history['loss'][-1] for history in histories],\n",
    "                       'val_acc': [history.history['val_acc'][-1] for history in histories],\n",
    "                       'val_loss': [history.history['val_loss'][-1] for history in histories]\n",
    "                       })\n",
    "results"
   ]
  },
  {
   "cell_type": "code",
   "execution_count": 25,
   "metadata": {
    "collapsed": false
   },
   "outputs": [
    {
     "data": {
      "image/png": "[encoded data removed]",
      "text/plain": [
       "<matplotlib.figure.Figure at 0x7f628a6a64e0>"
      ]
     },
     "metadata": {},
     "output_type": "display_data"
    }
   ],
   "source": [
    "plt.boxplot([results['val_acc'][:10], results['val_acc'][10:20], \n",
    "            results['val_acc'][20:30], results['val_acc'][30:]],\n",
    "           labels=['few 5 epochs', 'many 5 epochs', 'few 10 epochs', 'many 10 epochs'])\n",
    "plt.show()"
   ]
  },
  {
   "cell_type": "code",
   "execution_count": 37,
   "metadata": {
    "collapsed": false
   },
   "outputs": [
    {
     "data": {
      "image/png": "[encoded data removed]",
      "text/plain": [
       "<matplotlib.figure.Figure at 0x7f628a511080>"
      ]
     },
     "metadata": {},
     "output_type": "display_data"
    }
   ],
   "source": [
    "ax = plt.gca()\n",
    "ax.scatter(results['fc_nodes'][:20], results['val_acc'][:20], c='red', edgecolors=None, label='5 epochs')\n",
    "ax.scatter(results['fc_nodes'][20:], results['val_acc'][20:], c='yellow', edgecolors=None, label='10 epochs')\n",
    "plt.xlabel('Nr of nodes in hidden layer')\n",
    "plt.ylabel('Accuracy on validation set')\n",
    "plt.legend(loc=4)\n",
    "ax.set_xscale('log')"
   ]
  },
  {
   "cell_type": "code",
   "execution_count": null,
   "metadata": {
    "collapsed": true
   },
   "outputs": [],
   "source": []
  }
 ],
 "metadata": {
  "kernelspec": {
   "display_name": "Python 3",
   "language": "python",
   "name": "python3"
  },
  "language_info": {
   "codemirror_mode": {
    "name": "ipython",
    "version": 3
   },
   "file_extension": ".py",
   "mimetype": "text/x-python",
   "name": "python",
   "nbconvert_exporter": "python",
   "pygments_lexer": "ipython3",
   "version": "3.5.2"
  }
 },
 "nbformat": 4,
 "nbformat_minor": 0
}
