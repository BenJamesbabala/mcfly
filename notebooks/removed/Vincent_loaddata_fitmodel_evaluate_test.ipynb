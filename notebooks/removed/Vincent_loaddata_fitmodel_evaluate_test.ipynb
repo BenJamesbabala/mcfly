{
 "cells": [
  {
   "cell_type": "code",
   "execution_count": 1,
   "metadata": {
    "collapsed": true
   },
   "outputs": [],
   "source": [
    "import numpy as np\n",
    "import pandas as pd\n",
    "from pandas import merge \n",
    "from os import listdir\n",
    "from numpy import genfromtxt"
   ]
  },
  {
   "cell_type": "markdown",
   "metadata": {},
   "source": [
    "## Get data"
   ]
  },
  {
   "cell_type": "code",
   "execution_count": 2,
   "metadata": {
    "collapsed": true
   },
   "outputs": [],
   "source": [
    "studyname = 'Utrecht' "
   ]
  },
  {
   "cell_type": "code",
   "execution_count": 3,
   "metadata": {
    "collapsed": true
   },
   "outputs": [],
   "source": [
    "# function for Utrecht data to create list with filenames that need to be\n",
    "# processed filtered by epoch and diagnosis\n",
    "def select_filenames(datadir,labloc): \n",
    "    # Input:\n",
    "    # - datadir: the path where the files are located\n",
    "    # - labloc: the path and filename of the labels with columns: id, gender, age, diagnosis\n",
    "    # Output:\n",
    "    # - List of filenames for which filename ends with ep1.TRC.txt and diganosis < 3\n",
    "    #======================================================================\n",
    "    filenames = listdir(datadir) \n",
    "    fn = pd.DataFrame(filenames,columns=['filename'])\n",
    "    fn2 = fn.filename.str.split('_',expand=True)\n",
    "    fn2.columns= ['id','epoch']\n",
    "    fn2['filename'] = fn\n",
    "    fn2.id = pd.to_numeric(fn2.id)\n",
    "    fn2 = fn2[(fn2['epoch'] == 'ep1.TRC.txt')]  \n",
    "    y = pd.read_csv(labloc, sep=',',header=0)\n",
    "    yp = pd.DataFrame(y)\n",
    "    yp.columns= ['id','gender','age','diagnosis']\n",
    "    yp.id = pd.to_numeric(yp.id)\n",
    "    yp = yp[(yp['diagnosis'] < 3)] \n",
    "    ynew = merge(fn2,yp,left_on='id',right_on='id',how='inner')\n",
    "    filenames = ynew['filename'].values.tolist()\n",
    "    return(filenames)"
   ]
  },
  {
   "cell_type": "code",
   "execution_count": 4,
   "metadata": {
    "collapsed": false
   },
   "outputs": [],
   "source": [
    "filenames = select_filenames(datadir=\"/media/windows-share/utrecht_eeg\",\n",
    "                            labloc = \"/home/vincent/estep/data/utrecht_labels.csv\")"
   ]
  },
  {
   "cell_type": "code",
   "execution_count": 5,
   "metadata": {
    "collapsed": false
   },
   "outputs": [],
   "source": [
    "def getdata(datadir,labloc,multivar,timecol,printfilenames,filenames,maxtslength=None):\n",
    "    Nfiles = len(filenames) # number of files\n",
    "    # Investigate what format the first file has by trying out a variety of reading attempts\n",
    "    path = datadir + '/' + filenames[0]\n",
    "    delimiter = [None,','] #possible delimiter values\n",
    "    skiprows=[0,1]\n",
    "    ntests = len(delimiter)*len(skiprows)\n",
    "    df = pd.DataFrame(index=range(ntests),columns=['delimiter','skiprows','nrow','ncol','first cell'])\n",
    "    cnt = 0\n",
    "    for di in delimiter:\n",
    "        for si in skiprows:\n",
    "            df['delimiter'][cnt] = di\n",
    "            df['skiprows'][cnt] = si\n",
    "            try:\n",
    "                F1 = np.loadtxt(fname=path,delimiter=di,skiprows=si)\n",
    "                df['nrow'][cnt] = F1.shape[0]\n",
    "                df['ncol'][cnt] = F1.shape[1]\n",
    "                df['first cell'][cnt] = F1[0,1]\n",
    "            except:\n",
    "                df['nrow'][cnt] = 0\n",
    "                df['ncol'][cnt] = 0\n",
    "                df['first cell'][cnt] = 0\n",
    "            cnt = cnt + 1\n",
    "    # df is now a dataframe with information to help identify how the data should be loaded\n",
    "    # load one file based on the extracted information on fileformat\n",
    "    form = df[df.nrow == max(df.nrow)] # extraction procedure that resulted in the largest number of rows is the best\n",
    "    if form.shape[0] > 1:\n",
    "        form = df[df.ncol == max(df.ncol)] # extraction procedure that resulted in the largest number of columns\n",
    "    if maxtslength != None:\n",
    "        X = np.zeros((Nfiles,maxtslength,form.ncol)) # hardcoded expected datadimensions\n",
    "    else:\n",
    "        if type(labloc) == int:\n",
    "            X = np.zeros((0,form.ncol,1)) # hardcoded expected datadimensions\n",
    "            if labloc == 0:\n",
    "                y = np.zeros((0,1))\n",
    "            else: \n",
    "                y = np.zeros((form.ncol,1))\n",
    "        else:\n",
    "            X = np.zeros((0,form.ncol,1))\n",
    "            y = np.zeros((form.ncol,1))\n",
    "    filenamelist = list()\n",
    "    jj = j_rowused = j_fileused = 0 # setting counters\n",
    "    while jj < Nfiles:\n",
    "        if printfilenames:\n",
    "            print(filenames[jj],end=' ')\n",
    "        path = datadir + '/' + filenames[jj]\n",
    "        if (form['delimiter'] == ',').bool():\n",
    "            F2 = np.loadtxt(fname=path,delimiter=',',skiprows=int(form['skiprows']))\n",
    "        else:\n",
    "            F2 = np.loadtxt(fname=path,delimiter=None,skiprows=int(form['skiprows']))\n",
    "        if maxtslength != None: # Modify F2 to meet expected dimantions:\n",
    "            if F2.shape[0] >= maxtslength:\n",
    "                F2 = F2[0:maxtslength,]\n",
    "            elif F2.shape[0] < maxtslength:\n",
    "                jj += 1\n",
    "                print(\" NOT ENOUGH DATA\")\n",
    "                continue # we are not interested in files with less than maxtslength values\n",
    "        ## Extract label (y)\n",
    "        labtype = 'int'\n",
    "        if jj == 0 and type(labloc) == str: #for Utrecht we only want to get the y once\n",
    "            y = pd.read_csv(labloc, sep=',',header=0)\n",
    "        elif type(labloc) == int: # For UCR we want to get all y\n",
    "            if labloc == 0:\n",
    "                tmpa = np.array(F2[:,0],dtype=labtype,ndmin=2).transpose()\n",
    "                y = np.vstack((y,tmpa))\n",
    "            elif labloc == 1:\n",
    "                y = np.vstack((y,np.array(F2[0,:], dtype=labtype).transpose()))\n",
    "        ## Extract data (X)\n",
    "        if type(labloc) == str:\n",
    "            if timecol == False:\n",
    "                X[j_fileused,:,:] = F2.transpose()\n",
    "            else:\n",
    "                X[j_fileused,:,:] = F2    \n",
    "        elif type(labloc) == int:\n",
    "            tmpp = np.reshape(F2,(F2.shape[0],F2.shape[1],1))\n",
    "            X = np.vstack((X,tmpp))\n",
    "            j_rowused += F2.shape[0]-1\n",
    "        ## Remember filenames\n",
    "        filenamelist.append(filenames[jj])\n",
    "        jj += 1\n",
    "        j_rowused += 1\n",
    "        j_fileused += 1\n",
    "    return(X, y, filenamelist, Nfiles)"
   ]
  },
  {
   "cell_type": "code",
   "execution_count": 6,
   "metadata": {
    "collapsed": false
   },
   "outputs": [
    {
     "name": "stderr",
     "output_type": "stream",
     "text": [
      "/home/vincent/estep/.venv/lib/python3.4/site-packages/ipykernel/__main__.py:30: VisibleDeprecationWarning: using a non-integer number instead of an integer will result in an error in the future\n"
     ]
    }
   ],
   "source": [
    "# get data\n",
    "if studyname == 'Utrecht':\n",
    "    X, y, filenamelist, Nfiles = getdata(datadir = \"/media/windows-share/utrecht_eeg\",\n",
    "                                     labloc = \"/home/vincent/estep/data/utrecht_labels.csv\",\n",
    "                                     multivar = True,\n",
    "                                     timecol=True,printfilenames=False,filenames=filenames,\n",
    "                                        maxtslength=4000)\n",
    "elif studyname == 'UCR':\n",
    "    datadir = \"/home/vincent/estep/data/UCR_TS_Archive_2015/50words\"\n",
    "    filenames = listdir(datadir) \n",
    "    X, y, filenamelist, Nfiles = getdata(datadir = datadir,\n",
    "                                     labloc = 0,\n",
    "                                     multivar = False,\n",
    "                                     timecol=False,printfilenames=False,filenames=filenames)\n"
   ]
  },
  {
   "cell_type": "code",
   "execution_count": 7,
   "metadata": {
    "collapsed": false
   },
   "outputs": [
    {
     "name": "stdout",
     "output_type": "stream",
     "text": [
      "(272, 4000, 21) (451, 4) 272 272\n"
     ]
    }
   ],
   "source": [
    "print(X.shape, y.shape, len(filenamelist), Nfiles)"
   ]
  },
  {
   "cell_type": "code",
   "execution_count": 21,
   "metadata": {
    "collapsed": true
   },
   "outputs": [],
   "source": [
    "# For Utrecht data we now need a conversion from y to a y that matches the X\n",
    "# merge y and filenamelist id, to get labels per file\n",
    "def filtery(y,filenamelist):\n",
    "    fn = pd.DataFrame(filenamelist,columns=['filename'])\n",
    "    fn = fn.filename.str.split('_',expand=True)\n",
    "    fn.columns= ['id','epoch']\n",
    "    fn.id = pd.to_numeric(fn.id)\n",
    "    fn = fn[fn['epoch'] == 'ep1.TRC.txt']\n",
    "    ypandas = pd.DataFrame(y)\n",
    "    ypandas.columns= ['id','gender','age','diagnosis']\n",
    "    ypandas.id = pd.to_numeric(ypandas.id)\n",
    "    ynew = merge(fn,ypandas,left_on='id',right_on='id',how='inner')\n",
    "    ybackup = ynew\n",
    "    y = ynew.as_matrix()\n",
    "    y = y[:,4] # we are only interest in the diagnosis in column 4\n",
    "    return(y)"
   ]
  },
  {
   "cell_type": "code",
   "execution_count": 22,
   "metadata": {
    "collapsed": false
   },
   "outputs": [
    {
     "ename": "ValueError",
     "evalue": "Length mismatch: Expected axis has 1 elements, new values have 4 elements",
     "output_type": "error",
     "traceback": [
      "\u001b[1;31m---------------------------------------------------------------------------\u001b[0m",
      "\u001b[1;31mValueError\u001b[0m                                Traceback (most recent call last)",
      "\u001b[1;32m<ipython-input-22-4fd5dc5e88df>\u001b[0m in \u001b[0;36m<module>\u001b[1;34m()\u001b[0m\n\u001b[0;32m      1\u001b[0m \u001b[1;32mif\u001b[0m \u001b[0mstudyname\u001b[0m \u001b[1;33m==\u001b[0m \u001b[1;34m'Utrecht'\u001b[0m\u001b[1;33m:\u001b[0m\u001b[1;33m\u001b[0m\u001b[0m\n\u001b[1;32m----> 2\u001b[1;33m     \u001b[0my\u001b[0m \u001b[1;33m=\u001b[0m \u001b[0mfiltery\u001b[0m\u001b[1;33m(\u001b[0m\u001b[0my\u001b[0m\u001b[1;33m,\u001b[0m\u001b[0mfilenamelist\u001b[0m\u001b[1;33m)\u001b[0m\u001b[1;33m\u001b[0m\u001b[0m\n\u001b[0m",
      "\u001b[1;32m<ipython-input-21-4cce60e4e627>\u001b[0m in \u001b[0;36mfiltery\u001b[1;34m(y, filenamelist)\u001b[0m\n\u001b[0;32m      8\u001b[0m     \u001b[0mfn\u001b[0m \u001b[1;33m=\u001b[0m \u001b[0mfn\u001b[0m\u001b[1;33m[\u001b[0m\u001b[0mfn\u001b[0m\u001b[1;33m[\u001b[0m\u001b[1;34m'epoch'\u001b[0m\u001b[1;33m]\u001b[0m \u001b[1;33m==\u001b[0m \u001b[1;34m'ep1.TRC.txt'\u001b[0m\u001b[1;33m]\u001b[0m\u001b[1;33m\u001b[0m\u001b[0m\n\u001b[0;32m      9\u001b[0m     \u001b[0mypandas\u001b[0m \u001b[1;33m=\u001b[0m \u001b[0mpd\u001b[0m\u001b[1;33m.\u001b[0m\u001b[0mDataFrame\u001b[0m\u001b[1;33m(\u001b[0m\u001b[0my\u001b[0m\u001b[1;33m)\u001b[0m\u001b[1;33m\u001b[0m\u001b[0m\n\u001b[1;32m---> 10\u001b[1;33m     \u001b[0mypandas\u001b[0m\u001b[1;33m.\u001b[0m\u001b[0mcolumns\u001b[0m\u001b[1;33m=\u001b[0m \u001b[1;33m[\u001b[0m\u001b[1;34m'id'\u001b[0m\u001b[1;33m,\u001b[0m\u001b[1;34m'gender'\u001b[0m\u001b[1;33m,\u001b[0m\u001b[1;34m'age'\u001b[0m\u001b[1;33m,\u001b[0m\u001b[1;34m'diagnosis'\u001b[0m\u001b[1;33m]\u001b[0m\u001b[1;33m\u001b[0m\u001b[0m\n\u001b[0m\u001b[0;32m     11\u001b[0m     \u001b[0mypandas\u001b[0m\u001b[1;33m.\u001b[0m\u001b[0mid\u001b[0m \u001b[1;33m=\u001b[0m \u001b[0mpd\u001b[0m\u001b[1;33m.\u001b[0m\u001b[0mto_numeric\u001b[0m\u001b[1;33m(\u001b[0m\u001b[0mypandas\u001b[0m\u001b[1;33m.\u001b[0m\u001b[0mid\u001b[0m\u001b[1;33m)\u001b[0m\u001b[1;33m\u001b[0m\u001b[0m\n\u001b[0;32m     12\u001b[0m     \u001b[0mynew\u001b[0m \u001b[1;33m=\u001b[0m \u001b[0mmerge\u001b[0m\u001b[1;33m(\u001b[0m\u001b[0mfn\u001b[0m\u001b[1;33m,\u001b[0m\u001b[0mypandas\u001b[0m\u001b[1;33m,\u001b[0m\u001b[0mleft_on\u001b[0m\u001b[1;33m=\u001b[0m\u001b[1;34m'id'\u001b[0m\u001b[1;33m,\u001b[0m\u001b[0mright_on\u001b[0m\u001b[1;33m=\u001b[0m\u001b[1;34m'id'\u001b[0m\u001b[1;33m,\u001b[0m\u001b[0mhow\u001b[0m\u001b[1;33m=\u001b[0m\u001b[1;34m'inner'\u001b[0m\u001b[1;33m)\u001b[0m\u001b[1;33m\u001b[0m\u001b[0m\n",
      "\u001b[1;32m/home/vincent/estep/.venv/lib/python3.4/site-packages/pandas/core/generic.py\u001b[0m in \u001b[0;36m__setattr__\u001b[1;34m(self, name, value)\u001b[0m\n\u001b[0;32m   2683\u001b[0m         \u001b[1;32mtry\u001b[0m\u001b[1;33m:\u001b[0m\u001b[1;33m\u001b[0m\u001b[0m\n\u001b[0;32m   2684\u001b[0m             \u001b[0mobject\u001b[0m\u001b[1;33m.\u001b[0m\u001b[0m__getattribute__\u001b[0m\u001b[1;33m(\u001b[0m\u001b[0mself\u001b[0m\u001b[1;33m,\u001b[0m \u001b[0mname\u001b[0m\u001b[1;33m)\u001b[0m\u001b[1;33m\u001b[0m\u001b[0m\n\u001b[1;32m-> 2685\u001b[1;33m             \u001b[1;32mreturn\u001b[0m \u001b[0mobject\u001b[0m\u001b[1;33m.\u001b[0m\u001b[0m__setattr__\u001b[0m\u001b[1;33m(\u001b[0m\u001b[0mself\u001b[0m\u001b[1;33m,\u001b[0m \u001b[0mname\u001b[0m\u001b[1;33m,\u001b[0m \u001b[0mvalue\u001b[0m\u001b[1;33m)\u001b[0m\u001b[1;33m\u001b[0m\u001b[0m\n\u001b[0m\u001b[0;32m   2686\u001b[0m         \u001b[1;32mexcept\u001b[0m \u001b[0mAttributeError\u001b[0m\u001b[1;33m:\u001b[0m\u001b[1;33m\u001b[0m\u001b[0m\n\u001b[0;32m   2687\u001b[0m             \u001b[1;32mpass\u001b[0m\u001b[1;33m\u001b[0m\u001b[0m\n",
      "\u001b[1;32mpandas/src/properties.pyx\u001b[0m in \u001b[0;36mpandas.lib.AxisProperty.__set__ (pandas/lib.c:44748)\u001b[1;34m()\u001b[0m\n",
      "\u001b[1;32m/home/vincent/estep/.venv/lib/python3.4/site-packages/pandas/core/generic.py\u001b[0m in \u001b[0;36m_set_axis\u001b[1;34m(self, axis, labels)\u001b[0m\n\u001b[0;32m    426\u001b[0m \u001b[1;33m\u001b[0m\u001b[0m\n\u001b[0;32m    427\u001b[0m     \u001b[1;32mdef\u001b[0m \u001b[0m_set_axis\u001b[0m\u001b[1;33m(\u001b[0m\u001b[0mself\u001b[0m\u001b[1;33m,\u001b[0m \u001b[0maxis\u001b[0m\u001b[1;33m,\u001b[0m \u001b[0mlabels\u001b[0m\u001b[1;33m)\u001b[0m\u001b[1;33m:\u001b[0m\u001b[1;33m\u001b[0m\u001b[0m\n\u001b[1;32m--> 428\u001b[1;33m         \u001b[0mself\u001b[0m\u001b[1;33m.\u001b[0m\u001b[0m_data\u001b[0m\u001b[1;33m.\u001b[0m\u001b[0mset_axis\u001b[0m\u001b[1;33m(\u001b[0m\u001b[0maxis\u001b[0m\u001b[1;33m,\u001b[0m \u001b[0mlabels\u001b[0m\u001b[1;33m)\u001b[0m\u001b[1;33m\u001b[0m\u001b[0m\n\u001b[0m\u001b[0;32m    429\u001b[0m         \u001b[0mself\u001b[0m\u001b[1;33m.\u001b[0m\u001b[0m_clear_item_cache\u001b[0m\u001b[1;33m(\u001b[0m\u001b[1;33m)\u001b[0m\u001b[1;33m\u001b[0m\u001b[0m\n\u001b[0;32m    430\u001b[0m \u001b[1;33m\u001b[0m\u001b[0m\n",
      "\u001b[1;32m/home/vincent/estep/.venv/lib/python3.4/site-packages/pandas/core/internals.py\u001b[0m in \u001b[0;36mset_axis\u001b[1;34m(self, axis, new_labels)\u001b[0m\n\u001b[0;32m   2633\u001b[0m             raise ValueError('Length mismatch: Expected axis has %d elements, '\n\u001b[0;32m   2634\u001b[0m                              \u001b[1;34m'new values have %d elements'\u001b[0m \u001b[1;33m%\u001b[0m\u001b[1;33m\u001b[0m\u001b[0m\n\u001b[1;32m-> 2635\u001b[1;33m                              (old_len, new_len))\n\u001b[0m\u001b[0;32m   2636\u001b[0m \u001b[1;33m\u001b[0m\u001b[0m\n\u001b[0;32m   2637\u001b[0m         \u001b[0mself\u001b[0m\u001b[1;33m.\u001b[0m\u001b[0maxes\u001b[0m\u001b[1;33m[\u001b[0m\u001b[0maxis\u001b[0m\u001b[1;33m]\u001b[0m \u001b[1;33m=\u001b[0m \u001b[0mnew_labels\u001b[0m\u001b[1;33m\u001b[0m\u001b[0m\n",
      "\u001b[1;31mValueError\u001b[0m: Length mismatch: Expected axis has 1 elements, new values have 4 elements"
     ]
    }
   ],
   "source": [
    "if studyname == 'Utrecht':\n",
    "    y = filtery(y,filenamelist)  "
   ]
  },
  {
   "cell_type": "code",
   "execution_count": 23,
   "metadata": {
    "collapsed": false
   },
   "outputs": [
    {
     "name": "stdout",
     "output_type": "stream",
     "text": [
      "(272, 4000, 21) (272,) 272 272\n"
     ]
    }
   ],
   "source": [
    "print(X.shape, y.shape, len(filenamelist), Nfiles)"
   ]
  },
  {
   "cell_type": "code",
   "execution_count": 11,
   "metadata": {
    "collapsed": false
   },
   "outputs": [],
   "source": [
    "Xtrain = X[0:150,:,:]\n",
    "ytrain = np.array(y[0:150,],dtype='int')\n",
    "Xtest = X[151:,:,:]\n",
    "ytest = np.array(y[151:,],dtype='int')"
   ]
  },
  {
   "cell_type": "code",
   "execution_count": 12,
   "metadata": {
    "collapsed": false
   },
   "outputs": [
    {
     "name": "stdout",
     "output_type": "stream",
     "text": [
      "(150, 4000, 21) (150,) 272\n",
      "(121, 4000, 21) (121,) 272\n"
     ]
    }
   ],
   "source": [
    "print(Xtrain.shape, ytrain.shape, Nfiles)\n",
    "print(Xtest.shape, ytest.shape, Nfiles)"
   ]
  },
  {
   "cell_type": "code",
   "execution_count": 13,
   "metadata": {
    "collapsed": false
   },
   "outputs": [
    {
     "data": {
      "text/plain": [
       "dtype('int64')"
      ]
     },
     "execution_count": 13,
     "metadata": {},
     "output_type": "execute_result"
    }
   ],
   "source": [
    "ytrain.dtype"
   ]
  },
  {
   "cell_type": "code",
   "execution_count": 14,
   "metadata": {
    "collapsed": false
   },
   "outputs": [],
   "source": [
    "#Change class labels ranging from 0 to n-1\n",
    "classlabels = list(set(ytrain))\n",
    "mapclasses = {classlabels[i] : i for i in range(len(classlabels))}\n",
    "ytrain = np.array([mapclasses[c] for c in ytrain], dtype='int')\n",
    "ytest = np.array([mapclasses[c] for c in ytest], dtype='int')"
   ]
  },
  {
   "cell_type": "markdown",
   "metadata": {},
   "source": [
    "# Design and compile some architectures"
   ]
  },
  {
   "cell_type": "code",
   "execution_count": 15,
   "metadata": {
    "collapsed": false
   },
   "outputs": [
    {
     "name": "stderr",
     "output_type": "stream",
     "text": [
      "Using Theano backend.\n"
     ]
    }
   ],
   "source": [
    "# Now, lets try to train some models\n",
    "from keras.models import Sequential\n",
    "from keras.layers import Merge, Dense, Dropout, Activation, LSTM\n",
    "from keras.optimizers import SGD\n",
    "import numpy as np\n",
    "from keras.utils.np_utils import to_categorical"
   ]
  },
  {
   "cell_type": "code",
   "execution_count": 16,
   "metadata": {
    "collapsed": false
   },
   "outputs": [],
   "source": [
    "ytrain_original = ytrain\n",
    "ytest_original = ytest\n",
    "#ytrain = to_categorical(ytrain)\n",
    "#ytest = to_categorical(ytest)"
   ]
  },
  {
   "cell_type": "code",
   "execution_count": 17,
   "metadata": {
    "collapsed": false
   },
   "outputs": [],
   "source": [
    "timesteps = Xtrain.shape[1]\n",
    "if studyname == 'UCR':\n",
    "    data_dim = 1\n",
    "    nb_classes = 51\n",
    "else:\n",
    "    data_dim = 21\n",
    "    nb_classes = 2"
   ]
  },
  {
   "cell_type": "code",
   "execution_count": 18,
   "metadata": {
    "collapsed": true
   },
   "outputs": [],
   "source": [
    "if studyname == 'UCR':\n",
    "    model = Sequential()\n",
    "    # Dense(64) is a fully-connected layer with 64 hidden units.\n",
    "    idim = timesteps\n",
    "    model.add(Dense(64, input_dim=idim, init='uniform'))\n",
    "    model.add(Activation('relu'))\n",
    "    model.add(Dropout(0.5))\n",
    "    model.add(Dense(64, init='uniform'))\n",
    "    model.add(Activation('relu'))\n",
    "    model.add(Dropout(0.5))\n",
    "    model.add(Dense(nb_classes, init='uniform'))\n",
    "    model.add(Activation('softmax'))\n",
    "    sgd = SGD(lr=0.1, decay=1e-6, momentum=0.9, nesterov=True)\n",
    "    model.compile(loss='categorical_crossentropy',\n",
    "                  optimizer=sgd,\n",
    "                  metrics=['accuracy'])"
   ]
  },
  {
   "cell_type": "code",
   "execution_count": 19,
   "metadata": {
    "collapsed": false
   },
   "outputs": [
    {
     "data": {
      "text/plain": [
       "(150, 4000, 21)"
      ]
     },
     "execution_count": 19,
     "metadata": {},
     "output_type": "execute_result"
    }
   ],
   "source": [
    "Xtrain.shape"
   ]
  },
  {
   "cell_type": "code",
   "execution_count": 20,
   "metadata": {
    "collapsed": false
   },
   "outputs": [
    {
     "ename": "NameError",
     "evalue": "name 'Convolution1D' is not defined",
     "output_type": "error",
     "traceback": [
      "\u001b[1;31m---------------------------------------------------------------------------\u001b[0m",
      "\u001b[1;31mNameError\u001b[0m                                 Traceback (most recent call last)",
      "\u001b[1;32m<ipython-input-20-58f1d5363f75>\u001b[0m in \u001b[0;36m<module>\u001b[1;34m()\u001b[0m\n\u001b[0;32m      4\u001b[0m \u001b[1;31m#from keras.optimizers import Adam\u001b[0m\u001b[1;33m\u001b[0m\u001b[1;33m\u001b[0m\u001b[0m\n\u001b[0;32m      5\u001b[0m \u001b[0mmodel2\u001b[0m \u001b[1;33m=\u001b[0m \u001b[0mSequential\u001b[0m\u001b[1;33m(\u001b[0m\u001b[1;33m)\u001b[0m\u001b[1;33m\u001b[0m\u001b[0m\n\u001b[1;32m----> 6\u001b[1;33m \u001b[0mmodel2\u001b[0m\u001b[1;33m.\u001b[0m\u001b[0madd\u001b[0m\u001b[1;33m(\u001b[0m\u001b[0mConvolution1D\u001b[0m\u001b[1;33m(\u001b[0m\u001b[1;36m10\u001b[0m\u001b[1;33m,\u001b[0m \u001b[1;36m3\u001b[0m\u001b[1;33m,\u001b[0m \u001b[0mborder_mode\u001b[0m\u001b[1;33m=\u001b[0m\u001b[1;34m'valid'\u001b[0m\u001b[1;33m,\u001b[0m \u001b[0minput_shape\u001b[0m\u001b[1;33m=\u001b[0m\u001b[1;33m(\u001b[0m\u001b[0mXtrain\u001b[0m\u001b[1;33m.\u001b[0m\u001b[0mshape\u001b[0m\u001b[1;33m[\u001b[0m\u001b[1;36m1\u001b[0m\u001b[1;33m]\u001b[0m\u001b[1;33m,\u001b[0m \u001b[0mXtrain\u001b[0m\u001b[1;33m.\u001b[0m\u001b[0mshape\u001b[0m\u001b[1;33m[\u001b[0m\u001b[1;36m2\u001b[0m\u001b[1;33m]\u001b[0m\u001b[1;33m)\u001b[0m\u001b[1;33m)\u001b[0m\u001b[1;33m)\u001b[0m\u001b[1;33m\u001b[0m\u001b[0m\n\u001b[0m\u001b[0;32m      7\u001b[0m \u001b[1;31m#model2.add(Activation('relu'))\u001b[0m\u001b[1;33m\u001b[0m\u001b[1;33m\u001b[0m\u001b[0m\n\u001b[0;32m      8\u001b[0m \u001b[1;31m#model2.add(Convolution1D(10, 3, border_mode='valid'))\u001b[0m\u001b[1;33m\u001b[0m\u001b[1;33m\u001b[0m\u001b[0m\n",
      "\u001b[1;31mNameError\u001b[0m: name 'Convolution1D' is not defined"
     ]
    }
   ],
   "source": [
    "# let's try out another model\n",
    "#from keras.models import Sequential\n",
    "#from keras.layers import Dense, Activation, Convolution1D, Flatten, MaxPooling1D\n",
    "#from keras.optimizers import Adam\n",
    "model2 = Sequential()\n",
    "model2.add(Convolution1D(10, 3, border_mode='valid', input_shape=(Xtrain.shape[1], Xtrain.shape[2])))\n",
    "#model2.add(Activation('relu'))\n",
    "#model2.add(Convolution1D(10, 3, border_mode='valid'))\n",
    "#model2.add(Activation('relu'))\n",
    "model2.add(LSTM(100, return_sequences=True,\n",
    "               input_shape=(Xtrain.shape[1], Xtrain.shape[2])))  # returns a sequence of vectors of dimension 32\n",
    "#model2.add(MaxPooling1D(pool_length=2))\n",
    "model2.add(LSTM(50, return_sequences=False))  # returns a sequence of vectors of dimension 32\n",
    "#model2.add(MaxPooling1D(pool_length=2))\n",
    "#model2.add(LSTM(25))  # return a single vector of dimension 32\n",
    "model2.add(Dense(nb_classes, activation='softmax'))\n",
    "model2.compile(loss='categorical_crossentropy',\n",
    "              optimizer='rmsprop',\n",
    "              metrics=['accuracy'])"
   ]
  },
  {
   "cell_type": "markdown",
   "metadata": {},
   "source": [
    "# Compile some Convolutional architectures using Christiaan's and Dafne's code"
   ]
  },
  {
   "cell_type": "code",
   "execution_count": 26,
   "metadata": {
    "collapsed": true
   },
   "outputs": [],
   "source": [
    "from keras.models import Sequential\n",
    "from keras.layers import Dense, Activation, Convolution1D, Flatten, MaxPooling1D\n",
    "from keras.optimizers import Adam"
   ]
  },
  {
   "cell_type": "code",
   "execution_count": 22,
   "metadata": {
    "collapsed": true
   },
   "outputs": [],
   "source": [
    "lr = 0.01"
   ]
  },
  {
   "cell_type": "code",
   "execution_count": 23,
   "metadata": {
    "collapsed": true
   },
   "outputs": [],
   "source": [
    "def generate_model(x_shape, class_number, filters, fc_hidden, lr = lr):\n",
    "    dim_length = x_shape[1]\n",
    "    dim_channels = x_shape[2]\n",
    "    outputdim = class_number\n",
    "    model = Sequential()\n",
    "    # TODO: weight initialization (in layer constructor)\n",
    "    # TODOL regularation etc\n",
    "    model.add(Convolution1D(filters[0], 3, border_mode='same', input_shape=(dim_length, dim_channels)))\n",
    "    for filter_number in filters[1:]:\n",
    "        model.add(Convolution1D(filter_number, 3, border_mode='same'))\n",
    "        model.add(Activation('relu'))\n",
    "    model.add(Flatten())\n",
    "    model.add(Dense(output_dim=fc_hidden)) # Fully connected layer\n",
    "    model.add(Activation('relu')) # Relu activation\n",
    "    model.add(Dense(output_dim=outputdim))\n",
    "    model.add(Activation(\"softmax\")) # Final classification layer    \n",
    "    model.compile(loss='categorical_crossentropy', \n",
    "                  optimizer=Adam(lr=lr), \n",
    "                  metrics=['accuracy'])\n",
    "    return model"
   ]
  },
  {
   "cell_type": "code",
   "execution_count": 24,
   "metadata": {
    "collapsed": true
   },
   "outputs": [],
   "source": [
    "def generate_models(x_shape, number_of_classes, number_of_models = 5,lr=lr):\n",
    "    models = []\n",
    "    for _ in range(0, number_of_models):\n",
    "        hyperparameters = generate_hyperparameter_set()\n",
    "        filters = hyperparameters['filters']\n",
    "        fc_hidden = hyperparameters['fc_hidden_nodes']\n",
    "        lr = hyperparameters['learning_rate']\n",
    "        models.append(generate_model(x_shape, number_of_classes, filters, fc_hidden, lr))\n",
    "    return models"
   ]
  },
  {
   "cell_type": "code",
   "execution_count": 25,
   "metadata": {
    "collapsed": true
   },
   "outputs": [],
   "source": [
    "def generate_hyperparameter_set(min_layers = 1, max_layers = 10, \n",
    "                                 min_filters = 10, max_filters = 100, \n",
    "                                 min_fc_nodes = 10, max_fc_nodes = 100,lr=lr):   \n",
    "    number_of_layers = np.random.randint(min_layers, max_layers)\n",
    "    number_of_filters = np.random.randint(min_filters, max_filters, number_of_layers)\n",
    "    number_of_fc_nodes = np.random.randint(min_fc_nodes, max_fc_nodes)\n",
    "    #TODO generate learning rate, something like: lr = 10**(np.random.nextfloat(1, 4))\n",
    "    return {'filters':number_of_filters, 'fc_hidden_nodes':number_of_fc_nodes, 'learning_rate':lr}"
   ]
  },
  {
   "cell_type": "code",
   "execution_count": 26,
   "metadata": {
    "collapsed": false
   },
   "outputs": [],
   "source": [
    "mymodels = generate_models(Xtrain.shape, len(set(ytrain)))\n",
    "#for model in generate_models(Xtrain.shape, len(set(ytrain))):\n",
    "#    model.summary()"
   ]
  },
  {
   "cell_type": "code",
   "execution_count": 27,
   "metadata": {
    "collapsed": false
   },
   "outputs": [],
   "source": [
    "ytrain = to_categorical(ytrain)\n",
    "ytest = to_categorical(ytest)"
   ]
  },
  {
   "cell_type": "code",
   "execution_count": 31,
   "metadata": {
    "collapsed": false
   },
   "outputs": [
    {
     "ename": "NameError",
     "evalue": "name 'mymodels' is not defined",
     "output_type": "error",
     "traceback": [
      "\u001b[1;31m---------------------------------------------------------------------------\u001b[0m",
      "\u001b[1;31mNameError\u001b[0m                                 Traceback (most recent call last)",
      "\u001b[1;32m<ipython-input-31-3450718a47dd>\u001b[0m in \u001b[0;36m<module>\u001b[1;34m()\u001b[0m\n\u001b[1;32m----> 1\u001b[1;33m History2 = mymodels[2].fit(Xtrain, ytrain,batch_size=20,\n\u001b[0m\u001b[0;32m      2\u001b[0m                       nb_epoch=20,verbose=True,validation_split=0.2)\n",
      "\u001b[1;31mNameError\u001b[0m: name 'mymodels' is not defined"
     ]
    }
   ],
   "source": [
    "History2 = mymodels[2].fit(Xtrain, ytrain,batch_size=20,\n",
    "                      nb_epoch=20,verbose=True,validation_split=0.2)"
   ]
  },
  {
   "cell_type": "markdown",
   "metadata": {},
   "source": [
    "# Fit the architectures / models"
   ]
  },
  {
   "cell_type": "code",
   "execution_count": 28,
   "metadata": {
    "collapsed": true
   },
   "outputs": [],
   "source": [
    "#Fit model and store history of the fitting process\n",
    "if studyname == 'UCR':\n",
    "    Xtrain_tmp  = Xtrain\n",
    "    Xtrain_tmp = np.reshape(Xtrain,(Xtrain.shape[0],Xtrain.shape[1]))\n",
    "    History = model.fit(Xtrain_tmp, ytrain,\n",
    "              nb_epoch=5,batch_size=20,validation_split=0.2)\n",
    "#else:\n",
    "#   History = model.fit(X_train, y_train,\n",
    "#            nb_epoch=5,batch_size=20,validation_split=0.2)"
   ]
  },
  {
   "cell_type": "code",
   "execution_count": 33,
   "metadata": {
    "collapsed": false,
    "scrolled": true
   },
   "outputs": [
    {
     "name": "stdout",
     "output_type": "stream",
     "text": [
      "Train on 120 samples, validate on 30 samples\n",
      "Epoch 1/20\n",
      "120/120 [==============================] - 89s - loss: 0.7126 - acc: 0.6083 - val_loss: 0.6557 - val_acc: 0.5667\n",
      "Epoch 2/20\n",
      "120/120 [==============================] - 109s - loss: 0.4347 - acc: 0.8500 - val_loss: 0.6497 - val_acc: 0.6000\n",
      "Epoch 3/20\n",
      "120/120 [==============================] - 90s - loss: 0.3179 - acc: 0.9083 - val_loss: 0.6489 - val_acc: 0.6667\n",
      "Epoch 4/20\n",
      "120/120 [==============================] - 93s - loss: 0.2438 - acc: 0.9500 - val_loss: 0.6560 - val_acc: 0.6333\n",
      "Epoch 5/20\n",
      "120/120 [==============================] - 91s - loss: 0.1842 - acc: 0.9583 - val_loss: 0.6661 - val_acc: 0.6333\n",
      "Epoch 6/20\n",
      "120/120 [==============================] - 101s - loss: 0.1381 - acc: 0.9917 - val_loss: 0.6905 - val_acc: 0.6000\n",
      "Epoch 7/20\n",
      "120/120 [==============================] - 98s - loss: 0.1090 - acc: 0.9917 - val_loss: 0.7043 - val_acc: 0.5667\n",
      "Epoch 8/20\n",
      "120/120 [==============================] - 97s - loss: 0.0792 - acc: 0.9917 - val_loss: 0.7337 - val_acc: 0.6000\n",
      "Epoch 9/20\n",
      "120/120 [==============================] - 97s - loss: 0.0621 - acc: 0.9917 - val_loss: 0.7734 - val_acc: 0.6333\n",
      "Epoch 10/20\n",
      "120/120 [==============================] - 99s - loss: 0.0481 - acc: 0.9917 - val_loss: 0.8107 - val_acc: 0.6667\n",
      "Epoch 11/20\n",
      "120/120 [==============================] - 101s - loss: 0.0394 - acc: 0.9917 - val_loss: 0.8553 - val_acc: 0.6667\n",
      "Epoch 12/20\n",
      "120/120 [==============================] - 109s - loss: 0.0328 - acc: 0.9833 - val_loss: 0.9210 - val_acc: 0.6333\n",
      "Epoch 13/20\n",
      "120/120 [==============================] - 106s - loss: 0.0277 - acc: 0.9917 - val_loss: 0.9623 - val_acc: 0.6333\n",
      "Epoch 14/20\n",
      "120/120 [==============================] - 116s - loss: 0.0247 - acc: 0.9917 - val_loss: 1.0463 - val_acc: 0.6667\n",
      "Epoch 15/20\n",
      "120/120 [==============================] - 108s - loss: 0.0271 - acc: 0.9917 - val_loss: 1.0584 - val_acc: 0.6333\n",
      "Epoch 16/20\n",
      "120/120 [==============================] - 107s - loss: 0.0253 - acc: 0.9917 - val_loss: 1.1557 - val_acc: 0.6000\n",
      "Epoch 17/20\n",
      "120/120 [==============================] - 109s - loss: 0.0410 - acc: 0.9750 - val_loss: 1.3374 - val_acc: 0.6333\n",
      "Epoch 18/20\n",
      "120/120 [==============================] - 108s - loss: 0.0324 - acc: 0.9917 - val_loss: 1.0874 - val_acc: 0.5667\n",
      "Epoch 19/20\n",
      "120/120 [==============================] - 105s - loss: 0.0239 - acc: 0.9917 - val_loss: 1.1047 - val_acc: 0.5667\n",
      "Epoch 20/20\n",
      "120/120 [==============================] - 106s - loss: 0.0219 - acc: 0.9917 - val_loss: 1.1452 - val_acc: 0.5667\n"
     ]
    }
   ],
   "source": [
    "#Fit model and store history of the fitting process\n",
    "History2 = model2.fit(Xtrain, ytrain,batch_size=20,\n",
    "                      nb_epoch=20,verbose=True,validation_split=0.2)"
   ]
  },
  {
   "cell_type": "markdown",
   "metadata": {},
   "source": [
    "# Evaluate models on test set"
   ]
  },
  {
   "cell_type": "code",
   "execution_count": 34,
   "metadata": {
    "collapsed": false
   },
   "outputs": [
    {
     "name": "stdout",
     "output_type": "stream",
     "text": [
      "Model 2: [1.4354627633944523, 0.50413223140495866]\n"
     ]
    }
   ],
   "source": [
    "score2 = model2.evaluate(Xtest, ytest, batch_size=20,verbose=False)\n",
    "print('Model 2: ' + str(score2))"
   ]
  },
  {
   "cell_type": "code",
   "execution_count": 35,
   "metadata": {
    "collapsed": false
   },
   "outputs": [
    {
     "name": "stdout",
     "output_type": "stream",
     "text": [
      "121/121 [==============================] - 14s    \n",
      "121/121 [==============================] - 14s    \n"
     ]
    }
   ],
   "source": [
    "classes2 = model2.predict_classes(Xtest, batch_size=20)\n",
    "proba2 = model2.predict_proba(Xtest, batch_size=20)"
   ]
  },
  {
   "cell_type": "code",
   "execution_count": 36,
   "metadata": {
    "collapsed": false
   },
   "outputs": [
    {
     "name": "stdout",
     "output_type": "stream",
     "text": [
      "confusion matrix:\n",
      "[[51 35]\n",
      " [25 10]]\n",
      "kappa: -0.111791730475\n",
      "auc: 0.5\n"
     ]
    }
   ],
   "source": [
    "from sklearn import metrics\n",
    "print('confusion matrix:')\n",
    "print(metrics.confusion_matrix(classes2, ytest_original))\n",
    "print('kappa: ' + str(metrics.cohen_kappa_score(classes2, ytest_original)))\n",
    "print('auc: ' + str(metrics.auc(classes2, ytest_original,reorder=True)))"
   ]
  },
  {
   "cell_type": "code",
   "execution_count": 37,
   "metadata": {
    "collapsed": false,
    "scrolled": true
   },
   "outputs": [],
   "source": [
    "#print(np.hstack((proba2, np.vstack((classes, ytest_original)).transpose())))\n",
    "#print(np.hstack((proba2, np.vstack((classes2, ytest_original)).transpose())))"
   ]
  },
  {
   "cell_type": "markdown",
   "metadata": {},
   "source": [
    "# Plot training process"
   ]
  },
  {
   "cell_type": "code",
   "execution_count": 38,
   "metadata": {
    "collapsed": true
   },
   "outputs": [],
   "source": [
    "#set up conditions for plotting\n",
    "import matplotlib.pyplot as plt\n",
    "%matplotlib inline"
   ]
  },
  {
   "cell_type": "code",
   "execution_count": 39,
   "metadata": {
    "collapsed": false
   },
   "outputs": [
    {
     "data": {
      "text/plain": [
       "<matplotlib.text.Text at 0x7f7f248789b0>"
      ]
     },
     "execution_count": 39,
     "metadata": {},
     "output_type": "execute_result"
    },
    {
     "data": {
      "image/png": "[encoded data removed]",
      "text/plain": [
       "<matplotlib.figure.Figure at 0x7f7f23e60208>"
      ]
     },
     "metadata": {},
     "output_type": "display_data"
    }
   ],
   "source": [
    "# plot loss and accuracy for model 2\n",
    "fig, ax1 = plt.subplots()\n",
    "ax2 = ax1.twinx()\n",
    "LN = len(History2.history['val_loss'])\n",
    "ax1.plot(range(LN),History2.history['val_loss'],'g-')\n",
    "ax2.plot(range(LN),History2.history['val_acc'],'b-')\n",
    "ax1.set_xlabel('epoch')\n",
    "ax1.set_ylabel('loss',color='g')\n",
    "ax2.set_ylabel('accuracy',color='b')\n",
    "plt.title('Model 2')"
   ]
  },
  {
   "cell_type": "code",
   "execution_count": null,
   "metadata": {
    "collapsed": true
   },
   "outputs": [],
   "source": []
  },
  {
   "cell_type": "code",
   "execution_count": null,
   "metadata": {
    "collapsed": true
   },
   "outputs": [],
   "source": []
  },
  {
   "cell_type": "code",
   "execution_count": null,
   "metadata": {
    "collapsed": true
   },
   "outputs": [],
   "source": []
  },
  {
   "cell_type": "code",
   "execution_count": null,
   "metadata": {
    "collapsed": true
   },
   "outputs": [],
   "source": []
  },
  {
   "cell_type": "code",
   "execution_count": null,
   "metadata": {
    "collapsed": true
   },
   "outputs": [],
   "source": []
  }
 ],
 "metadata": {
  "kernelspec": {
   "display_name": "Python 3",
   "language": "python",
   "name": "python3"
  },
  "language_info": {
   "codemirror_mode": {
    "name": "ipython",
    "version": 3
   },
   "file_extension": ".py",
   "mimetype": "text/x-python",
   "name": "python",
   "nbconvert_exporter": "python",
   "pygments_lexer": "ipython3",
   "version": "3.4.3"
  }
 },
 "nbformat": 4,
 "nbformat_minor": 0
}
