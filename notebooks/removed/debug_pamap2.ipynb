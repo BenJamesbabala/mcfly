{
 "cells": [
  {
   "cell_type": "markdown",
   "metadata": {},
   "source": [
    "## Load data"
   ]
  },
  {
   "cell_type": "code",
   "execution_count": 55,
   "metadata": {
    "collapsed": false
   },
   "outputs": [],
   "source": [
    "import theano\n",
    "theano.config.mode = 'Mode'#theano.compile. (nan_is_error=True, inf_is_error=False, big_is_error=False)\n",
    "theano.config.NanGuardMode.nan_is_error = True\n",
    "theano.config.NanGuardMode.inf_is_error = False\n",
    "theano.config.NanGuardMode.big_is_error = False\n",
    "import numpy as np\n",
    "from keras.utils.np_utils import to_categorical\n",
    "import keras\n",
    "import os\n",
    "#os.putenv('PYTHONHASHSEED', '0')"
   ]
  },
  {
   "cell_type": "code",
   "execution_count": 16,
   "metadata": {
    "collapsed": false
   },
   "outputs": [
    {
     "name": "stdout",
     "output_type": "stream",
     "text": [
      "Populating the interactive namespace from numpy and matplotlib\n",
      "The autoreload extension is already loaded. To reload it, use:\n",
      "  %reload_ext autoreload\n"
     ]
    }
   ],
   "source": [
    "%pylab inline\n",
    "%load_ext autoreload\n",
    "%autoreload 2"
   ]
  },
  {
   "cell_type": "code",
   "execution_count": 3,
   "metadata": {
    "collapsed": false
   },
   "outputs": [],
   "source": [
    "datapath = '/media/sf_vmshared/PAMAP2_Dataset/slidingwindow512cleaned/'"
   ]
  },
  {
   "cell_type": "code",
   "execution_count": 4,
   "metadata": {
    "collapsed": false
   },
   "outputs": [],
   "source": [
    "ext = '.npy'\n",
    "X_train = np.load(datapath+'X_train'+ext)\n",
    "y_train_binary = np.load(datapath+'y_train_binary'+ext)\n",
    "X_val = np.load(datapath+'X_val'+ext)\n",
    "y_val_binary = np.load(datapath+'y_val_binary'+ext)\n",
    "X_test = np.load(datapath+'X_test'+ext)\n",
    "y_test_binary = np.load(datapath+'y_test_binary'+ext)"
   ]
  },
  {
   "cell_type": "code",
   "execution_count": 5,
   "metadata": {
    "collapsed": false
   },
   "outputs": [
    {
     "name": "stdout",
     "output_type": "stream",
     "text": [
      "12\n"
     ]
    }
   ],
   "source": [
    "num_classes = y_train_binary.shape[1]\n",
    "print(num_classes)"
   ]
  },
  {
   "cell_type": "code",
   "execution_count": 6,
   "metadata": {
    "collapsed": true
   },
   "outputs": [],
   "source": [
    "from keras.models import Sequential\n",
    "from keras.layers import Dense, Activation, Convolution1D, Flatten, MaxPooling1D\n",
    "from keras.optimizers import Adam\n",
    "import keras.backend as K"
   ]
  },
  {
   "cell_type": "code",
   "execution_count": 7,
   "metadata": {
    "collapsed": true
   },
   "outputs": [],
   "source": [
    "import sys\n",
    "import os\n",
    "import numpy as np\n",
    "sys.path.insert(0, os.path.abspath('..'))\n",
    "\n",
    "from mcfly import modelgen, find_architecture"
   ]
  },
  {
   "cell_type": "markdown",
   "metadata": {},
   "source": [
    "## Replicate the NaN model"
   ]
  },
  {
   "cell_type": "code",
   "execution_count": 8,
   "metadata": {
    "collapsed": true
   },
   "outputs": [],
   "source": [
    "params = {'filters': np.array([98, 67]), 'fc_hidden_nodes': 62, 'regularization_rate': 0.03708604649827486, 'learning_rate': 0.00019850152863738226}"
   ]
  },
  {
   "cell_type": "markdown",
   "metadata": {},
   "source": [
    "We make a copy of the model, to start training from fresh."
   ]
  },
  {
   "cell_type": "code",
   "execution_count": 9,
   "metadata": {
    "collapsed": false
   },
   "outputs": [
    {
     "name": "stdout",
     "output_type": "stream",
     "text": [
      "float32\n",
      "1e-07\n",
      "fast_run\n",
      "False\n",
      "NanGuardMode\n"
     ]
    }
   ],
   "source": [
    "# Check some theano settings\n",
    "\n",
    "print(K.floatx())\n",
    "print(K.epsilon())\n",
    "#K.set_epsilon(1e-5)\n",
    "#K.set_floatx = 'float32'\n",
    "print(theano.config.optimizer)\n",
    "#theano.config.optimizer = 'fast_run'\n",
    "print(theano.config.nvcc.fastmath)\n",
    "print(theano.config.mode)"
   ]
  },
  {
   "cell_type": "code",
   "execution_count": 10,
   "metadata": {
    "collapsed": false
   },
   "outputs": [
    {
     "data": {
      "text/plain": [
       "False"
      ]
     },
     "execution_count": 10,
     "metadata": {},
     "output_type": "execute_result"
    }
   ],
   "source": [
    "theano.config.NanGuardMode.inf_is_error"
   ]
  },
  {
   "cell_type": "markdown",
   "metadata": {},
   "source": [
    "We're going to train the model on the complete data set, and save the model after each epoch"
   ]
  },
  {
   "cell_type": "code",
   "execution_count": 18,
   "metadata": {
    "collapsed": false,
    "scrolled": true
   },
   "outputs": [
    {
     "name": "stdout",
     "output_type": "stream",
     "text": [
      "Train on 12497 samples, validate on 2007 samples\n",
      "Epoch 1/1\n",
      "12497/12497 [==============================] - 101s - loss: 5.9390 - acc: 0.8574 - val_loss: 0.2698 - val_acc: 0.9273\n"
     ]
    }
   ],
   "source": [
    "np.random.seed(123)\n",
    "model = modelgen.generate_CNN_model(X_train.shape, num_classes, \n",
    "                                              params['filters'], \n",
    "                                              params['fc_hidden_nodes'],\n",
    "                                              params['learning_rate'], \n",
    "                                              params['regularization_rate'])\n",
    "\n",
    "nr_epochs = 1\n",
    "datasize = X_train.shape[0]#1000\n",
    "history = model.fit(X_train[:datasize,:,:], y_train_binary[:datasize,:],\n",
    "              nb_epoch=nr_epochs, validation_data=(X_val, y_val_binary), \n",
    "                              callbacks=[keras.callbacks.ModelCheckpoint(datapath+'weights2.{epoch:02d}-{val_loss:.2f}.hdf5')])"
   ]
  },
  {
   "cell_type": "markdown",
   "metadata": {},
   "source": [
    "## Find NaN model\n",
    "\n",
    "Although parameter set + seed above result in NaN loss for Dafne's computer, it does not for Chris'. The code below looks for convenient setups that result in NaN values."
   ]
  },
  {
   "cell_type": "code",
   "execution_count": 59,
   "metadata": {
    "collapsed": false
   },
   "outputs": [],
   "source": [
    "def train_and_check(seed, dataset):\n",
    "    np.random.seed(seed)\n",
    "    model = modelgen.generate_CNN_model(dataset.shape, num_classes, \n",
    "                                                  params['filters'], \n",
    "                                                  params['fc_hidden_nodes'],\n",
    "                                                  params['learning_rate'], \n",
    "                                                  params['regularization_rate'])\n",
    "\n",
    "    nr_epochs = 1\n",
    "    datasize = dataset.shape[0]#1000\n",
    "    history = model.fit(X_train[:datasize,:,:], y_train_binary[:datasize,:],\n",
    "                  nb_epoch=nr_epochs, validation_data=(X_val[:1], y_val_binary[:1]), \n",
    "\n",
    "                        callbacks=[keras.callbacks.ModelCheckpoint(datapath+'weights2.{epoch:02d}-{val_loss:.2f}.hdf5')])\n",
    "    return math.isnan(history.history['loss'][0]) or math.isnan(history.history['val_loss'][0])"
   ]
  },
  {
   "cell_type": "code",
   "execution_count": 56,
   "metadata": {
    "collapsed": false
   },
   "outputs": [
    {
     "name": "stdout",
     "output_type": "stream",
     "text": [
      "Train on 1 samples, validate on 2007 samples\n",
      "Epoch 1/1\n",
      "1/1 [==============================] - 4s - loss: 10.9805 - acc: 0.0000e+00 - val_loss: 12.9344 - val_acc: 0.1345\n",
      "Train on 1 samples, validate on 2007 samples\n",
      "Epoch 1/1\n",
      "1/1 [==============================] - 4s - loss: 10.7914 - acc: 0.0000e+00 - val_loss: nan - val_acc: 0.1151\n",
      "Found Nan with seed 50\n",
      "Train on 1 samples, validate on 2007 samples\n",
      "Epoch 1/1\n",
      "1/1 [==============================] - 4s - loss: 10.6052 - acc: 0.0000e+00 - val_loss: 13.0485 - val_acc: 0.1345\n",
      "Train on 1 samples, validate on 2007 samples\n",
      "Epoch 1/1\n",
      "1/1 [==============================] - 4s - loss: 10.9311 - acc: 0.0000e+00 - val_loss: 12.8164 - val_acc: 0.1345\n",
      "[50]\n"
     ]
    }
   ],
   "source": [
    "dataset = X_train[:1]\n",
    "nan_seeds = []\n",
    "for seed in range(49,53):\n",
    "    if train_and_check(seed, dataset):\n",
    "        nan_seeds.append(seed)\n",
    "        print('Found Nan with seed ' + str(seed))\n",
    "print(nan_seeds)"
   ]
  },
  {
   "cell_type": "markdown",
   "metadata": {},
   "source": [
    "Some seeds that resulted in nan loss on Chris' computer were 43, 67, 116, 224, 257, 272, 394 when using a dataset of :100 of the complete X_train. With only :1 of X_train I get a NaN loss with seed 50. So below should give nan loss on the small dataset."
   ]
  },
  {
   "cell_type": "code",
   "execution_count": 102,
   "metadata": {
    "collapsed": false
   },
   "outputs": [
    {
     "name": "stdout",
     "output_type": "stream",
     "text": [
      "output  Elemwise{clip,no_inplace}.0\n",
      "target  activation_1940_target\n",
      "Train on 1 samples, validate on 1 samples\n",
      "Epoch 1/1\n",
      "1/1 [==============================] - 0s - loss: 10.7914 - acc: 0.0000e+00 - val_loss: nan - val_acc: 1.0000\n"
     ]
    }
   ],
   "source": [
    "dataset = X_train[:1]\n",
    "np.random.seed(50)\n",
    "model = modelgen.generate_CNN_model(dataset.shape, num_classes, \n",
    "                                              params['filters'], \n",
    "                                              params['fc_hidden_nodes'],\n",
    "                                              params['learning_rate'], \n",
    "                                              params['regularization_rate'])\n",
    "\n",
    "nr_epochs = 1\n",
    "datasize = dataset.shape[0]#1000\n",
    "history = model.fit(X_train[:datasize,:,:], y_train_binary[:datasize,:],\n",
    "              nb_epoch=nr_epochs, validation_data=(X_val[:1], y_val_binary[:1]), \n",
    "\n",
    "                    callbacks=[keras.callbacks.ModelCheckpoint(datapath+'weights2.{epoch:02d}-{val_loss:.2f}.hdf5')])"
   ]
  },
  {
   "cell_type": "code",
   "execution_count": 91,
   "metadata": {
    "collapsed": true
   },
   "outputs": [],
   "source": [
    "dataset = X_train[:1]\n",
    "np.random.seed(50)\n",
    "model = modelgen.generate_CNN_model(dataset.shape, num_classes, \n",
    "                                              params['filters'], \n",
    "                                              params['fc_hidden_nodes'],\n",
    "                                              params['learning_rate'], \n",
    "                                              params['regularization_rate'])"
   ]
  },
  {
   "cell_type": "code",
   "execution_count": 78,
   "metadata": {
    "collapsed": false
   },
   "outputs": [
    {
     "name": "stdout",
     "output_type": "stream",
     "text": [
      "1/1 [==============================] - 0s\n"
     ]
    },
    {
     "data": {
      "text/plain": [
       "array([7])"
      ]
     },
     "execution_count": 78,
     "metadata": {},
     "output_type": "execute_result"
    }
   ],
   "source": [
    "model.predict_classes(X_val[:1])"
   ]
  },
  {
   "cell_type": "code",
   "execution_count": 99,
   "metadata": {
    "collapsed": true
   },
   "outputs": [
    {
     "data": {
      "text/plain": [
       "array([[  5.24276048e-02,  -1.87787071e-01,  -1.46753630e-02,\n",
       "          1.31986126e-01,  -2.68284306e-02,  -2.14224085e-01,\n",
       "         -1.54472515e-01,  -5.69397509e-02,  -8.19158927e-02,\n",
       "          1.65570810e-01,  -1.21166378e-01,  -2.12710425e-01],\n",
       "       [ -1.77742243e-01,   3.18614505e-02,   4.87366393e-02,\n",
       "          3.24277952e-02,  -1.33670375e-01,   1.48252890e-01,\n",
       "          2.77611483e-02,   2.04569340e-01,  -7.10648894e-02,\n",
       "         -2.59519601e-03,  -7.71293640e-02,  -1.79101005e-01],\n",
       "       [  1.37388378e-01,  -1.46523207e-01,   1.64005868e-02,\n",
       "         -1.59035102e-01,   1.77222699e-01,  -1.10589050e-01,\n",
       "          1.39046267e-01,   1.22961700e-01,  -1.36654735e-01,\n",
       "         -9.07251760e-02,   3.29503939e-02,   4.80490327e-02],\n",
       "       [  1.73144758e-01,   1.27379701e-01,  -1.41657859e-01,\n",
       "         -5.48100844e-02,  -1.71345383e-01,   5.62886335e-02,\n",
       "         -7.46957511e-02,  -1.70681894e-01,   2.12964043e-02,\n",
       "          9.49259326e-02,  -3.99484746e-02,   1.43435135e-01],\n",
       "       [ -1.23895615e-01,   3.06860190e-02,  -1.95133924e-01,\n",
       "          3.28704640e-02,   9.71074924e-02,  -1.54050827e-01,\n",
       "          2.04160467e-01,   1.35837659e-01,  -8.34926888e-02,\n",
       "         -1.99980199e-01,   1.64374247e-01,  -1.46347016e-01],\n",
       "       [ -1.50394300e-02,  -1.11428238e-01,   1.81020379e-01,\n",
       "         -1.45345088e-02,  -3.70249040e-02,   2.94367466e-02,\n",
       "          1.06071413e-01,  -1.60226896e-02,   1.76532477e-01,\n",
       "         -1.71495512e-01,  -3.84324207e-03,  -1.80535108e-01],\n",
       "       [ -2.07985327e-01,   1.31500125e-01,  -8.61008540e-02,\n",
       "          1.21128270e-02,  -1.00956097e-01,   4.40005176e-02,\n",
       "          7.92724192e-02,  -1.94675595e-01,  -2.81156693e-02,\n",
       "          1.97461426e-01,  -2.04500809e-01,   1.60901979e-01],\n",
       "       [  1.95891540e-02,   1.67835936e-01,  -2.16386110e-01,\n",
       "          2.47332547e-02,  -6.69951290e-02,  -1.32478818e-01,\n",
       "         -1.40344635e-01,   1.71494577e-03,  -2.60246471e-02,\n",
       "          6.98116645e-02,   1.96886018e-01,  -1.24529071e-01],\n",
       "       [  1.94982544e-01,   1.93879589e-01,  -1.64774105e-01,\n",
       "          1.12915732e-01,   1.11786164e-01,   1.67458393e-02,\n",
       "          1.55213371e-01,   7.28935599e-02,   1.54107930e-02,\n",
       "          1.16389833e-01,  -2.16828808e-01,   2.02822119e-01],\n",
       "       [  1.44410983e-01,  -1.93067744e-01,   4.02758308e-02,\n",
       "          1.66232809e-01,   1.79434702e-01,   9.92649421e-02,\n",
       "          1.05594192e-02,   4.01906259e-02,   1.07333630e-01,\n",
       "         -1.39241204e-01,   1.38175279e-01,   1.46135226e-01],\n",
       "       [  5.98327741e-02,   1.38544202e-01,  -1.13577463e-01,\n",
       "          1.09338321e-01,  -1.63379192e-01,  -1.82016864e-01,\n",
       "         -6.05305284e-02,   1.29176334e-01,  -1.69986039e-01,\n",
       "         -5.88468909e-02,   1.74130186e-01,   2.09861949e-01],\n",
       "       [ -6.19520582e-02,  -1.70996025e-01,   1.74906515e-02,\n",
       "         -4.07756828e-02,  -1.30310565e-01,  -9.32115130e-03,\n",
       "         -6.02496415e-02,   1.92620531e-01,  -2.14128345e-01,\n",
       "          7.77585804e-02,  -1.92188516e-01,   3.80908288e-02],\n",
       "       [ -1.59626201e-01,  -4.78753187e-02,   1.43593863e-01,\n",
       "         -8.99254754e-02,   2.07386129e-02,  -1.16389040e-02,\n",
       "         -2.06101149e-01,  -2.09432058e-02,  -6.85300156e-02,\n",
       "         -2.13612676e-01,   4.07495610e-02,   1.53651927e-02],\n",
       "       [  1.66636437e-01,  -2.10338131e-01,   1.37681141e-01,\n",
       "          1.99852362e-01,  -7.78022110e-02,   1.25688314e-01,\n",
       "          1.79293141e-01,   1.51186123e-01,  -5.03683574e-02,\n",
       "          1.85583979e-01,  -8.30373093e-02,  -1.68860480e-01],\n",
       "       [  1.70196459e-01,   3.77876125e-02,  -8.13400969e-02,\n",
       "         -2.08347946e-01,  -1.95021957e-01,  -1.40692741e-01,\n",
       "         -7.53944879e-03,   8.99932906e-02,   6.56169429e-02,\n",
       "         -1.73096299e-01,  -9.87900496e-02,  -2.12786421e-02],\n",
       "       [ -1.78710267e-01,  -2.09456876e-01,  -1.65748268e-01,\n",
       "          2.28778981e-02,   1.72540635e-01,  -2.03003779e-01,\n",
       "         -2.11297557e-01,  -1.07093781e-01,   2.05995247e-01,\n",
       "         -1.78292692e-01,  -1.56249240e-01,   9.31884944e-02],\n",
       "       [ -1.68744862e-01,  -6.48992285e-02,  -1.81957915e-01,\n",
       "         -9.10334736e-02,   1.21064961e-01,   7.48618171e-02,\n",
       "          6.29151314e-02,   1.79564372e-01,   4.04363796e-02,\n",
       "         -7.51869157e-02,   7.41973370e-02,  -9.17032547e-03],\n",
       "       [  1.90915819e-02,  -5.49823716e-02,  -2.40462571e-02,\n",
       "          1.13504253e-01,  -6.23084120e-02,   1.67593256e-01,\n",
       "          3.56044546e-02,   4.40591983e-02,   1.47270307e-01,\n",
       "         -1.71334580e-01,   8.10924917e-02,  -9.75155234e-02],\n",
       "       [  2.18846455e-01,   1.59346148e-01,  -1.32471174e-01,\n",
       "          1.36937425e-01,  -9.89705622e-02,   1.06544264e-01,\n",
       "         -5.43090440e-02,  -1.39242843e-01,   1.39578938e-01,\n",
       "         -1.27866149e-01,  -8.11481774e-02,  -1.30420206e-02],\n",
       "       [  1.89174756e-01,  -1.59724101e-01,   1.23310648e-01,\n",
       "          2.61564310e-05,  -1.24198580e-02,   8.11140984e-02,\n",
       "         -1.25936151e-03,   1.36646107e-01,  -1.10598631e-01,\n",
       "         -1.92090586e-01,   1.27295062e-01,  -3.37445624e-02],\n",
       "       [ -1.72694668e-01,  -1.08277529e-01,  -6.65950552e-02,\n",
       "          1.25990346e-01,   2.09284380e-01,   6.32764772e-02,\n",
       "         -5.99455796e-02,  -1.65882289e-01,   8.33867863e-02,\n",
       "          1.78000122e-01,  -3.32080685e-02,  -2.07391903e-01],\n",
       "       [  3.93822789e-02,   1.68795660e-01,  -1.32633567e-01,\n",
       "         -2.01654494e-01,   4.41225581e-02,   2.03609392e-01,\n",
       "          6.44183084e-02,  -1.33225629e-02,   2.14872971e-01,\n",
       "          1.67889997e-01,   1.02580629e-01,  -1.76671967e-01],\n",
       "       [  1.12585202e-01,   1.88810229e-01,   2.03070357e-01,\n",
       "         -8.19983780e-02,  -7.11742267e-02,   1.31755164e-02,\n",
       "         -1.20008245e-01,   1.16618685e-02,  -1.86596349e-01,\n",
       "         -1.05213448e-01,  -1.50052309e-01,   1.96759552e-01],\n",
       "       [  3.91132422e-02,  -7.24130869e-03,   1.54252484e-01,\n",
       "          2.08278164e-01,  -1.54972905e-02,  -2.01550558e-01,\n",
       "         -1.55974239e-01,  -1.76384896e-01,  -1.97999626e-01,\n",
       "          4.92341593e-02,  -4.76660989e-02,  -2.13458762e-01],\n",
       "       [ -4.41125706e-02,   1.95324406e-01,  -1.20234065e-01,\n",
       "          2.05659226e-01,  -5.68274558e-02,   9.04226676e-02,\n",
       "          4.60888036e-02,   1.01504870e-01,   1.71644330e-01,\n",
       "         -1.20583341e-01,  -1.46875098e-01,  -1.56320363e-01],\n",
       "       [ -7.54048452e-02,  -8.23000520e-02,  -2.00588718e-01,\n",
       "          8.07912052e-02,   1.77508727e-01,   2.75525041e-02,\n",
       "         -3.14206295e-02,  -1.42490521e-01,  -1.35042906e-01,\n",
       "          9.77091119e-02,  -5.97381927e-02,   1.88239992e-01],\n",
       "       [  1.05248637e-01,   3.11082099e-02,   3.28968167e-02,\n",
       "          1.64248571e-01,   1.22104220e-01,   1.58477172e-01,\n",
       "         -1.76943317e-01,  -7.24342093e-02,  -1.03680983e-01,\n",
       "         -4.87615867e-03,  -5.34712225e-02,  -6.83026612e-02],\n",
       "       [  1.45642698e-01,   6.16650619e-02,   1.29598930e-01,\n",
       "          1.66449234e-01,  -1.98897630e-01,  -1.69359013e-01,\n",
       "          1.56382285e-03,  -1.02012500e-01,  -1.67679518e-01,\n",
       "         -1.03429826e-02,  -9.92287993e-02,  -9.69784707e-02],\n",
       "       [ -2.13287756e-01,   1.87752545e-01,  -4.15602140e-02,\n",
       "         -1.92127917e-02,  -1.69464931e-01,   1.00311413e-01,\n",
       "          1.07136756e-01,  -3.00781149e-02,  -1.28242821e-01,\n",
       "          5.54166222e-03,  -2.09469169e-01,  -5.57517447e-02],\n",
       "       [  1.71916813e-01,   2.05667377e-01,  -1.69661626e-01,\n",
       "          1.15467668e-01,  -7.28716701e-02,   1.79616302e-01,\n",
       "         -1.89973697e-01,  -9.90433618e-02,  -1.55046731e-01,\n",
       "         -1.86294585e-01,   2.13520557e-01,  -1.06949002e-01],\n",
       "       [ -1.75837874e-01,   1.51449278e-01,  -5.20537533e-02,\n",
       "         -1.98641807e-01,   7.89963454e-02,   1.13905028e-01,\n",
       "         -2.15396449e-01,  -1.30280936e-02,  -1.29709497e-01,\n",
       "          6.37748316e-02,   2.65793558e-02,  -2.05333188e-01],\n",
       "       [ -1.55324694e-02,   3.64561267e-02,  -5.17341830e-02,\n",
       "          1.52216733e-01,   4.92202044e-02,   9.98480842e-02,\n",
       "         -1.23425350e-01,   1.97327986e-01,   7.10008368e-02,\n",
       "         -9.25586652e-03,   1.03451945e-01,  -1.92673385e-01],\n",
       "       [ -2.00322792e-01,   1.87065694e-02,  -1.12598114e-01,\n",
       "         -2.41350792e-02,  -1.60767198e-01,   1.86540604e-01,\n",
       "          2.16851145e-01,   5.36402576e-02,  -2.47486997e-02,\n",
       "         -2.14410022e-01,  -4.88362834e-02,  -6.65299371e-02],\n",
       "       [  4.81049065e-03,   1.35421604e-01,   1.16365515e-01,\n",
       "          1.58933401e-01,   1.58805385e-01,   1.52466103e-01,\n",
       "         -6.52135015e-02,   1.58077762e-01,  -7.90602490e-02,\n",
       "          1.18457831e-01,   1.99120626e-01,  -2.16863584e-02],\n",
       "       [  8.81575942e-02,   2.01306224e-01,  -3.56025212e-02,\n",
       "         -1.49379484e-02,   1.48653954e-01,   4.69244597e-03,\n",
       "          1.87516764e-01,  -1.84105456e-01,  -1.51696876e-01,\n",
       "         -1.58645108e-01,  -1.34897113e-01,   1.98863357e-01],\n",
       "       [ -1.77770853e-01,   1.03050619e-01,  -5.89040332e-02,\n",
       "         -9.37291533e-02,   1.41336799e-01,  -7.37787932e-02,\n",
       "          2.50779614e-02,  -1.75557397e-02,  -2.10507616e-01,\n",
       "          1.00850344e-01,  -5.74109033e-02,  -2.12731481e-01],\n",
       "       [  7.93321282e-02,   1.04402797e-02,  -6.86666816e-02,\n",
       "         -1.59118548e-01,  -8.49825442e-02,   9.35996324e-02,\n",
       "         -6.44573420e-02,  -8.56378302e-02,  -1.95750311e-01,\n",
       "          8.14011469e-02,  -3.24642211e-02,  -1.97516888e-01],\n",
       "       [  2.06465885e-01,  -1.52376980e-01,   2.36248244e-02,\n",
       "         -4.93410677e-02,   1.26463786e-01,  -8.42578933e-02,\n",
       "         -1.57295853e-01,   1.47642791e-01,   1.64835546e-02,\n",
       "         -1.27783185e-02,   1.90006226e-01,  -1.25631373e-02],\n",
       "       [  7.34754056e-02,  -8.51972625e-02,  -1.19755737e-01,\n",
       "         -1.51554927e-01,   2.13528350e-01,  -1.41401753e-01,\n",
       "         -4.64186445e-02,   1.59726441e-01,   6.01537898e-02,\n",
       "         -9.01450589e-03,  -1.74196288e-01,   5.91413751e-02],\n",
       "       [  1.92251742e-01,  -2.03752548e-01,  -9.20215473e-02,\n",
       "         -1.81075454e-01,   3.30518857e-02,   9.77211818e-02,\n",
       "          4.54026312e-02,  -1.78478271e-01,   1.15613542e-01,\n",
       "          8.37568194e-02,  -4.42900509e-02,  -8.31901282e-02],\n",
       "       [ -1.87783182e-01,  -1.27765134e-01,  -2.16836616e-01,\n",
       "          1.59236670e-01,  -4.41236794e-02,   1.67003065e-01,\n",
       "          8.90021250e-02,   1.47417128e-01,   7.80558120e-03,\n",
       "         -2.27718074e-02,  -2.16217533e-01,  -1.60179481e-01],\n",
       "       [ -1.48337763e-02,  -1.24141134e-01,  -2.05327701e-02,\n",
       "         -1.79568008e-01,  -1.27339456e-02,  -1.45471916e-01,\n",
       "         -1.59645423e-01,  -1.16708884e-02,   4.92832363e-02,\n",
       "          1.29705250e-01,   1.79042369e-01,   2.18414962e-01],\n",
       "       [  1.30951077e-01,  -2.08140895e-01,   1.02956422e-01,\n",
       "         -1.56104401e-01,  -1.27846569e-01,  -1.54836833e-01,\n",
       "         -1.89593941e-01,  -1.81322470e-01,  -1.55772701e-01,\n",
       "         -1.96861058e-01,   1.85999960e-01,  -7.36538172e-02],\n",
       "       [ -2.08882522e-02,   1.10320188e-01,   1.13803983e-01,\n",
       "          2.13611335e-01,  -1.55159384e-01,   1.41379327e-01,\n",
       "         -1.04063205e-01,   1.64987177e-01,  -1.95591375e-01,\n",
       "          2.17185482e-01,   8.47826079e-02,   1.65188402e-01],\n",
       "       [ -7.83615187e-02,   1.79501921e-01,   1.34333804e-01,\n",
       "         -1.22788370e-01,  -2.09461957e-01,  -1.28244534e-01,\n",
       "          1.62636340e-01,  -1.49841560e-02,   2.00275078e-01,\n",
       "          8.98764580e-02,  -1.47301957e-01,   2.87775993e-02],\n",
       "       [  1.23395622e-01,  -1.08987808e-01,   1.26046345e-01,\n",
       "         -1.63337022e-01,  -9.63410437e-02,   8.37214813e-02,\n",
       "         -6.39807805e-02,   1.30844980e-01,  -4.54268530e-02,\n",
       "         -1.21506400e-01,   1.97451070e-01,   1.16698027e-01],\n",
       "       [  3.45332436e-02,  -8.49782825e-02,   7.00025335e-02,\n",
       "         -4.57779728e-02,  -5.88149503e-02,   1.71043009e-01,\n",
       "          2.13856697e-01,  -1.71691075e-01,  -1.57524124e-01,\n",
       "         -9.85801145e-02,  -6.86639128e-03,  -1.94289923e-01],\n",
       "       [ -2.01137096e-01,   1.74101174e-01,   6.73212856e-02,\n",
       "          5.14920764e-02,   1.07407622e-01,   1.53130572e-02,\n",
       "          1.83416814e-01,  -1.54046953e-01,   4.14959043e-02,\n",
       "          7.58016557e-02,   1.99778378e-01,   6.98913112e-02],\n",
       "       [ -2.34099105e-02,   5.50070181e-02,  -1.56645909e-01,\n",
       "          7.39419013e-02,  -8.00537914e-02,   1.72829852e-01,\n",
       "         -5.42915687e-02,  -2.01241649e-03,  -7.73207424e-03,\n",
       "          1.40068024e-01,  -5.82945459e-02,   1.89464360e-01],\n",
       "       [  1.17009141e-01,   1.97233409e-01,   6.01229183e-02,\n",
       "         -2.08091244e-01,   8.23843107e-02,   1.70876220e-01,\n",
       "         -1.88600719e-01,  -1.04654767e-01,  -1.13001326e-02,\n",
       "         -5.90483174e-02,   1.45441011e-01,  -1.00610055e-01],\n",
       "       [ -9.38508287e-02,  -7.70411715e-02,  -6.81700706e-02,\n",
       "         -1.82217449e-01,   9.48187932e-02,   4.88575995e-02,\n",
       "          1.00156598e-01,   1.83640569e-01,  -6.61975890e-02,\n",
       "         -1.60879657e-01,  -1.62928864e-01,  -5.46077937e-02],\n",
       "       [  1.96226925e-01,   1.18455388e-01,   1.30255707e-02,\n",
       "          4.16526850e-03,   2.10106242e-02,   4.58688997e-02,\n",
       "          3.93342488e-02,   1.45706549e-01,   1.40207216e-01,\n",
       "          2.13648960e-01,  -4.77277637e-02,   2.29762942e-02],\n",
       "       [  1.74150243e-01,  -1.68733895e-02,   3.74453254e-02,\n",
       "         -2.10280225e-01,   1.86865285e-01,   6.66412637e-02,\n",
       "          5.13340086e-02,  -1.85675740e-01,  -1.54716179e-01,\n",
       "         -1.40714675e-01,  -1.47434488e-01,   1.28788739e-01],\n",
       "       [ -2.04083741e-01,  -8.57000872e-02,   1.49310201e-01,\n",
       "         -2.19374284e-01,   1.22172035e-01,  -5.61319180e-02,\n",
       "          9.03671980e-03,   2.13096123e-02,  -7.76228681e-02,\n",
       "         -1.51810408e-01,  -1.37316748e-01,   3.38764749e-02],\n",
       "       [  7.67626688e-02,  -3.52610387e-02,  -4.01295908e-02,\n",
       "          1.64871037e-01,   1.51808321e-01,  -5.23527339e-02,\n",
       "         -1.76396117e-01,   7.56425858e-02,  -3.86101217e-03,\n",
       "         -1.14306025e-01,  -9.73463356e-02,   7.41032138e-02],\n",
       "       [  1.06779605e-01,   1.33784860e-01,   2.76137907e-02,\n",
       "         -1.01199478e-01,   2.22565886e-03,   1.79530576e-01,\n",
       "         -1.29540876e-01,  -4.89091836e-02,  -1.83054999e-01,\n",
       "          2.62615383e-02,   8.24411437e-02,   9.78711024e-02],\n",
       "       [  7.15367720e-02,   1.74025059e-01,   2.42468137e-02,\n",
       "         -4.76996154e-02,  -8.62745866e-02,   2.83877738e-02,\n",
       "          2.14786053e-01,  -2.06217412e-02,  -1.60202995e-01,\n",
       "         -1.48957908e-01,   3.90190668e-02,  -4.55404781e-02],\n",
       "       [  1.37420520e-01,  -1.12308383e-01,  -1.92875981e-01,\n",
       "          1.20967373e-01,   3.56942602e-02,   1.58922061e-01,\n",
       "          2.19792649e-01,   6.87123165e-02,   6.92282096e-02,\n",
       "         -1.91166714e-01,  -7.83969909e-02,  -1.74880281e-01],\n",
       "       [  2.09929034e-01,   1.75505608e-01,  -2.42301188e-02,\n",
       "         -3.60054672e-02,  -1.68662071e-02,  -1.23890132e-01,\n",
       "         -1.30016664e-02,   2.07730174e-01,  -1.18648306e-01,\n",
       "          7.60538951e-02,  -1.86604306e-01,  -5.99179342e-02],\n",
       "       [  6.58592433e-02,   2.09278807e-01,   9.42261219e-02,\n",
       "          1.70535982e-01,   1.23078950e-01,  -1.18689448e-01,\n",
       "          9.30319279e-02,  -3.67272682e-02,   1.01469262e-02,\n",
       "          1.74387470e-01,  -7.54530206e-02,  -4.31275778e-02],\n",
       "       [  4.55708429e-02,  -1.15325376e-02,   3.95971350e-02,\n",
       "         -1.19532287e-01,  -5.84391393e-02,  -8.69579613e-02,\n",
       "         -1.34503767e-01,   1.37858003e-01,   1.18816279e-01,\n",
       "          1.84378520e-01,   1.15551196e-01,  -1.48713902e-01],\n",
       "       [  1.29949570e-01,  -5.96135594e-02,   5.64198196e-02,\n",
       "          1.48726031e-01,  -1.85852334e-01,  -3.07997279e-02,\n",
       "          6.64438913e-03,   1.06904149e-01,  -1.41514704e-01,\n",
       "          1.69742689e-01,   5.99703901e-02,  -9.52396467e-02]], dtype=float32)"
      ]
     },
     "execution_count": 99,
     "metadata": {},
     "output_type": "execute_result"
    }
   ],
   "source": [
    "l = model.layers[-2]\n",
    "l.get_weights()[0]"
   ]
  },
  {
   "cell_type": "code",
   "execution_count": 118,
   "metadata": {
    "collapsed": false
   },
   "outputs": [
    {
     "name": "stdout",
     "output_type": "stream",
     "text": [
      "(1, 12)\n",
      "[[ 1.  0.  0.  0.  0.  0.  0.  0.  0.  0.  0.  0.]]\n",
      "(1, 12)\n",
      "output  Elemwise{clip,no_inplace}.0\n",
      "<class 'theano.tensor.var.TensorVariable'>\n",
      "target  [[ 1.  0.  0.  0.  0.  0.  0.  0.  0.  0.  0.  0.]]\n"
     ]
    },
    {
     "data": {
      "text/plain": [
       "theano.tensor.var.TensorVariable"
      ]
     },
     "execution_count": 118,
     "metadata": {},
     "output_type": "execute_result"
    }
   ],
   "source": [
    "import keras.backend.theano_backend as th\n",
    "target = numpy.zeros_like(layer_output)\n",
    "print(target.shape)\n",
    "print(y_val_binary[:1])\n",
    "print(y_val_binary[:1].shape)\n",
    "#target[0, 4] = 1\n",
    "target = y_val_binary[:1]\n",
    "\n",
    "\n",
    "out = th.categorical_crossentropy(layer_output, target)\n",
    "type(out)"
   ]
  },
  {
   "cell_type": "code",
   "execution_count": 100,
   "metadata": {
    "collapsed": false
   },
   "outputs": [],
   "source": [
    "get_dens_layer_output = keras.backend.function([model.layers[0].input, keras.backend.learning_phase()],\n",
    "                                  [model.layers[-1].output])\n",
    "layer_output = get_dens_layer_output([X_val[:1], 0])[0]"
   ]
  },
  {
   "cell_type": "code",
   "execution_count": 116,
   "metadata": {
    "collapsed": false
   },
   "outputs": [
    {
     "data": {
      "text/plain": [
       "array([[ 0.00859882,  0.06163753,  0.00589006,  0.17214319,  0.08953378,\n",
       "         0.16991124,  0.07851812,  0.31809509,  0.02173777,  0.039786  ,\n",
       "         0.01596426,  0.01818413]], dtype=float32)"
      ]
     },
     "execution_count": 116,
     "metadata": {},
     "output_type": "execute_result"
    }
   ],
   "source": [
    "layer_output"
   ]
  },
  {
   "cell_type": "code",
   "execution_count": 85,
   "metadata": {
    "collapsed": false
   },
   "outputs": [
    {
     "name": "stdout",
     "output_type": "stream",
     "text": [
      "____________________________________________________________________________________________________\n",
      "Layer (type)                       Output Shape        Param #     Connected to                     \n",
      "====================================================================================================\n",
      "batchnormalization_481 (BatchNormal(None, 512, 9)      18          batchnormalization_input_481[0][0\n",
      "____________________________________________________________________________________________________\n",
      "convolution1d_961 (Convolution1D)  (None, 512, 98)     2744        batchnormalization_481[0][0]     \n",
      "____________________________________________________________________________________________________\n",
      "activation_1921 (Activation)       (None, 512, 98)     0           convolution1d_961[0][0]          \n",
      "____________________________________________________________________________________________________\n",
      "convolution1d_962 (Convolution1D)  (None, 512, 67)     19765       activation_1921[0][0]            \n",
      "____________________________________________________________________________________________________\n",
      "activation_1922 (Activation)       (None, 512, 67)     0           convolution1d_962[0][0]          \n",
      "____________________________________________________________________________________________________\n",
      "flatten_481 (Flatten)              (None, 34304)       0           activation_1922[0][0]            \n",
      "____________________________________________________________________________________________________\n",
      "dense_961 (Dense)                  (None, 62)          2126910     flatten_481[0][0]                \n",
      "____________________________________________________________________________________________________\n",
      "activation_1923 (Activation)       (None, 62)          0           dense_961[0][0]                  \n",
      "____________________________________________________________________________________________________\n",
      "dense_962 (Dense)                  (None, 12)          756         activation_1923[0][0]            \n",
      "____________________________________________________________________________________________________\n",
      "activation_1924 (Activation)       (None, 12)          0           dense_962[0][0]                  \n",
      "====================================================================================================\n",
      "Total params: 2150193\n",
      "____________________________________________________________________________________________________\n"
     ]
    }
   ],
   "source": [
    "model.summary()"
   ]
  },
  {
   "cell_type": "code",
   "execution_count": 47,
   "metadata": {
    "collapsed": false
   },
   "outputs": [
    {
     "data": {
      "text/plain": [
       "[5.9389754558092234]"
      ]
     },
     "execution_count": 47,
     "metadata": {},
     "output_type": "execute_result"
    }
   ],
   "source": [
    "history.history['loss']"
   ]
  },
  {
   "cell_type": "markdown",
   "metadata": {},
   "source": [
    "If we plot the training process, we see that the model is probably already overfitting in the first epoch. "
   ]
  },
  {
   "cell_type": "code",
   "execution_count": null,
   "metadata": {
    "collapsed": false
   },
   "outputs": [],
   "source": [
    "find_architecture.plotTrainingProcess(history)"
   ]
  },
  {
   "cell_type": "code",
   "execution_count": null,
   "metadata": {
    "collapsed": false
   },
   "outputs": [],
   "source": [
    "#Load model from the  just before we get the NaNs\n",
    "#model_copy = keras.models.copy.copy(best_model_copy)\n",
    "#model_copy.load_weights(datapath+'weights.{epoch:02d}-{val_loss:.2f}.hdf5'.format(epoch=3, val_loss=0.22))\n",
    "#model_copy.compile(best_model_copy.optimizer, loss='categorical_crossentropy', metrics=['accuracy'])"
   ]
  },
  {
   "cell_type": "code",
   "execution_count": null,
   "metadata": {
    "collapsed": false
   },
   "outputs": [],
   "source": [
    "model.evaluate(X_train, y_train_binary)"
   ]
  },
  {
   "cell_type": "markdown",
   "metadata": {},
   "source": [
    "## Inspect model predictions"
   ]
  },
  {
   "cell_type": "code",
   "execution_count": null,
   "metadata": {
    "collapsed": false
   },
   "outputs": [],
   "source": [
    "datasize = X_val.shape[0]\n",
    "probs = model.predict_proba(X_val[:datasize,:,:])\n",
    "probs"
   ]
  },
  {
   "cell_type": "code",
   "execution_count": null,
   "metadata": {
    "collapsed": false
   },
   "outputs": [],
   "source": [
    "len(model.layers)"
   ]
  },
  {
   "cell_type": "code",
   "execution_count": null,
   "metadata": {
    "collapsed": false
   },
   "outputs": [],
   "source": [
    "model.layers[0].get_weights()"
   ]
  },
  {
   "cell_type": "code",
   "execution_count": null,
   "metadata": {
    "collapsed": false
   },
   "outputs": [],
   "source": [
    "# with a Sequential model\n",
    "get_dens_layer_output = K.function([model.layers[0].input, K.learning_phase()],\n",
    "                                  [model.layers[0].output])\n",
    "layer_output = get_dens_layer_output([X_val, 0])[0]\n",
    "layer_output"
   ]
  },
  {
   "cell_type": "code",
   "execution_count": null,
   "metadata": {
    "collapsed": false
   },
   "outputs": [],
   "source": [
    "score_val"
   ]
  },
  {
   "cell_type": "code",
   "execution_count": null,
   "metadata": {
    "collapsed": true
   },
   "outputs": [],
   "source": []
  }
 ],
 "metadata": {
  "kernelspec": {
   "display_name": "Python 3",
   "language": "python",
   "name": "python3"
  },
  "language_info": {
   "codemirror_mode": {
    "name": "ipython",
    "version": 3
   },
   "file_extension": ".py",
   "mimetype": "text/x-python",
   "name": "python",
   "nbconvert_exporter": "python",
   "pygments_lexer": "ipython3",
   "version": "3.5.2"
  }
 },
 "nbformat": 4,
 "nbformat_minor": 0
}
