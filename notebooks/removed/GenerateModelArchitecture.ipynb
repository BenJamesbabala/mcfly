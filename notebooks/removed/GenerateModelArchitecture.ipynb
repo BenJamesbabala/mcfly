{
 "cells": [
  {
   "cell_type": "code",
   "execution_count": 85,
   "metadata": {
    "collapsed": false
   },
   "outputs": [
    {
     "name": "stdout",
     "output_type": "stream",
     "text": [
      "Populating the interactive namespace from numpy and matplotlib\n"
     ]
    }
   ],
   "source": [
    "import numpy as np\n",
    "%pylab inline"
   ]
  },
  {
   "cell_type": "markdown",
   "metadata": {},
   "source": [
    "## Load simple dataset"
   ]
  },
  {
   "cell_type": "markdown",
   "metadata": {},
   "source": [
    "We load the data from the UCR TS archive, you can get the data at http://www.cs.ucr.edu/~eamonn/time_series_data/"
   ]
  },
  {
   "cell_type": "code",
   "execution_count": 86,
   "metadata": {
    "collapsed": true
   },
   "outputs": [],
   "source": [
    "datapath = '/media/christiaan/extra/timeseries/UCR_TS_Archive_2015'"
   ]
  },
  {
   "cell_type": "code",
   "execution_count": 87,
   "metadata": {
    "collapsed": false
   },
   "outputs": [
    {
     "name": "stdout",
     "output_type": "stream",
     "text": [
      "(896, 316) (3582, 316)\n",
      "(896, 316) (3582, 316)\n",
      "(896, 316) (3582, 316)\n"
     ]
    }
   ],
   "source": [
    "datasets_train = {}\n",
    "datasets_test = {}\n",
    "for i in [\"X\", \"Y\", \"Z\"]:\n",
    "    path_to_data_train = datapath + '/uWaveGestureLibrary_'+i+'/uWaveGestureLibrary_'+i+'_TRAIN'\n",
    "    path_to_data_test = datapath + '/uWaveGestureLibrary_'+i+'/uWaveGestureLibrary_'+i+'_TEST'\n",
    "    datasets_train[i] = np.genfromtxt(path_to_data_train, delimiter=',')\n",
    "    datasets_test[i] = np.genfromtxt(path_to_data_test, delimiter=',')\n",
    "    print(datasets_train[i].shape, datasets_test[i].shape)"
   ]
  },
  {
   "cell_type": "code",
   "execution_count": 88,
   "metadata": {
    "collapsed": false
   },
   "outputs": [
    {
     "name": "stdout",
     "output_type": "stream",
     "text": [
      "0.0\n",
      "(896,)\n",
      "(3582,)\n"
     ]
    }
   ],
   "source": [
    "y_train = np.vstack((datasets_train['X'][:,0], datasets_train['Y'][:,0], datasets_train['Z'][:,0])).transpose()\n",
    "#Check labels are the same across channels\n",
    "print(y_train.std(axis=1).sum())\n",
    "y_train = np.array(y_train[:,0], dtype='int')\n",
    "print(y_train.shape)\n",
    "\n",
    "y_test = np.array(datasets_test['X'][:,0], dtype='int')\n",
    "print(y_test.shape)"
   ]
  },
  {
   "cell_type": "code",
   "execution_count": 89,
   "metadata": {
    "collapsed": false
   },
   "outputs": [
    {
     "name": "stdout",
     "output_type": "stream",
     "text": [
      "(896, 315, 3)\n",
      "(3582, 315, 3)\n"
     ]
    }
   ],
   "source": [
    "X_train  = np.stack((datasets_train['X'][:,1:], datasets_train['Y'][:,1:], datasets_train['Z'][:,1:]), axis=-1)\n",
    "print(X_train.shape)\n",
    "X_test  = np.stack((datasets_test['X'][:,1:], datasets_test['Y'][:,1:], datasets_test['Z'][:,1:]), axis=-1)\n",
    "print(X_test.shape)"
   ]
  },
  {
   "cell_type": "code",
   "execution_count": 90,
   "metadata": {
    "collapsed": false
   },
   "outputs": [
    {
     "data": {
      "text/plain": [
       "array([[[-0.30424, -2.1194 , -1.529  ],\n",
       "        [-0.30424, -2.1194 , -1.529  ],\n",
       "        [-0.30424, -2.1194 , -1.529  ],\n",
       "        [-0.30424, -2.1194 , -1.529  ]],\n",
       "\n",
       "       [[ 1.6273 ,  0.66662,  1.7869 ],\n",
       "        [ 1.6273 ,  0.66662,  1.7869 ],\n",
       "        [ 1.6273 ,  0.66662,  1.7869 ],\n",
       "        [ 1.6273 ,  0.66662,  1.7869 ]],\n",
       "\n",
       "       [[ 0.66128, -0.18973,  0.52125],\n",
       "        [ 0.66128, -0.18973,  0.52125],\n",
       "        [ 0.66128, -0.18973,  0.52125],\n",
       "        [ 0.66128, -0.18973,  0.52125]]])"
      ]
     },
     "execution_count": 90,
     "metadata": {},
     "output_type": "execute_result"
    }
   ],
   "source": [
    "X_train[:3,:4,:]"
   ]
  },
  {
   "cell_type": "code",
   "execution_count": 91,
   "metadata": {
    "collapsed": false
   },
   "outputs": [],
   "source": [
    "#Change class labels ranging from 0 to n-1\n",
    "classlabels = list(set(y_train))\n",
    "mapclasses = {classlabels[i] : i for i in range(len(classlabels))}\n",
    "y_train = np.array([mapclasses[c] for c in y_train], dtype='int')\n",
    "y_test = np.array([mapclasses[c] for c in y_test], dtype='int')"
   ]
  },
  {
   "cell_type": "code",
   "execution_count": 1,
   "metadata": {
    "collapsed": false
   },
   "outputs": [
    {
     "ename": "NameError",
     "evalue": "name 'X_train' is not defined",
     "output_type": "error",
     "traceback": [
      "\u001b[1;31m---------------------------------------------------------------------------\u001b[0m",
      "\u001b[1;31mNameError\u001b[0m                                 Traceback (most recent call last)",
      "\u001b[1;32m<ipython-input-1-810e193662ea>\u001b[0m in \u001b[0;36m<module>\u001b[1;34m()\u001b[0m\n\u001b[1;32m----> 1\u001b[1;33m \u001b[0mntrain\u001b[0m \u001b[1;33m=\u001b[0m \u001b[0mX_train\u001b[0m\u001b[1;33m.\u001b[0m\u001b[0mshape\u001b[0m\u001b[1;33m[\u001b[0m\u001b[1;36m0\u001b[0m\u001b[1;33m]\u001b[0m\u001b[1;33m\u001b[0m\u001b[0m\n\u001b[0m\u001b[0;32m      2\u001b[0m \u001b[0mnum_training\u001b[0m \u001b[1;33m=\u001b[0m \u001b[0mint\u001b[0m\u001b[1;33m(\u001b[0m\u001b[0mntrain\u001b[0m \u001b[1;33m*\u001b[0m \u001b[1;36m0.7\u001b[0m\u001b[1;33m)\u001b[0m\u001b[1;33m\u001b[0m\u001b[0m\n\u001b[0;32m      3\u001b[0m \u001b[0mnum_validation\u001b[0m \u001b[1;33m=\u001b[0m \u001b[0mntrain\u001b[0m \u001b[1;33m-\u001b[0m \u001b[0mnum_training\u001b[0m\u001b[1;33m\u001b[0m\u001b[0m\n\u001b[0;32m      4\u001b[0m \u001b[0mnum_test\u001b[0m \u001b[1;33m=\u001b[0m \u001b[0mX_test\u001b[0m\u001b[1;33m.\u001b[0m\u001b[0mshape\u001b[0m\u001b[1;33m[\u001b[0m\u001b[1;36m0\u001b[0m\u001b[1;33m]\u001b[0m\u001b[1;33m\u001b[0m\u001b[0m\n\u001b[0;32m      5\u001b[0m \u001b[1;33m\u001b[0m\u001b[0m\n",
      "\u001b[1;31mNameError\u001b[0m: name 'X_train' is not defined"
     ]
    }
   ],
   "source": [
    "ntrain = X_train.shape[0]\n",
    "num_training = int(ntrain * 0.7)\n",
    "num_validation = ntrain - num_training\n",
    "num_test = X_test.shape[0]\n",
    "\n",
    "#First sort the data in random order\n",
    "np.random.seed(123)\n",
    "neworder = np.random.permutation(ntrain)\n",
    "X_train_random = X_train[neworder,:]\n",
    "y_train_random = y_train[neworder]\n",
    "\n",
    "# Our validation set will be num_validation points from the original\n",
    "# training set.\n",
    "mask = range(num_training, num_training + num_validation)\n",
    "X_val = X_train_random[mask]\n",
    "y_val = y_train_random[mask]\n",
    "mask = range(num_training)\n",
    "X_train = X_train_random[mask]\n",
    "y_train = y_train_random[mask]\n",
    "\n",
    "print(X_val.shape)"
   ]
  },
  {
   "cell_type": "code",
   "execution_count": 93,
   "metadata": {
    "collapsed": false
   },
   "outputs": [
    {
     "name": "stdout",
     "output_type": "stream",
     "text": [
      "[[ 0.  0.  0.  0.  0.  1.  0.  0.]\n",
      " [ 0.  0.  1.  0.  0.  0.  0.  0.]\n",
      " [ 1.  0.  0.  0.  0.  0.  0.  0.]\n",
      " [ 0.  1.  0.  0.  0.  0.  0.  0.]\n",
      " [ 0.  0.  0.  1.  0.  0.  0.  0.]\n",
      " [ 0.  1.  0.  0.  0.  0.  0.  0.]\n",
      " [ 0.  1.  0.  0.  0.  0.  0.  0.]\n",
      " [ 0.  0.  0.  0.  0.  1.  0.  0.]\n",
      " [ 1.  0.  0.  0.  0.  0.  0.  0.]\n",
      " [ 0.  1.  0.  0.  0.  0.  0.  0.]]\n"
     ]
    }
   ],
   "source": [
    "# We need to convert the output\n",
    "from keras.utils.np_utils import to_categorical\n",
    "y_train_binary = to_categorical(y_train)\n",
    "y_val_binary = to_categorical(y_val)\n",
    "y_test_binary = to_categorical(y_test)\n",
    "print(y_train_binary[:10,:])"
   ]
  },
  {
   "cell_type": "markdown",
   "metadata": {},
   "source": [
    "## Build model architecture"
   ]
  },
  {
   "cell_type": "code",
   "execution_count": 94,
   "metadata": {
    "collapsed": false
   },
   "outputs": [],
   "source": [
    "from keras.models import Sequential\n",
    "from keras.layers import Dense, Activation, Convolution1D, Flatten, MaxPooling1D, Lambda, Convolution2D, Flatten, Reshape, LSTM, Dropout, TimeDistributed, Permute\n",
    "from keras.regularizers import l2\n",
    "from keras.optimizers import Adam"
   ]
  },
  {
   "cell_type": "code",
   "execution_count": 95,
   "metadata": {
    "collapsed": true
   },
   "outputs": [],
   "source": [
    "def generate_DeepConvLSTM_model(x_shape, class_number, filters, lstm_dims, learning_rate = 0.01):\n",
    "    dim_length = x_shape[1]\n",
    "    dim_channels = x_shape[2]\n",
    "    outputdim = class_number\n",
    "    \n",
    "    model = Sequential()\n",
    "\n",
    "    model.add(Reshape(target_shape=(1, dim_length, dim_channels), input_shape=(dim_length, dim_channels)))\n",
    "    for filt in filters:\n",
    "        model.add(Convolution2D(filt, \n",
    "                            nb_row=3, \n",
    "                            nb_col=1, \n",
    "                            border_mode='same', W_regularizer=l2(0.01)))\n",
    "        model.add(Activation('relu')) \n",
    "\n",
    "\n",
    "    model.add(Reshape(target_shape=(dim_length, filters[-1]*dim_channels)))\n",
    "\n",
    "    for lstm_dim in lstm_dims:\n",
    "        model.add(LSTM(output_dim=lstm_dim, return_sequences=True, \n",
    "                      activation='tanh'))\n",
    "\n",
    "    model.add(Dropout(0.5))\n",
    "    model.add(TimeDistributed(Dense(outputdim)))\n",
    "    #model.add(Dense(outputdim))\n",
    "    model.add(Activation(\"softmax\")) # Final classification layer - per timestep\n",
    "    model.add(Lambda(lambda x: x[:,-1,:], output_shape=[outputdim]))\n",
    "    \n",
    "    model.compile(loss='categorical_crossentropy', \n",
    "                  optimizer=Adam(lr=learning_rate), \n",
    "                  metrics=['accuracy'])\n",
    "    \n",
    "    return model"
   ]
  },
  {
   "cell_type": "code",
   "execution_count": 96,
   "metadata": {
    "collapsed": false
   },
   "outputs": [],
   "source": [
    "def generate_CNN_model(x_shape, class_number, filters, fc_hidden_nodes, learning_rate = 0.01):\n",
    "    dim_length = x_shape[1]\n",
    "    dim_channels = x_shape[2]\n",
    "    outputdim = class_number\n",
    "    \n",
    "    model = Sequential()\n",
    "    # TODO: weight initialization (in layer constructor)\n",
    "    # TODO: regularation etc\n",
    "    model.add(Convolution1D(filters[0], 3, border_mode='same', input_shape=(dim_length, dim_channels)))\n",
    "    for filter_number in filters[1:]:\n",
    "        model.add(Convolution1D(filter_number, 3, border_mode='same'))\n",
    "        model.add(Activation('relu'))\n",
    "    model.add(Flatten())\n",
    "    model.add(Dense(output_dim=fc_hidden_nodes)) # Fully connected layer\n",
    "    model.add(Activation('relu')) # Relu activation\n",
    "    model.add(Dense(output_dim=outputdim))\n",
    "    model.add(Activation(\"softmax\")) # Final classification layer    \n",
    "    \n",
    "    model.compile(loss='categorical_crossentropy', \n",
    "                  optimizer=Adam(lr=learning_rate), \n",
    "                  metrics=['accuracy'])\n",
    "    \n",
    "    return model\n"
   ]
  },
  {
   "cell_type": "code",
   "execution_count": 97,
   "metadata": {
    "collapsed": false
   },
   "outputs": [],
   "source": [
    "def generate_models(x_shape, number_of_classes, number_of_models = 5, model_type = None, **kwargs):\n",
    "    models = []\n",
    "    for _ in range(0, number_of_models):\n",
    "        if model_type == None:\n",
    "            current_model_type = 'CNN' if np.random.random() < 0.5 else 'DeepConvLSTM'\n",
    "        else:\n",
    "            current_model_type = model_type\n",
    "            \n",
    "        if current_model_type == 'CNN':\n",
    "            generate_model = generate_CNN_model\n",
    "            generate_hyperparameter_set = generate_CNN_hyperparameter_set\n",
    "        if current_model_type == 'DeepConvLSTM':\n",
    "            generate_model = generate_DeepConvLSTM_model\n",
    "            generate_hyperparameter_set = generate_DeepConvLSTM_hyperparameter_set\n",
    "        hyperparameters = generate_hyperparameter_set(**kwargs)\n",
    "        models.append((generate_model(x_shape, number_of_classes, **hyperparameters), hyperparameters, current_model_type))        \n",
    "    return models"
   ]
  },
  {
   "cell_type": "code",
   "execution_count": 98,
   "metadata": {
    "collapsed": true
   },
   "outputs": [],
   "source": [
    "def get_learning_rate(low = 1, high = 4):\n",
    "    result = 10**(-np.random.uniform(low, high))        \n",
    "\n",
    "def generate_base_hyperparameter_set():\n",
    "    hyperparameters = {}\n",
    "    hyperparameters['learning_rate'] = get_learning_rate()\n",
    "    return hyperparameters \n",
    "\n",
    "def generate_CNN_hyperparameter_set(min_layers = 1, max_layers = 10, \n",
    "                                 min_filters = 10, max_filters = 100, \n",
    "                                 min_fc_nodes = 10, max_fc_nodes = 100):\n",
    "    hyperparameters = generate_base_hyperparameter_set()    \n",
    "    number_of_layers = np.random.randint(min_layers, max_layers)\n",
    "    hyperparameters['filters'] = np.random.randint(min_filters, max_filters, number_of_layers)\n",
    "    hyperparameters['fc_hidden_nodes'] = np.random.randint(min_fc_nodes, max_fc_nodes)\n",
    "    return hyperparameters\n",
    "\n",
    "def generate_DeepConvLSTM_hyperparameter_set(min_conv_layers = 1, max_conv_layers = 10, \n",
    "                                 min_conv_filters = 10, max_conv_filters = 100, \n",
    "                                 min_lstm_layers = 1, max_lstm_layers = 5, \n",
    "                                 min_lstm_dims = 10, max_lstm_dims = 100):\n",
    "    hyperparameters = generate_base_hyperparameter_set()    \n",
    "    number_of_conv_layers = np.random.randint(min_conv_layers, max_conv_layers)\n",
    "    hyperparameters['filters'] = np.random.randint(min_conv_filters, max_conv_filters, number_of_conv_layers)\n",
    "    number_of_lstm_layers = np.random.randint(min_lstm_layers, max_lstm_layers)\n",
    "    hyperparameters['lstm_dims'] = np.random.randint(min_lstm_dims, max_lstm_dims, number_of_lstm_layers)    \n",
    "    return hyperparameters\n"
   ]
  },
  {
   "cell_type": "code",
   "execution_count": 99,
   "metadata": {
    "collapsed": false,
    "scrolled": true
   },
   "outputs": [
    {
     "name": "stdout",
     "output_type": "stream",
     "text": [
      "CNN\n",
      "____________________________________________________________________________________________________\n",
      "Layer (type)                       Output Shape        Param #     Connected to                     \n",
      "====================================================================================================\n",
      "convolution1d_317 (Convolution1D)  (None, 315, 33)     330         convolution1d_input_61[0][0]     \n",
      "____________________________________________________________________________________________________\n",
      "convolution1d_318 (Convolution1D)  (None, 315, 31)     3100        convolution1d_317[0][0]          \n",
      "____________________________________________________________________________________________________\n",
      "activation_428 (Activation)        (None, 315, 31)     0           convolution1d_318[0][0]          \n",
      "____________________________________________________________________________________________________\n",
      "convolution1d_319 (Convolution1D)  (None, 315, 62)     5828        activation_428[0][0]             \n",
      "____________________________________________________________________________________________________\n",
      "activation_429 (Activation)        (None, 315, 62)     0           convolution1d_319[0][0]          \n",
      "____________________________________________________________________________________________________\n",
      "convolution1d_320 (Convolution1D)  (None, 315, 94)     17578       activation_429[0][0]             \n",
      "____________________________________________________________________________________________________\n",
      "activation_430 (Activation)        (None, 315, 94)     0           convolution1d_320[0][0]          \n",
      "____________________________________________________________________________________________________\n",
      "convolution1d_321 (Convolution1D)  (None, 315, 87)     24621       activation_430[0][0]             \n",
      "____________________________________________________________________________________________________\n",
      "activation_431 (Activation)        (None, 315, 87)     0           convolution1d_321[0][0]          \n",
      "____________________________________________________________________________________________________\n",
      "convolution1d_322 (Convolution1D)  (None, 315, 33)     8646        activation_431[0][0]             \n",
      "____________________________________________________________________________________________________\n",
      "activation_432 (Activation)        (None, 315, 33)     0           convolution1d_322[0][0]          \n",
      "____________________________________________________________________________________________________\n",
      "flatten_61 (Flatten)               (None, 10395)       0           activation_432[0][0]             \n",
      "____________________________________________________________________________________________________\n",
      "dense_128 (Dense)                  (None, 34)          353464      flatten_61[0][0]                 \n",
      "____________________________________________________________________________________________________\n",
      "activation_433 (Activation)        (None, 34)          0           dense_128[0][0]                  \n",
      "____________________________________________________________________________________________________\n",
      "dense_129 (Dense)                  (None, 8)           280         activation_433[0][0]             \n",
      "____________________________________________________________________________________________________\n",
      "activation_434 (Activation)        (None, 8)           0           dense_129[0][0]                  \n",
      "====================================================================================================\n",
      "Total params: 413847\n",
      "____________________________________________________________________________________________________\n",
      "DeepConvLSTM\n",
      "____________________________________________________________________________________________________\n",
      "Layer (type)                       Output Shape        Param #     Connected to                     \n",
      "====================================================================================================\n",
      "reshape_17 (Reshape)               (None, 1, 315, 3)   0           reshape_input_10[0][0]           \n",
      "____________________________________________________________________________________________________\n",
      "convolution2d_45 (Convolution2D)   (None, 45, 315, 3)  180         reshape_17[0][0]                 \n",
      "____________________________________________________________________________________________________\n",
      "activation_435 (Activation)        (None, 45, 315, 3)  0           convolution2d_45[0][0]           \n",
      "____________________________________________________________________________________________________\n",
      "convolution2d_46 (Convolution2D)   (None, 46, 315, 3)  6256        activation_435[0][0]             \n",
      "____________________________________________________________________________________________________\n",
      "activation_436 (Activation)        (None, 46, 315, 3)  0           convolution2d_46[0][0]           \n",
      "____________________________________________________________________________________________________\n",
      "convolution2d_47 (Convolution2D)   (None, 23, 315, 3)  3197        activation_436[0][0]             \n",
      "____________________________________________________________________________________________________\n",
      "activation_437 (Activation)        (None, 23, 315, 3)  0           convolution2d_47[0][0]           \n",
      "____________________________________________________________________________________________________\n",
      "convolution2d_48 (Convolution2D)   (None, 88, 315, 3)  6160        activation_437[0][0]             \n",
      "____________________________________________________________________________________________________\n",
      "activation_438 (Activation)        (None, 88, 315, 3)  0           convolution2d_48[0][0]           \n",
      "____________________________________________________________________________________________________\n",
      "convolution2d_49 (Convolution2D)   (None, 31, 315, 3)  8215        activation_438[0][0]             \n",
      "____________________________________________________________________________________________________\n",
      "activation_439 (Activation)        (None, 31, 315, 3)  0           convolution2d_49[0][0]           \n",
      "____________________________________________________________________________________________________\n",
      "convolution2d_50 (Convolution2D)   (None, 22, 315, 3)  2068        activation_439[0][0]             \n",
      "____________________________________________________________________________________________________\n",
      "activation_440 (Activation)        (None, 22, 315, 3)  0           convolution2d_50[0][0]           \n",
      "____________________________________________________________________________________________________\n",
      "convolution2d_51 (Convolution2D)   (None, 45, 315, 3)  3015        activation_440[0][0]             \n",
      "____________________________________________________________________________________________________\n",
      "activation_441 (Activation)        (None, 45, 315, 3)  0           convolution2d_51[0][0]           \n",
      "____________________________________________________________________________________________________\n",
      "reshape_18 (Reshape)               (None, 315, 135)    0           activation_441[0][0]             \n",
      "____________________________________________________________________________________________________\n",
      "lstm_39 (LSTM)                     (None, 315, 96)     89088       reshape_18[0][0]                 \n",
      "____________________________________________________________________________________________________\n",
      "lstm_40 (LSTM)                     (None, 315, 85)     61880       lstm_39[0][0]                    \n",
      "____________________________________________________________________________________________________\n",
      "lstm_41 (LSTM)                     (None, 315, 41)     20828       lstm_40[0][0]                    \n",
      "____________________________________________________________________________________________________\n",
      "lstm_42 (LSTM)                     (None, 315, 58)     23200       lstm_41[0][0]                    \n",
      "____________________________________________________________________________________________________\n",
      "lstm_43 (LSTM)                     (None, 315, 69)     35328       lstm_42[0][0]                    \n",
      "____________________________________________________________________________________________________\n",
      "dropout_8 (Dropout)                (None, 315, 69)     0           lstm_43[0][0]                    \n",
      "____________________________________________________________________________________________________\n",
      "timedistributed_8 (TimeDistributed)(None, 315, 8)      560         dropout_8[0][0]                  \n",
      "____________________________________________________________________________________________________\n",
      "activation_442 (Activation)        (None, 315, 8)      0           timedistributed_8[0][0]          \n",
      "____________________________________________________________________________________________________\n",
      "lambda_8 (Lambda)                  (None, 8)           0           activation_442[0][0]             \n",
      "====================================================================================================\n",
      "Total params: 259975\n",
      "____________________________________________________________________________________________________\n",
      "DeepConvLSTM\n",
      "____________________________________________________________________________________________________\n",
      "Layer (type)                       Output Shape        Param #     Connected to                     \n",
      "====================================================================================================\n",
      "reshape_19 (Reshape)               (None, 1, 315, 3)   0           reshape_input_11[0][0]           \n",
      "____________________________________________________________________________________________________\n",
      "convolution2d_52 (Convolution2D)   (None, 83, 315, 3)  332         reshape_19[0][0]                 \n",
      "____________________________________________________________________________________________________\n",
      "activation_443 (Activation)        (None, 83, 315, 3)  0           convolution2d_52[0][0]           \n",
      "____________________________________________________________________________________________________\n",
      "convolution2d_53 (Convolution2D)   (None, 74, 315, 3)  18500       activation_443[0][0]             \n",
      "____________________________________________________________________________________________________\n",
      "activation_444 (Activation)        (None, 74, 315, 3)  0           convolution2d_53[0][0]           \n",
      "____________________________________________________________________________________________________\n",
      "convolution2d_54 (Convolution2D)   (None, 63, 315, 3)  14049       activation_444[0][0]             \n",
      "____________________________________________________________________________________________________\n",
      "activation_445 (Activation)        (None, 63, 315, 3)  0           convolution2d_54[0][0]           \n",
      "____________________________________________________________________________________________________\n",
      "convolution2d_55 (Convolution2D)   (None, 14, 315, 3)  2660        activation_445[0][0]             \n",
      "____________________________________________________________________________________________________\n",
      "activation_446 (Activation)        (None, 14, 315, 3)  0           convolution2d_55[0][0]           \n",
      "____________________________________________________________________________________________________\n",
      "reshape_20 (Reshape)               (None, 315, 42)     0           activation_446[0][0]             \n",
      "____________________________________________________________________________________________________\n",
      "lstm_44 (LSTM)                     (None, 315, 68)     30192       reshape_20[0][0]                 \n",
      "____________________________________________________________________________________________________\n",
      "lstm_45 (LSTM)                     (None, 315, 88)     55264       lstm_44[0][0]                    \n",
      "____________________________________________________________________________________________________\n",
      "lstm_46 (LSTM)                     (None, 315, 81)     55080       lstm_45[0][0]                    \n",
      "____________________________________________________________________________________________________\n",
      "lstm_47 (LSTM)                     (None, 315, 42)     20832       lstm_46[0][0]                    \n",
      "____________________________________________________________________________________________________\n",
      "lstm_48 (LSTM)                     (None, 315, 73)     33872       lstm_47[0][0]                    \n",
      "____________________________________________________________________________________________________\n",
      "lstm_49 (LSTM)                     (None, 315, 32)     13568       lstm_48[0][0]                    \n",
      "____________________________________________________________________________________________________\n",
      "lstm_50 (LSTM)                     (None, 315, 86)     40936       lstm_49[0][0]                    \n",
      "____________________________________________________________________________________________________\n",
      "lstm_51 (LSTM)                     (None, 315, 90)     63720       lstm_50[0][0]                    \n",
      "____________________________________________________________________________________________________\n",
      "dropout_9 (Dropout)                (None, 315, 90)     0           lstm_51[0][0]                    \n",
      "____________________________________________________________________________________________________\n",
      "timedistributed_9 (TimeDistributed)(None, 315, 8)      728         dropout_9[0][0]                  \n",
      "____________________________________________________________________________________________________\n",
      "activation_447 (Activation)        (None, 315, 8)      0           timedistributed_9[0][0]          \n",
      "____________________________________________________________________________________________________\n",
      "lambda_9 (Lambda)                  (None, 8)           0           activation_447[0][0]             \n",
      "====================================================================================================\n",
      "Total params: 349733\n",
      "____________________________________________________________________________________________________\n",
      "DeepConvLSTM\n",
      "____________________________________________________________________________________________________\n",
      "Layer (type)                       Output Shape        Param #     Connected to                     \n",
      "====================================================================================================\n",
      "reshape_21 (Reshape)               (None, 1, 315, 3)   0           reshape_input_12[0][0]           \n",
      "____________________________________________________________________________________________________\n",
      "convolution2d_56 (Convolution2D)   (None, 24, 315, 3)  96          reshape_21[0][0]                 \n",
      "____________________________________________________________________________________________________\n",
      "activation_448 (Activation)        (None, 24, 315, 3)  0           convolution2d_56[0][0]           \n",
      "____________________________________________________________________________________________________\n",
      "reshape_22 (Reshape)               (None, 315, 72)     0           activation_448[0][0]             \n",
      "____________________________________________________________________________________________________\n",
      "lstm_52 (LSTM)                     (None, 315, 25)     9800        reshape_22[0][0]                 \n",
      "____________________________________________________________________________________________________\n",
      "lstm_53 (LSTM)                     (None, 315, 54)     17280       lstm_52[0][0]                    \n",
      "____________________________________________________________________________________________________\n",
      "lstm_54 (LSTM)                     (None, 315, 56)     24864       lstm_53[0][0]                    \n",
      "____________________________________________________________________________________________________\n",
      "dropout_10 (Dropout)               (None, 315, 56)     0           lstm_54[0][0]                    \n",
      "____________________________________________________________________________________________________\n",
      "timedistributed_10 (TimeDistributed(None, 315, 8)      456         dropout_10[0][0]                 \n",
      "____________________________________________________________________________________________________\n",
      "activation_449 (Activation)        (None, 315, 8)      0           timedistributed_10[0][0]         \n",
      "____________________________________________________________________________________________________\n",
      "lambda_10 (Lambda)                 (None, 8)           0           activation_449[0][0]             \n",
      "====================================================================================================\n",
      "Total params: 52496\n",
      "____________________________________________________________________________________________________\n",
      "CNN\n",
      "____________________________________________________________________________________________________\n",
      "Layer (type)                       Output Shape        Param #     Connected to                     \n",
      "====================================================================================================\n",
      "convolution1d_323 (Convolution1D)  (None, 315, 20)     200         convolution1d_input_62[0][0]     \n",
      "____________________________________________________________________________________________________\n",
      "convolution1d_324 (Convolution1D)  (None, 315, 81)     4941        convolution1d_323[0][0]          \n",
      "____________________________________________________________________________________________________\n",
      "activation_450 (Activation)        (None, 315, 81)     0           convolution1d_324[0][0]          \n",
      "____________________________________________________________________________________________________\n",
      "convolution1d_325 (Convolution1D)  (None, 315, 26)     6344        activation_450[0][0]             \n",
      "____________________________________________________________________________________________________\n",
      "activation_451 (Activation)        (None, 315, 26)     0           convolution1d_325[0][0]          \n",
      "____________________________________________________________________________________________________\n",
      "convolution1d_326 (Convolution1D)  (None, 315, 38)     3002        activation_451[0][0]             \n",
      "____________________________________________________________________________________________________\n",
      "activation_452 (Activation)        (None, 315, 38)     0           convolution1d_326[0][0]          \n",
      "____________________________________________________________________________________________________\n",
      "convolution1d_327 (Convolution1D)  (None, 315, 54)     6210        activation_452[0][0]             \n",
      "____________________________________________________________________________________________________\n",
      "activation_453 (Activation)        (None, 315, 54)     0           convolution1d_327[0][0]          \n",
      "____________________________________________________________________________________________________\n",
      "convolution1d_328 (Convolution1D)  (None, 315, 68)     11084       activation_453[0][0]             \n",
      "____________________________________________________________________________________________________\n",
      "activation_454 (Activation)        (None, 315, 68)     0           convolution1d_328[0][0]          \n",
      "____________________________________________________________________________________________________\n",
      "convolution1d_329 (Convolution1D)  (None, 315, 99)     20295       activation_454[0][0]             \n",
      "____________________________________________________________________________________________________\n",
      "activation_455 (Activation)        (None, 315, 99)     0           convolution1d_329[0][0]          \n",
      "____________________________________________________________________________________________________\n",
      "convolution1d_330 (Convolution1D)  (None, 315, 96)     28608       activation_455[0][0]             \n",
      "____________________________________________________________________________________________________\n",
      "activation_456 (Activation)        (None, 315, 96)     0           convolution1d_330[0][0]          \n",
      "____________________________________________________________________________________________________\n",
      "convolution1d_331 (Convolution1D)  (None, 315, 13)     3757        activation_456[0][0]             \n",
      "____________________________________________________________________________________________________\n",
      "activation_457 (Activation)        (None, 315, 13)     0           convolution1d_331[0][0]          \n",
      "____________________________________________________________________________________________________\n",
      "flatten_62 (Flatten)               (None, 4095)        0           activation_457[0][0]             \n",
      "____________________________________________________________________________________________________\n",
      "dense_133 (Dense)                  (None, 89)          364544      flatten_62[0][0]                 \n",
      "____________________________________________________________________________________________________\n",
      "activation_458 (Activation)        (None, 89)          0           dense_133[0][0]                  \n",
      "____________________________________________________________________________________________________\n",
      "dense_134 (Dense)                  (None, 8)           720         activation_458[0][0]             \n",
      "____________________________________________________________________________________________________\n",
      "activation_459 (Activation)        (None, 8)           0           dense_134[0][0]                  \n",
      "====================================================================================================\n",
      "Total params: 449705\n",
      "____________________________________________________________________________________________________\n"
     ]
    }
   ],
   "source": [
    "for model, hyperparameters, model_type in generate_models(X_train.shape, len(set(y_train))):\n",
    "    print(model_type)\n",
    "    model.summary()\n",
    "    "
   ]
  },
  {
   "cell_type": "code",
   "execution_count": 100,
   "metadata": {
    "collapsed": true
   },
   "outputs": [],
   "source": [
    "model = Sequential()"
   ]
  },
  {
   "cell_type": "code",
   "execution_count": 101,
   "metadata": {
    "collapsed": false
   },
   "outputs": [
    {
     "ename": "NameError",
     "evalue": "name 'dim_length' is not defined",
     "output_type": "error",
     "traceback": [
      "\u001b[1;31m---------------------------------------------------------------------------\u001b[0m",
      "\u001b[1;31mNameError\u001b[0m                                 Traceback (most recent call last)",
      "\u001b[1;32m<ipython-input-101-1f303cd9816e>\u001b[0m in \u001b[0;36m<module>\u001b[1;34m()\u001b[0m\n\u001b[1;32m----> 1\u001b[1;33m \u001b[0mmodel\u001b[0m\u001b[1;33m.\u001b[0m\u001b[0madd\u001b[0m\u001b[1;33m(\u001b[0m\u001b[0mConvolution1D\u001b[0m\u001b[1;33m(\u001b[0m\u001b[1;36m32\u001b[0m\u001b[1;33m,\u001b[0m \u001b[1;36m3\u001b[0m\u001b[1;33m,\u001b[0m \u001b[0mborder_mode\u001b[0m\u001b[1;33m=\u001b[0m\u001b[1;34m'same'\u001b[0m\u001b[1;33m,\u001b[0m \u001b[0minput_shape\u001b[0m\u001b[1;33m=\u001b[0m\u001b[1;33m(\u001b[0m\u001b[0mdim_length\u001b[0m\u001b[1;33m,\u001b[0m \u001b[0mdim_channels\u001b[0m\u001b[1;33m)\u001b[0m\u001b[1;33m)\u001b[0m\u001b[1;33m)\u001b[0m\u001b[1;33m\u001b[0m\u001b[0m\n\u001b[0m\u001b[0;32m      2\u001b[0m \u001b[0mmodel\u001b[0m\u001b[1;33m.\u001b[0m\u001b[0madd\u001b[0m\u001b[1;33m(\u001b[0m\u001b[0mActivation\u001b[0m\u001b[1;33m(\u001b[0m\u001b[1;34m'relu'\u001b[0m\u001b[1;33m)\u001b[0m\u001b[1;33m)\u001b[0m\u001b[1;33m\u001b[0m\u001b[0m\n\u001b[0;32m      3\u001b[0m \u001b[0mmodel\u001b[0m\u001b[1;33m.\u001b[0m\u001b[0madd\u001b[0m\u001b[1;33m(\u001b[0m\u001b[0mMaxPooling1D\u001b[0m\u001b[1;33m(\u001b[0m\u001b[0mpool_length\u001b[0m\u001b[1;33m=\u001b[0m\u001b[1;36m2\u001b[0m\u001b[1;33m)\u001b[0m\u001b[1;33m)\u001b[0m\u001b[1;33m\u001b[0m\u001b[0m\n\u001b[0;32m      4\u001b[0m \u001b[0mmodel\u001b[0m\u001b[1;33m.\u001b[0m\u001b[0madd\u001b[0m\u001b[1;33m(\u001b[0m\u001b[0mConvolution1D\u001b[0m\u001b[1;33m(\u001b[0m\u001b[1;36m16\u001b[0m\u001b[1;33m,\u001b[0m \u001b[1;36m3\u001b[0m\u001b[1;33m,\u001b[0m \u001b[0mborder_mode\u001b[0m\u001b[1;33m=\u001b[0m\u001b[1;34m'same'\u001b[0m\u001b[1;33m)\u001b[0m\u001b[1;33m)\u001b[0m\u001b[1;33m\u001b[0m\u001b[0m\n\u001b[0;32m      5\u001b[0m \u001b[0mmodel\u001b[0m\u001b[1;33m.\u001b[0m\u001b[0madd\u001b[0m\u001b[1;33m(\u001b[0m\u001b[0mFlatten\u001b[0m\u001b[1;33m(\u001b[0m\u001b[1;33m)\u001b[0m\u001b[1;33m)\u001b[0m\u001b[1;33m\u001b[0m\u001b[0m\n",
      "\u001b[1;31mNameError\u001b[0m: name 'dim_length' is not defined"
     ]
    }
   ],
   "source": [
    "model.add(Convolution1D(32, 3, border_mode='same', input_shape=(dim_length, dim_channels)))\n",
    "model.add(Activation('relu'))\n",
    "model.add(MaxPooling1D(pool_length=2))\n",
    "model.add(Convolution1D(16, 3, border_mode='same'))\n",
    "model.add(Flatten())\n",
    "model.add(Dense(output_dim=30)) # Fully connected layer\n",
    "model.add(Activation('relu')) # Relu activation\n",
    "model.add(Dense(output_dim=outputdim))\n",
    "model.add(Activation(\"softmax\")) # Final classification layer"
   ]
  },
  {
   "cell_type": "code",
   "execution_count": null,
   "metadata": {
    "collapsed": false
   },
   "outputs": [],
   "source": [
    "model.summary()"
   ]
  },
  {
   "cell_type": "markdown",
   "metadata": {},
   "source": [
    "Now we configure the learning process:"
   ]
  },
  {
   "cell_type": "code",
   "execution_count": null,
   "metadata": {
    "collapsed": false
   },
   "outputs": [],
   "source": [
    "from keras.optimizers import SGD\n",
    "model.compile(loss='categorical_crossentropy', optimizer=SGD(lr=0.01, momentum=0.9, nesterov=True), metrics=['accuracy'])"
   ]
  },
  {
   "cell_type": "markdown",
   "metadata": {},
   "source": [
    "## Fit the model on the data"
   ]
  },
  {
   "cell_type": "code",
   "execution_count": null,
   "metadata": {
    "collapsed": false
   },
   "outputs": [],
   "source": [
    "model.fit(X_train, y_train_binary, nb_epoch=10)"
   ]
  },
  {
   "cell_type": "markdown",
   "metadata": {},
   "source": [
    "## Validate the model on validation set"
   ]
  },
  {
   "cell_type": "code",
   "execution_count": null,
   "metadata": {
    "collapsed": false
   },
   "outputs": [],
   "source": [
    "loss_and_metrics = model.evaluate(X_val, y_val_binary, batch_size=32)\n",
    "loss_and_metrics"
   ]
  },
  {
   "cell_type": "code",
   "execution_count": null,
   "metadata": {
    "collapsed": false
   },
   "outputs": [],
   "source": [
    "classes = model.predict_classes(X_val, batch_size=32)\n",
    "proba = model.predict_proba(X_val, batch_size=32)"
   ]
  },
  {
   "cell_type": "code",
   "execution_count": null,
   "metadata": {
    "collapsed": false
   },
   "outputs": [],
   "source": [
    "print(np.hstack((proba, np.vstack((classes, y_val)).transpose())))"
   ]
  },
  {
   "cell_type": "markdown",
   "metadata": {},
   "source": [
    "Let's compute some more metrics, such as the confusion matrix and the ROC curve"
   ]
  },
  {
   "cell_type": "code",
   "execution_count": null,
   "metadata": {
    "collapsed": false
   },
   "outputs": [],
   "source": [
    "from sklearn import metrics\n",
    "metrics.confusion_matrix(classes, y_val)"
   ]
  },
  {
   "cell_type": "markdown",
   "metadata": {
    "collapsed": true
   },
   "source": [
    "## Test on testset"
   ]
  },
  {
   "cell_type": "code",
   "execution_count": null,
   "metadata": {
    "collapsed": false
   },
   "outputs": [],
   "source": [
    "loss_and_metrics = model.evaluate(X_test, y_test_binary, batch_size=32)\n",
    "loss_and_metrics"
   ]
  },
  {
   "cell_type": "code",
   "execution_count": null,
   "metadata": {
    "collapsed": false
   },
   "outputs": [],
   "source": [
    "#Best score by Dynamic time warping:\n",
    "1 - 0.034 "
   ]
  },
  {
   "cell_type": "code",
   "execution_count": null,
   "metadata": {
    "collapsed": true
   },
   "outputs": [],
   "source": []
  }
 ],
 "metadata": {
  "kernelspec": {
   "display_name": "Python 3",
   "language": "python",
   "name": "python3"
  },
  "language_info": {
   "codemirror_mode": {
    "name": "ipython",
    "version": 3
   },
   "file_extension": ".py",
   "mimetype": "text/x-python",
   "name": "python",
   "nbconvert_exporter": "python",
   "pygments_lexer": "ipython3",
   "version": "3.4.3"
  }
 },
 "nbformat": 4,
 "nbformat_minor": 0
}
