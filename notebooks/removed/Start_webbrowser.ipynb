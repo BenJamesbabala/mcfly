{
 "cells": [
  {
   "cell_type": "code",
   "execution_count": 2,
   "metadata": {
    "collapsed": true
   },
   "outputs": [],
   "source": [
    "import http.server\n",
    "import socketserver\n",
    "import threading\n",
    "import webbrowser"
   ]
  },
  {
   "cell_type": "code",
   "execution_count": 5,
   "metadata": {
    "collapsed": true
   },
   "outputs": [],
   "source": [
    "import os\n",
    "\n",
    "def showVisualization(port=8000):\n",
    "    class ServerThread(threading.Thread):\n",
    "\n",
    "        def __init__(self, port, path='../html'):\n",
    "            threading.Thread.__init__(self)\n",
    "            self.port = port\n",
    "            self.path = path\n",
    "\n",
    "        def run(self):\n",
    "            curdir = os.getcwd()\n",
    "            os.chdir('../html/')\n",
    "            print(os.getcwd())\n",
    "            Handler = http.server.SimpleHTTPRequestHandler\n",
    "            httpd = socketserver.TCPServer((\"\", self.port), Handler)\n",
    "            print(\"serving at port\", self.port)\n",
    "            httpd.serve_forever()\n",
    "    \n",
    "    \n",
    "    \n",
    "    curdir = os.getcwd()\n",
    "    ServerThread(port).start()\n",
    "\n",
    "    url = 'http://localhost:{}/plots.html'.format(port)\n",
    "    print('opening '+ url)\n",
    "    webbrowser.open(url, new=2)\n",
    "    #os.chdir(curdir)\n",
    "    print('finally cwd: ', os.getcwd())"
   ]
  },
  {
   "cell_type": "code",
   "execution_count": 6,
   "metadata": {
    "collapsed": false
   },
   "outputs": [
    {
     "name": "stdout",
     "output_type": "stream",
     "text": [
      "opening http://localhost:8000/plots.html\n",
      "/home/dafne/timeseries/mcfly/html\n",
      "finally cwd:  /home/dafne/timeseries/mcfly/html\n"
     ]
    },
    {
     "name": "stderr",
     "output_type": "stream",
     "text": [
      "Exception in thread Thread-5:\n",
      "Traceback (most recent call last):\n",
      "  File \"/home/dafne/anaconda2/envs/mcfly/lib/python3.5/threading.py\", line 914, in _bootstrap_inner\n",
      "    self.run()\n",
      "  File \"<ipython-input-5-d9d434c043d4>\", line 16, in run\n",
      "    httpd = socketserver.TCPServer((\"\", self.port), Handler)\n",
      "  File \"/home/dafne/anaconda2/envs/mcfly/lib/python3.5/socketserver.py\", line 440, in __init__\n",
      "    self.server_bind()\n",
      "  File \"/home/dafne/anaconda2/envs/mcfly/lib/python3.5/socketserver.py\", line 454, in server_bind\n",
      "    self.socket.bind(self.server_address)\n",
      "OSError: [Errno 98] Address already in use\n",
      "\n",
      "127.0.0.1 - - [30/Aug/2016 14:29:12] \"GET /plots.html HTTP/1.1\" 200 -\n",
      "127.0.0.1 - - [30/Aug/2016 14:29:12] \"GET /css/bootstrap.min.css HTTP/1.1\" 200 -\n",
      "127.0.0.1 - - [30/Aug/2016 14:29:12] \"GET /css/dc.css HTTP/1.1\" 200 -\n",
      "127.0.0.1 - - [30/Aug/2016 14:29:12] \"GET /header.js HTTP/1.1\" 200 -\n",
      "127.0.0.1 - - [30/Aug/2016 14:29:12] \"GET /js/d3.js HTTP/1.1\" 200 -\n",
      "127.0.0.1 - - [30/Aug/2016 14:29:12] \"GET /js/crossfilter.js HTTP/1.1\" 200 -\n",
      "127.0.0.1 - - [30/Aug/2016 14:29:12] \"GET /js/dc.js HTTP/1.1\" 200 -\n",
      "127.0.0.1 - - [30/Aug/2016 14:29:12] \"GET /js/reductio.js HTTP/1.1\" 200 -\n",
      "127.0.0.1 - - [30/Aug/2016 14:29:12] \"GET /flattenJson.js HTTP/1.1\" 200 -\n",
      "127.0.0.1 - - [30/Aug/2016 14:29:12] \"GET /plots.js HTTP/1.1\" 200 -\n",
      "127.0.0.1 - - [30/Aug/2016 14:29:12] \"GET /data.json HTTP/1.1\" 200 -\n"
     ]
    }
   ],
   "source": [
    "showVisualization(port=8001)"
   ]
  },
  {
   "cell_type": "code",
   "execution_count": null,
   "metadata": {
    "collapsed": true
   },
   "outputs": [],
   "source": []
  }
 ],
 "metadata": {
  "kernelspec": {
   "display_name": "Python 3",
   "language": "python",
   "name": "python3"
  },
  "language_info": {
   "codemirror_mode": {
    "name": "ipython",
    "version": 3
   },
   "file_extension": ".py",
   "mimetype": "text/x-python",
   "name": "python",
   "nbconvert_exporter": "python",
   "pygments_lexer": "ipython3",
   "version": "3.5.2"
  }
 },
 "nbformat": 4,
 "nbformat_minor": 0
}
