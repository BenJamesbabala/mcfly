{
 "cells": [
  {
   "cell_type": "code",
   "execution_count": 1,
   "metadata": {
    "collapsed": false
   },
   "outputs": [
    {
     "name": "stdout",
     "output_type": "stream",
     "text": [
      "Populating the interactive namespace from numpy and matplotlib\n"
     ]
    }
   ],
   "source": [
    "import numpy as np\n",
    "%pylab inline"
   ]
  },
  {
   "cell_type": "markdown",
   "metadata": {},
   "source": [
    "## Load simple dataset"
   ]
  },
  {
   "cell_type": "markdown",
   "metadata": {},
   "source": [
    "We load the data from the UCR TS archive, you can get the data at http://www.cs.ucr.edu/~eamonn/time_series_data/"
   ]
  },
  {
   "cell_type": "code",
   "execution_count": 2,
   "metadata": {
    "collapsed": true
   },
   "outputs": [],
   "source": [
    "datapath = '/media/christiaan/extra/timeseries/UCR_TS_Archive_2015'"
   ]
  },
  {
   "cell_type": "code",
   "execution_count": 3,
   "metadata": {
    "collapsed": false
   },
   "outputs": [
    {
     "name": "stdout",
     "output_type": "stream",
     "text": [
      "(896, 316) (3582, 316)\n",
      "(896, 316) (3582, 316)\n",
      "(896, 316) (3582, 316)\n"
     ]
    }
   ],
   "source": [
    "datasets_train = {}\n",
    "datasets_test = {}\n",
    "for i in [\"X\", \"Y\", \"Z\"]:\n",
    "    path_to_data_train = datapath + '/uWaveGestureLibrary_'+i+'/uWaveGestureLibrary_'+i+'_TRAIN'\n",
    "    path_to_data_test = datapath + '/uWaveGestureLibrary_'+i+'/uWaveGestureLibrary_'+i+'_TEST'\n",
    "    datasets_train[i] = np.genfromtxt(path_to_data_train, delimiter=',')\n",
    "    datasets_test[i] = np.genfromtxt(path_to_data_test, delimiter=',')\n",
    "    print(datasets_train[i].shape, datasets_test[i].shape)"
   ]
  },
  {
   "cell_type": "code",
   "execution_count": 4,
   "metadata": {
    "collapsed": false
   },
   "outputs": [
    {
     "name": "stdout",
     "output_type": "stream",
     "text": [
      "0.0\n",
      "(896,)\n",
      "(3582,)\n"
     ]
    }
   ],
   "source": [
    "y_train = np.vstack((datasets_train['X'][:,0], datasets_train['Y'][:,0], datasets_train['Z'][:,0])).transpose()\n",
    "#Check labels are the same across channels\n",
    "print(y_train.std(axis=1).sum())\n",
    "y_train = np.array(y_train[:,0], dtype='int')\n",
    "print(y_train.shape)\n",
    "\n",
    "y_test = np.array(datasets_test['X'][:,0], dtype='int')\n",
    "print(y_test.shape)"
   ]
  },
  {
   "cell_type": "code",
   "execution_count": 5,
   "metadata": {
    "collapsed": false
   },
   "outputs": [
    {
     "name": "stdout",
     "output_type": "stream",
     "text": [
      "(896, 315, 3)\n",
      "(3582, 315, 3)\n"
     ]
    }
   ],
   "source": [
    "X_train  = np.stack((datasets_train['X'][:,1:], datasets_train['Y'][:,1:], datasets_train['Z'][:,1:]), axis=-1)\n",
    "print(X_train.shape)\n",
    "X_test  = np.stack((datasets_test['X'][:,1:], datasets_test['Y'][:,1:], datasets_test['Z'][:,1:]), axis=-1)\n",
    "print(X_test.shape)"
   ]
  },
  {
   "cell_type": "code",
   "execution_count": 6,
   "metadata": {
    "collapsed": false
   },
   "outputs": [
    {
     "data": {
      "text/plain": [
       "array([[[-0.30424, -2.1194 , -1.529  ],\n",
       "        [-0.30424, -2.1194 , -1.529  ],\n",
       "        [-0.30424, -2.1194 , -1.529  ],\n",
       "        [-0.30424, -2.1194 , -1.529  ]],\n",
       "\n",
       "       [[ 1.6273 ,  0.66662,  1.7869 ],\n",
       "        [ 1.6273 ,  0.66662,  1.7869 ],\n",
       "        [ 1.6273 ,  0.66662,  1.7869 ],\n",
       "        [ 1.6273 ,  0.66662,  1.7869 ]],\n",
       "\n",
       "       [[ 0.66128, -0.18973,  0.52125],\n",
       "        [ 0.66128, -0.18973,  0.52125],\n",
       "        [ 0.66128, -0.18973,  0.52125],\n",
       "        [ 0.66128, -0.18973,  0.52125]]])"
      ]
     },
     "execution_count": 6,
     "metadata": {},
     "output_type": "execute_result"
    }
   ],
   "source": [
    "X_train[:3,:4,:]"
   ]
  },
  {
   "cell_type": "code",
   "execution_count": 7,
   "metadata": {
    "collapsed": false
   },
   "outputs": [],
   "source": [
    "#Change class labels ranging from 0 to n-1\n",
    "classlabels = list(set(y_train))\n",
    "mapclasses = {classlabels[i] : i for i in range(len(classlabels))}\n",
    "y_train = np.array([mapclasses[c] for c in y_train], dtype='int')\n",
    "y_test = np.array([mapclasses[c] for c in y_test], dtype='int')"
   ]
  },
  {
   "cell_type": "code",
   "execution_count": 8,
   "metadata": {
    "collapsed": false
   },
   "outputs": [
    {
     "name": "stdout",
     "output_type": "stream",
     "text": [
      "(269, 315, 3)\n"
     ]
    }
   ],
   "source": [
    "ntrain = X_train.shape[0]\n",
    "num_training = int(ntrain * 0.7)\n",
    "num_validation = ntrain - num_training\n",
    "num_test = X_test.shape[0]\n",
    "\n",
    "#First sort the data in random order\n",
    "np.random.seed(123)\n",
    "neworder = np.random.permutation(ntrain)\n",
    "X_train_random = X_train[neworder,:]\n",
    "y_train_random = y_train[neworder]\n",
    "\n",
    "# Our validation set will be num_validation points from the original\n",
    "# training set.\n",
    "mask = range(num_training, num_training + num_validation)\n",
    "X_val = X_train_random[mask]\n",
    "y_val = y_train_random[mask]\n",
    "mask = range(num_training)\n",
    "X_train = X_train_random[mask]\n",
    "y_train = y_train_random[mask]\n",
    "\n",
    "\n",
    "print(X_val.shape)"
   ]
  },
  {
   "cell_type": "code",
   "execution_count": 9,
   "metadata": {
    "collapsed": false
   },
   "outputs": [
    {
     "name": "stderr",
     "output_type": "stream",
     "text": [
      "Using Theano backend.\n"
     ]
    },
    {
     "name": "stdout",
     "output_type": "stream",
     "text": [
      "[[ 0.  0.  0.  0.  0.  1.  0.  0.]\n",
      " [ 0.  0.  1.  0.  0.  0.  0.  0.]\n",
      " [ 1.  0.  0.  0.  0.  0.  0.  0.]\n",
      " [ 0.  1.  0.  0.  0.  0.  0.  0.]\n",
      " [ 0.  0.  0.  1.  0.  0.  0.  0.]\n",
      " [ 0.  1.  0.  0.  0.  0.  0.  0.]\n",
      " [ 0.  1.  0.  0.  0.  0.  0.  0.]\n",
      " [ 0.  0.  0.  0.  0.  1.  0.  0.]\n",
      " [ 1.  0.  0.  0.  0.  0.  0.  0.]\n",
      " [ 0.  1.  0.  0.  0.  0.  0.  0.]]\n"
     ]
    }
   ],
   "source": [
    "# We need to convert the output\n",
    "from keras.utils.np_utils import to_categorical\n",
    "y_train_binary = to_categorical(y_train)\n",
    "y_val_binary = to_categorical(y_val)\n",
    "y_test_binary = to_categorical(y_test)\n",
    "print(y_train_binary[:10,:])"
   ]
  },
  {
   "cell_type": "markdown",
   "metadata": {},
   "source": [
    "## Build model architecture"
   ]
  },
  {
   "cell_type": "code",
   "execution_count": 10,
   "metadata": {
    "collapsed": false
   },
   "outputs": [],
   "source": [
    "from keras.models import Sequential\n",
    "from keras.layers import Dense, Activation, Convolution1D, Flatten, MaxPooling1D\n",
    "from keras.optimizers import Adam"
   ]
  },
  {
   "cell_type": "code",
   "execution_count": 22,
   "metadata": {
    "collapsed": false
   },
   "outputs": [],
   "source": [
    "def generate_model(x_shape, class_number, filters, fc_hidden, lr = 0.01):\n",
    "    dim_length = x_shape[1]\n",
    "    dim_channels = x_shape[2]\n",
    "    outputdim = class_number\n",
    "    \n",
    "    model = Sequential()\n",
    "    # TODO: weight initialization (in layer constructor)\n",
    "    # TODO: regularation etc\n",
    "    model.add(Convolution1D(filters[0], 3, border_mode='same', input_shape=(dim_length, dim_channels)))\n",
    "    for filter_number in filters[1:]:\n",
    "        model.add(Convolution1D(filter_number, 3, border_mode='same'))\n",
    "        model.add(Activation('relu'))\n",
    "    model.add(Flatten())\n",
    "    model.add(Dense(output_dim=fc_hidden)) # Fully connected layer\n",
    "    model.add(Activation('relu')) # Relu activation\n",
    "    model.add(Dense(output_dim=outputdim))\n",
    "    model.add(Activation(\"softmax\")) # Final classification layer    \n",
    "    \n",
    "    model.compile(loss='categorical_crossentropy', \n",
    "                  optimizer=Adam(lr=lr), \n",
    "                  metrics=['accuracy'])\n",
    "    \n",
    "    return model\n"
   ]
  },
  {
   "cell_type": "code",
   "execution_count": 31,
   "metadata": {
    "collapsed": false
   },
   "outputs": [],
   "source": [
    "def generate_models(x_shape, number_of_classes, number_of_models = 5):\n",
    "    models = []    \n",
    "    for _ in range(0, number_of_models):\n",
    "        hyperparameters = generate_hyperparameter_set()\n",
    "        filters = hyperparameters['filters']\n",
    "        fc_hidden = hyperparameters['fc_hidden_nodes']\n",
    "        lr = hyperparameters['learning_rate']\n",
    "        models.append((generate_model(x_shape, number_of_classes, filters, fc_hidden, lr), hyperparameters))        \n",
    "    return models"
   ]
  },
  {
   "cell_type": "code",
   "execution_count": 32,
   "metadata": {
    "collapsed": true
   },
   "outputs": [],
   "source": [
    "def generate_hyperparameter_set(min_layers = 1, max_layers = 10, \n",
    "                                 min_filters = 10, max_filters = 100, \n",
    "                                 min_fc_nodes = 10, max_fc_nodes = 100):   \n",
    "    number_of_layers = np.random.randint(min_layers, max_layers)\n",
    "    number_of_filters = np.random.randint(min_filters, max_filters, number_of_layers)\n",
    "    number_of_fc_nodes = np.random.randint(min_fc_nodes, max_fc_nodes)\n",
    "    low = 1\n",
    "    high = 4    \n",
    "    lr = 10**(-np.random.uniform(low, high))        \n",
    "    return {'filters':number_of_filters, 'fc_hidden_nodes':number_of_fc_nodes, 'learning_rate':lr}    "
   ]
  },
  {
   "cell_type": "code",
   "execution_count": 34,
   "metadata": {
    "collapsed": false,
    "scrolled": true
   },
   "outputs": [
    {
     "name": "stdout",
     "output_type": "stream",
     "text": [
      "____________________________________________________________________________________________________\n",
      "Layer (type)                       Output Shape        Param #     Connected to                     \n",
      "====================================================================================================\n",
      "convolution1d_162 (Convolution1D)  (None, 315, 14)     140         convolution1d_input_32[0][0]     \n",
      "____________________________________________________________________________________________________\n",
      "convolution1d_163 (Convolution1D)  (None, 315, 83)     3569        convolution1d_162[0][0]          \n",
      "____________________________________________________________________________________________________\n",
      "activation_193 (Activation)        (None, 315, 83)     0           convolution1d_163[0][0]          \n",
      "____________________________________________________________________________________________________\n",
      "convolution1d_164 (Convolution1D)  (None, 315, 87)     21750       activation_193[0][0]             \n",
      "____________________________________________________________________________________________________\n",
      "activation_194 (Activation)        (None, 315, 87)     0           convolution1d_164[0][0]          \n",
      "____________________________________________________________________________________________________\n",
      "convolution1d_165 (Convolution1D)  (None, 315, 28)     7336        activation_194[0][0]             \n",
      "____________________________________________________________________________________________________\n",
      "activation_195 (Activation)        (None, 315, 28)     0           convolution1d_165[0][0]          \n",
      "____________________________________________________________________________________________________\n",
      "convolution1d_166 (Convolution1D)  (None, 315, 29)     2465        activation_195[0][0]             \n",
      "____________________________________________________________________________________________________\n",
      "activation_196 (Activation)        (None, 315, 29)     0           convolution1d_166[0][0]          \n",
      "____________________________________________________________________________________________________\n",
      "convolution1d_167 (Convolution1D)  (None, 315, 48)     4224        activation_196[0][0]             \n",
      "____________________________________________________________________________________________________\n",
      "activation_197 (Activation)        (None, 315, 48)     0           convolution1d_167[0][0]          \n",
      "____________________________________________________________________________________________________\n",
      "flatten_32 (Flatten)               (None, 15120)       0           activation_197[0][0]             \n",
      "____________________________________________________________________________________________________\n",
      "dense_63 (Dense)                   (None, 77)          1164317     flatten_32[0][0]                 \n",
      "____________________________________________________________________________________________________\n",
      "activation_198 (Activation)        (None, 77)          0           dense_63[0][0]                   \n",
      "____________________________________________________________________________________________________\n",
      "dense_64 (Dense)                   (None, 8)           624         activation_198[0][0]             \n",
      "____________________________________________________________________________________________________\n",
      "activation_199 (Activation)        (None, 8)           0           dense_64[0][0]                   \n",
      "====================================================================================================\n",
      "Total params: 1204425\n",
      "____________________________________________________________________________________________________\n",
      "____________________________________________________________________________________________________\n",
      "Layer (type)                       Output Shape        Param #     Connected to                     \n",
      "====================================================================================================\n",
      "convolution1d_168 (Convolution1D)  (None, 315, 54)     540         convolution1d_input_33[0][0]     \n",
      "____________________________________________________________________________________________________\n",
      "convolution1d_169 (Convolution1D)  (None, 315, 77)     12551       convolution1d_168[0][0]          \n",
      "____________________________________________________________________________________________________\n",
      "activation_200 (Activation)        (None, 315, 77)     0           convolution1d_169[0][0]          \n",
      "____________________________________________________________________________________________________\n",
      "convolution1d_170 (Convolution1D)  (None, 315, 83)     19256       activation_200[0][0]             \n",
      "____________________________________________________________________________________________________\n",
      "activation_201 (Activation)        (None, 315, 83)     0           convolution1d_170[0][0]          \n",
      "____________________________________________________________________________________________________\n",
      "convolution1d_171 (Convolution1D)  (None, 315, 94)     23500       activation_201[0][0]             \n",
      "____________________________________________________________________________________________________\n",
      "activation_202 (Activation)        (None, 315, 94)     0           convolution1d_171[0][0]          \n",
      "____________________________________________________________________________________________________\n",
      "convolution1d_172 (Convolution1D)  (None, 315, 95)     26885       activation_202[0][0]             \n",
      "____________________________________________________________________________________________________\n",
      "activation_203 (Activation)        (None, 315, 95)     0           convolution1d_172[0][0]          \n",
      "____________________________________________________________________________________________________\n",
      "convolution1d_173 (Convolution1D)  (None, 315, 25)     7150        activation_203[0][0]             \n",
      "____________________________________________________________________________________________________\n",
      "activation_204 (Activation)        (None, 315, 25)     0           convolution1d_173[0][0]          \n",
      "____________________________________________________________________________________________________\n",
      "convolution1d_174 (Convolution1D)  (None, 315, 31)     2356        activation_204[0][0]             \n",
      "____________________________________________________________________________________________________\n",
      "activation_205 (Activation)        (None, 315, 31)     0           convolution1d_174[0][0]          \n",
      "____________________________________________________________________________________________________\n",
      "flatten_33 (Flatten)               (None, 9765)        0           activation_205[0][0]             \n",
      "____________________________________________________________________________________________________\n",
      "dense_65 (Dense)                   (None, 57)          556662      flatten_33[0][0]                 \n",
      "____________________________________________________________________________________________________\n",
      "activation_206 (Activation)        (None, 57)          0           dense_65[0][0]                   \n",
      "____________________________________________________________________________________________________\n",
      "dense_66 (Dense)                   (None, 8)           464         activation_206[0][0]             \n",
      "____________________________________________________________________________________________________\n",
      "activation_207 (Activation)        (None, 8)           0           dense_66[0][0]                   \n",
      "====================================================================================================\n",
      "Total params: 649364\n",
      "____________________________________________________________________________________________________\n",
      "____________________________________________________________________________________________________\n",
      "Layer (type)                       Output Shape        Param #     Connected to                     \n",
      "====================================================================================================\n",
      "convolution1d_175 (Convolution1D)  (None, 315, 18)     180         convolution1d_input_34[0][0]     \n",
      "____________________________________________________________________________________________________\n",
      "convolution1d_176 (Convolution1D)  (None, 315, 45)     2475        convolution1d_175[0][0]          \n",
      "____________________________________________________________________________________________________\n",
      "activation_208 (Activation)        (None, 315, 45)     0           convolution1d_176[0][0]          \n",
      "____________________________________________________________________________________________________\n",
      "convolution1d_177 (Convolution1D)  (None, 315, 78)     10608       activation_208[0][0]             \n",
      "____________________________________________________________________________________________________\n",
      "activation_209 (Activation)        (None, 315, 78)     0           convolution1d_177[0][0]          \n",
      "____________________________________________________________________________________________________\n",
      "convolution1d_178 (Convolution1D)  (None, 315, 77)     18095       activation_209[0][0]             \n",
      "____________________________________________________________________________________________________\n",
      "activation_210 (Activation)        (None, 315, 77)     0           convolution1d_178[0][0]          \n",
      "____________________________________________________________________________________________________\n",
      "convolution1d_179 (Convolution1D)  (None, 315, 31)     7192        activation_210[0][0]             \n",
      "____________________________________________________________________________________________________\n",
      "activation_211 (Activation)        (None, 315, 31)     0           convolution1d_179[0][0]          \n",
      "____________________________________________________________________________________________________\n",
      "flatten_34 (Flatten)               (None, 9765)        0           activation_211[0][0]             \n",
      "____________________________________________________________________________________________________\n",
      "dense_67 (Dense)                   (None, 24)          234384      flatten_34[0][0]                 \n",
      "____________________________________________________________________________________________________\n",
      "activation_212 (Activation)        (None, 24)          0           dense_67[0][0]                   \n",
      "____________________________________________________________________________________________________\n",
      "dense_68 (Dense)                   (None, 8)           200         activation_212[0][0]             \n",
      "____________________________________________________________________________________________________\n",
      "activation_213 (Activation)        (None, 8)           0           dense_68[0][0]                   \n",
      "====================================================================================================\n",
      "Total params: 273134\n",
      "____________________________________________________________________________________________________\n",
      "____________________________________________________________________________________________________\n",
      "Layer (type)                       Output Shape        Param #     Connected to                     \n",
      "====================================================================================================\n",
      "convolution1d_180 (Convolution1D)  (None, 315, 49)     490         convolution1d_input_35[0][0]     \n",
      "____________________________________________________________________________________________________\n",
      "convolution1d_181 (Convolution1D)  (None, 315, 30)     4440        convolution1d_180[0][0]          \n",
      "____________________________________________________________________________________________________\n",
      "activation_214 (Activation)        (None, 315, 30)     0           convolution1d_181[0][0]          \n",
      "____________________________________________________________________________________________________\n",
      "convolution1d_182 (Convolution1D)  (None, 315, 44)     4004        activation_214[0][0]             \n",
      "____________________________________________________________________________________________________\n",
      "activation_215 (Activation)        (None, 315, 44)     0           convolution1d_182[0][0]          \n",
      "____________________________________________________________________________________________________\n",
      "convolution1d_183 (Convolution1D)  (None, 315, 30)     3990        activation_215[0][0]             \n",
      "____________________________________________________________________________________________________\n",
      "activation_216 (Activation)        (None, 315, 30)     0           convolution1d_183[0][0]          \n",
      "____________________________________________________________________________________________________\n",
      "convolution1d_184 (Convolution1D)  (None, 315, 37)     3367        activation_216[0][0]             \n",
      "____________________________________________________________________________________________________\n",
      "activation_217 (Activation)        (None, 315, 37)     0           convolution1d_184[0][0]          \n",
      "____________________________________________________________________________________________________\n",
      "convolution1d_185 (Convolution1D)  (None, 315, 41)     4592        activation_217[0][0]             \n",
      "____________________________________________________________________________________________________\n",
      "activation_218 (Activation)        (None, 315, 41)     0           convolution1d_185[0][0]          \n",
      "____________________________________________________________________________________________________\n",
      "convolution1d_186 (Convolution1D)  (None, 315, 45)     5580        activation_218[0][0]             \n",
      "____________________________________________________________________________________________________\n",
      "activation_219 (Activation)        (None, 315, 45)     0           convolution1d_186[0][0]          \n",
      "____________________________________________________________________________________________________\n",
      "flatten_35 (Flatten)               (None, 14175)       0           activation_219[0][0]             \n",
      "____________________________________________________________________________________________________\n",
      "dense_69 (Dense)                   (None, 26)          368576      flatten_35[0][0]                 \n",
      "____________________________________________________________________________________________________\n",
      "activation_220 (Activation)        (None, 26)          0           dense_69[0][0]                   \n",
      "____________________________________________________________________________________________________\n",
      "dense_70 (Dense)                   (None, 8)           216         activation_220[0][0]             \n",
      "____________________________________________________________________________________________________\n",
      "activation_221 (Activation)        (None, 8)           0           dense_70[0][0]                   \n",
      "====================================================================================================\n",
      "Total params: 395255\n",
      "____________________________________________________________________________________________________\n",
      "____________________________________________________________________________________________________\n",
      "Layer (type)                       Output Shape        Param #     Connected to                     \n",
      "====================================================================================================\n",
      "convolution1d_187 (Convolution1D)  (None, 315, 74)     740         convolution1d_input_36[0][0]     \n",
      "____________________________________________________________________________________________________\n",
      "convolution1d_188 (Convolution1D)  (None, 315, 99)     22077       convolution1d_187[0][0]          \n",
      "____________________________________________________________________________________________________\n",
      "activation_222 (Activation)        (None, 315, 99)     0           convolution1d_188[0][0]          \n",
      "____________________________________________________________________________________________________\n",
      "convolution1d_189 (Convolution1D)  (None, 315, 54)     16092       activation_222[0][0]             \n",
      "____________________________________________________________________________________________________\n",
      "activation_223 (Activation)        (None, 315, 54)     0           convolution1d_189[0][0]          \n",
      "____________________________________________________________________________________________________\n",
      "convolution1d_190 (Convolution1D)  (None, 315, 32)     5216        activation_223[0][0]             \n",
      "____________________________________________________________________________________________________\n",
      "activation_224 (Activation)        (None, 315, 32)     0           convolution1d_190[0][0]          \n",
      "____________________________________________________________________________________________________\n",
      "convolution1d_191 (Convolution1D)  (None, 315, 75)     7275        activation_224[0][0]             \n",
      "____________________________________________________________________________________________________\n",
      "activation_225 (Activation)        (None, 315, 75)     0           convolution1d_191[0][0]          \n",
      "____________________________________________________________________________________________________\n",
      "convolution1d_192 (Convolution1D)  (None, 315, 66)     14916       activation_225[0][0]             \n",
      "____________________________________________________________________________________________________\n",
      "activation_226 (Activation)        (None, 315, 66)     0           convolution1d_192[0][0]          \n",
      "____________________________________________________________________________________________________\n",
      "convolution1d_193 (Convolution1D)  (None, 315, 92)     18308       activation_226[0][0]             \n",
      "____________________________________________________________________________________________________\n",
      "activation_227 (Activation)        (None, 315, 92)     0           convolution1d_193[0][0]          \n",
      "____________________________________________________________________________________________________\n",
      "convolution1d_194 (Convolution1D)  (None, 315, 92)     25484       activation_227[0][0]             \n",
      "____________________________________________________________________________________________________\n",
      "activation_228 (Activation)        (None, 315, 92)     0           convolution1d_194[0][0]          \n",
      "____________________________________________________________________________________________________\n",
      "flatten_36 (Flatten)               (None, 28980)       0           activation_228[0][0]             \n",
      "____________________________________________________________________________________________________\n",
      "dense_71 (Dense)                   (None, 81)          2347461     flatten_36[0][0]                 \n",
      "____________________________________________________________________________________________________\n",
      "activation_229 (Activation)        (None, 81)          0           dense_71[0][0]                   \n",
      "____________________________________________________________________________________________________\n",
      "dense_72 (Dense)                   (None, 8)           656         activation_229[0][0]             \n",
      "____________________________________________________________________________________________________\n",
      "activation_230 (Activation)        (None, 8)           0           dense_72[0][0]                   \n",
      "====================================================================================================\n",
      "Total params: 2458225\n",
      "____________________________________________________________________________________________________\n"
     ]
    }
   ],
   "source": [
    "for model, hyperparameters in generate_models(X_train.shape, len(set(y_train))):\n",
    "    model.summary()"
   ]
  },
  {
   "cell_type": "code",
   "execution_count": null,
   "metadata": {
    "collapsed": true
   },
   "outputs": [],
   "source": [
    "model = Sequential()"
   ]
  },
  {
   "cell_type": "code",
   "execution_count": null,
   "metadata": {
    "collapsed": false
   },
   "outputs": [],
   "source": [
    "model.add(Convolution1D(32, 3, border_mode='same', input_shape=(dim_length, dim_channels)))\n",
    "model.add(Activation('relu'))\n",
    "model.add(MaxPooling1D(pool_length=2))\n",
    "model.add(Convolution1D(16, 3, border_mode='same'))\n",
    "model.add(Flatten())\n",
    "model.add(Dense(output_dim=30)) # Fully connected layer\n",
    "model.add(Activation('relu')) # Relu activation\n",
    "model.add(Dense(output_dim=outputdim))\n",
    "model.add(Activation(\"softmax\")) # Final classification layer"
   ]
  },
  {
   "cell_type": "code",
   "execution_count": null,
   "metadata": {
    "collapsed": false
   },
   "outputs": [],
   "source": [
    "model.summary()"
   ]
  },
  {
   "cell_type": "markdown",
   "metadata": {},
   "source": [
    "Now we configure the learning process:"
   ]
  },
  {
   "cell_type": "code",
   "execution_count": null,
   "metadata": {
    "collapsed": false
   },
   "outputs": [],
   "source": [
    "from keras.optimizers import SGD\n",
    "model.compile(loss='categorical_crossentropy', optimizer=SGD(lr=0.01, momentum=0.9, nesterov=True), metrics=['accuracy'])"
   ]
  },
  {
   "cell_type": "markdown",
   "metadata": {},
   "source": [
    "## Fit the model on the data"
   ]
  },
  {
   "cell_type": "code",
   "execution_count": null,
   "metadata": {
    "collapsed": false
   },
   "outputs": [],
   "source": [
    "model.fit(X_train, y_train_binary, nb_epoch=10)"
   ]
  },
  {
   "cell_type": "markdown",
   "metadata": {},
   "source": [
    "## Validate the model on validation set"
   ]
  },
  {
   "cell_type": "code",
   "execution_count": null,
   "metadata": {
    "collapsed": false
   },
   "outputs": [],
   "source": [
    "loss_and_metrics = model.evaluate(X_val, y_val_binary, batch_size=32)\n",
    "loss_and_metrics"
   ]
  },
  {
   "cell_type": "code",
   "execution_count": null,
   "metadata": {
    "collapsed": false
   },
   "outputs": [],
   "source": [
    "classes = model.predict_classes(X_val, batch_size=32)\n",
    "proba = model.predict_proba(X_val, batch_size=32)"
   ]
  },
  {
   "cell_type": "code",
   "execution_count": null,
   "metadata": {
    "collapsed": false
   },
   "outputs": [],
   "source": [
    "print(np.hstack((proba, np.vstack((classes, y_val)).transpose())))"
   ]
  },
  {
   "cell_type": "markdown",
   "metadata": {},
   "source": [
    "Let's compute some more metrics, such as the confusion matrix and the ROC curve"
   ]
  },
  {
   "cell_type": "code",
   "execution_count": null,
   "metadata": {
    "collapsed": false
   },
   "outputs": [],
   "source": [
    "from sklearn import metrics\n",
    "metrics.confusion_matrix(classes, y_val)"
   ]
  },
  {
   "cell_type": "markdown",
   "metadata": {
    "collapsed": true
   },
   "source": [
    "## Test on testset"
   ]
  },
  {
   "cell_type": "code",
   "execution_count": null,
   "metadata": {
    "collapsed": false
   },
   "outputs": [],
   "source": [
    "loss_and_metrics = model.evaluate(X_test, y_test_binary, batch_size=32)\n",
    "loss_and_metrics"
   ]
  },
  {
   "cell_type": "code",
   "execution_count": null,
   "metadata": {
    "collapsed": false
   },
   "outputs": [],
   "source": [
    "#Best score by Dynamic time warping:\n",
    "1 - 0.034 "
   ]
  },
  {
   "cell_type": "code",
   "execution_count": null,
   "metadata": {
    "collapsed": true
   },
   "outputs": [],
   "source": []
  }
 ],
 "metadata": {
  "kernelspec": {
   "display_name": "Python 3",
   "language": "python",
   "name": "python3"
  },
  "language_info": {
   "codemirror_mode": {
    "name": "ipython",
    "version": 3
   },
   "file_extension": ".py",
   "mimetype": "text/x-python",
   "name": "python",
   "nbconvert_exporter": "python",
   "pygments_lexer": "ipython3",
   "version": "3.5.1"
  }
 },
 "nbformat": 4,
 "nbformat_minor": 0
}
