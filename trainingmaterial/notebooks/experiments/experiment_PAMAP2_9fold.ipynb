{
 "cells": [
  {
   "cell_type": "markdown",
   "metadata": {},
   "source": [
    "# Experiment PAMAP2 with mcfly"
   ]
  },
  {
   "cell_type": "markdown",
   "metadata": {},
   "source": [
    "This experiment finds an optimal model for the PAMAP2 dataset."
   ]
  },
  {
   "cell_type": "markdown",
   "metadata": {},
   "source": [
    "## Import required Python modules"
   ]
  },
  {
   "cell_type": "code",
   "execution_count": 1,
   "metadata": {
    "collapsed": false,
    "scrolled": false
   },
   "outputs": [
    {
     "name": "stderr",
     "output_type": "stream",
     "text": [
      "Using Theano backend.\n"
     ]
    }
   ],
   "source": [
    "import sys\n",
    "import os\n",
    "sys.path.insert(0, os.path.abspath('../..'))\n",
    "import numpy as np\n",
    "import pandas as pd\n",
    "# mcfly\n",
    "from mcfly import tutorial_pamap2, modelgen, find_architecture, storage\n",
    "# Keras module is use for the deep learning\n",
    "import keras\n",
    "from keras.utils.np_utils import to_categorical\n",
    "from keras.models import Sequential\n",
    "from keras.layers import Dense, Activation, Convolution1D, Flatten, MaxPooling1D\n",
    "from keras.optimizers import Adam\n",
    "# We can set some backend options to avoid NaNs\n",
    "from keras import backend as K"
   ]
  },
  {
   "cell_type": "markdown",
   "metadata": {},
   "source": [
    "## Load the data"
   ]
  },
  {
   "cell_type": "code",
   "execution_count": 2,
   "metadata": {
    "collapsed": false
   },
   "outputs": [],
   "source": [
    "datapath = '/media/sf_VBox_Shared/timeseries/PAMAP2/PAMAP2_Dataset/cleaned_12activities_allvars/'\n",
    "Xs = []\n",
    "ys = []\n",
    "\n",
    "ext = '.npy'\n",
    "for i in range(9):\n",
    "    Xs.append(np.load(datapath+'X_'+str(i)+ext))\n",
    "    ys.append(np.load(datapath+'y_'+str(i)+ext))"
   ]
  },
  {
   "cell_type": "markdown",
   "metadata": {},
   "source": [
    "## Generate models"
   ]
  },
  {
   "cell_type": "markdown",
   "metadata": {},
   "source": [
    "First step is to create a model architecture. As we do not know what architecture is best for our data we will create a set of models to investigate which architecture is most suitable for our data and classification task. You will need to specificy how many models you want to create with argument 'number_of_models', the type of model which can been 'CNN' or 'DeepConvLSTM', and maximum number of layers per modeltype. See for a full overview of the optional arguments the function documentation of modelgen.generate_models"
   ]
  },
  {
   "cell_type": "code",
   "execution_count": 3,
   "metadata": {
    "collapsed": false
   },
   "outputs": [],
   "source": [
    "num_classes = ys[0].shape[1]\n",
    "np.random.seed(123)\n",
    "models = modelgen.generate_models(Xs[0].shape,\n",
    "                                  number_of_classes=num_classes,\n",
    "                                  number_of_models = 15)"
   ]
  },
  {
   "cell_type": "code",
   "execution_count": 4,
   "metadata": {
    "collapsed": false
   },
   "outputs": [
    {
     "data": {
      "text/plain": [
       "{'filters': array([27, 93, 67, 96, 57, 83, 42]),\n",
       " 'learning_rate': 0.013854217299751215,\n",
       " 'lstm_dims': array([35]),\n",
       " 'regularization_rate': 0.02086630923723395}"
      ]
     },
     "execution_count": 4,
     "metadata": {},
     "output_type": "execute_result"
    }
   ],
   "source": [
    "models[0][1]"
   ]
  },
  {
   "cell_type": "markdown",
   "metadata": {},
   "source": [
    "## Compare models\n",
    "Now that the model architectures have been generated it is time to compare the models by training them in a subset of the training data and evaluating the models in the validation subset. This will help us to choose the best candidate model. Performance results are stored in a json file."
   ]
  },
  {
   "cell_type": "code",
   "execution_count": 5,
   "metadata": {
    "collapsed": false
   },
   "outputs": [],
   "source": [
    "# Define directory where the results, e.g. json file, will be stored\n",
    "resultpath = '/media/sf_VBox_Shared/timeseries/PAMAP2/PAMAP2_Dataset/results_12activities/' \n",
    "if not os.path.exists(resultpath):\n",
    "        os.makedirs(resultpath)"
   ]
  },
  {
   "cell_type": "code",
   "execution_count": 6,
   "metadata": {
    "collapsed": false
   },
   "outputs": [],
   "source": [
    "def split_train_test(X_list, y_list, j):\n",
    "    X_train = np.concatenate(X_list[0:j]+X_list[j+1:])\n",
    "    X_test = X_list[j]\n",
    "    y_train = np.concatenate(y_list[0:j]+y_list[j+1:])\n",
    "    y_test = y_list[j]\n",
    "    return X_train, y_train, X_test, y_test\n",
    "\n",
    "def split_train_small_val(X_list, y_list, j, trainsize=500, valsize=500):\n",
    "    X = np.concatenate(X_list[0:j]+X_list[j+1:])\n",
    "    y = np.concatenate(y_list[0:j]+y_list[j+1:])\n",
    "    rand_ind = np.random.choice(X.shape[0], trainsize+valsize, replace=False)\n",
    "    X_train = X[rand_ind[:trainsize]]\n",
    "    y_train = y[rand_ind[:trainsize]]\n",
    "    X_val = X[rand_ind[trainsize:]]\n",
    "    y_val = y[rand_ind[trainsize:]]\n",
    "    return X_train, y_train, X_val, y_val"
   ]
  },
  {
   "cell_type": "code",
   "execution_count": 7,
   "metadata": {
    "collapsed": false
   },
   "outputs": [],
   "source": [
    "from keras.models import model_from_json\n",
    "\n",
    "def get_fresh_copy(model, lr):\n",
    "    model_json = model.to_json()\n",
    "    model_copy = model_from_json(model_json)\n",
    "    model_copy.compile(loss='categorical_crossentropy',\n",
    "                  optimizer=Adam(lr=lr),\n",
    "                  metrics=['accuracy'])\n",
    "    #for layer in model_copy.layers:\n",
    "    #    layer.build(layer.input_shape)\n",
    "    return model_copy"
   ]
  },
  {
   "cell_type": "code",
   "execution_count": null,
   "metadata": {
    "collapsed": false
   },
   "outputs": [],
   "source": [
    "models = [(get_fresh_copy(model, params['learning_rate']), params, model_type)  for model, params, model_type in models]"
   ]
  },
  {
   "cell_type": "code",
   "execution_count": null,
   "metadata": {
    "collapsed": false
   },
   "outputs": [
    {
     "name": "stdout",
     "output_type": "stream",
     "text": [
      "fold 1\n",
      "Training model 0 CNN\n",
      "Train on 500 samples, validate on 500 samples\n",
      "Epoch 1/10\n",
      "500/500 [==============================] - 17s - loss: 1.6013 - acc: 0.6420 - val_loss: 1.0329 - val_acc: 0.7480\n",
      "Epoch 2/10\n",
      "500/500 [==============================] - 28s - loss: 1.1611 - acc: 0.8760 - val_loss: 0.7536 - val_acc: 0.8760\n",
      "Epoch 3/10\n",
      "500/500 [==============================] - 18s - loss: 1.0006 - acc: 0.9220 - val_loss: 0.6635 - val_acc: 0.9000\n",
      "Epoch 4/10\n",
      "500/500 [==============================] - 16s - loss: 0.8889 - acc: 0.9260 - val_loss: 0.5804 - val_acc: 0.9180\n",
      "Epoch 5/10\n",
      "500/500 [==============================] - 14s - loss: 0.8503 - acc: 0.9460 - val_loss: 0.5337 - val_acc: 0.9360\n",
      "Epoch 6/10\n",
      "500/500 [==============================] - 14s - loss: 0.7641 - acc: 0.9720 - val_loss: 0.4952 - val_acc: 0.9420\n",
      "Epoch 7/10\n",
      "500/500 [==============================] - 14s - loss: 0.7180 - acc: 0.9660 - val_loss: 0.4674 - val_acc: 0.9480\n",
      "Epoch 8/10\n",
      "500/500 [==============================] - 14s - loss: 0.6819 - acc: 0.9740 - val_loss: 0.4646 - val_acc: 0.9560\n",
      "Epoch 9/10\n",
      "500/500 [==============================] - 14s - loss: 0.6375 - acc: 0.9880 - val_loss: 0.4342 - val_acc: 0.9480\n",
      "Epoch 10/10\n",
      "480/500 [===========================>..] - ETA: 0s - loss: 0.6313 - acc: 0.9729Epoch 00009: early stopping\n",
      "500/500 [==============================] - 14s - loss: 0.6357 - acc: 0.9720 - val_loss: 0.4548 - val_acc: 0.9420\n",
      "Training model 1 DeepConvLSTM\n",
      "Train on 500 samples, validate on 500 samples\n",
      "Epoch 1/10\n",
      "500/500 [==============================] - 1866s - loss: 2.5008 - acc: 0.2580 - val_loss: 1.9394 - val_acc: 0.3540\n",
      "Epoch 2/10\n",
      "500/500 [==============================] - 56540s - loss: 1.9708 - acc: 0.4760 - val_loss: 1.5638 - val_acc: 0.4860\n",
      "Epoch 3/10\n",
      "500/500 [==============================] - 2688s - loss: 1.6612 - acc: 0.5680 - val_loss: 1.2603 - val_acc: 0.6680\n",
      "Epoch 4/10\n",
      "500/500 [==============================] - 1983s - loss: 1.4112 - acc: 0.6960 - val_loss: 0.9893 - val_acc: 0.7420\n",
      "Epoch 5/10\n",
      "480/500 [===========================>..] - ETA: 69s - loss: 1.2285 - acc: 0.7458 Epoch 00004: early stopping\n",
      "500/500 [==============================] - 2123s - loss: 1.2363 - acc: 0.7380 - val_loss: 0.9992 - val_acc: 0.7040\n",
      "Training model 2 DeepConvLSTM\n",
      "Train on 500 samples, validate on 500 samples\n",
      "Epoch 1/10\n",
      "480/500 [===========================>..] - ETA: 38s - loss: nan - acc: 0.0917Epoch 00000: early stopping\n",
      "500/500 [==============================] - 1164s - loss: nan - acc: 0.0900 - val_loss: nan - val_acc: 0.0960\n",
      "Training model 3 CNN\n",
      "Train on 500 samples, validate on 500 samples\n",
      "Epoch 1/10\n",
      "500/500 [==============================] - 19s - loss: 5.6270 - acc: 0.5040 - val_loss: 1.3906 - val_acc: 0.5940\n",
      "Epoch 2/10\n",
      "500/500 [==============================] - 15s - loss: 4.6817 - acc: 0.8680 - val_loss: 0.9519 - val_acc: 0.8540\n",
      "Epoch 3/10\n",
      "500/500 [==============================] - 15s - loss: 4.0444 - acc: 0.9120 - val_loss: 0.8395 - val_acc: 0.8800\n",
      "Epoch 4/10\n",
      "500/500 [==============================] - 15s - loss: 3.5502 - acc: 0.9340 - val_loss: 0.8100 - val_acc: 0.8740\n",
      "Epoch 5/10\n",
      "500/500 [==============================] - 17s - loss: 3.1652 - acc: 0.9460 - val_loss: 0.7752 - val_acc: 0.8940\n",
      "Epoch 6/10\n",
      "500/500 [==============================] - 15s - loss: 2.8793 - acc: 0.9720 - val_loss: 0.7097 - val_acc: 0.8980\n",
      "Epoch 7/10\n",
      "500/500 [==============================] - 16s - loss: 2.6245 - acc: 0.9660 - val_loss: 0.7051 - val_acc: 0.8860\n",
      "Epoch 8/10\n",
      "500/500 [==============================] - 15s - loss: 2.4962 - acc: 0.9620 - val_loss: 0.6425 - val_acc: 0.9080\n",
      "Epoch 9/10\n",
      "500/500 [==============================] - 20s - loss: 2.3788 - acc: 0.9460 - val_loss: 0.6253 - val_acc: 0.9120\n",
      "Epoch 10/10\n",
      "480/500 [===========================>..] - ETA: 0s - loss: 2.2468 - acc: 0.9458Epoch 00009: early stopping\n",
      "500/500 [==============================] - 17s - loss: 2.2440 - acc: 0.9460 - val_loss: 0.6275 - val_acc: 0.9140\n",
      "Training model 4 CNN\n",
      "Train on 500 samples, validate on 500 samples\n",
      "Epoch 1/10\n",
      "500/500 [==============================] - 24s - loss: 3.2043 - acc: 0.4180 - val_loss: 1.6037 - val_acc: 0.5200\n",
      "Epoch 2/10\n",
      "500/500 [==============================] - 21s - loss: 2.5806 - acc: 0.7560 - val_loss: 1.0740 - val_acc: 0.7360\n",
      "Epoch 3/10\n",
      "500/500 [==============================] - 22s - loss: 2.3309 - acc: 0.8140 - val_loss: 0.9334 - val_acc: 0.7880\n",
      "Epoch 4/10\n",
      "500/500 [==============================] - 21s - loss: 2.1315 - acc: 0.9240 - val_loss: 0.8573 - val_acc: 0.8120\n",
      "Epoch 5/10\n",
      "500/500 [==============================] - 22s - loss: 2.0263 - acc: 0.9180 - val_loss: 0.8518 - val_acc: 0.8140\n",
      "Epoch 6/10\n",
      "500/500 [==============================] - 22s - loss: 1.9826 - acc: 0.9420 - val_loss: 0.7470 - val_acc: 0.8320\n",
      "Epoch 7/10\n",
      "480/500 [===========================>..] - ETA: 1s - loss: 1.9013 - acc: 0.9417Epoch 00006: early stopping\n",
      "500/500 [==============================] - 30s - loss: 1.9008 - acc: 0.9420 - val_loss: 0.7759 - val_acc: 0.8400\n",
      "Training model 5 DeepConvLSTM\n",
      "Train on 500 samples, validate on 500 samples\n",
      "Epoch 1/10\n",
      "500/500 [==============================] - 434s - loss: 4.1261 - acc: 0.3560 - val_loss: 1.8618 - val_acc: 0.6000\n",
      "Epoch 2/10\n",
      "500/500 [==============================] - 424s - loss: 3.5781 - acc: 0.6240 - val_loss: 1.4078 - val_acc: 0.7240\n",
      "Epoch 3/10\n",
      "500/500 [==============================] - 434s - loss: 3.1817 - acc: 0.7540 - val_loss: 1.1350 - val_acc: 0.8060\n",
      "Epoch 4/10\n",
      "500/500 [==============================] - 458s - loss: 2.8488 - acc: 0.8120 - val_loss: 0.9207 - val_acc: 0.8220\n",
      "Epoch 5/10\n",
      "500/500 [==============================] - 414s - loss: 2.6140 - acc: 0.8460 - val_loss: 0.7850 - val_acc: 0.8280\n",
      "Epoch 6/10\n",
      "500/500 [==============================] - 425s - loss: 2.4415 - acc: 0.8760 - val_loss: 0.6162 - val_acc: 0.8640\n",
      "Epoch 7/10\n",
      "500/500 [==============================] - 417s - loss: 2.2322 - acc: 0.9320 - val_loss: 0.4855 - val_acc: 0.9000\n",
      "Epoch 8/10\n",
      "500/500 [==============================] - 417s - loss: 2.0926 - acc: 0.9500 - val_loss: 0.3979 - val_acc: 0.9080\n",
      "Epoch 9/10\n",
      "480/500 [===========================>..] - ETA: 13s - loss: 2.0274 - acc: 0.9333Epoch 00008: early stopping\n",
      "500/500 [==============================] - 415s - loss: 2.0382 - acc: 0.9300 - val_loss: 0.4149 - val_acc: 0.9060\n",
      "Training model 6 DeepConvLSTM\n",
      "Train on 500 samples, validate on 500 samples\n",
      "Epoch 1/10\n",
      "500/500 [==============================] - 634s - loss: 5.3032 - acc: 0.1040 - val_loss: 2.4292 - val_acc: 0.1120\n",
      "Epoch 2/10\n",
      "500/500 [==============================] - 686s - loss: 2.6095 - acc: 0.1120 - val_loss: 2.4217 - val_acc: 0.1120\n",
      "Epoch 3/10\n",
      "480/500 [===========================>..] - ETA: 21s - loss: 2.4518 - acc: 0.1354Epoch 00002: early stopping\n",
      "500/500 [==============================] - 662s - loss: 2.4438 - acc: 0.1320 - val_loss: 2.4329 - val_acc: 0.1440\n",
      "Training model 7 DeepConvLSTM\n",
      "Train on 500 samples, validate on 500 samples\n",
      "Epoch 1/10\n",
      "500/500 [==============================] - 1173s - loss: 6.1821 - acc: 0.1940 - val_loss: 1.9872 - val_acc: 0.4320\n",
      "Epoch 2/10\n",
      "500/500 [==============================] - 1167s - loss: 4.6046 - acc: 0.5360 - val_loss: 1.3524 - val_acc: 0.6280\n",
      "Epoch 3/10\n",
      "500/500 [==============================] - 1178s - loss: 3.5157 - acc: 0.6320 - val_loss: 1.1852 - val_acc: 0.6140\n",
      "Epoch 4/10\n",
      "500/500 [==============================] - 1232s - loss: 3.0192 - acc: 0.6320 - val_loss: 1.0200 - val_acc: 0.6880\n",
      "Epoch 5/10\n",
      " 20/500 [>.............................] - ETA: 891s - loss: 2.8987 - acc: 0.6000"
     ]
    }
   ],
   "source": [
    "import time\n",
    "t = time.time()\n",
    "np.random.seed(123)\n",
    "histories_list, val_accuracies_list, val_losses_list = [], [], []\n",
    "for j in range(1, len(Xs)):\n",
    "    print('fold '+str(j))\n",
    "    models = [(get_fresh_copy(model, params['learning_rate']), params, model_type)  for model, params, model_type in models]\n",
    "    if j==1:\n",
    "        models = models[4:]\n",
    "    X_train, y_train, X_val, y_val = split_train_small_val(Xs, ys, j, trainsize=500, valsize=500)\n",
    "    histories, val_accuracies, val_losses = find_architecture.train_models_on_samples(X_train, y_train,\n",
    "                                                                           X_val, y_val,\n",
    "                                                                           models,\n",
    "                                                                           nr_epochs=10,\n",
    "                                                                           subset_size=500,\n",
    "                                                                           verbose=True,\n",
    "                                                                           outputfile=resultpath+\\\n",
    "                                                                                  'experiment'+str(j)+'.json',\n",
    "                                                                           early_stopping=True)\n",
    "    histories_list.append(histories)\n",
    "    val_accuracies_list.append(val_accuracies)\n",
    "    val_losses.append(val_losses)\n",
    "print(time.time()-t)"
   ]
  },
  {
   "cell_type": "code",
   "execution_count": null,
   "metadata": {
    "collapsed": false
   },
   "outputs": [],
   "source": [
    "# Read them all back in\n",
    "import json\n",
    "model_jsons = []\n",
    "for j in range(len(Xs)):\n",
    "    with open(resultpath+'experiment'+str(j)+'.json', 'r') as outfile:\n",
    "        model_jsons.append(json.load(outfile))\n",
    "model_jsons[0] = model_jsons[0][-15:]"
   ]
  },
  {
   "cell_type": "code",
   "execution_count": null,
   "metadata": {
    "collapsed": false
   },
   "outputs": [],
   "source": [
    "model_jsons[0][0].keys()"
   ]
  },
  {
   "cell_type": "code",
   "execution_count": null,
   "metadata": {
    "collapsed": false
   },
   "outputs": [],
   "source": [
    "val_accuracies = np.array([[mod['val_acc'][-1] for mod in fold] for fold in model_jsons])\n",
    "[print(len(a)) for a in val_accuracies];"
   ]
  },
  {
   "cell_type": "code",
   "execution_count": null,
   "metadata": {
    "collapsed": false
   },
   "outputs": [],
   "source": [
    "val_acc = np.array([np.array([mod['val_acc'][-1] for mod in fold], dtype='float') for fold in model_jsons])\n",
    "train_acc = np.array([np.array([mod['train_acc'][-1] for mod in fold], dtype='float') for fold in model_jsons])\n",
    "train_loss = np.array([np.array([mod['train_loss'][-1] for mod in fold], dtype='float') for fold in model_jsons])\n",
    "val_loss = np.array([np.array([mod['val_loss'][-1] for mod in fold], dtype='float') for fold in model_jsons])"
   ]
  },
  {
   "cell_type": "code",
   "execution_count": null,
   "metadata": {
    "collapsed": false
   },
   "outputs": [],
   "source": [
    "val_accuracies_avg = val_acc.mean(axis=0)\n",
    "val_accuracies_avg"
   ]
  },
  {
   "cell_type": "code",
   "execution_count": null,
   "metadata": {
    "collapsed": false
   },
   "outputs": [],
   "source": [
    "# train_acc = np.array([[history.history['acc'][-1] for history in histories] for histories in histories_list])\n",
    "# train_loss = np.array([[history.history['loss'][-1] for history in histories] for histories in histories_list])\n",
    "# val_acc = np.array([[history.history['val_acc'][-1] for history in histories] for histories in histories_list])\n",
    "# val_loss = np.array([[history.history['val_loss'][-1] for history in histories] for histories in histories_list])"
   ]
  },
  {
   "cell_type": "markdown",
   "metadata": {},
   "source": [
    "Another way of comparing model performance is by putting all the information in a pandas dataframe, which we can store in a csv file."
   ]
  },
  {
   "cell_type": "code",
   "execution_count": null,
   "metadata": {
    "collapsed": false
   },
   "outputs": [],
   "source": [
    "modelcomparisons = pd.DataFrame({'model':[str(params) for model, params, model_types in models],\n",
    "                       'train_acc': train_acc.mean(axis=0),\n",
    "                       'train_loss': train_loss.mean(axis=0),\n",
    "                       'val_acc': val_acc.mean(axis=0),\n",
    "                       'val_loss': val_loss.mean(axis=0)\n",
    "                       })\n",
    "modelcomparisons"
   ]
  },
  {
   "cell_type": "markdown",
   "metadata": {},
   "source": [
    "It is also possible to vizualize the performance of the various models using our vizualisation tool as explained in the mcfly repository README file: https://github.com/NLeSC/mcfly/blob/master/README.md"
   ]
  },
  {
   "cell_type": "markdown",
   "metadata": {
    "collapsed": true
   },
   "source": [
    "Check which model is the best"
   ]
  },
  {
   "cell_type": "code",
   "execution_count": null,
   "metadata": {
    "collapsed": false
   },
   "outputs": [],
   "source": [
    "best_model_index = np.argmax(val_accuracies_avg)\n",
    "best_model, best_params, best_model_types = models[best_model_index]\n",
    "print('Model type and parameters of the best model:')\n",
    "print(best_model_types)\n",
    "print(best_params)"
   ]
  },
  {
   "cell_type": "code",
   "execution_count": null,
   "metadata": {
    "collapsed": false
   },
   "outputs": [],
   "source": [
    "modelname = 'bestmodel_sample'\n",
    "storage.savemodel(best_model,resultpath,modelname)"
   ]
  },
  {
   "cell_type": "markdown",
   "metadata": {},
   "source": [
    "## Train the best model for real"
   ]
  },
  {
   "cell_type": "markdown",
   "metadata": {},
   "source": [
    "Now that we have identified the best model architecture out of our random pool of models we can continue by training the model on the full training sample. For the purpose of speeding up the example we only train the full model on the first 1000 values. You will need to replace this by 'datasize = X_train.shape[0]' in a real world example."
   ]
  },
  {
   "cell_type": "code",
   "execution_count": null,
   "metadata": {
    "collapsed": false
   },
   "outputs": [],
   "source": [
    "len(Xs)"
   ]
  },
  {
   "cell_type": "code",
   "execution_count": null,
   "metadata": {
    "collapsed": false
   },
   "outputs": [],
   "source": [
    "nr_epochs = 2\n",
    "\n",
    "np.random.seed(123)\n",
    "histories, test_accuracies_list, models = [], [], []\n",
    "for j in range(len(Xs)):\n",
    "    X_train, y_train, X_test, y_test = split_train_test(Xs, ys, j)\n",
    "    model_copy = get_fresh_copy(best_model, best_params['learning_rate'])\n",
    "    datasize = X_train.shape[0]\n",
    "    \n",
    "    history = model_copy.fit(X_train[:datasize,:,:], y_train[:datasize,:],\n",
    "              nb_epoch=nr_epochs, validation_data=(X_test, y_test))\n",
    "    \n",
    "    histories.append(history)\n",
    "    test_accuracies_list.append(history.history['val_acc'][-1] )\n",
    "    models.append(model_copy)"
   ]
  },
  {
   "cell_type": "code",
   "execution_count": null,
   "metadata": {
    "collapsed": false
   },
   "outputs": [],
   "source": [
    "print(np.mean(test_accuracies_list))\n",
    "test_accuracies_list"
   ]
  },
  {
   "cell_type": "code",
   "execution_count": null,
   "metadata": {
    "collapsed": true
   },
   "outputs": [],
   "source": [
    "test_accuracies_list = [0.79675174027750495,\n",
    " 0.59344978186761443,\n",
    " 0.80800542740841252,\n",
    " 0.55968301140653909,\n",
    " 0.87647058833546998,\n",
    " 0.9288664525011473,\n",
    " 0.89486796237012312,\n",
    " 0.48791208793828778,\n",
    " 1.0]"
   ]
  },
  {
   "cell_type": "code",
   "execution_count": null,
   "metadata": {
    "collapsed": false
   },
   "outputs": [],
   "source": [
    "# Calculate 1-NN for each fold:\n",
    "nr_epochs = 2\n",
    "\n",
    "np.random.seed(123)\n",
    "knn_test_accuracies_list = []\n",
    "for j in range(len(Xs)):\n",
    "    print(\"fold \", j)\n",
    "    X_train, y_train, X_test, y_test = split_train_test(Xs, ys, j)\n",
    "    acc = find_architecture.kNN_accuracy(X_train, y_train, X_test, y_test, k=1)\n",
    "    knn_test_accuracies_list.append(acc )"
   ]
  },
  {
   "cell_type": "code",
   "execution_count": null,
   "metadata": {
    "collapsed": false
   },
   "outputs": [],
   "source": [
    "print(np.mean(knn_test_accuracies_list))\n",
    "accs_compared = pd.DataFrame({'CNN': test_accuracies_list, 'kNN':knn_test_accuracies_list})\n",
    "accs_compared"
   ]
  },
  {
   "cell_type": "markdown",
   "metadata": {},
   "source": [
    "### Saving, loading and comparing reloaded model with orignal model"
   ]
  },
  {
   "cell_type": "markdown",
   "metadata": {},
   "source": [
    "The modoel can be saved for future use. The savemodel function will save two separate files: a json file for the architecture and a npy (numpy array) file for the weights."
   ]
  },
  {
   "cell_type": "code",
   "execution_count": null,
   "metadata": {
    "collapsed": true
   },
   "outputs": [],
   "source": [
    "modelname = 'my_bestmodel'"
   ]
  },
  {
   "cell_type": "code",
   "execution_count": null,
   "metadata": {
    "collapsed": false
   },
   "outputs": [],
   "source": [
    "for i, model in enumerate(models):\n",
    "    storage.savemodel(model,resultpath,modelname+str(i))"
   ]
  },
  {
   "cell_type": "code",
   "execution_count": null,
   "metadata": {
    "collapsed": true
   },
   "outputs": [],
   "source": []
  }
 ],
 "metadata": {
  "anaconda-cloud": {},
  "kernelspec": {
   "display_name": "Python [conda env:mcfly]",
   "language": "python",
   "name": "conda-env-mcfly-py"
  },
  "language_info": {
   "codemirror_mode": {
    "name": "ipython",
    "version": 3
   },
   "file_extension": ".py",
   "mimetype": "text/x-python",
   "name": "python",
   "nbconvert_exporter": "python",
   "pygments_lexer": "ipython3",
   "version": "3.5.2"
  }
 },
 "nbformat": 4,
 "nbformat_minor": 1
}
